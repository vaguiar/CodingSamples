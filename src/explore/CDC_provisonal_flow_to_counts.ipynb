{
  "nbformat": 4,
  "nbformat_minor": 0,
  "metadata": {
    "colab": {
      "name": "CDC-provisonal-flow-to-counts.ipynb",
      "provenance": [],
      "collapsed_sections": [],
      "include_colab_link": true
    },
    "kernelspec": {
      "name": "python3",
      "display_name": "Python 3"
    }
  },
  "cells": [
    {
      "cell_type": "markdown",
      "metadata": {
        "id": "view-in-github",
        "colab_type": "text"
      },
      "source": [
        "<a href=\"https://colab.research.google.com/github/vaguiar/CodingSamples/blob/master/src/explore/CDC_provisonal_flow_to_counts.ipynb\" target=\"_parent\"><img src=\"https://colab.research.google.com/assets/colab-badge.svg\" alt=\"Open In Colab\"/></a>"
      ]
    },
    {
      "cell_type": "markdown",
      "metadata": {
        "id": "2MWxopP9gLSi",
        "colab_type": "text"
      },
      "source": [
        "# Explore CDC data and convert the 12month flow data to counts\n"
      ]
    },
    {
      "cell_type": "code",
      "metadata": {
        "id": "jYec-CYEgFea",
        "colab_type": "code",
        "colab": {
          "base_uri": "https://localhost:8080/",
          "height": 55
        },
        "outputId": "ed48a520-19ba-4eb3-ff0d-18c89c491a56"
      },
      "source": [
        "from google.colab import drive\n",
        "drive.mount('/content/drive')"
      ],
      "execution_count": 4,
      "outputs": [
        {
          "output_type": "stream",
          "text": [
            "Drive already mounted at /content/drive; to attempt to forcibly remount, call drive.mount(\"/content/drive\", force_remount=True).\n"
          ],
          "name": "stdout"
        }
      ]
    },
    {
      "cell_type": "code",
      "metadata": {
        "id": "qxilF2-9gTAy",
        "colab_type": "code",
        "colab": {}
      },
      "source": [
        "# # Uncomment this to read data from Drive\n",
        "prov_link = '/content/drive/My Drive/Capstone Project 2019/data/cdc-wonder/cdc-provisional-2014-2019.csv'\n",
        "\n",
        "cdc_state_link = '/content/drive/My Drive/Capstone Project 2019/data/cdc-wonder/cdc_opioids_state.csv'\n"
      ],
      "execution_count": 0,
      "outputs": []
    },
    {
      "cell_type": "code",
      "metadata": {
        "id": "sHF_Pj8ZglgF",
        "colab_type": "code",
        "colab": {}
      },
      "source": [
        "import pandas as pd\n",
        "import numpy as np\n",
        "\n",
        "prov_data = pd.DataFrame(pd.read_csv(prov_link))\n",
        "cdc_data = pd.DataFrame(pd.read_csv(cdc_state_link))\n"
      ],
      "execution_count": 0,
      "outputs": []
    },
    {
      "cell_type": "code",
      "metadata": {
        "id": "Te8zoYQrvetC",
        "colab_type": "code",
        "colab": {
          "base_uri": "https://localhost:8080/",
          "height": 597
        },
        "outputId": "b89b2a8f-bb22-4eac-9a1c-f261291a2859"
      },
      "source": [
        "# Drop rows containing NA in months\n",
        "cdc_data = cdc_data.dropna(axis=0, how='any', subset=['Month'])\n",
        "cdc_data"
      ],
      "execution_count": 84,
      "outputs": [
        {
          "output_type": "execute_result",
          "data": {
            "text/html": [
              "<div>\n",
              "<style scoped>\n",
              "    .dataframe tbody tr th:only-of-type {\n",
              "        vertical-align: middle;\n",
              "    }\n",
              "\n",
              "    .dataframe tbody tr th {\n",
              "        vertical-align: top;\n",
              "    }\n",
              "\n",
              "    .dataframe thead th {\n",
              "        text-align: right;\n",
              "    }\n",
              "</style>\n",
              "<table border=\"1\" class=\"dataframe\">\n",
              "  <thead>\n",
              "    <tr style=\"text-align: right;\">\n",
              "      <th></th>\n",
              "      <th>Notes</th>\n",
              "      <th>State</th>\n",
              "      <th>State Code</th>\n",
              "      <th>Month</th>\n",
              "      <th>Month Code</th>\n",
              "      <th>Deaths</th>\n",
              "      <th>Population</th>\n",
              "      <th>Crude Rate</th>\n",
              "      <th>Unnamed: 8</th>\n",
              "      <th>Unnamed: 9</th>\n",
              "    </tr>\n",
              "  </thead>\n",
              "  <tbody>\n",
              "    <tr>\n",
              "      <th>0</th>\n",
              "      <td>NaN</td>\n",
              "      <td>Alabama</td>\n",
              "      <td>1.0</td>\n",
              "      <td>Jan., 2014</td>\n",
              "      <td>2014/01</td>\n",
              "      <td>71.0</td>\n",
              "      <td>Not Applicable</td>\n",
              "      <td>Not Applicable</td>\n",
              "      <td>NaN</td>\n",
              "      <td>NaN</td>\n",
              "    </tr>\n",
              "    <tr>\n",
              "      <th>1</th>\n",
              "      <td>NaN</td>\n",
              "      <td>Alabama</td>\n",
              "      <td>1.0</td>\n",
              "      <td>Feb., 2014</td>\n",
              "      <td>2014/02</td>\n",
              "      <td>54.0</td>\n",
              "      <td>Not Applicable</td>\n",
              "      <td>Not Applicable</td>\n",
              "      <td>NaN</td>\n",
              "      <td>NaN</td>\n",
              "    </tr>\n",
              "    <tr>\n",
              "      <th>2</th>\n",
              "      <td>NaN</td>\n",
              "      <td>Alabama</td>\n",
              "      <td>1.0</td>\n",
              "      <td>Mar., 2014</td>\n",
              "      <td>2014/03</td>\n",
              "      <td>79.0</td>\n",
              "      <td>Not Applicable</td>\n",
              "      <td>Not Applicable</td>\n",
              "      <td>NaN</td>\n",
              "      <td>NaN</td>\n",
              "    </tr>\n",
              "    <tr>\n",
              "      <th>3</th>\n",
              "      <td>NaN</td>\n",
              "      <td>Alabama</td>\n",
              "      <td>1.0</td>\n",
              "      <td>Apr., 2014</td>\n",
              "      <td>2014/04</td>\n",
              "      <td>76.0</td>\n",
              "      <td>Not Applicable</td>\n",
              "      <td>Not Applicable</td>\n",
              "      <td>NaN</td>\n",
              "      <td>NaN</td>\n",
              "    </tr>\n",
              "    <tr>\n",
              "      <th>4</th>\n",
              "      <td>NaN</td>\n",
              "      <td>Alabama</td>\n",
              "      <td>1.0</td>\n",
              "      <td>May, 2014</td>\n",
              "      <td>2014/05</td>\n",
              "      <td>59.0</td>\n",
              "      <td>Not Applicable</td>\n",
              "      <td>Not Applicable</td>\n",
              "      <td>NaN</td>\n",
              "      <td>NaN</td>\n",
              "    </tr>\n",
              "    <tr>\n",
              "      <th>...</th>\n",
              "      <td>...</td>\n",
              "      <td>...</td>\n",
              "      <td>...</td>\n",
              "      <td>...</td>\n",
              "      <td>...</td>\n",
              "      <td>...</td>\n",
              "      <td>...</td>\n",
              "      <td>...</td>\n",
              "      <td>...</td>\n",
              "      <td>...</td>\n",
              "    </tr>\n",
              "    <tr>\n",
              "      <th>2248</th>\n",
              "      <td>NaN</td>\n",
              "      <td>Wyoming</td>\n",
              "      <td>56.0</td>\n",
              "      <td>Mar., 2016</td>\n",
              "      <td>2016/03</td>\n",
              "      <td>13.0</td>\n",
              "      <td>Not Applicable</td>\n",
              "      <td>Not Applicable</td>\n",
              "      <td>NaN</td>\n",
              "      <td>NaN</td>\n",
              "    </tr>\n",
              "    <tr>\n",
              "      <th>2249</th>\n",
              "      <td>NaN</td>\n",
              "      <td>Wyoming</td>\n",
              "      <td>56.0</td>\n",
              "      <td>May, 2016</td>\n",
              "      <td>2016/05</td>\n",
              "      <td>13.0</td>\n",
              "      <td>Not Applicable</td>\n",
              "      <td>Not Applicable</td>\n",
              "      <td>NaN</td>\n",
              "      <td>NaN</td>\n",
              "    </tr>\n",
              "    <tr>\n",
              "      <th>2250</th>\n",
              "      <td>NaN</td>\n",
              "      <td>Wyoming</td>\n",
              "      <td>56.0</td>\n",
              "      <td>Jun., 2016</td>\n",
              "      <td>2016/06</td>\n",
              "      <td>10.0</td>\n",
              "      <td>Not Applicable</td>\n",
              "      <td>Not Applicable</td>\n",
              "      <td>NaN</td>\n",
              "      <td>NaN</td>\n",
              "    </tr>\n",
              "    <tr>\n",
              "      <th>2251</th>\n",
              "      <td>NaN</td>\n",
              "      <td>Wyoming</td>\n",
              "      <td>56.0</td>\n",
              "      <td>Oct., 2017</td>\n",
              "      <td>2017/10</td>\n",
              "      <td>13.0</td>\n",
              "      <td>Not Applicable</td>\n",
              "      <td>Not Applicable</td>\n",
              "      <td>NaN</td>\n",
              "      <td>NaN</td>\n",
              "    </tr>\n",
              "    <tr>\n",
              "      <th>2252</th>\n",
              "      <td>NaN</td>\n",
              "      <td>Wyoming</td>\n",
              "      <td>56.0</td>\n",
              "      <td>Nov., 2017</td>\n",
              "      <td>2017/11</td>\n",
              "      <td>14.0</td>\n",
              "      <td>Not Applicable</td>\n",
              "      <td>Not Applicable</td>\n",
              "      <td>NaN</td>\n",
              "      <td>NaN</td>\n",
              "    </tr>\n",
              "  </tbody>\n",
              "</table>\n",
              "<p>2253 rows × 10 columns</p>\n",
              "</div>"
            ],
            "text/plain": [
              "     Notes    State  State Code  ...      Crude Rate Unnamed: 8  Unnamed: 9\n",
              "0      NaN  Alabama         1.0  ...  Not Applicable        NaN         NaN\n",
              "1      NaN  Alabama         1.0  ...  Not Applicable        NaN         NaN\n",
              "2      NaN  Alabama         1.0  ...  Not Applicable        NaN         NaN\n",
              "3      NaN  Alabama         1.0  ...  Not Applicable        NaN         NaN\n",
              "4      NaN  Alabama         1.0  ...  Not Applicable        NaN         NaN\n",
              "...    ...      ...         ...  ...             ...        ...         ...\n",
              "2248   NaN  Wyoming        56.0  ...  Not Applicable        NaN         NaN\n",
              "2249   NaN  Wyoming        56.0  ...  Not Applicable        NaN         NaN\n",
              "2250   NaN  Wyoming        56.0  ...  Not Applicable        NaN         NaN\n",
              "2251   NaN  Wyoming        56.0  ...  Not Applicable        NaN         NaN\n",
              "2252   NaN  Wyoming        56.0  ...  Not Applicable        NaN         NaN\n",
              "\n",
              "[2253 rows x 10 columns]"
            ]
          },
          "metadata": {
            "tags": []
          },
          "execution_count": 84
        }
      ]
    },
    {
      "cell_type": "code",
      "metadata": {
        "id": "bpRNW8f4hsCf",
        "colab_type": "code",
        "colab": {}
      },
      "source": [
        "cdc_last_month = cdc_data.loc[(cdc_data['Month Code'].str.contains('2017', regex=False))]\n",
        "\n",
        "cdc_last = pd.DataFrame(cdc_last_month, columns=['State', 'Month Code', 'Deaths'])"
      ],
      "execution_count": 0,
      "outputs": []
    },
    {
      "cell_type": "code",
      "metadata": {
        "id": "Y8FXRuFJjS6v",
        "colab_type": "code",
        "colab": {
          "base_uri": "https://localhost:8080/",
          "height": 407
        },
        "outputId": "88872471-e9dc-4867-f66d-fa6f3f5fc231"
      },
      "source": [
        "cdc_last"
      ],
      "execution_count": 118,
      "outputs": [
        {
          "output_type": "execute_result",
          "data": {
            "text/html": [
              "<div>\n",
              "<style scoped>\n",
              "    .dataframe tbody tr th:only-of-type {\n",
              "        vertical-align: middle;\n",
              "    }\n",
              "\n",
              "    .dataframe tbody tr th {\n",
              "        vertical-align: top;\n",
              "    }\n",
              "\n",
              "    .dataframe thead th {\n",
              "        text-align: right;\n",
              "    }\n",
              "</style>\n",
              "<table border=\"1\" class=\"dataframe\">\n",
              "  <thead>\n",
              "    <tr style=\"text-align: right;\">\n",
              "      <th></th>\n",
              "      <th>State</th>\n",
              "      <th>Month Code</th>\n",
              "      <th>Deaths</th>\n",
              "    </tr>\n",
              "  </thead>\n",
              "  <tbody>\n",
              "    <tr>\n",
              "      <th>36</th>\n",
              "      <td>Alabama</td>\n",
              "      <td>2017/01</td>\n",
              "      <td>91.0</td>\n",
              "    </tr>\n",
              "    <tr>\n",
              "      <th>37</th>\n",
              "      <td>Alabama</td>\n",
              "      <td>2017/02</td>\n",
              "      <td>73.0</td>\n",
              "    </tr>\n",
              "    <tr>\n",
              "      <th>38</th>\n",
              "      <td>Alabama</td>\n",
              "      <td>2017/03</td>\n",
              "      <td>92.0</td>\n",
              "    </tr>\n",
              "    <tr>\n",
              "      <th>39</th>\n",
              "      <td>Alabama</td>\n",
              "      <td>2017/04</td>\n",
              "      <td>75.0</td>\n",
              "    </tr>\n",
              "    <tr>\n",
              "      <th>40</th>\n",
              "      <td>Alabama</td>\n",
              "      <td>2017/05</td>\n",
              "      <td>83.0</td>\n",
              "    </tr>\n",
              "    <tr>\n",
              "      <th>...</th>\n",
              "      <td>...</td>\n",
              "      <td>...</td>\n",
              "      <td>...</td>\n",
              "    </tr>\n",
              "    <tr>\n",
              "      <th>2233</th>\n",
              "      <td>Wisconsin</td>\n",
              "      <td>2017/10</td>\n",
              "      <td>109.0</td>\n",
              "    </tr>\n",
              "    <tr>\n",
              "      <th>2234</th>\n",
              "      <td>Wisconsin</td>\n",
              "      <td>2017/11</td>\n",
              "      <td>81.0</td>\n",
              "    </tr>\n",
              "    <tr>\n",
              "      <th>2235</th>\n",
              "      <td>Wisconsin</td>\n",
              "      <td>2017/12</td>\n",
              "      <td>97.0</td>\n",
              "    </tr>\n",
              "    <tr>\n",
              "      <th>2251</th>\n",
              "      <td>Wyoming</td>\n",
              "      <td>2017/10</td>\n",
              "      <td>13.0</td>\n",
              "    </tr>\n",
              "    <tr>\n",
              "      <th>2252</th>\n",
              "      <td>Wyoming</td>\n",
              "      <td>2017/11</td>\n",
              "      <td>14.0</td>\n",
              "    </tr>\n",
              "  </tbody>\n",
              "</table>\n",
              "<p>569 rows × 3 columns</p>\n",
              "</div>"
            ],
            "text/plain": [
              "          State Month Code  Deaths\n",
              "36      Alabama    2017/01    91.0\n",
              "37      Alabama    2017/02    73.0\n",
              "38      Alabama    2017/03    92.0\n",
              "39      Alabama    2017/04    75.0\n",
              "40      Alabama    2017/05    83.0\n",
              "...         ...        ...     ...\n",
              "2233  Wisconsin    2017/10   109.0\n",
              "2234  Wisconsin    2017/11    81.0\n",
              "2235  Wisconsin    2017/12    97.0\n",
              "2251    Wyoming    2017/10    13.0\n",
              "2252    Wyoming    2017/11    14.0\n",
              "\n",
              "[569 rows x 3 columns]"
            ]
          },
          "metadata": {
            "tags": []
          },
          "execution_count": 118
        }
      ]
    },
    {
      "cell_type": "code",
      "metadata": {
        "id": "OM6d_xZEkRcG",
        "colab_type": "code",
        "colab": {
          "base_uri": "https://localhost:8080/",
          "height": 933
        },
        "outputId": "5643b755-53da-463c-ec9f-e898de61698a"
      },
      "source": [
        "all_states = pd.Series(cdc_data.drop_duplicates('State')['State']).dropna(inplace=False)\n",
        "\n",
        "print(\"Has 51 states because it include DC as a state\")\n",
        "print(all_states)"
      ],
      "execution_count": 119,
      "outputs": [
        {
          "output_type": "stream",
          "text": [
            "Has 51 states because it include DC as a state\n",
            "0                    Alabama\n",
            "48                    Alaska\n",
            "79                   Arizona\n",
            "127                 Arkansas\n",
            "175               California\n",
            "223                 Colorado\n",
            "271              Connecticut\n",
            "319                 Delaware\n",
            "365     District of Columbia\n",
            "402                  Florida\n",
            "450                  Georgia\n",
            "498                   Hawaii\n",
            "544                    Idaho\n",
            "591                 Illinois\n",
            "639                  Indiana\n",
            "687                     Iowa\n",
            "735                   Kansas\n",
            "783                 Kentucky\n",
            "831                Louisiana\n",
            "879                    Maine\n",
            "927                 Maryland\n",
            "975            Massachusetts\n",
            "1023                Michigan\n",
            "1071               Minnesota\n",
            "1119             Mississippi\n",
            "1167                Missouri\n",
            "1215                 Montana\n",
            "1248                Nebraska\n",
            "1290                  Nevada\n",
            "1338           New Hampshire\n",
            "1386              New Jersey\n",
            "1434              New Mexico\n",
            "1482                New York\n",
            "1530          North Carolina\n",
            "1578            North Dakota\n",
            "1582                    Ohio\n",
            "1630                Oklahoma\n",
            "1678                  Oregon\n",
            "1726            Pennsylvania\n",
            "1774            Rhode Island\n",
            "1822          South Carolina\n",
            "1870            South Dakota\n",
            "1873               Tennessee\n",
            "1921                   Texas\n",
            "1969                    Utah\n",
            "2017                 Vermont\n",
            "2044                Virginia\n",
            "2092              Washington\n",
            "2140           West Virginia\n",
            "2188               Wisconsin\n",
            "2236                 Wyoming\n",
            "Name: State, dtype: object\n"
          ],
          "name": "stdout"
        }
      ]
    },
    {
      "cell_type": "code",
      "metadata": {
        "id": "VZZpvZ1BkkZi",
        "colab_type": "code",
        "colab": {
          "base_uri": "https://localhost:8080/",
          "height": 104
        },
        "outputId": "12b78863-591e-4714-ab5e-28343e22cb00"
      },
      "source": [
        "# left_states = all_states[~(all_states.isin(cdc_last['State']))]\n",
        "\n",
        "# left_states"
      ],
      "execution_count": 68,
      "outputs": [
        {
          "output_type": "execute_result",
          "data": {
            "text/plain": [
              "1215         Montana\n",
              "1578    North Dakota\n",
              "1870    South Dakota\n",
              "2236         Wyoming\n",
              "Name: State, dtype: object"
            ]
          },
          "metadata": {
            "tags": []
          },
          "execution_count": 68
        }
      ]
    },
    {
      "cell_type": "code",
      "metadata": {
        "id": "QMYdNh4LpGCX",
        "colab_type": "code",
        "colab": {
          "base_uri": "https://localhost:8080/",
          "height": 106
        },
        "outputId": "f246a803-86ee-40cc-a601-70a9d819984b"
      },
      "source": [
        "# left_df = pd.DataFrame(columns=['State', 'Month',\t'Month Code',\t'Deaths'])\n",
        "\n",
        "# for st in left_states:\n",
        "#   ser = {'State' : st, \n",
        "#          'Month' : 'Dec., 2017',\n",
        "#          'Month Code' :'2017/12', \n",
        "#          'Deaths' : 0}\n",
        "#   print(\"Appending row:\", ser)\n",
        "#   cdc_last = cdc_last.append(ser, ignore_index=True) \n",
        "\n",
        "# cdc_last = cdc_last.reindex()"
      ],
      "execution_count": 78,
      "outputs": [
        {
          "output_type": "stream",
          "text": [
            "Appending row: {'State': 'Montana', 'Month': 'Dec., 2017', 'Month Code': '2017/12', 'Deaths': 0}\n",
            "Appending row: {'State': 'North Dakota', 'Month': 'Dec., 2017', 'Month Code': '2017/12', 'Deaths': 0}\n",
            "Appending row: {'State': 'South Dakota', 'Month': 'Dec., 2017', 'Month Code': '2017/12', 'Deaths': 0}\n",
            "Appending row: {'State': 'Wyoming', 'Month': 'Dec., 2017', 'Month Code': '2017/12', 'Deaths': 0}\n"
          ],
          "name": "stdout"
        }
      ]
    },
    {
      "cell_type": "code",
      "metadata": {
        "id": "NQ1DcZkQruyZ",
        "colab_type": "code",
        "colab": {}
      },
      "source": [
        "# cdc_last"
      ],
      "execution_count": 0,
      "outputs": []
    },
    {
      "cell_type": "code",
      "metadata": {
        "id": "ZYTJXTleuEQG",
        "colab_type": "code",
        "colab": {}
      },
      "source": [
        ""
      ],
      "execution_count": 0,
      "outputs": []
    },
    {
      "cell_type": "markdown",
      "metadata": {
        "id": "RIqIbOxAuIbM",
        "colab_type": "text"
      },
      "source": [
        "## Start converting Flow rates to counts in provisional data"
      ]
    },
    {
      "cell_type": "code",
      "metadata": {
        "id": "jj4aSE3yuneA",
        "colab_type": "code",
        "colab": {}
      },
      "source": [
        "# Keep only rows with Indicator = \"Number of Drug Overdose Deaths\"\n",
        "\n",
        "new_prov = prov_data.loc[(prov_data['Indicator'] == \"Number of Drug Overdose Deaths\")]"
      ],
      "execution_count": 0,
      "outputs": []
    },
    {
      "cell_type": "code",
      "metadata": {
        "id": "SW139qdqxdZc",
        "colab_type": "code",
        "colab": {
          "base_uri": "https://localhost:8080/",
          "height": 141
        },
        "outputId": "211e44cf-b91d-4bbc-f800-ab6ecf5a5447"
      },
      "source": [
        "months = [\"January\", \"February\", \"March\", \"April\", \"May\", \"June\", \n",
        "          \"July\", \"August\", \"September\", \"October\", \"November\", \"December\"]\n",
        "\n",
        "\n",
        "new_prov['Month'] = pd.Categorical(new_prov['Month'], categories=months, ordered=True)\n",
        "\n",
        "prov_sort = new_prov.sort_values(by=['Year', 'State', 'Month'], inplace=False)"
      ],
      "execution_count": 123,
      "outputs": [
        {
          "output_type": "stream",
          "text": [
            "/usr/local/lib/python3.6/dist-packages/ipykernel_launcher.py:5: SettingWithCopyWarning: \n",
            "A value is trying to be set on a copy of a slice from a DataFrame.\n",
            "Try using .loc[row_indexer,col_indexer] = value instead\n",
            "\n",
            "See the caveats in the documentation: http://pandas.pydata.org/pandas-docs/stable/user_guide/indexing.html#returning-a-view-versus-a-copy\n",
            "  \"\"\"\n"
          ],
          "name": "stderr"
        }
      ]
    },
    {
      "cell_type": "code",
      "metadata": {
        "id": "Po4OCrjvDw-J",
        "colab_type": "code",
        "colab": {
          "base_uri": "https://localhost:8080/",
          "height": 348
        },
        "outputId": "431f2d49-047b-42ce-bf41-fdbcc81faaa7"
      },
      "source": [
        "prov_sort = prov_sort.loc[(prov_sort['Year'] >= 2018)]\n",
        "\n",
        "prov_sort.head(3)"
      ],
      "execution_count": 133,
      "outputs": [
        {
          "output_type": "execute_result",
          "data": {
            "text/html": [
              "<div>\n",
              "<style scoped>\n",
              "    .dataframe tbody tr th:only-of-type {\n",
              "        vertical-align: middle;\n",
              "    }\n",
              "\n",
              "    .dataframe tbody tr th {\n",
              "        vertical-align: top;\n",
              "    }\n",
              "\n",
              "    .dataframe thead th {\n",
              "        text-align: right;\n",
              "    }\n",
              "</style>\n",
              "<table border=\"1\" class=\"dataframe\">\n",
              "  <thead>\n",
              "    <tr style=\"text-align: right;\">\n",
              "      <th></th>\n",
              "      <th>State</th>\n",
              "      <th>Year</th>\n",
              "      <th>Month</th>\n",
              "      <th>Period</th>\n",
              "      <th>Indicator</th>\n",
              "      <th>Data Value</th>\n",
              "      <th>Percent Complete</th>\n",
              "      <th>Percent Pending Investigation</th>\n",
              "      <th>State Name</th>\n",
              "      <th>Footnote</th>\n",
              "      <th>Footnote Symbol</th>\n",
              "      <th>Predicted Value</th>\n",
              "    </tr>\n",
              "  </thead>\n",
              "  <tbody>\n",
              "    <tr>\n",
              "      <th>483</th>\n",
              "      <td>AK</td>\n",
              "      <td>2018</td>\n",
              "      <td>January</td>\n",
              "      <td>12 month-ending</td>\n",
              "      <td>Number of Drug Overdose Deaths</td>\n",
              "      <td>138</td>\n",
              "      <td>100</td>\n",
              "      <td>0.0</td>\n",
              "      <td>Alaska</td>\n",
              "      <td>Underreported due to incomplete data.</td>\n",
              "      <td>*</td>\n",
              "      <td>138</td>\n",
              "    </tr>\n",
              "    <tr>\n",
              "      <th>477</th>\n",
              "      <td>AK</td>\n",
              "      <td>2018</td>\n",
              "      <td>February</td>\n",
              "      <td>12 month-ending</td>\n",
              "      <td>Number of Drug Overdose Deaths</td>\n",
              "      <td>139</td>\n",
              "      <td>100</td>\n",
              "      <td>0.0</td>\n",
              "      <td>Alaska</td>\n",
              "      <td>Underreported due to incomplete data.</td>\n",
              "      <td>*</td>\n",
              "      <td>139</td>\n",
              "    </tr>\n",
              "    <tr>\n",
              "      <th>520</th>\n",
              "      <td>AK</td>\n",
              "      <td>2018</td>\n",
              "      <td>March</td>\n",
              "      <td>12 month-ending</td>\n",
              "      <td>Number of Drug Overdose Deaths</td>\n",
              "      <td>136</td>\n",
              "      <td>100</td>\n",
              "      <td>0.0</td>\n",
              "      <td>Alaska</td>\n",
              "      <td>Underreported due to incomplete data.</td>\n",
              "      <td>*</td>\n",
              "      <td>137</td>\n",
              "    </tr>\n",
              "  </tbody>\n",
              "</table>\n",
              "</div>"
            ],
            "text/plain": [
              "    State  Year  ... Footnote Symbol Predicted Value\n",
              "483    AK  2018  ...               *             138\n",
              "477    AK  2018  ...               *             139\n",
              "520    AK  2018  ...               *             137\n",
              "\n",
              "[3 rows x 12 columns]"
            ]
          },
          "metadata": {
            "tags": []
          },
          "execution_count": 133
        }
      ]
    },
    {
      "cell_type": "code",
      "metadata": {
        "id": "tD46c0_tD1Eg",
        "colab_type": "code",
        "colab": {
          "base_uri": "https://localhost:8080/",
          "height": 104
        },
        "outputId": "7e019c72-e0cf-4834-e8bd-935361ec9e09"
      },
      "source": [
        "cdc_2017_deaths = cdc_last.groupby(by=['State'], axis=0)['Deaths'].sum()\n",
        "\n",
        "cdc_2017_deaths.head(3)"
      ],
      "execution_count": 141,
      "outputs": [
        {
          "output_type": "execute_result",
          "data": {
            "text/plain": [
              "State\n",
              "Alabama     960.0\n",
              "Alaska      125.0\n",
              "Arizona    1628.0\n",
              "Name: Deaths, dtype: float64"
            ]
          },
          "metadata": {
            "tags": []
          },
          "execution_count": 141
        }
      ]
    },
    {
      "cell_type": "code",
      "metadata": {
        "id": "NSEWe99-GmYj",
        "colab_type": "code",
        "colab": {
          "base_uri": "https://localhost:8080/",
          "height": 348
        },
        "outputId": "9286f7ce-33f5-4d82-bd0c-879c9227bc9c"
      },
      "source": [
        "prov_sort.head(3)"
      ],
      "execution_count": 145,
      "outputs": [
        {
          "output_type": "execute_result",
          "data": {
            "text/html": [
              "<div>\n",
              "<style scoped>\n",
              "    .dataframe tbody tr th:only-of-type {\n",
              "        vertical-align: middle;\n",
              "    }\n",
              "\n",
              "    .dataframe tbody tr th {\n",
              "        vertical-align: top;\n",
              "    }\n",
              "\n",
              "    .dataframe thead th {\n",
              "        text-align: right;\n",
              "    }\n",
              "</style>\n",
              "<table border=\"1\" class=\"dataframe\">\n",
              "  <thead>\n",
              "    <tr style=\"text-align: right;\">\n",
              "      <th></th>\n",
              "      <th>State</th>\n",
              "      <th>Year</th>\n",
              "      <th>Month</th>\n",
              "      <th>Period</th>\n",
              "      <th>Indicator</th>\n",
              "      <th>Data Value</th>\n",
              "      <th>Percent Complete</th>\n",
              "      <th>Percent Pending Investigation</th>\n",
              "      <th>State Name</th>\n",
              "      <th>Footnote</th>\n",
              "      <th>Footnote Symbol</th>\n",
              "      <th>Predicted Value</th>\n",
              "    </tr>\n",
              "  </thead>\n",
              "  <tbody>\n",
              "    <tr>\n",
              "      <th>483</th>\n",
              "      <td>AK</td>\n",
              "      <td>2018</td>\n",
              "      <td>January</td>\n",
              "      <td>12 month-ending</td>\n",
              "      <td>Number of Drug Overdose Deaths</td>\n",
              "      <td>138</td>\n",
              "      <td>100</td>\n",
              "      <td>0.0</td>\n",
              "      <td>Alaska</td>\n",
              "      <td>Underreported due to incomplete data.</td>\n",
              "      <td>*</td>\n",
              "      <td>138</td>\n",
              "    </tr>\n",
              "    <tr>\n",
              "      <th>477</th>\n",
              "      <td>AK</td>\n",
              "      <td>2018</td>\n",
              "      <td>February</td>\n",
              "      <td>12 month-ending</td>\n",
              "      <td>Number of Drug Overdose Deaths</td>\n",
              "      <td>139</td>\n",
              "      <td>100</td>\n",
              "      <td>0.0</td>\n",
              "      <td>Alaska</td>\n",
              "      <td>Underreported due to incomplete data.</td>\n",
              "      <td>*</td>\n",
              "      <td>139</td>\n",
              "    </tr>\n",
              "    <tr>\n",
              "      <th>520</th>\n",
              "      <td>AK</td>\n",
              "      <td>2018</td>\n",
              "      <td>March</td>\n",
              "      <td>12 month-ending</td>\n",
              "      <td>Number of Drug Overdose Deaths</td>\n",
              "      <td>136</td>\n",
              "      <td>100</td>\n",
              "      <td>0.0</td>\n",
              "      <td>Alaska</td>\n",
              "      <td>Underreported due to incomplete data.</td>\n",
              "      <td>*</td>\n",
              "      <td>137</td>\n",
              "    </tr>\n",
              "  </tbody>\n",
              "</table>\n",
              "</div>"
            ],
            "text/plain": [
              "    State  Year  ... Footnote Symbol Predicted Value\n",
              "483    AK  2018  ...               *             138\n",
              "477    AK  2018  ...               *             139\n",
              "520    AK  2018  ...               *             137\n",
              "\n",
              "[3 rows x 12 columns]"
            ]
          },
          "metadata": {
            "tags": []
          },
          "execution_count": 145
        }
      ]
    },
    {
      "cell_type": "code",
      "metadata": {
        "id": "lny9UIuY3tgZ",
        "colab_type": "code",
        "colab": {
          "base_uri": "https://localhost:8080/",
          "height": 459
        },
        "outputId": "cc47749b-277e-461a-dcef-df92676725e2"
      },
      "source": [
        "prov_sort = prov_sort.loc[(prov_sort['Year'] >= 2018)]\n",
        "\n",
        "for row in prov_sort.iterrows():\n",
        "  print(row)\n",
        "  if row['Month'] == 'January' and row['Year'] == '2018':\n",
        "\n",
        "    state = row['State']\n",
        "    print('State: ', state)\n",
        "    print('deaths in Jan 2017: ', cdc_last['Deaths'][state])\n",
        "    # feb_2_dec = cdc_2017_deaths[state] - cdc_last['Deaths']['']"
      ],
      "execution_count": 151,
      "outputs": [
        {
          "output_type": "stream",
          "text": [
            "(483, State                                                               AK\n",
            "Year                                                              2018\n",
            "Month                                                          January\n",
            "Period                                                 12 month-ending\n",
            "Indicator                               Number of Drug Overdose Deaths\n",
            "Data Value                                                         138\n",
            "Percent Complete                                                   100\n",
            "Percent Pending Investigation                                        0\n",
            "State Name                                                      Alaska\n",
            "Footnote                         Underreported due to incomplete data.\n",
            "Footnote Symbol                                                      *\n",
            "Predicted Value                                                    138\n",
            "Name: 483, dtype: object)\n"
          ],
          "name": "stdout"
        },
        {
          "output_type": "error",
          "ename": "TypeError",
          "evalue": "ignored",
          "traceback": [
            "\u001b[0;31m---------------------------------------------------------------------------\u001b[0m",
            "\u001b[0;31mTypeError\u001b[0m                                 Traceback (most recent call last)",
            "\u001b[0;32m<ipython-input-151-fea627596ca3>\u001b[0m in \u001b[0;36m<module>\u001b[0;34m()\u001b[0m\n\u001b[1;32m      3\u001b[0m \u001b[0;32mfor\u001b[0m \u001b[0mrow\u001b[0m \u001b[0;32min\u001b[0m \u001b[0mprov_sort\u001b[0m\u001b[0;34m.\u001b[0m\u001b[0miterrows\u001b[0m\u001b[0;34m(\u001b[0m\u001b[0;34m)\u001b[0m\u001b[0;34m:\u001b[0m\u001b[0;34m\u001b[0m\u001b[0;34m\u001b[0m\u001b[0m\n\u001b[1;32m      4\u001b[0m   \u001b[0mprint\u001b[0m\u001b[0;34m(\u001b[0m\u001b[0mrow\u001b[0m\u001b[0;34m)\u001b[0m\u001b[0;34m\u001b[0m\u001b[0;34m\u001b[0m\u001b[0m\n\u001b[0;32m----> 5\u001b[0;31m   \u001b[0;32mif\u001b[0m \u001b[0mrow\u001b[0m\u001b[0;34m[\u001b[0m\u001b[0;34m'Month'\u001b[0m\u001b[0;34m]\u001b[0m \u001b[0;34m==\u001b[0m \u001b[0;34m'January'\u001b[0m \u001b[0;32mand\u001b[0m \u001b[0mrow\u001b[0m\u001b[0;34m[\u001b[0m\u001b[0;34m'Year'\u001b[0m\u001b[0;34m]\u001b[0m \u001b[0;34m==\u001b[0m \u001b[0;34m'2018'\u001b[0m\u001b[0;34m:\u001b[0m\u001b[0;34m\u001b[0m\u001b[0;34m\u001b[0m\u001b[0m\n\u001b[0m\u001b[1;32m      6\u001b[0m \u001b[0;34m\u001b[0m\u001b[0m\n\u001b[1;32m      7\u001b[0m     \u001b[0mstate\u001b[0m \u001b[0;34m=\u001b[0m \u001b[0mrow\u001b[0m\u001b[0;34m[\u001b[0m\u001b[0;34m'State'\u001b[0m\u001b[0;34m]\u001b[0m\u001b[0;34m\u001b[0m\u001b[0;34m\u001b[0m\u001b[0m\n",
            "\u001b[0;31mTypeError\u001b[0m: tuple indices must be integers or slices, not str"
          ]
        }
      ]
    },
    {
      "cell_type": "code",
      "metadata": {
        "id": "FVTKwwdyD0J3",
        "colab_type": "code",
        "colab": {}
      },
      "source": [
        ""
      ],
      "execution_count": 0,
      "outputs": []
    },
    {
      "cell_type": "code",
      "metadata": {
        "id": "zHsk9ATt-_il",
        "colab_type": "code",
        "colab": {}
      },
      "source": [
        ""
      ],
      "execution_count": 0,
      "outputs": []
    }
  ]
}
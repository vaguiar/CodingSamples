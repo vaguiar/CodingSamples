{
  "nbformat": 4,
  "nbformat_minor": 0,
  "metadata": {
    "colab": {
      "name": "hw2_collab_filtering_exp.ipynb",
      "provenance": [],
      "collapsed_sections": [],
      "authorship_tag": "ABX9TyOa+YtXDpHdlWSyLHD+5Fx/",
      "include_colab_link": true
    },
    "kernelspec": {
      "name": "python3",
      "display_name": "Python 3"
    }
  },
  "cells": [
    {
      "cell_type": "markdown",
      "metadata": {
        "id": "view-in-github",
        "colab_type": "text"
      },
      "source": [
        "<a href=\"https://colab.research.google.com/github/vaguiar/CodingSamples/blob/master/hw2/hw2_collab_filtering_exp.ipynb\" target=\"_parent\"><img src=\"https://colab.research.google.com/assets/colab-badge.svg\" alt=\"Open In Colab\"/></a>"
      ]
    },
    {
      "cell_type": "code",
      "metadata": {
        "id": "r-yuMA0MiWOw"
      },
      "source": [
        "import matplotlib.pyplot as plt\n",
        "import numpy as np\n",
        "import pandas as pd\n",
        "from IPython.display import display, Markdown, HTML\n",
        "import os"
      ],
      "execution_count": 1,
      "outputs": []
    },
    {
      "cell_type": "code",
      "metadata": {
        "id": "RxDFxgNBicNe",
        "outputId": "361f0ca7-c0e7-4404-94c6-6199bdeb02c3",
        "colab": {
          "base_uri": "https://localhost:8080/",
          "height": 74
        }
      },
      "source": [
        "display(Markdown(\"### Mounting GDrive in Colab\" ))\n",
        "from google.colab import drive\n",
        "drive.mount(\"/content/drive\", force_remount=True)"
      ],
      "execution_count": 2,
      "outputs": [
        {
          "output_type": "display_data",
          "data": {
            "text/markdown": "#### Mounting GDrive in Colab",
            "text/plain": [
              "<IPython.core.display.Markdown object>"
            ]
          },
          "metadata": {
            "tags": []
          }
        },
        {
          "output_type": "stream",
          "text": [
            "Mounted at /content/drive\n"
          ],
          "name": "stdout"
        }
      ]
    },
    {
      "cell_type": "code",
      "metadata": {
        "id": "xXuF-Qyrk2Tj",
        "outputId": "dc07092a-2309-4157-f96d-3db5bc9061b5",
        "colab": {
          "base_uri": "https://localhost:8080/",
          "height": 105
        }
      },
      "source": [
        "def get_data(file):\n",
        "  data = pd.read_csv(f\"/content/drive/My Drive/Personalization/hw2/data/ml-latest/{file}\")\n",
        "  display(Markdown(f\"{file} has %s columns & %s rows\" % ( len(data.columns), len(data.index) ) ))\n",
        "  return data\n",
        "\n",
        "display(Markdown(\"### Reading data\"))\n",
        "movies = get_data(\"movies.csv\")\n",
        "ratings = get_data(\"ratings.csv\")"
      ],
      "execution_count": 4,
      "outputs": [
        {
          "output_type": "display_data",
          "data": {
            "text/markdown": "#### Reading data",
            "text/plain": [
              "<IPython.core.display.Markdown object>"
            ]
          },
          "metadata": {
            "tags": []
          }
        },
        {
          "output_type": "display_data",
          "data": {
            "text/markdown": "movies.csv has 3 columns & 58098 rows",
            "text/plain": [
              "<IPython.core.display.Markdown object>"
            ]
          },
          "metadata": {
            "tags": []
          }
        },
        {
          "output_type": "display_data",
          "data": {
            "text/markdown": "ratings.csv has 4 columns & 27753444 rows",
            "text/plain": [
              "<IPython.core.display.Markdown object>"
            ]
          },
          "metadata": {
            "tags": []
          }
        }
      ]
    },
    {
      "cell_type": "code",
      "metadata": {
        "id": "XlgR3Yjt2flu"
      },
      "source": [
        "def get_popularity(ratings_df, id_col):\n",
        "    # count the number of ratings \n",
        "    popularity_df = ratings_df[id_col].value_counts().to_frame().reset_index()\n",
        "    popularity_df.columns = [id_col, 'count']\n",
        "\n",
        "    # assign weights\n",
        "    popularity_df['weights'] = 1/(1-popularity_df['count'].map(popularity_df['count'].value_counts(normalize = True)))\n",
        "\n",
        "    return popularity_df\n",
        "\n",
        "def sampling_id(popularity_df, id_col, threshold, num, random_state=123):\n",
        "    # filter by threshold\n",
        "    valid_df = popularity_df[popularity_df['count'] >= threshold] \n",
        "    # sample by weights \n",
        "    sampled_id = valid_df.sample(n = num, weights = 'weights', random_state=random_state)[id_col].tolist()\n",
        "    \n",
        "    return sampled_id"
      ],
      "execution_count": 5,
      "outputs": []
    },
    {
      "cell_type": "code",
      "metadata": {
        "id": "54fRWoqOvDmR"
      },
      "source": [
        "# initiate constants\n",
        "MOVIE_THRESHOLD = 50\n",
        "USER_THRESHOLD = 50\n",
        "\n",
        "# get movie rating counts df & sampled movie_ids\n",
        "popularity_movie_df = get_popularity(ratings, id_col='movieId')\n",
        "sampled_movieId = sampling_id(popularity_movie_df, id_col='movieId', threshold=MOVIE_THRESHOLD, num=1500)\n",
        "\n",
        "# get user rating counts df & sampled user_ids\n",
        "popularity_user_df = get_popularity(ratings, id_col='userId')\n",
        "sampled_userId = sampling_id(popularity_user_df, id_col='userId', threshold=USER_THRESHOLD, num=25000)"
      ],
      "execution_count": 6,
      "outputs": []
    },
    {
      "cell_type": "code",
      "metadata": {
        "id": "0e3pBTFqvEo1",
        "outputId": "062ee149-79f6-48f9-e0ef-1a3c587f4ed5",
        "colab": {
          "base_uri": "https://localhost:8080/",
          "height": 57
        }
      },
      "source": [
        "display(Markdown(\"#### Sampled data\"))\n",
        "\n",
        "# select by sampled movieId\n",
        "sampled_df = ratings[ratings['movieId'].isin(sampled_movieId)]\n",
        "# select by sampled userId\n",
        "sampled_df = sampled_df[sampled_df['userId'].isin(sampled_userId)]"
      ],
      "execution_count": 9,
      "outputs": [
        {
          "output_type": "display_data",
          "data": {
            "text/markdown": "#### Sampled data",
            "text/plain": [
              "<IPython.core.display.Markdown object>"
            ]
          },
          "metadata": {
            "tags": []
          }
        }
      ]
    },
    {
      "cell_type": "code",
      "metadata": {
        "id": "fkWlh9PgvGJk",
        "outputId": "d5ee0f3b-eec1-4979-987f-86b983cc9d03",
        "colab": {
          "base_uri": "https://localhost:8080/",
          "height": 419
        }
      },
      "source": [
        "sampled_df"
      ],
      "execution_count": 10,
      "outputs": [
        {
          "output_type": "execute_result",
          "data": {
            "text/html": [
              "<div>\n",
              "<style scoped>\n",
              "    .dataframe tbody tr th:only-of-type {\n",
              "        vertical-align: middle;\n",
              "    }\n",
              "\n",
              "    .dataframe tbody tr th {\n",
              "        vertical-align: top;\n",
              "    }\n",
              "\n",
              "    .dataframe thead th {\n",
              "        text-align: right;\n",
              "    }\n",
              "</style>\n",
              "<table border=\"1\" class=\"dataframe\">\n",
              "  <thead>\n",
              "    <tr style=\"text-align: right;\">\n",
              "      <th></th>\n",
              "      <th>userId</th>\n",
              "      <th>movieId</th>\n",
              "      <th>rating</th>\n",
              "      <th>timestamp</th>\n",
              "    </tr>\n",
              "  </thead>\n",
              "  <tbody>\n",
              "    <tr>\n",
              "      <th>2122</th>\n",
              "      <td>31</td>\n",
              "      <td>608</td>\n",
              "      <td>5.0</td>\n",
              "      <td>968886879</td>\n",
              "    </tr>\n",
              "    <tr>\n",
              "      <th>2135</th>\n",
              "      <td>31</td>\n",
              "      <td>1240</td>\n",
              "      <td>4.0</td>\n",
              "      <td>968887413</td>\n",
              "    </tr>\n",
              "    <tr>\n",
              "      <th>2144</th>\n",
              "      <td>31</td>\n",
              "      <td>1304</td>\n",
              "      <td>3.0</td>\n",
              "      <td>968870967</td>\n",
              "    </tr>\n",
              "    <tr>\n",
              "      <th>2154</th>\n",
              "      <td>31</td>\n",
              "      <td>2396</td>\n",
              "      <td>5.0</td>\n",
              "      <td>968886749</td>\n",
              "    </tr>\n",
              "    <tr>\n",
              "      <th>2158</th>\n",
              "      <td>31</td>\n",
              "      <td>2716</td>\n",
              "      <td>4.0</td>\n",
              "      <td>968871098</td>\n",
              "    </tr>\n",
              "    <tr>\n",
              "      <th>...</th>\n",
              "      <td>...</td>\n",
              "      <td>...</td>\n",
              "      <td>...</td>\n",
              "      <td>...</td>\n",
              "    </tr>\n",
              "    <tr>\n",
              "      <th>27752635</th>\n",
              "      <td>283215</td>\n",
              "      <td>276</td>\n",
              "      <td>4.0</td>\n",
              "      <td>862414494</td>\n",
              "    </tr>\n",
              "    <tr>\n",
              "      <th>27752642</th>\n",
              "      <td>283215</td>\n",
              "      <td>494</td>\n",
              "      <td>5.0</td>\n",
              "      <td>854982148</td>\n",
              "    </tr>\n",
              "    <tr>\n",
              "      <th>27752648</th>\n",
              "      <td>283215</td>\n",
              "      <td>608</td>\n",
              "      <td>3.0</td>\n",
              "      <td>854982147</td>\n",
              "    </tr>\n",
              "    <tr>\n",
              "      <th>27752664</th>\n",
              "      <td>283215</td>\n",
              "      <td>788</td>\n",
              "      <td>5.0</td>\n",
              "      <td>854982198</td>\n",
              "    </tr>\n",
              "    <tr>\n",
              "      <th>27752668</th>\n",
              "      <td>283215</td>\n",
              "      <td>1061</td>\n",
              "      <td>4.0</td>\n",
              "      <td>854982605</td>\n",
              "    </tr>\n",
              "  </tbody>\n",
              "</table>\n",
              "<p>666378 rows × 4 columns</p>\n",
              "</div>"
            ],
            "text/plain": [
              "          userId  movieId  rating  timestamp\n",
              "2122          31      608     5.0  968886879\n",
              "2135          31     1240     4.0  968887413\n",
              "2144          31     1304     3.0  968870967\n",
              "2154          31     2396     5.0  968886749\n",
              "2158          31     2716     4.0  968871098\n",
              "...          ...      ...     ...        ...\n",
              "27752635  283215      276     4.0  862414494\n",
              "27752642  283215      494     5.0  854982148\n",
              "27752648  283215      608     3.0  854982147\n",
              "27752664  283215      788     5.0  854982198\n",
              "27752668  283215     1061     4.0  854982605\n",
              "\n",
              "[666378 rows x 4 columns]"
            ]
          },
          "metadata": {
            "tags": []
          },
          "execution_count": 10
        }
      ]
    },
    {
      "cell_type": "markdown",
      "metadata": {
        "id": "VDGZlsQ-vkCn"
      },
      "source": [
        "### Surprise - KNN User based recommendations"
      ]
    },
    {
      "cell_type": "code",
      "metadata": {
        "id": "l8j-YeFvEIb0",
        "outputId": "0c975bc6-d385-4eac-8bd3-44ce462ca12f",
        "colab": {
          "base_uri": "https://localhost:8080/"
        }
      },
      "source": [
        "# Only once per session\n",
        "!pip install scikit-surprise"
      ],
      "execution_count": 11,
      "outputs": [
        {
          "output_type": "stream",
          "text": [
            "Collecting scikit-surprise\n",
            "\u001b[?25l  Downloading https://files.pythonhosted.org/packages/97/37/5d334adaf5ddd65da99fc65f6507e0e4599d092ba048f4302fe8775619e8/scikit-surprise-1.1.1.tar.gz (11.8MB)\n",
            "\u001b[K     |████████████████████████████████| 11.8MB 5.5MB/s \n",
            "\u001b[?25hRequirement already satisfied: joblib>=0.11 in /usr/local/lib/python3.6/dist-packages (from scikit-surprise) (0.17.0)\n",
            "Requirement already satisfied: numpy>=1.11.2 in /usr/local/lib/python3.6/dist-packages (from scikit-surprise) (1.18.5)\n",
            "Requirement already satisfied: scipy>=1.0.0 in /usr/local/lib/python3.6/dist-packages (from scikit-surprise) (1.4.1)\n",
            "Requirement already satisfied: six>=1.10.0 in /usr/local/lib/python3.6/dist-packages (from scikit-surprise) (1.15.0)\n",
            "Building wheels for collected packages: scikit-surprise\n",
            "  Building wheel for scikit-surprise (setup.py) ... \u001b[?25l\u001b[?25hdone\n",
            "  Created wheel for scikit-surprise: filename=scikit_surprise-1.1.1-cp36-cp36m-linux_x86_64.whl size=1670927 sha256=584909681cae976de3a9f8b3c8a540442e8ad69f7217f42f4de3f06a640ea73b\n",
            "  Stored in directory: /root/.cache/pip/wheels/78/9c/3d/41b419c9d2aff5b6e2b4c0fc8d25c538202834058f9ed110d0\n",
            "Successfully built scikit-surprise\n",
            "Installing collected packages: scikit-surprise\n",
            "Successfully installed scikit-surprise-1.1.1\n"
          ],
          "name": "stdout"
        }
      ]
    },
    {
      "cell_type": "code",
      "metadata": {
        "id": "ij67bFY9v3AV"
      },
      "source": [
        "from surprise import Dataset, Reader\n",
        "from surprise.model_selection import train_test_split, cross_validate\n",
        "from surprise import KNNWithMeans\n",
        "from surprise import accuracy\n",
        "\n",
        "# Step 1 = Data Import & Prep\n",
        "# ratings_full = get_data(\"ratings.csv\")\n",
        "ratings_full = sampled_df\n",
        "ratings = ratings_full.iloc[:20000]\n",
        "\n",
        "reader = Reader(rating_scale=(0.5,5))\n",
        "\n",
        "data = Dataset.load_from_df(ratings[['userId', 'movieId', 'rating']], reader)"
      ],
      "execution_count": 12,
      "outputs": []
    },
    {
      "cell_type": "code",
      "metadata": {
        "id": "-dX5d74xptsd"
      },
      "source": [
        "# Create the train test split\n",
        "from surprise.model_selection import train_test_split\n",
        "\n",
        "trainset, testset = train_test_split(data, test_size=0.2, shuffle=True)"
      ],
      "execution_count": 13,
      "outputs": []
    },
    {
      "cell_type": "code",
      "metadata": {
        "id": "jeCKxOMYxN5N",
        "outputId": "c8cdb78f-f3b1-46f5-83f2-b246f5c5e528",
        "colab": {
          "base_uri": "https://localhost:8080/",
          "height": 214
        }
      },
      "source": [
        "## If we had the use data as a training chunk\n",
        "# # trainsetfull = data.build_full_trainset()\n",
        "\n",
        "display(Markdown(\"## Training Set:\"))\n",
        "print('Number of ratings: ', trainset.n_ratings)\n",
        "print('Number of users: ', trainset.n_users)\n",
        "print('Number of items: ', trainset.n_items)\n",
        "print('Global Mean:', trainset.global_mean )\n",
        "\n",
        "display(Markdown(\"## Test Set:\"))\n",
        "print('Number of ratings: ', len(testset), '\\n')"
      ],
      "execution_count": 14,
      "outputs": [
        {
          "output_type": "display_data",
          "data": {
            "text/markdown": "## Training Set:",
            "text/plain": [
              "<IPython.core.display.Markdown object>"
            ]
          },
          "metadata": {
            "tags": []
          }
        },
        {
          "output_type": "stream",
          "text": [
            "Number of ratings:  16000\n",
            "Number of users:  751\n",
            "Number of items:  1139\n",
            "Global Mean: 3.576375\n"
          ],
          "name": "stdout"
        },
        {
          "output_type": "display_data",
          "data": {
            "text/markdown": "## Test Set:",
            "text/plain": [
              "<IPython.core.display.Markdown object>"
            ]
          },
          "metadata": {
            "tags": []
          }
        },
        {
          "output_type": "stream",
          "text": [
            "Number of ratings:  4000 \n",
            "\n"
          ],
          "name": "stdout"
        }
      ]
    },
    {
      "cell_type": "code",
      "metadata": {
        "id": "7CmN3fM907eo",
        "outputId": "fe52355a-9b68-46b0-8cf5-e8b3afccbad4",
        "colab": {
          "base_uri": "https://localhost:8080/"
        }
      },
      "source": [
        "# Step 2 - Cross-Validation\n",
        "\n",
        "my_k = 25\n",
        "my_min_k = 5    # if min_k is not satisfied the global average will be used for estimates. (default 1)\n",
        "my_sim_option = {\n",
        "    'name':'pearson', 'user_based':True\n",
        "    }\n",
        "\n",
        "\n",
        "algo = KNNWithMeans(\n",
        "  k = my_k, \n",
        "  min_k = my_min_k, \n",
        "  sim_options = my_sim_option, \n",
        "  verbose = True\n",
        "  )\n",
        "  \n",
        "results = cross_validate(\n",
        "    algo = algo, \n",
        "    data = data, \n",
        "    measures=['RMSE', 'MAE', 'MSE'], \n",
        "    cv=5, \n",
        "    return_train_measures=True\n",
        "    )\n",
        "    \n",
        "print(\"RMSE: \", results['test_rmse'].mean())\n",
        "print(\"MAE: \", results['test_mae'].mean())\n",
        "print(\"MSE: \", results['test_mse'].mean())"
      ],
      "execution_count": 17,
      "outputs": [
        {
          "output_type": "stream",
          "text": [
            "Computing the pearson similarity matrix...\n",
            "Done computing similarity matrix.\n",
            "Computing the pearson similarity matrix...\n",
            "Done computing similarity matrix.\n",
            "Computing the pearson similarity matrix...\n",
            "Done computing similarity matrix.\n",
            "Computing the pearson similarity matrix...\n",
            "Done computing similarity matrix.\n",
            "Computing the pearson similarity matrix...\n",
            "Done computing similarity matrix.\n",
            "RMSE:  0.9236086113338541\n",
            "MAE:  0.7064122634957551\n",
            "MSE:  0.8531533330892632\n"
          ],
          "name": "stdout"
        }
      ]
    },
    {
      "cell_type": "code",
      "metadata": {
        "id": "rtaCxJoFuZYH",
        "outputId": "ea7a6307-3b33-4fcf-d134-fd814565bd59",
        "colab": {
          "base_uri": "https://localhost:8080/",
          "height": 77
        }
      },
      "source": [
        "def algo_name(algo):\n",
        "  return str(algo).split(\".\")[-1].split(\"'\")[0]\n",
        "\n",
        "def try_algo(algo_fn, k_val, min_k_val=5, similarity_method='pearson', user_based=True):\n",
        "\n",
        "  my_k = k_val\n",
        "  my_min_k = min_k_val\n",
        "  my_sim_option = {\n",
        "      'name':similarity_method, \n",
        "      'user_based':user_based\n",
        "      }\n",
        "\n",
        "  algo = algo_fn(\n",
        "    k = my_k, \n",
        "    min_k = my_min_k, \n",
        "    sim_options = my_sim_option, \n",
        "    verbose = True\n",
        "    )\n",
        "  \n",
        "  display(Markdown(\"#### Running '%s' algo (user based=%s) '%s' similarity\" %(algo_name(algo_fn), user_based, similarity_method)))\n",
        "\n",
        "  results = cross_validate(\n",
        "      algo = algo, \n",
        "      data = data, \n",
        "      measures=['RMSE', 'MAE', 'MSE'], \n",
        "      cv=5, \n",
        "      return_train_measures=True\n",
        "      )\n",
        "\n",
        "  display(Markdown(\"#### Results:\"))\n",
        "  print(\"RMSE: \", results['test_rmse'].mean(), \"MAE: \", results['test_mae'].mean(), \"MSE: \", results['test_mse'].mean())\n",
        "\n",
        "  return results\n",
        "\n",
        "display(Markdown(\"### A single movie in the sampled dataset has atleast 30 user ratings. Hence while finding computing the KNN similarities, with can use a k with value upto 30. I will use 25\"))"
      ],
      "execution_count": 71,
      "outputs": [
        {
          "output_type": "display_data",
          "data": {
            "text/markdown": "### A single movie in the sampled dataset has atleast 30 user ratings. Hence while finding computing the KNN similarities, with can use a k with value upto 30. I will use 25",
            "text/plain": [
              "<IPython.core.display.Markdown object>"
            ]
          },
          "metadata": {
            "tags": []
          }
        }
      ]
    },
    {
      "cell_type": "code",
      "metadata": {
        "id": "rCBWji8dyQ3g",
        "outputId": "41e16b4e-66d9-44b1-cd1c-6bcf3c917d69",
        "colab": {
          "base_uri": "https://localhost:8080/",
          "height": 1000
        }
      },
      "source": [
        "from surprise import KNNWithMeans, KNNWithZScore, KNNBaseline, KNNBasic\n",
        "\n",
        "algos = [ KNNBasic, KNNWithMeans, KNNWithZScore, KNNBaseline ]\n",
        "sims = ['cosine', 'msd', 'pearson', 'pearson_baseline']\n",
        "user_based_opts = [ True, False ]\n",
        "k_val = 25\n",
        "\n",
        "display(Markdown(\"## Cross Validating to find best Memory Based option\"))\n",
        "display(Markdown(\"k-NN based nearest neighbor algorithm with k value of '%s'\" %(str(k_val))))\n",
        "\n",
        "userBasedOp = pd.DataFrame(index=[algo_name(i) for i in algos], columns=sims)\n",
        "itemBasedOp = pd.DataFrame(index=[algo_name(i) for i in algos], columns=sims)\n",
        "\n",
        "for algo in algos:\n",
        "  for sim in sims:\n",
        "    for user_based_opt in user_based_opts:\n",
        "\n",
        "      rslt = try_algo(algo, k_val=k_val, similarity_method=sim, user_based=user_based_opt)\n",
        "      \n",
        "      if user_based_opt:\n",
        "        userBasedOp.at[algo_name(algo), sim] = rslt['test_rmse'].mean()\n",
        "      else:\n",
        "        itemBasedOp.at[algo_name(algo), sim] = rslt['test_rmse'].mean()"
      ],
      "execution_count": 72,
      "outputs": [
        {
          "output_type": "display_data",
          "data": {
            "text/markdown": "## Cross Validating to find best Memory Based option",
            "text/plain": [
              "<IPython.core.display.Markdown object>"
            ]
          },
          "metadata": {
            "tags": []
          }
        },
        {
          "output_type": "display_data",
          "data": {
            "text/markdown": "k-NN based nearest neighbor algorithm with k value of '25'",
            "text/plain": [
              "<IPython.core.display.Markdown object>"
            ]
          },
          "metadata": {
            "tags": []
          }
        },
        {
          "output_type": "display_data",
          "data": {
            "text/markdown": "#### Running 'KNNBasic' algo (user based=True) 'cosine' similarity",
            "text/plain": [
              "<IPython.core.display.Markdown object>"
            ]
          },
          "metadata": {
            "tags": []
          }
        },
        {
          "output_type": "stream",
          "text": [
            "Computing the cosine similarity matrix...\n",
            "Done computing similarity matrix.\n",
            "Computing the cosine similarity matrix...\n",
            "Done computing similarity matrix.\n",
            "Computing the cosine similarity matrix...\n",
            "Done computing similarity matrix.\n",
            "Computing the cosine similarity matrix...\n",
            "Done computing similarity matrix.\n",
            "Computing the cosine similarity matrix...\n",
            "Done computing similarity matrix.\n"
          ],
          "name": "stdout"
        },
        {
          "output_type": "display_data",
          "data": {
            "text/markdown": "#### Results:",
            "text/plain": [
              "<IPython.core.display.Markdown object>"
            ]
          },
          "metadata": {
            "tags": []
          }
        },
        {
          "output_type": "stream",
          "text": [
            "RMSE:  0.9658189791740617 MAE:  0.7449374083793476 MSE:  0.9328474221521894\n"
          ],
          "name": "stdout"
        },
        {
          "output_type": "display_data",
          "data": {
            "text/markdown": "#### Running 'KNNBasic' algo (user based=False) 'cosine' similarity",
            "text/plain": [
              "<IPython.core.display.Markdown object>"
            ]
          },
          "metadata": {
            "tags": []
          }
        },
        {
          "output_type": "stream",
          "text": [
            "Computing the cosine similarity matrix...\n",
            "Done computing similarity matrix.\n",
            "Computing the cosine similarity matrix...\n",
            "Done computing similarity matrix.\n",
            "Computing the cosine similarity matrix...\n",
            "Done computing similarity matrix.\n",
            "Computing the cosine similarity matrix...\n",
            "Done computing similarity matrix.\n",
            "Computing the cosine similarity matrix...\n",
            "Done computing similarity matrix.\n"
          ],
          "name": "stdout"
        },
        {
          "output_type": "display_data",
          "data": {
            "text/markdown": "#### Results:",
            "text/plain": [
              "<IPython.core.display.Markdown object>"
            ]
          },
          "metadata": {
            "tags": []
          }
        },
        {
          "output_type": "stream",
          "text": [
            "RMSE:  0.9724406576850271 MAE:  0.7530121328023975 MSE:  0.9459737980701538\n"
          ],
          "name": "stdout"
        },
        {
          "output_type": "display_data",
          "data": {
            "text/markdown": "#### Running 'KNNBasic' algo (user based=True) 'msd' similarity",
            "text/plain": [
              "<IPython.core.display.Markdown object>"
            ]
          },
          "metadata": {
            "tags": []
          }
        },
        {
          "output_type": "stream",
          "text": [
            "Computing the msd similarity matrix...\n",
            "Done computing similarity matrix.\n",
            "Computing the msd similarity matrix...\n",
            "Done computing similarity matrix.\n",
            "Computing the msd similarity matrix...\n",
            "Done computing similarity matrix.\n",
            "Computing the msd similarity matrix...\n",
            "Done computing similarity matrix.\n",
            "Computing the msd similarity matrix...\n",
            "Done computing similarity matrix.\n"
          ],
          "name": "stdout"
        },
        {
          "output_type": "display_data",
          "data": {
            "text/markdown": "#### Results:",
            "text/plain": [
              "<IPython.core.display.Markdown object>"
            ]
          },
          "metadata": {
            "tags": []
          }
        },
        {
          "output_type": "stream",
          "text": [
            "RMSE:  0.9425527625569238 MAE:  0.724565805704881 MSE:  0.8884528358436048\n"
          ],
          "name": "stdout"
        },
        {
          "output_type": "display_data",
          "data": {
            "text/markdown": "#### Running 'KNNBasic' algo (user based=False) 'msd' similarity",
            "text/plain": [
              "<IPython.core.display.Markdown object>"
            ]
          },
          "metadata": {
            "tags": []
          }
        },
        {
          "output_type": "stream",
          "text": [
            "Computing the msd similarity matrix...\n",
            "Done computing similarity matrix.\n",
            "Computing the msd similarity matrix...\n",
            "Done computing similarity matrix.\n",
            "Computing the msd similarity matrix...\n",
            "Done computing similarity matrix.\n",
            "Computing the msd similarity matrix...\n",
            "Done computing similarity matrix.\n",
            "Computing the msd similarity matrix...\n",
            "Done computing similarity matrix.\n"
          ],
          "name": "stdout"
        },
        {
          "output_type": "display_data",
          "data": {
            "text/markdown": "#### Results:",
            "text/plain": [
              "<IPython.core.display.Markdown object>"
            ]
          },
          "metadata": {
            "tags": []
          }
        },
        {
          "output_type": "stream",
          "text": [
            "RMSE:  0.9502422637865091 MAE:  0.7320446038072256 MSE:  0.9031192363751988\n"
          ],
          "name": "stdout"
        },
        {
          "output_type": "display_data",
          "data": {
            "text/markdown": "#### Running 'KNNBasic' algo (user based=True) 'pearson' similarity",
            "text/plain": [
              "<IPython.core.display.Markdown object>"
            ]
          },
          "metadata": {
            "tags": []
          }
        },
        {
          "output_type": "stream",
          "text": [
            "Computing the pearson similarity matrix...\n",
            "Done computing similarity matrix.\n",
            "Computing the pearson similarity matrix...\n",
            "Done computing similarity matrix.\n",
            "Computing the pearson similarity matrix...\n",
            "Done computing similarity matrix.\n",
            "Computing the pearson similarity matrix...\n",
            "Done computing similarity matrix.\n",
            "Computing the pearson similarity matrix...\n",
            "Done computing similarity matrix.\n"
          ],
          "name": "stdout"
        },
        {
          "output_type": "display_data",
          "data": {
            "text/markdown": "#### Results:",
            "text/plain": [
              "<IPython.core.display.Markdown object>"
            ]
          },
          "metadata": {
            "tags": []
          }
        },
        {
          "output_type": "stream",
          "text": [
            "RMSE:  0.9729889461110706 MAE:  0.7555405024553293 MSE:  0.9467570284543292\n"
          ],
          "name": "stdout"
        },
        {
          "output_type": "display_data",
          "data": {
            "text/markdown": "#### Running 'KNNBasic' algo (user based=False) 'pearson' similarity",
            "text/plain": [
              "<IPython.core.display.Markdown object>"
            ]
          },
          "metadata": {
            "tags": []
          }
        },
        {
          "output_type": "stream",
          "text": [
            "Computing the pearson similarity matrix...\n",
            "Done computing similarity matrix.\n",
            "Computing the pearson similarity matrix...\n",
            "Done computing similarity matrix.\n",
            "Computing the pearson similarity matrix...\n",
            "Done computing similarity matrix.\n",
            "Computing the pearson similarity matrix...\n",
            "Done computing similarity matrix.\n",
            "Computing the pearson similarity matrix...\n",
            "Done computing similarity matrix.\n"
          ],
          "name": "stdout"
        },
        {
          "output_type": "display_data",
          "data": {
            "text/markdown": "#### Results:",
            "text/plain": [
              "<IPython.core.display.Markdown object>"
            ]
          },
          "metadata": {
            "tags": []
          }
        },
        {
          "output_type": "stream",
          "text": [
            "RMSE:  0.9821537047791814 MAE:  0.7621057579244946 MSE:  0.964687115124671\n"
          ],
          "name": "stdout"
        },
        {
          "output_type": "display_data",
          "data": {
            "text/markdown": "#### Running 'KNNBasic' algo (user based=True) 'pearson_baseline' similarity",
            "text/plain": [
              "<IPython.core.display.Markdown object>"
            ]
          },
          "metadata": {
            "tags": []
          }
        },
        {
          "output_type": "stream",
          "text": [
            "Estimating biases using als...\n",
            "Computing the pearson_baseline similarity matrix...\n",
            "Done computing similarity matrix.\n",
            "Estimating biases using als...\n",
            "Computing the pearson_baseline similarity matrix...\n",
            "Done computing similarity matrix.\n",
            "Estimating biases using als...\n",
            "Computing the pearson_baseline similarity matrix...\n",
            "Done computing similarity matrix.\n",
            "Estimating biases using als...\n",
            "Computing the pearson_baseline similarity matrix...\n",
            "Done computing similarity matrix.\n",
            "Estimating biases using als...\n",
            "Computing the pearson_baseline similarity matrix...\n",
            "Done computing similarity matrix.\n"
          ],
          "name": "stdout"
        },
        {
          "output_type": "display_data",
          "data": {
            "text/markdown": "#### Results:",
            "text/plain": [
              "<IPython.core.display.Markdown object>"
            ]
          },
          "metadata": {
            "tags": []
          }
        },
        {
          "output_type": "stream",
          "text": [
            "RMSE:  0.9607365960633502 MAE:  0.7449063287943292 MSE:  0.9230718900505671\n"
          ],
          "name": "stdout"
        },
        {
          "output_type": "display_data",
          "data": {
            "text/markdown": "#### Running 'KNNBasic' algo (user based=False) 'pearson_baseline' similarity",
            "text/plain": [
              "<IPython.core.display.Markdown object>"
            ]
          },
          "metadata": {
            "tags": []
          }
        },
        {
          "output_type": "stream",
          "text": [
            "Estimating biases using als...\n",
            "Computing the pearson_baseline similarity matrix...\n",
            "Done computing similarity matrix.\n",
            "Estimating biases using als...\n",
            "Computing the pearson_baseline similarity matrix...\n",
            "Done computing similarity matrix.\n",
            "Estimating biases using als...\n",
            "Computing the pearson_baseline similarity matrix...\n",
            "Done computing similarity matrix.\n",
            "Estimating biases using als...\n",
            "Computing the pearson_baseline similarity matrix...\n",
            "Done computing similarity matrix.\n",
            "Estimating biases using als...\n",
            "Computing the pearson_baseline similarity matrix...\n",
            "Done computing similarity matrix.\n"
          ],
          "name": "stdout"
        },
        {
          "output_type": "display_data",
          "data": {
            "text/markdown": "#### Results:",
            "text/plain": [
              "<IPython.core.display.Markdown object>"
            ]
          },
          "metadata": {
            "tags": []
          }
        },
        {
          "output_type": "stream",
          "text": [
            "RMSE:  0.970406900360922 MAE:  0.7480769915936524 MSE:  0.9419742056528356\n"
          ],
          "name": "stdout"
        },
        {
          "output_type": "display_data",
          "data": {
            "text/markdown": "#### Running 'KNNWithMeans' algo (user based=True) 'cosine' similarity",
            "text/plain": [
              "<IPython.core.display.Markdown object>"
            ]
          },
          "metadata": {
            "tags": []
          }
        },
        {
          "output_type": "stream",
          "text": [
            "Computing the cosine similarity matrix...\n",
            "Done computing similarity matrix.\n",
            "Computing the cosine similarity matrix...\n",
            "Done computing similarity matrix.\n",
            "Computing the cosine similarity matrix...\n",
            "Done computing similarity matrix.\n",
            "Computing the cosine similarity matrix...\n",
            "Done computing similarity matrix.\n",
            "Computing the cosine similarity matrix...\n",
            "Done computing similarity matrix.\n"
          ],
          "name": "stdout"
        },
        {
          "output_type": "display_data",
          "data": {
            "text/markdown": "#### Results:",
            "text/plain": [
              "<IPython.core.display.Markdown object>"
            ]
          },
          "metadata": {
            "tags": []
          }
        },
        {
          "output_type": "stream",
          "text": [
            "RMSE:  0.9196033861972787 MAE:  0.7094448064703074 MSE:  0.8458490481477957\n"
          ],
          "name": "stdout"
        },
        {
          "output_type": "display_data",
          "data": {
            "text/markdown": "#### Running 'KNNWithMeans' algo (user based=False) 'cosine' similarity",
            "text/plain": [
              "<IPython.core.display.Markdown object>"
            ]
          },
          "metadata": {
            "tags": []
          }
        },
        {
          "output_type": "stream",
          "text": [
            "Computing the cosine similarity matrix...\n",
            "Done computing similarity matrix.\n",
            "Computing the cosine similarity matrix...\n",
            "Done computing similarity matrix.\n",
            "Computing the cosine similarity matrix...\n",
            "Done computing similarity matrix.\n",
            "Computing the cosine similarity matrix...\n",
            "Done computing similarity matrix.\n",
            "Computing the cosine similarity matrix...\n",
            "Done computing similarity matrix.\n"
          ],
          "name": "stdout"
        },
        {
          "output_type": "display_data",
          "data": {
            "text/markdown": "#### Results:",
            "text/plain": [
              "<IPython.core.display.Markdown object>"
            ]
          },
          "metadata": {
            "tags": []
          }
        },
        {
          "output_type": "stream",
          "text": [
            "RMSE:  0.910833916162361 MAE:  0.7007411137280243 MSE:  0.8297156627088554\n"
          ],
          "name": "stdout"
        },
        {
          "output_type": "display_data",
          "data": {
            "text/markdown": "#### Running 'KNNWithMeans' algo (user based=True) 'msd' similarity",
            "text/plain": [
              "<IPython.core.display.Markdown object>"
            ]
          },
          "metadata": {
            "tags": []
          }
        },
        {
          "output_type": "stream",
          "text": [
            "Computing the msd similarity matrix...\n",
            "Done computing similarity matrix.\n",
            "Computing the msd similarity matrix...\n",
            "Done computing similarity matrix.\n",
            "Computing the msd similarity matrix...\n",
            "Done computing similarity matrix.\n",
            "Computing the msd similarity matrix...\n",
            "Done computing similarity matrix.\n",
            "Computing the msd similarity matrix...\n",
            "Done computing similarity matrix.\n"
          ],
          "name": "stdout"
        },
        {
          "output_type": "display_data",
          "data": {
            "text/markdown": "#### Results:",
            "text/plain": [
              "<IPython.core.display.Markdown object>"
            ]
          },
          "metadata": {
            "tags": []
          }
        },
        {
          "output_type": "stream",
          "text": [
            "RMSE:  0.9169188233494656 MAE:  0.7062287502295772 MSE:  0.8408790878012296\n"
          ],
          "name": "stdout"
        },
        {
          "output_type": "display_data",
          "data": {
            "text/markdown": "#### Running 'KNNWithMeans' algo (user based=False) 'msd' similarity",
            "text/plain": [
              "<IPython.core.display.Markdown object>"
            ]
          },
          "metadata": {
            "tags": []
          }
        },
        {
          "output_type": "stream",
          "text": [
            "Computing the msd similarity matrix...\n",
            "Done computing similarity matrix.\n",
            "Computing the msd similarity matrix...\n",
            "Done computing similarity matrix.\n",
            "Computing the msd similarity matrix...\n",
            "Done computing similarity matrix.\n",
            "Computing the msd similarity matrix...\n",
            "Done computing similarity matrix.\n",
            "Computing the msd similarity matrix...\n",
            "Done computing similarity matrix.\n"
          ],
          "name": "stdout"
        },
        {
          "output_type": "display_data",
          "data": {
            "text/markdown": "#### Results:",
            "text/plain": [
              "<IPython.core.display.Markdown object>"
            ]
          },
          "metadata": {
            "tags": []
          }
        },
        {
          "output_type": "stream",
          "text": [
            "RMSE:  0.9050026301957768 MAE:  0.6948317306397798 MSE:  0.8191346813287781\n"
          ],
          "name": "stdout"
        },
        {
          "output_type": "display_data",
          "data": {
            "text/markdown": "#### Running 'KNNWithMeans' algo (user based=True) 'pearson' similarity",
            "text/plain": [
              "<IPython.core.display.Markdown object>"
            ]
          },
          "metadata": {
            "tags": []
          }
        },
        {
          "output_type": "stream",
          "text": [
            "Computing the pearson similarity matrix...\n",
            "Done computing similarity matrix.\n",
            "Computing the pearson similarity matrix...\n",
            "Done computing similarity matrix.\n",
            "Computing the pearson similarity matrix...\n",
            "Done computing similarity matrix.\n",
            "Computing the pearson similarity matrix...\n",
            "Done computing similarity matrix.\n",
            "Computing the pearson similarity matrix...\n",
            "Done computing similarity matrix.\n"
          ],
          "name": "stdout"
        },
        {
          "output_type": "display_data",
          "data": {
            "text/markdown": "#### Results:",
            "text/plain": [
              "<IPython.core.display.Markdown object>"
            ]
          },
          "metadata": {
            "tags": []
          }
        },
        {
          "output_type": "stream",
          "text": [
            "RMSE:  0.9290834265644017 MAE:  0.709228925463565 MSE:  0.8633262152175629\n"
          ],
          "name": "stdout"
        },
        {
          "output_type": "display_data",
          "data": {
            "text/markdown": "#### Running 'KNNWithMeans' algo (user based=False) 'pearson' similarity",
            "text/plain": [
              "<IPython.core.display.Markdown object>"
            ]
          },
          "metadata": {
            "tags": []
          }
        },
        {
          "output_type": "stream",
          "text": [
            "Computing the pearson similarity matrix...\n",
            "Done computing similarity matrix.\n",
            "Computing the pearson similarity matrix...\n",
            "Done computing similarity matrix.\n",
            "Computing the pearson similarity matrix...\n",
            "Done computing similarity matrix.\n",
            "Computing the pearson similarity matrix...\n",
            "Done computing similarity matrix.\n",
            "Computing the pearson similarity matrix...\n",
            "Done computing similarity matrix.\n"
          ],
          "name": "stdout"
        },
        {
          "output_type": "display_data",
          "data": {
            "text/markdown": "#### Results:",
            "text/plain": [
              "<IPython.core.display.Markdown object>"
            ]
          },
          "metadata": {
            "tags": []
          }
        },
        {
          "output_type": "stream",
          "text": [
            "RMSE:  0.9242276989582328 MAE:  0.7081640468389276 MSE:  0.8544762566084646\n"
          ],
          "name": "stdout"
        },
        {
          "output_type": "display_data",
          "data": {
            "text/markdown": "#### Running 'KNNWithMeans' algo (user based=True) 'pearson_baseline' similarity",
            "text/plain": [
              "<IPython.core.display.Markdown object>"
            ]
          },
          "metadata": {
            "tags": []
          }
        },
        {
          "output_type": "stream",
          "text": [
            "Estimating biases using als...\n",
            "Computing the pearson_baseline similarity matrix...\n",
            "Done computing similarity matrix.\n",
            "Estimating biases using als...\n",
            "Computing the pearson_baseline similarity matrix...\n",
            "Done computing similarity matrix.\n",
            "Estimating biases using als...\n",
            "Computing the pearson_baseline similarity matrix...\n",
            "Done computing similarity matrix.\n",
            "Estimating biases using als...\n",
            "Computing the pearson_baseline similarity matrix...\n",
            "Done computing similarity matrix.\n",
            "Estimating biases using als...\n",
            "Computing the pearson_baseline similarity matrix...\n",
            "Done computing similarity matrix.\n"
          ],
          "name": "stdout"
        },
        {
          "output_type": "display_data",
          "data": {
            "text/markdown": "#### Results:",
            "text/plain": [
              "<IPython.core.display.Markdown object>"
            ]
          },
          "metadata": {
            "tags": []
          }
        },
        {
          "output_type": "stream",
          "text": [
            "RMSE:  0.9231773202558939 MAE:  0.703836754046887 MSE:  0.8524864904609484\n"
          ],
          "name": "stdout"
        },
        {
          "output_type": "display_data",
          "data": {
            "text/markdown": "#### Running 'KNNWithMeans' algo (user based=False) 'pearson_baseline' similarity",
            "text/plain": [
              "<IPython.core.display.Markdown object>"
            ]
          },
          "metadata": {
            "tags": []
          }
        },
        {
          "output_type": "stream",
          "text": [
            "Estimating biases using als...\n",
            "Computing the pearson_baseline similarity matrix...\n",
            "Done computing similarity matrix.\n",
            "Estimating biases using als...\n",
            "Computing the pearson_baseline similarity matrix...\n",
            "Done computing similarity matrix.\n",
            "Estimating biases using als...\n",
            "Computing the pearson_baseline similarity matrix...\n",
            "Done computing similarity matrix.\n",
            "Estimating biases using als...\n",
            "Computing the pearson_baseline similarity matrix...\n",
            "Done computing similarity matrix.\n",
            "Estimating biases using als...\n",
            "Computing the pearson_baseline similarity matrix...\n",
            "Done computing similarity matrix.\n"
          ],
          "name": "stdout"
        },
        {
          "output_type": "display_data",
          "data": {
            "text/markdown": "#### Results:",
            "text/plain": [
              "<IPython.core.display.Markdown object>"
            ]
          },
          "metadata": {
            "tags": []
          }
        },
        {
          "output_type": "stream",
          "text": [
            "RMSE:  0.9250722859559529 MAE:  0.7096979431769541 MSE:  0.855848441430507\n"
          ],
          "name": "stdout"
        },
        {
          "output_type": "display_data",
          "data": {
            "text/markdown": "#### Running 'KNNWithZScore' algo (user based=True) 'cosine' similarity",
            "text/plain": [
              "<IPython.core.display.Markdown object>"
            ]
          },
          "metadata": {
            "tags": []
          }
        },
        {
          "output_type": "stream",
          "text": [
            "Computing the cosine similarity matrix...\n",
            "Done computing similarity matrix.\n",
            "Computing the cosine similarity matrix...\n",
            "Done computing similarity matrix.\n",
            "Computing the cosine similarity matrix...\n",
            "Done computing similarity matrix.\n",
            "Computing the cosine similarity matrix...\n",
            "Done computing similarity matrix.\n",
            "Computing the cosine similarity matrix...\n",
            "Done computing similarity matrix.\n"
          ],
          "name": "stdout"
        },
        {
          "output_type": "display_data",
          "data": {
            "text/markdown": "#### Results:",
            "text/plain": [
              "<IPython.core.display.Markdown object>"
            ]
          },
          "metadata": {
            "tags": []
          }
        },
        {
          "output_type": "stream",
          "text": [
            "RMSE:  0.9219727607286561 MAE:  0.7056235324869007 MSE:  0.8501892505044154\n"
          ],
          "name": "stdout"
        },
        {
          "output_type": "display_data",
          "data": {
            "text/markdown": "#### Running 'KNNWithZScore' algo (user based=False) 'cosine' similarity",
            "text/plain": [
              "<IPython.core.display.Markdown object>"
            ]
          },
          "metadata": {
            "tags": []
          }
        },
        {
          "output_type": "stream",
          "text": [
            "Computing the cosine similarity matrix...\n",
            "Done computing similarity matrix.\n",
            "Computing the cosine similarity matrix...\n",
            "Done computing similarity matrix.\n",
            "Computing the cosine similarity matrix...\n",
            "Done computing similarity matrix.\n",
            "Computing the cosine similarity matrix...\n",
            "Done computing similarity matrix.\n",
            "Computing the cosine similarity matrix...\n",
            "Done computing similarity matrix.\n"
          ],
          "name": "stdout"
        },
        {
          "output_type": "display_data",
          "data": {
            "text/markdown": "#### Results:",
            "text/plain": [
              "<IPython.core.display.Markdown object>"
            ]
          },
          "metadata": {
            "tags": []
          }
        },
        {
          "output_type": "stream",
          "text": [
            "RMSE:  0.9152903515336404 MAE:  0.7023030682667695 MSE:  0.8378055302564318\n"
          ],
          "name": "stdout"
        },
        {
          "output_type": "display_data",
          "data": {
            "text/markdown": "#### Running 'KNNWithZScore' algo (user based=True) 'msd' similarity",
            "text/plain": [
              "<IPython.core.display.Markdown object>"
            ]
          },
          "metadata": {
            "tags": []
          }
        },
        {
          "output_type": "stream",
          "text": [
            "Computing the msd similarity matrix...\n",
            "Done computing similarity matrix.\n",
            "Computing the msd similarity matrix...\n",
            "Done computing similarity matrix.\n",
            "Computing the msd similarity matrix...\n",
            "Done computing similarity matrix.\n",
            "Computing the msd similarity matrix...\n",
            "Done computing similarity matrix.\n",
            "Computing the msd similarity matrix...\n",
            "Done computing similarity matrix.\n"
          ],
          "name": "stdout"
        },
        {
          "output_type": "display_data",
          "data": {
            "text/markdown": "#### Results:",
            "text/plain": [
              "<IPython.core.display.Markdown object>"
            ]
          },
          "metadata": {
            "tags": []
          }
        },
        {
          "output_type": "stream",
          "text": [
            "RMSE:  0.9210026708485021 MAE:  0.7064289845049017 MSE:  0.8483435107635253\n"
          ],
          "name": "stdout"
        },
        {
          "output_type": "display_data",
          "data": {
            "text/markdown": "#### Running 'KNNWithZScore' algo (user based=False) 'msd' similarity",
            "text/plain": [
              "<IPython.core.display.Markdown object>"
            ]
          },
          "metadata": {
            "tags": []
          }
        },
        {
          "output_type": "stream",
          "text": [
            "Computing the msd similarity matrix...\n",
            "Done computing similarity matrix.\n",
            "Computing the msd similarity matrix...\n",
            "Done computing similarity matrix.\n",
            "Computing the msd similarity matrix...\n",
            "Done computing similarity matrix.\n",
            "Computing the msd similarity matrix...\n",
            "Done computing similarity matrix.\n",
            "Computing the msd similarity matrix...\n",
            "Done computing similarity matrix.\n"
          ],
          "name": "stdout"
        },
        {
          "output_type": "display_data",
          "data": {
            "text/markdown": "#### Results:",
            "text/plain": [
              "<IPython.core.display.Markdown object>"
            ]
          },
          "metadata": {
            "tags": []
          }
        },
        {
          "output_type": "stream",
          "text": [
            "RMSE:  0.912774220759023 MAE:  0.6987529506546996 MSE:  0.8332507614684893\n"
          ],
          "name": "stdout"
        },
        {
          "output_type": "display_data",
          "data": {
            "text/markdown": "#### Running 'KNNWithZScore' algo (user based=True) 'pearson' similarity",
            "text/plain": [
              "<IPython.core.display.Markdown object>"
            ]
          },
          "metadata": {
            "tags": []
          }
        },
        {
          "output_type": "stream",
          "text": [
            "Computing the pearson similarity matrix...\n",
            "Done computing similarity matrix.\n",
            "Computing the pearson similarity matrix...\n",
            "Done computing similarity matrix.\n",
            "Computing the pearson similarity matrix...\n",
            "Done computing similarity matrix.\n",
            "Computing the pearson similarity matrix...\n",
            "Done computing similarity matrix.\n",
            "Computing the pearson similarity matrix...\n",
            "Done computing similarity matrix.\n"
          ],
          "name": "stdout"
        },
        {
          "output_type": "display_data",
          "data": {
            "text/markdown": "#### Results:",
            "text/plain": [
              "<IPython.core.display.Markdown object>"
            ]
          },
          "metadata": {
            "tags": []
          }
        },
        {
          "output_type": "stream",
          "text": [
            "RMSE:  0.9251560102036211 MAE:  0.705872356170387 MSE:  0.8562826661970421\n"
          ],
          "name": "stdout"
        },
        {
          "output_type": "display_data",
          "data": {
            "text/markdown": "#### Running 'KNNWithZScore' algo (user based=False) 'pearson' similarity",
            "text/plain": [
              "<IPython.core.display.Markdown object>"
            ]
          },
          "metadata": {
            "tags": []
          }
        },
        {
          "output_type": "stream",
          "text": [
            "Computing the pearson similarity matrix...\n",
            "Done computing similarity matrix.\n",
            "Computing the pearson similarity matrix...\n",
            "Done computing similarity matrix.\n",
            "Computing the pearson similarity matrix...\n",
            "Done computing similarity matrix.\n",
            "Computing the pearson similarity matrix...\n",
            "Done computing similarity matrix.\n",
            "Computing the pearson similarity matrix...\n",
            "Done computing similarity matrix.\n"
          ],
          "name": "stdout"
        },
        {
          "output_type": "display_data",
          "data": {
            "text/markdown": "#### Results:",
            "text/plain": [
              "<IPython.core.display.Markdown object>"
            ]
          },
          "metadata": {
            "tags": []
          }
        },
        {
          "output_type": "stream",
          "text": [
            "RMSE:  0.9257984791688971 MAE:  0.7080565653723132 MSE:  0.8573008914127911\n"
          ],
          "name": "stdout"
        },
        {
          "output_type": "display_data",
          "data": {
            "text/markdown": "#### Running 'KNNWithZScore' algo (user based=True) 'pearson_baseline' similarity",
            "text/plain": [
              "<IPython.core.display.Markdown object>"
            ]
          },
          "metadata": {
            "tags": []
          }
        },
        {
          "output_type": "stream",
          "text": [
            "Estimating biases using als...\n",
            "Computing the pearson_baseline similarity matrix...\n",
            "Done computing similarity matrix.\n",
            "Estimating biases using als...\n",
            "Computing the pearson_baseline similarity matrix...\n",
            "Done computing similarity matrix.\n",
            "Estimating biases using als...\n",
            "Computing the pearson_baseline similarity matrix...\n",
            "Done computing similarity matrix.\n",
            "Estimating biases using als...\n",
            "Computing the pearson_baseline similarity matrix...\n",
            "Done computing similarity matrix.\n",
            "Estimating biases using als...\n",
            "Computing the pearson_baseline similarity matrix...\n",
            "Done computing similarity matrix.\n"
          ],
          "name": "stdout"
        },
        {
          "output_type": "display_data",
          "data": {
            "text/markdown": "#### Results:",
            "text/plain": [
              "<IPython.core.display.Markdown object>"
            ]
          },
          "metadata": {
            "tags": []
          }
        },
        {
          "output_type": "stream",
          "text": [
            "RMSE:  0.9256600435850659 MAE:  0.7006135319339135 MSE:  0.8569095916497049\n"
          ],
          "name": "stdout"
        },
        {
          "output_type": "display_data",
          "data": {
            "text/markdown": "#### Running 'KNNWithZScore' algo (user based=False) 'pearson_baseline' similarity",
            "text/plain": [
              "<IPython.core.display.Markdown object>"
            ]
          },
          "metadata": {
            "tags": []
          }
        },
        {
          "output_type": "stream",
          "text": [
            "Estimating biases using als...\n",
            "Computing the pearson_baseline similarity matrix...\n",
            "Done computing similarity matrix.\n",
            "Estimating biases using als...\n",
            "Computing the pearson_baseline similarity matrix...\n",
            "Done computing similarity matrix.\n",
            "Estimating biases using als...\n",
            "Computing the pearson_baseline similarity matrix...\n",
            "Done computing similarity matrix.\n",
            "Estimating biases using als...\n",
            "Computing the pearson_baseline similarity matrix...\n",
            "Done computing similarity matrix.\n",
            "Estimating biases using als...\n",
            "Computing the pearson_baseline similarity matrix...\n",
            "Done computing similarity matrix.\n"
          ],
          "name": "stdout"
        },
        {
          "output_type": "display_data",
          "data": {
            "text/markdown": "#### Results:",
            "text/plain": [
              "<IPython.core.display.Markdown object>"
            ]
          },
          "metadata": {
            "tags": []
          }
        },
        {
          "output_type": "stream",
          "text": [
            "RMSE:  0.9232682242733412 MAE:  0.7056662525315129 MSE:  0.8524751744546595\n"
          ],
          "name": "stdout"
        },
        {
          "output_type": "display_data",
          "data": {
            "text/markdown": "#### Running 'KNNBaseline' algo (user based=True) 'cosine' similarity",
            "text/plain": [
              "<IPython.core.display.Markdown object>"
            ]
          },
          "metadata": {
            "tags": []
          }
        },
        {
          "output_type": "stream",
          "text": [
            "Estimating biases using als...\n",
            "Computing the cosine similarity matrix...\n",
            "Done computing similarity matrix.\n",
            "Estimating biases using als...\n",
            "Computing the cosine similarity matrix...\n",
            "Done computing similarity matrix.\n",
            "Estimating biases using als...\n",
            "Computing the cosine similarity matrix...\n",
            "Done computing similarity matrix.\n",
            "Estimating biases using als...\n",
            "Computing the cosine similarity matrix...\n",
            "Done computing similarity matrix.\n",
            "Estimating biases using als...\n",
            "Computing the cosine similarity matrix...\n",
            "Done computing similarity matrix.\n"
          ],
          "name": "stdout"
        },
        {
          "output_type": "display_data",
          "data": {
            "text/markdown": "#### Results:",
            "text/plain": [
              "<IPython.core.display.Markdown object>"
            ]
          },
          "metadata": {
            "tags": []
          }
        },
        {
          "output_type": "stream",
          "text": [
            "RMSE:  0.8943736790121198 MAE:  0.6883059687238102 MSE:  0.7999983115715468\n"
          ],
          "name": "stdout"
        },
        {
          "output_type": "display_data",
          "data": {
            "text/markdown": "#### Running 'KNNBaseline' algo (user based=False) 'cosine' similarity",
            "text/plain": [
              "<IPython.core.display.Markdown object>"
            ]
          },
          "metadata": {
            "tags": []
          }
        },
        {
          "output_type": "stream",
          "text": [
            "Estimating biases using als...\n",
            "Computing the cosine similarity matrix...\n",
            "Done computing similarity matrix.\n",
            "Estimating biases using als...\n",
            "Computing the cosine similarity matrix...\n",
            "Done computing similarity matrix.\n",
            "Estimating biases using als...\n",
            "Computing the cosine similarity matrix...\n",
            "Done computing similarity matrix.\n",
            "Estimating biases using als...\n",
            "Computing the cosine similarity matrix...\n",
            "Done computing similarity matrix.\n",
            "Estimating biases using als...\n",
            "Computing the cosine similarity matrix...\n",
            "Done computing similarity matrix.\n"
          ],
          "name": "stdout"
        },
        {
          "output_type": "display_data",
          "data": {
            "text/markdown": "#### Results:",
            "text/plain": [
              "<IPython.core.display.Markdown object>"
            ]
          },
          "metadata": {
            "tags": []
          }
        },
        {
          "output_type": "stream",
          "text": [
            "RMSE:  0.9002812993545468 MAE:  0.6931943364626592 MSE:  0.8107505720265535\n"
          ],
          "name": "stdout"
        },
        {
          "output_type": "display_data",
          "data": {
            "text/markdown": "#### Running 'KNNBaseline' algo (user based=True) 'msd' similarity",
            "text/plain": [
              "<IPython.core.display.Markdown object>"
            ]
          },
          "metadata": {
            "tags": []
          }
        },
        {
          "output_type": "stream",
          "text": [
            "Estimating biases using als...\n",
            "Computing the msd similarity matrix...\n",
            "Done computing similarity matrix.\n",
            "Estimating biases using als...\n",
            "Computing the msd similarity matrix...\n",
            "Done computing similarity matrix.\n",
            "Estimating biases using als...\n",
            "Computing the msd similarity matrix...\n",
            "Done computing similarity matrix.\n",
            "Estimating biases using als...\n",
            "Computing the msd similarity matrix...\n",
            "Done computing similarity matrix.\n",
            "Estimating biases using als...\n",
            "Computing the msd similarity matrix...\n",
            "Done computing similarity matrix.\n"
          ],
          "name": "stdout"
        },
        {
          "output_type": "display_data",
          "data": {
            "text/markdown": "#### Results:",
            "text/plain": [
              "<IPython.core.display.Markdown object>"
            ]
          },
          "metadata": {
            "tags": []
          }
        },
        {
          "output_type": "stream",
          "text": [
            "RMSE:  0.8917833672255258 MAE:  0.684863813807837 MSE:  0.7954554952850247\n"
          ],
          "name": "stdout"
        },
        {
          "output_type": "display_data",
          "data": {
            "text/markdown": "#### Running 'KNNBaseline' algo (user based=False) 'msd' similarity",
            "text/plain": [
              "<IPython.core.display.Markdown object>"
            ]
          },
          "metadata": {
            "tags": []
          }
        },
        {
          "output_type": "stream",
          "text": [
            "Estimating biases using als...\n",
            "Computing the msd similarity matrix...\n",
            "Done computing similarity matrix.\n",
            "Estimating biases using als...\n",
            "Computing the msd similarity matrix...\n",
            "Done computing similarity matrix.\n",
            "Estimating biases using als...\n",
            "Computing the msd similarity matrix...\n",
            "Done computing similarity matrix.\n",
            "Estimating biases using als...\n",
            "Computing the msd similarity matrix...\n",
            "Done computing similarity matrix.\n",
            "Estimating biases using als...\n",
            "Computing the msd similarity matrix...\n",
            "Done computing similarity matrix.\n"
          ],
          "name": "stdout"
        },
        {
          "output_type": "display_data",
          "data": {
            "text/markdown": "#### Results:",
            "text/plain": [
              "<IPython.core.display.Markdown object>"
            ]
          },
          "metadata": {
            "tags": []
          }
        },
        {
          "output_type": "stream",
          "text": [
            "RMSE:  0.8931571561786653 MAE:  0.6845424885269991 MSE:  0.797757389109743\n"
          ],
          "name": "stdout"
        },
        {
          "output_type": "display_data",
          "data": {
            "text/markdown": "#### Running 'KNNBaseline' algo (user based=True) 'pearson' similarity",
            "text/plain": [
              "<IPython.core.display.Markdown object>"
            ]
          },
          "metadata": {
            "tags": []
          }
        },
        {
          "output_type": "stream",
          "text": [
            "Estimating biases using als...\n",
            "Computing the pearson similarity matrix...\n",
            "Done computing similarity matrix.\n",
            "Estimating biases using als...\n",
            "Computing the pearson similarity matrix...\n",
            "Done computing similarity matrix.\n",
            "Estimating biases using als...\n",
            "Computing the pearson similarity matrix...\n",
            "Done computing similarity matrix.\n",
            "Estimating biases using als...\n",
            "Computing the pearson similarity matrix...\n",
            "Done computing similarity matrix.\n",
            "Estimating biases using als...\n",
            "Computing the pearson similarity matrix...\n",
            "Done computing similarity matrix.\n"
          ],
          "name": "stdout"
        },
        {
          "output_type": "display_data",
          "data": {
            "text/markdown": "#### Results:",
            "text/plain": [
              "<IPython.core.display.Markdown object>"
            ]
          },
          "metadata": {
            "tags": []
          }
        },
        {
          "output_type": "stream",
          "text": [
            "RMSE:  0.9013626812612182 MAE:  0.6933877661714771 MSE:  0.8125132576896819\n"
          ],
          "name": "stdout"
        },
        {
          "output_type": "display_data",
          "data": {
            "text/markdown": "#### Running 'KNNBaseline' algo (user based=False) 'pearson' similarity",
            "text/plain": [
              "<IPython.core.display.Markdown object>"
            ]
          },
          "metadata": {
            "tags": []
          }
        },
        {
          "output_type": "stream",
          "text": [
            "Estimating biases using als...\n",
            "Computing the pearson similarity matrix...\n",
            "Done computing similarity matrix.\n",
            "Estimating biases using als...\n",
            "Computing the pearson similarity matrix...\n",
            "Done computing similarity matrix.\n",
            "Estimating biases using als...\n",
            "Computing the pearson similarity matrix...\n",
            "Done computing similarity matrix.\n",
            "Estimating biases using als...\n",
            "Computing the pearson similarity matrix...\n",
            "Done computing similarity matrix.\n",
            "Estimating biases using als...\n",
            "Computing the pearson similarity matrix...\n",
            "Done computing similarity matrix.\n"
          ],
          "name": "stdout"
        },
        {
          "output_type": "display_data",
          "data": {
            "text/markdown": "#### Results:",
            "text/plain": [
              "<IPython.core.display.Markdown object>"
            ]
          },
          "metadata": {
            "tags": []
          }
        },
        {
          "output_type": "stream",
          "text": [
            "RMSE:  0.9016170132384544 MAE:  0.6932725487344364 MSE:  0.8131346863329915\n"
          ],
          "name": "stdout"
        },
        {
          "output_type": "display_data",
          "data": {
            "text/markdown": "#### Running 'KNNBaseline' algo (user based=True) 'pearson_baseline' similarity",
            "text/plain": [
              "<IPython.core.display.Markdown object>"
            ]
          },
          "metadata": {
            "tags": []
          }
        },
        {
          "output_type": "stream",
          "text": [
            "Estimating biases using als...\n",
            "Computing the pearson_baseline similarity matrix...\n",
            "Done computing similarity matrix.\n",
            "Estimating biases using als...\n",
            "Computing the pearson_baseline similarity matrix...\n",
            "Done computing similarity matrix.\n",
            "Estimating biases using als...\n",
            "Computing the pearson_baseline similarity matrix...\n",
            "Done computing similarity matrix.\n",
            "Estimating biases using als...\n",
            "Computing the pearson_baseline similarity matrix...\n",
            "Done computing similarity matrix.\n",
            "Estimating biases using als...\n",
            "Computing the pearson_baseline similarity matrix...\n",
            "Done computing similarity matrix.\n"
          ],
          "name": "stdout"
        },
        {
          "output_type": "display_data",
          "data": {
            "text/markdown": "#### Results:",
            "text/plain": [
              "<IPython.core.display.Markdown object>"
            ]
          },
          "metadata": {
            "tags": []
          }
        },
        {
          "output_type": "stream",
          "text": [
            "RMSE:  0.8932172950050787 MAE:  0.6865872124600345 MSE:  0.7980038160250855\n"
          ],
          "name": "stdout"
        },
        {
          "output_type": "display_data",
          "data": {
            "text/markdown": "#### Running 'KNNBaseline' algo (user based=False) 'pearson_baseline' similarity",
            "text/plain": [
              "<IPython.core.display.Markdown object>"
            ]
          },
          "metadata": {
            "tags": []
          }
        },
        {
          "output_type": "stream",
          "text": [
            "Estimating biases using als...\n",
            "Computing the pearson_baseline similarity matrix...\n",
            "Done computing similarity matrix.\n",
            "Estimating biases using als...\n",
            "Computing the pearson_baseline similarity matrix...\n",
            "Done computing similarity matrix.\n",
            "Estimating biases using als...\n",
            "Computing the pearson_baseline similarity matrix...\n",
            "Done computing similarity matrix.\n",
            "Estimating biases using als...\n",
            "Computing the pearson_baseline similarity matrix...\n",
            "Done computing similarity matrix.\n",
            "Estimating biases using als...\n",
            "Computing the pearson_baseline similarity matrix...\n",
            "Done computing similarity matrix.\n"
          ],
          "name": "stdout"
        },
        {
          "output_type": "display_data",
          "data": {
            "text/markdown": "#### Results:",
            "text/plain": [
              "<IPython.core.display.Markdown object>"
            ]
          },
          "metadata": {
            "tags": []
          }
        },
        {
          "output_type": "stream",
          "text": [
            "RMSE:  0.8984952447060446 MAE:  0.6878728580988007 MSE:  0.8073658718013734\n"
          ],
          "name": "stdout"
        }
      ]
    },
    {
      "cell_type": "code",
      "metadata": {
        "id": "yq2fy82l0yL9",
        "outputId": "aa50e040-9b10-4c86-d907-60995a1971d9",
        "colab": {
          "base_uri": "https://localhost:8080/",
          "height": 173
        }
      },
      "source": [
        "userBasedOp"
      ],
      "execution_count": 80,
      "outputs": [
        {
          "output_type": "execute_result",
          "data": {
            "text/html": [
              "<div>\n",
              "<style scoped>\n",
              "    .dataframe tbody tr th:only-of-type {\n",
              "        vertical-align: middle;\n",
              "    }\n",
              "\n",
              "    .dataframe tbody tr th {\n",
              "        vertical-align: top;\n",
              "    }\n",
              "\n",
              "    .dataframe thead th {\n",
              "        text-align: right;\n",
              "    }\n",
              "</style>\n",
              "<table border=\"1\" class=\"dataframe\">\n",
              "  <thead>\n",
              "    <tr style=\"text-align: right;\">\n",
              "      <th></th>\n",
              "      <th>cosine</th>\n",
              "      <th>msd</th>\n",
              "      <th>pearson</th>\n",
              "      <th>pearson_baseline</th>\n",
              "    </tr>\n",
              "  </thead>\n",
              "  <tbody>\n",
              "    <tr>\n",
              "      <th>KNNBasic</th>\n",
              "      <td>0.965819</td>\n",
              "      <td>0.942553</td>\n",
              "      <td>0.972989</td>\n",
              "      <td>0.960737</td>\n",
              "    </tr>\n",
              "    <tr>\n",
              "      <th>KNNWithMeans</th>\n",
              "      <td>0.919603</td>\n",
              "      <td>0.916919</td>\n",
              "      <td>0.929083</td>\n",
              "      <td>0.923177</td>\n",
              "    </tr>\n",
              "    <tr>\n",
              "      <th>KNNWithZScore</th>\n",
              "      <td>0.921973</td>\n",
              "      <td>0.921003</td>\n",
              "      <td>0.925156</td>\n",
              "      <td>0.92566</td>\n",
              "    </tr>\n",
              "    <tr>\n",
              "      <th>KNNBaseline</th>\n",
              "      <td>0.894374</td>\n",
              "      <td>0.891783</td>\n",
              "      <td>0.901363</td>\n",
              "      <td>0.893217</td>\n",
              "    </tr>\n",
              "  </tbody>\n",
              "</table>\n",
              "</div>"
            ],
            "text/plain": [
              "                 cosine       msd   pearson pearson_baseline\n",
              "KNNBasic       0.965819  0.942553  0.972989         0.960737\n",
              "KNNWithMeans   0.919603  0.916919  0.929083         0.923177\n",
              "KNNWithZScore  0.921973  0.921003  0.925156          0.92566\n",
              "KNNBaseline    0.894374  0.891783  0.901363         0.893217"
            ]
          },
          "metadata": {
            "tags": []
          },
          "execution_count": 80
        }
      ]
    },
    {
      "cell_type": "code",
      "metadata": {
        "id": "3AYRkmpY1MXA",
        "outputId": "58fc7d37-3718-4017-cecc-13f589811f61",
        "colab": {
          "base_uri": "https://localhost:8080/",
          "height": 173
        }
      },
      "source": [
        "itemBasedOp"
      ],
      "execution_count": 73,
      "outputs": [
        {
          "output_type": "execute_result",
          "data": {
            "text/html": [
              "<div>\n",
              "<style scoped>\n",
              "    .dataframe tbody tr th:only-of-type {\n",
              "        vertical-align: middle;\n",
              "    }\n",
              "\n",
              "    .dataframe tbody tr th {\n",
              "        vertical-align: top;\n",
              "    }\n",
              "\n",
              "    .dataframe thead th {\n",
              "        text-align: right;\n",
              "    }\n",
              "</style>\n",
              "<table border=\"1\" class=\"dataframe\">\n",
              "  <thead>\n",
              "    <tr style=\"text-align: right;\">\n",
              "      <th></th>\n",
              "      <th>cosine</th>\n",
              "      <th>msd</th>\n",
              "      <th>pearson</th>\n",
              "      <th>pearson_baseline</th>\n",
              "    </tr>\n",
              "  </thead>\n",
              "  <tbody>\n",
              "    <tr>\n",
              "      <th>KNNBasic</th>\n",
              "      <td>0.972441</td>\n",
              "      <td>0.950242</td>\n",
              "      <td>0.982154</td>\n",
              "      <td>0.970407</td>\n",
              "    </tr>\n",
              "    <tr>\n",
              "      <th>KNNWithMeans</th>\n",
              "      <td>0.910834</td>\n",
              "      <td>0.905003</td>\n",
              "      <td>0.924228</td>\n",
              "      <td>0.925072</td>\n",
              "    </tr>\n",
              "    <tr>\n",
              "      <th>KNNWithZScore</th>\n",
              "      <td>0.91529</td>\n",
              "      <td>0.912774</td>\n",
              "      <td>0.925798</td>\n",
              "      <td>0.923268</td>\n",
              "    </tr>\n",
              "    <tr>\n",
              "      <th>KNNBaseline</th>\n",
              "      <td>0.900281</td>\n",
              "      <td>0.893157</td>\n",
              "      <td>0.901617</td>\n",
              "      <td>0.898495</td>\n",
              "    </tr>\n",
              "  </tbody>\n",
              "</table>\n",
              "</div>"
            ],
            "text/plain": [
              "                 cosine       msd   pearson pearson_baseline\n",
              "KNNBasic       0.972441  0.950242  0.982154         0.970407\n",
              "KNNWithMeans   0.910834  0.905003  0.924228         0.925072\n",
              "KNNWithZScore   0.91529  0.912774  0.925798         0.923268\n",
              "KNNBaseline    0.900281  0.893157  0.901617         0.898495"
            ]
          },
          "metadata": {
            "tags": []
          },
          "execution_count": 73
        }
      ]
    },
    {
      "cell_type": "code",
      "metadata": {
        "id": "xJE5oa0z1Mgf",
        "outputId": "b9411b09-68c9-46e7-ac60-33df83cb73b6",
        "colab": {
          "base_uri": "https://localhost:8080/",
          "height": 108
        }
      },
      "source": [
        "# Train model and predicts with train/test data cuts separately.\n",
        "\n",
        "display(Markdown(\"#### Our best RMSE is with 'KNNBaseline', UserBased and 'msd' similarity\"))\n",
        "\n",
        "algo = KNNBaseline(\n",
        "    k=25,\n",
        "    min_k=5,\n",
        "    sim_options={\n",
        "      'name':'msd', 'user_based':True\n",
        "    },\n",
        "    verbose=True\n",
        ")\n",
        "\n",
        "algo.fit(trainset)\n",
        "predictions = algo.test(testset)"
      ],
      "execution_count": 81,
      "outputs": [
        {
          "output_type": "display_data",
          "data": {
            "text/markdown": "#### Our best RMSE is with 'KNNBaseline', UserBased and 'msd' similarity",
            "text/plain": [
              "<IPython.core.display.Markdown object>"
            ]
          },
          "metadata": {
            "tags": []
          }
        },
        {
          "output_type": "stream",
          "text": [
            "Estimating biases using als...\n",
            "Computing the msd similarity matrix...\n",
            "Done computing similarity matrix.\n"
          ],
          "name": "stdout"
        }
      ]
    },
    {
      "cell_type": "code",
      "metadata": {
        "id": "lTQz9VuR1Mjb",
        "outputId": "66491ea4-b927-4802-a00c-116692c5e4af",
        "colab": {
          "base_uri": "https://localhost:8080/"
        }
      },
      "source": [
        "accuracy.rmse(predictions)"
      ],
      "execution_count": 82,
      "outputs": [
        {
          "output_type": "stream",
          "text": [
            "RMSE: 0.8853\n"
          ],
          "name": "stdout"
        },
        {
          "output_type": "execute_result",
          "data": {
            "text/plain": [
              "0.8852887569300382"
            ]
          },
          "metadata": {
            "tags": []
          },
          "execution_count": 82
        }
      ]
    },
    {
      "cell_type": "code",
      "metadata": {
        "id": "Gf74RMVc1MmJ",
        "outputId": "431dd3a6-4788-4dd0-de54-48cc1845a1b0",
        "colab": {
          "base_uri": "https://localhost:8080/"
        }
      },
      "source": [
        "print(testset)"
      ],
      "execution_count": 86,
      "outputs": [
        {
          "output_type": "stream",
          "text": [
            "[(5609, 3471, 4.0), (5948, 4850, 2.5), (6021, 1584, 3.0), (1519, 1036, 4.0), (4158, 356, 4.0), (6625, 6333, 2.5), (4311, 7143, 4.5), (4853, 83803, 5.0), (1055, 6709, 4.0), (5247, 6380, 3.5), (3369, 8376, 4.0), (7398, 1845, 4.5), (5356, 788, 3.0), (5609, 8376, 4.0), (2053, 1527, 4.0), (6783, 80463, 3.0), (3665, 1958, 2.0), (5407, 2064, 4.0), (5196, 165551, 3.0), (4365, 4226, 3.5), (5352, 48, 3.0), (8150, 276, 1.0), (2839, 53972, 4.0), (7364, 4103, 3.5), (111, 3799, 2.0), (1293, 2396, 4.0), (351, 5349, 4.5), (314, 1584, 3.0), (2890, 1304, 4.0), (7603, 802, 3.0), (6030, 2716, 4.0), (609, 442, 4.0), (3842, 1240, 4.0), (5418, 3102, 2.5), (443, 2858, 4.0), (7850, 6365, 4.0), (6884, 193, 3.5), (1028, 5349, 3.0), (2463, 8644, 3.0), (7243, 788, 3.0), (1523, 1240, 2.5), (6681, 3450, 4.0), (1933, 7371, 3.5), (702, 33794, 4.5), (7977, 2488, 3.5), (7724, 84152, 5.0), (717, 70286, 4.5), (1757, 1242, 3.0), (2997, 2858, 3.0), (3450, 1269, 3.0), (1909, 922, 5.0), (1961, 3454, 5.0), (6750, 262, 5.0), (6428, 356, 3.5), (225, 4223, 4.0), (1757, 2095, 3.0), (4605, 65126, 4.0), (6428, 5015, 3.5), (3813, 2701, 2.0), (738, 1193, 4.0), (2997, 3911, 4.0), (5418, 1240, 3.0), (5407, 2858, 4.5), (5319, 1036, 5.0), (2038, 1242, 5.0), (7263, 3548, 4.0), (6839, 1242, 5.0), (4936, 81834, 3.0), (4365, 6885, 2.0), (1523, 3450, 3.5), (6322, 2858, 4.5), (2387, 54997, 4.5), (920, 1240, 2.0), (3665, 1485, 3.5), (7366, 55603, 4.0), (8049, 2967, 5.0), (4027, 4639, 3.0), (8024, 1032, 4.0), (6884, 1079, 3.0), (4702, 61240, 2.5), (6028, 2410, 3.5), (3021, 3614, 4.0), (4731, 63131, 3.0), (5396, 119145, 3.5), (443, 909, 5.0), (5591, 2712, 3.5), (3554, 2297, 4.5), (2060, 3755, 4.0), (2553, 924, 4.0), (300, 802, 2.5), (6762, 608, 0.5), (2521, 364, 3.0), (7551, 3462, 4.0), (797, 33679, 2.5), (8124, 3418, 3.0), (7900, 4226, 3.0), (4395, 6537, 4.0), (4072, 1172, 5.0), (4934, 2858, 5.0), (4376, 4226, 5.0), (3839, 5574, 4.5), (6307, 8949, 5.0), (3839, 68659, 3.0), (3133, 8361, 2.5), (5034, 115617, 4.5), (7263, 3819, 4.0), (5772, 122882, 4.0), (5895, 4223, 4.5), (3066, 1921, 4.0), (39, 1681, 2.0), (8058, 8360, 3.5), (3831, 2419, 4.0), (4731, 3969, 2.5), (1372, 163645, 5.0), (3704, 2338, 3.0), (5574, 1242, 5.0), (8114, 8644, 4.0), (1757, 3076, 3.0), (2452, 1704, 4.5), (942, 91529, 5.0), (807, 8533, 5.0), (4934, 2872, 4.0), (6908, 4226, 5.0), (7900, 33679, 4.0), (1507, 1204, 5.0), (6380, 3168, 3.0), (3307, 1485, 2.0), (1757, 1958, 3.0), (4605, 89260, 3.5), (7693, 2858, 5.0), (5838, 53468, 2.0), (3994, 4289, 4.0), (1570, 3185, 2.5), (5574, 6615, 3.0), (4605, 1587, 0.5), (2905, 3671, 4.0), (4365, 6934, 4.0), (6212, 4080, 3.5), (1933, 92507, 3.0), (1735, 48, 4.0), (505, 4914, 4.0), (4796, 3512, 3.0), (443, 516, 3.0), (6307, 96588, 4.5), (5210, 81932, 4.0), (351, 6333, 4.0), (4573, 1240, 3.5), (4106, 112897, 3.0), (745, 110730, 2.5), (6371, 1304, 4.5), (2745, 4226, 4.0), (3520, 71520, 4.0), (5607, 778, 4.0), (7583, 41569, 2.5), (6628, 778, 3.0), (2452, 4226, 4.5), (1757, 3168, 4.0), (5217, 4103, 3.0), (6377, 3178, 3.0), (5960, 33794, 4.5), (5034, 6537, 3.5), (2729, 3471, 3.0), (386, 1172, 4.0), (5838, 3864, 3.0), (5358, 364, 3.0), (1272, 26172, 3.0), (4702, 6874, 4.0), (4027, 3816, 4.0), (1272, 1036, 4.0), (5574, 6537, 2.5), (5752, 475, 4.0), (6104, 364, 2.0), (4106, 110501, 5.0), (7092, 955, 5.0), (7364, 1193, 4.5), (6000, 1240, 5.0), (5396, 5349, 4.0), (5358, 1293, 4.0), (957, 71823, 4.0), (6285, 459, 1.0), (3307, 356, 4.5), (3117, 236, 3.0), (4796, 3894, 4.5), (1930, 1584, 4.0), (4674, 3623, 3.0), (378, 1240, 4.0), (7366, 5504, 3.0), (856, 955, 3.0), (7473, 60040, 4.0), (867, 364, 2.5), (1927, 1983, 2.0), (8049, 1323, 1.0), (7092, 926, 5.0), (4849, 2712, 2.5), (738, 1527, 5.0), (2475, 5388, 3.0), (2199, 2872, 4.0), (6884, 1342, 3.5), (1933, 60408, 2.5), (111, 2396, 3.0), (3065, 788, 2.0), (6683, 922, 4.0), (920, 3408, 4.0), (5724, 3249, 5.0), (4605, 1704, 3.5), (967, 165, 3.0), (6266, 1240, 3.0), (1570, 924, 4.0), (1120, 3755, 2.0), (920, 4072, 4.0), (5174, 2858, 5.0), (8110, 2288, 4.0), (6681, 5504, 0.5), (2997, 1527, 3.0), (4706, 33794, 4.0), (1453, 1717, 3.0), (3336, 4226, 5.0), (7756, 116797, 4.0), (5838, 8360, 3.0), (3665, 3638, 3.0), (1337, 1172, 5.0), (1911, 8132, 4.5), (4796, 6123, 3.0), (4106, 179333, 1.0), (593, 1135, 4.0), (3305, 1036, 5.0), (4702, 38304, 3.5), (4849, 8644, 2.5), (3515, 2716, 5.0), (4608, 1240, 4.0), (3610, 3623, 2.5), (926, 2312, 5.0), (505, 2924, 4.0), (6859, 1704, 4.0), (2463, 171867, 2.0), (4290, 2600, 3.0), (6104, 1958, 4.0), (1854, 6874, 5.0), (3733, 1717, 3.0), (3729, 119145, 5.0), (4573, 5349, 4.5), (4350, 115617, 4.0), (2463, 4226, 4.0), (73, 61240, 4.5), (4967, 4014, 3.0), (1272, 89470, 3.5), (1931, 48, 2.5), (4455, 48, 3.0), (4431, 778, 4.0), (4027, 3185, 4.0), (965, 2064, 5.0), (1930, 2396, 2.0), (3813, 4359, 3.5), (5330, 2460, 2.0), (3431, 788, 3.0), (1551, 2297, 3.0), (4674, 6709, 3.0), (6407, 3408, 4.0), (995, 1527, 2.5), (1337, 1293, 3.0), (1569, 81834, 0.5), (3081, 788, 3.0), (3268, 364, 3.0), (2087, 6934, 3.5), (4441, 4226, 5.0), (36, 8376, 1.0), (4302, 62374, 3.0), (6884, 59369, 1.5), (1010, 84152, 5.0), (6628, 1172, 4.0), (6028, 356, 4.0), (3983, 8573, 3.5), (1133, 8360, 3.0), (5948, 67923, 3.0), (5217, 4223, 4.0), (4677, 70286, 2.5), (6369, 84152, 5.0), (1028, 104879, 5.0), (6752, 608, 5.0), (6859, 8644, 1.0), (5531, 650, 1.0), (443, 1269, 5.0), (1507, 136562, 3.0), (5838, 120392, 4.0), (942, 116797, 4.0), (1028, 1584, 5.0), (2038, 969, 3.0), (5174, 62049, 3.5), (6683, 1474, 1.0), (3839, 3623, 3.0), (920, 7371, 4.5), (3021, 2842, 3.5), (4451, 33794, 5.0), (2837, 3072, 5.0), (3610, 3471, 3.5), (8003, 4736, 1.0), (4666, 84152, 5.0), (3673, 3654, 4.0), (4311, 3471, 4.0), (4027, 550, 3.5), (6854, 924, 5.0), (7209, 1204, 5.0), (7954, 5784, 1.0), (1854, 8983, 2.5), (1028, 1370, 4.0), (7756, 778, 4.0), (187, 2716, 3.0), (7954, 6333, 4.0), (5486, 7347, 3.0), (8150, 3072, 1.0), (4967, 2300, 3.0), (476, 356, 5.0), (4116, 608, 4.0), (4441, 26662, 4.5), (5964, 78039, 2.0), (1570, 1269, 3.5), (8003, 5151, 3.5), (4674, 4226, 5.0), (2779, 48780, 4.0), (5403, 2383, 1.5), (7263, 4613, 3.0), (2199, 1193, 4.0), (1931, 2716, 2.5), (4027, 1616, 3.5), (7873, 2871, 5.0), (6884, 184023, 5.0), (225, 33794, 4.0), (2610, 33679, 3.0), (3305, 3763, 3.5), (3066, 1240, 4.0), (5418, 4014, 4.0), (6227, 6934, 3.5), (6396, 1036, 3.0), (39, 1036, 3.0), (505, 84952, 4.0), (5356, 229, 2.0), (6752, 442, 3.0), (6681, 2383, 1.0), (3665, 4662, 3.0), (4027, 6525, 4.0), (738, 1079, 4.0), (8042, 70286, 3.0), (7829, 1036, 4.0), (6103, 650, 4.0), (4796, 3500, 2.0), (6884, 110127, 3.0), (5895, 60040, 2.5), (1519, 48142, 3.0), (4294, 1079, 3.5), (1040, 80463, 2.0), (4853, 1240, 3.0), (5778, 407, 4.0), (1911, 364, 3.0), (2839, 94953, 3.5), (1272, 171867, 2.0), (1028, 3450, 4.0), (5247, 3178, 3.0), (3943, 2716, 5.0), (7036, 80463, 2.0), (1901, 82461, 2.0), (4853, 38, 3.0), (3665, 1342, 5.0), (2905, 1193, 4.5), (1272, 1269, 2.0), (6748, 63992, 5.0), (609, 165, 4.0), (1293, 2716, 4.0), (6575, 435, 1.0), (4376, 3911, 5.0), (967, 442, 3.0), (7954, 608, 4.5), (3047, 6333, 3.5), (5646, 6078, 4.0), (2655, 1485, 5.0), (2610, 1584, 3.0), (1378, 54881, 3.5), (7420, 106100, 3.5), (3344, 6934, 5.0), (1757, 924, 5.0), (7769, 2396, 3.5), (6614, 494, 3.0), (2954, 1079, 5.0), (5964, 48, 2.0), (3325, 5388, 3.0), (1757, 3169, 3.0), (1704, 6874, 4.0), (3177, 70286, 4.0), (2387, 4226, 5.0), (7092, 2384, 5.0), (7974, 356, 3.0), (1372, 6535, 1.5), (7543, 1240, 4.0), (4237, 338, 4.0), (6039, 1175, 5.0), (6938, 82461, 4.5), (8110, 333, 2.5), (248, 5608, 2.5), (2463, 38798, 3.0), (343, 2712, 3.0), (4921, 116797, 0.5), (1272, 95167, 3.5), (1589, 3623, 3.0), (1507, 6770, 4.0), (4106, 6934, 2.5), (1272, 70846, 3.0), (2999, 2064, 5.0), (3133, 69306, 4.0), (4451, 1240, 4.0), (3989, 2701, 3.0), (5932, 435, 4.5), (5648, 60816, 3.5), (6871, 55052, 4.0), (7235, 1527, 3.5), (4573, 6333, 5.0), (73, 3504, 4.5), (5017, 1587, 4.0), (2452, 4643, 3.0), (5396, 4613, 3.0), (6104, 608, 5.0), (1507, 62374, 3.5), (2745, 42738, 3.0), (7782, 1535, 3.0), (1272, 96488, 3.5), (6889, 5110, 4.0), (4302, 59369, 4.0), (2564, 1591, 3.0), (6028, 1573, 2.5), (4681, 1240, 3.0), (3665, 4641, 2.0), (549, 7143, 3.5), (362, 356, 3.0), (2010, 1304, 4.5), (3554, 546, 0.5), (4027, 6934, 4.0), (1927, 1588, 4.0), (5642, 262, 3.0), (7954, 80862, 3.0), (1378, 33794, 4.5), (2338, 1704, 5.0), (6884, 5574, 1.0), (3983, 1340, 4.0), (35, 1036, 3.5), (45, 3178, 4.0), (3021, 1587, 3.0), (4027, 2297, 3.0), (3344, 4102, 5.0), (7412, 33794, 5.0), (1086, 2712, 4.0), (164, 608, 4.0), (2463, 7444, 3.5), (7184, 5349, 2.0), (828, 788, 3.0), (2745, 95167, 4.0), (308, 6934, 1.0), (1582, 761, 3.0), (5418, 193, 3.0), (4666, 86835, 3.5), (3060, 2064, 4.0), (4027, 1293, 5.0), (6767, 2431, 3.0), (5346, 8360, 3.5), (4796, 106100, 4.0), (4638, 8644, 3.0), (7622, 157122, 2.5), (6938, 59016, 4.0), (6399, 1304, 4.0), (5277, 8784, 4.0), (7782, 4116, 4.0), (3520, 81834, 2.0), (6000, 2288, 2.0), (4674, 33794, 4.0), (4706, 1193, 1.5), (7551, 1032, 4.0), (5396, 1616, 2.5), (2610, 1370, 4.5), (6908, 8644, 3.5), (7185, 6525, 4.0), (995, 2431, 4.0), (2885, 6889, 2.5), (1270, 356, 5.0), (6869, 356, 4.0), (343, 3623, 2.0), (2737, 8910, 5.0), (738, 1240, 4.0), (6764, 165, 1.0), (1272, 27790, 3.5), (919, 333, 3.0), (2092, 333, 4.0), (7551, 364, 4.0), (2475, 3249, 3.5), (6212, 6644, 3.0), (8058, 1704, 4.0), (3665, 1464, 4.0), (3607, 165, 4.0), (6860, 6373, 3.5), (867, 3504, 5.0), (6752, 640, 3.0), (5932, 546, 2.5), (2475, 333, 4.0), (7343, 1036, 5.0), (4294, 802, 4.5), (3665, 488, 4.0), (8127, 442, 3.0), (2160, 8376, 2.5), (7134, 1193, 5.0), (6195, 3408, 3.0), (4072, 229, 3.0), (4451, 175, 4.0), (5574, 27873, 2.0), (386, 356, 3.0), (7235, 140267, 2.0), (6212, 3763, 3.5), (7685, 608, 4.0), (5548, 81834, 4.5), (5591, 2701, 3.5), (6388, 276, 3.0), (4376, 4638, 1.0), (3515, 1370, 5.0), (5396, 5506, 3.0), (1930, 1784, 4.0), (7153, 356, 5.0), (8024, 60040, 3.0), (5471, 1907, 5.0), (6028, 1240, 4.0), (1933, 56169, 2.0), (6938, 170, 4.5), (1272, 117107, 2.5), (4796, 27850, 3.5), (4796, 1444, 3.5), (2463, 1907, 2.0), (2729, 5812, 3.5), (7130, 165, 3.0), (3066, 2701, 4.0), (1272, 5171, 2.5), (7782, 1500, 5.0), (7274, 1242, 4.0), (3177, 2467, 4.5), (5562, 4226, 4.0), (8031, 95167, 3.0), (1757, 2990, 2.0), (7281, 8983, 5.0), (7954, 1242, 4.0), (8003, 2155, 3.5), (6361, 7143, 3.5), (6869, 1274, 4.5), (7991, 550, 3.0), (8110, 165, 3.5), (6258, 924, 3.0), (6884, 2488, 5.0), (7035, 1464, 4.0), (5356, 3911, 5.0), (379, 6874, 3.0), (1519, 2288, 3.5), (2084, 8376, 5.0), (2475, 33679, 3.5), (1961, 160980, 1.0), (1927, 1623, 1.0), (2160, 8360, 4.0), (1773, 6874, 4.5), (497, 1193, 5.0), (378, 59727, 1.5), (3819, 3985, 4.0), (6884, 8784, 2.5), (5446, 1204, 3.5), (4796, 3169, 5.0), (7263, 364, 4.0), (3093, 8132, 5.0), (3813, 5796, 3.0), (2338, 4103, 4.0), (73, 42738, 2.0), (2999, 1784, 4.0), (1781, 1704, 4.0), (5609, 70286, 3.0), (2737, 4902, 4.0), (5778, 1385, 3.0), (505, 55247, 4.5), (5574, 3418, 3.5), (7116, 1171, 5.0), (6380, 2431, 5.0), (4702, 3471, 4.0), (7862, 165, 2.5), (7977, 608, 4.0), (3003, 4226, 4.0), (1523, 924, 3.0), (3614, 70286, 5.0), (4455, 2712, 4.5), (7963, 5604, 4.0), (4106, 778, 4.5), (3665, 8939, 2.5), (2745, 76251, 3.5), (1272, 3072, 3.5), (7769, 7371, 2.0), (1010, 3623, 2.5), (6428, 608, 3.5), (949, 569, 3.0), (3450, 6333, 3.5), (4796, 30846, 3.0), (4124, 1921, 4.0), (5356, 2367, 5.0), (8132, 4181, 4.0), (8058, 3623, 2.0), (8003, 7444, 2.0), (3607, 356, 5.0), (1752, 2338, 2.0), (926, 364, 4.0), (3665, 8861, 5.0), (4796, 89761, 3.5), (6767, 27815, 5.0), (8038, 1240, 4.0), (6938, 3515, 4.0), (856, 4641, 4.0), (1933, 43552, 2.5), (4796, 157699, 3.0), (6944, 778, 5.0), (2119, 33679, 4.0), (8146, 6874, 4.0), (3860, 1304, 4.0), (7418, 608, 3.0), (4372, 175, 4.0), (1776, 48, 5.0), (4106, 114066, 2.5), (248, 104879, 3.0), (4158, 364, 4.0), (4796, 1554, 2.0), (7366, 32825, 3.5), (7963, 778, 4.0), (2333, 79242, 4.0), (807, 5464, 4.0), (4605, 1240, 4.0), (6938, 76079, 3.5), (5574, 1704, 3.0), (2338, 48780, 4.0), (4796, 5388, 3.0), (1120, 6537, 2.5), (1367, 63131, 1.5), (4605, 96728, 3.5), (2745, 70286, 4.0), (73, 2858, 4.5), (1927, 1686, 4.0), (4343, 84152, 4.0), (5744, 4639, 5.0), (1927, 1036, 5.0), (6938, 356, 4.5), (4372, 70286, 4.0), (8003, 4641, 2.5), (4921, 122920, 0.5), (995, 6373, 3.5), (6025, 1784, 4.0), (957, 1193, 4.5), (3344, 26630, 3.5), (3733, 2026, 1.0), (3683, 5110, 4.0), (7954, 1193, 3.5), (1120, 85438, 3.0), (4605, 2872, 2.0), (2463, 111113, 3.0), (5591, 924, 4.5), (36, 4226, 4.5), (8038, 3512, 2.0), (7046, 165, 4.0), (1133, 60040, 4.0), (4796, 2026, 3.0), (3344, 32017, 2.5), (593, 175, 4.0), (7030, 969, 4.0), (5483, 1704, 4.0), (3983, 4226, 4.5), (5356, 4881, 3.0), (1272, 4401, 2.5), (7281, 1784, 2.0), (3866, 116797, 4.5), (6681, 464, 3.0), (1747, 1204, 3.5), (7991, 2712, 2.5), (5574, 6298, 0.5), (2160, 86298, 3.5), (1911, 1527, 4.5), (1523, 84152, 3.5), (5396, 236, 3.5), (5072, 1242, 3.0), (1337, 924, 5.0), (1044, 2297, 5.0), (3643, 1603, 4.0), (2087, 115617, 3.5), (6938, 5574, 4.5), (4706, 356, 3.5), (4350, 1591, 3.5), (2664, 6537, 2.0), (6104, 2111, 4.0), (8003, 3816, 4.0), (6889, 55247, 5.0), (4605, 4200, 1.0), (6767, 3418, 4.5), (957, 2712, 5.0), (8058, 7143, 3.5), (926, 1326, 1.0), (4936, 4226, 4.0), (4786, 81834, 3.5), (6681, 3462, 5.0), (7543, 2716, 3.0), (2695, 5151, 4.0), (7036, 104879, 5.0), (3051, 165, 3.0), (1911, 33794, 4.0), (4796, 1464, 3.0), (5330, 1907, 4.0), (7797, 8784, 3.5), (3520, 1240, 4.0), (5838, 72733, 4.0), (248, 103688, 2.0), (3990, 969, 5.0), (5642, 165, 2.0), (1952, 4226, 5.0), (7862, 8360, 2.5), (7641, 165, 3.0), (5061, 48780, 3.5), (1854, 1240, 3.0), (549, 410, 4.0), (1519, 6373, 4.0), (8042, 115617, 3.5), (4431, 1240, 3.0), (4027, 1726, 3.5), (7974, 1573, 2.0), (6884, 7347, 5.0), (8110, 6957, 3.0), (6750, 115617, 5.0), (5356, 3178, 5.0), (1519, 54997, 4.0), (4027, 2071, 5.0), (7844, 5349, 2.5), (7567, 3324, 2.0), (6317, 1573, 4.0), (4094, 1921, 3.0), (1396, 1193, 4.5), (3066, 8360, 3.5), (300, 788, 3.5), (6428, 778, 4.0), (2245, 6874, 3.0), (549, 6365, 2.5), (5658, 5507, 2.5), (6720, 91529, 3.5), (362, 3471, 3.0), (3665, 37386, 5.0), (5748, 1500, 4.0), (4423, 2600, 5.0), (3453, 356, 5.0), (4322, 193, 1.0), (1304, 608, 3.5), (4883, 5171, 3.5), (3652, 6874, 4.5), (4322, 585, 3.0), (3133, 5784, 3.0), (7156, 1527, 2.0), (7974, 6373, 0.5), (2475, 1485, 2.0), (1385, 236, 3.0), (158, 48, 5.0), (7229, 356, 4.0), (1293, 3911, 0.5), (7991, 2396, 4.0), (1054, 2383, 3.0), (3665, 366, 4.0), (2666, 62049, 3.5), (4936, 356, 4.0), (1086, 2384, 2.0), (7807, 1274, 4.0), (4608, 37830, 5.0), (8003, 6874, 4.5), (3307, 3471, 4.0), (4302, 1036, 4.5), (4455, 788, 3.5), (8127, 802, 3.0), (3234, 5015, 2.0), (3665, 1500, 2.0), (4664, 2396, 1.5), (378, 48780, 4.0), (1929, 8542, 4.5), (4605, 1135, 3.0), (7302, 8644, 5.0), (2204, 778, 4.0), (5648, 42422, 3.5), (6767, 8486, 3.5), (248, 53000, 4.0), (60, 23, 4.0), (4441, 3755, 4.0), (5429, 6373, 3.5), (36, 924, 4.5), (414, 91529, 2.5), (957, 6373, 3.5), (2047, 3911, 3.0), (4796, 2523, 3.0), (6109, 442, 4.0), (3344, 5464, 3.5), (8049, 1370, 3.0), (5948, 26701, 3.5), (4094, 410, 3.0), (7954, 1704, 4.0), (3450, 435, 3.0), (1272, 1946, 3.5), (877, 165, 4.0), (4302, 169906, 4.0), (7622, 116797, 3.0), (7184, 1784, 4.0), (5291, 435, 2.0), (6860, 1527, 4.5), (5648, 96430, 4.0), (4027, 3546, 4.0), (1293, 5792, 4.5), (4967, 924, 4.0), (807, 3623, 0.5), (443, 3693, 1.0), (4027, 6002, 3.0), (920, 1730, 3.0), (797, 4226, 4.0), (3450, 7030, 3.5), (4158, 2396, 4.0), (5648, 61240, 4.5), (6625, 788, 1.0), (1000, 6889, 4.0), (1120, 2712, 2.5), (3994, 1079, 4.0), (5838, 3286, 2.0), (4027, 3893, 4.5), (2084, 122920, 4.0), (7398, 969, 5.0), (7900, 3911, 3.5), (5752, 410, 3.0), (6485, 85, 5.0), (1184, 165, 5.0), (3729, 7143, 5.0), (2610, 2716, 3.5), (5396, 3755, 3.5), (3983, 922, 5.0), (1272, 7333, 3.5), (3234, 435, 2.5), (6884, 8939, 3.0), (920, 170, 1.0), (8110, 42738, 3.0), (5559, 356, 5.0), (6647, 3911, 4.5), (5574, 5815, 2.5), (8024, 5349, 4.0), (4094, 1061, 3.0), (6399, 48780, 5.0), (73, 3471, 3.0), (2902, 106100, 4.0), (5823, 1254, 4.0), (5476, 8957, 3.0), (3133, 1587, 2.0), (8110, 3911, 2.5), (5471, 262, 4.5), (2047, 1240, 3.5), (8031, 71518, 5.0), (1378, 4226, 4.0), (6783, 122882, 5.0), (4395, 6059, 3.5), (5446, 1464, 4.5), (7281, 6874, 4.5), (4702, 364, 5.0), (920, 1370, 4.5), (5546, 263, 3.0), (4106, 4643, 2.5), (1929, 608, 4.5), (4883, 1573, 3.0), (6201, 6380, 4.5), (5809, 1584, 4.0), (4853, 1297, 1.5), (3344, 63992, 4.0), (4294, 64716, 4.0), (2898, 1573, 2.5), (2010, 86377, 5.0), (4302, 1240, 4.0), (2047, 4226, 4.0), (7418, 2858, 5.0), (7974, 3030, 2.5), (4441, 104283, 4.5), (7991, 1204, 3.5), (73, 48877, 0.5), (4951, 2858, 4.5), (7597, 1175, 4.0), (1010, 8644, 4.5), (5778, 442, 2.0), (2695, 3418, 3.0), (3058, 364, 2.0), (6884, 1921, 5.0), (3449, 110809, 2.0), (5948, 8360, 4.0), (4283, 1240, 3.0), (6859, 236, 3.5), (7420, 1704, 5.0), (1582, 64, 5.0), (8151, 8644, 3.5), (6681, 3763, 4.0), (2745, 109243, 3.0), (2038, 922, 4.0), (6884, 969, 4.0), (7857, 48, 2.0), (4111, 262, 4.0), (8003, 1921, 4.5), (6028, 6874, 5.0), (6764, 85, 3.0), (1700, 519, 2.0), (6762, 119145, 4.0), (8042, 122920, 4.0), (1272, 4914, 3.0), (6251, 2701, 4.0), (3587, 1240, 3.0), (6869, 1240, 4.5), (5848, 8983, 3.5), (7991, 5349, 3.5), (5559, 33794, 3.0), (7398, 5016, 4.5), (1964, 333, 2.0), (1704, 1704, 4.0), (386, 85, 3.0), (1523, 33794, 4.0), (3903, 1079, 2.0), (36, 6620, 4.5), (3683, 8644, 3.5), (83, 276, 5.0), (1519, 193, 2.5), (4796, 302, 2.0), (4605, 3418, 3.5), (3983, 80463, 2.0), (2806, 6934, 0.5), (6889, 60040, 2.0), (5798, 91529, 4.5), (4934, 2147, 1.0), (4934, 1193, 5.0), (5061, 104863, 3.5), (6681, 4014, 4.0), (3665, 3684, 4.0), (8003, 2420, 2.5), (6938, 33794, 4.0), (5932, 788, 3.5), (2885, 53972, 4.0), (2839, 78088, 3.0), (5658, 1204, 4.0), (1964, 364, 5.0), (2837, 608, 5.0), (5446, 8644, 3.5), (1120, 8949, 2.5), (4440, 364, 5.0), (549, 4638, 3.0), (848, 356, 5.0), (3060, 2288, 4.0), (6860, 1921, 4.0), (5081, 1704, 4.5), (84, 1870, 4.0), (2745, 101741, 3.5), (807, 8784, 3.0), (1933, 108715, 3.5), (593, 2712, 3.0), (2344, 778, 3.5), (4322, 328, 3.0), (874, 3623, 2.5), (5948, 41569, 3.0), (2463, 106100, 4.5), (7287, 546, 4.0), (3507, 494, 3.0), (7551, 1340, 4.0), (7398, 5792, 5.0), (926, 4555, 4.0), (7782, 2716, 4.0), (3066, 5349, 3.5), (3819, 1269, 3.0), (8127, 761, 3.0), (1120, 4643, 1.0), (2084, 4014, 4.0), (2463, 6373, 4.0), (3813, 8784, 3.5), (497, 778, 2.0), (7398, 3893, 4.5), (1000, 63393, 1.5), (4376, 3185, 3.0), (4796, 3638, 3.0), (7263, 909, 4.5), (187, 2010, 4.0), (7398, 1554, 2.0), (5738, 6333, 1.5), (5396, 8949, 4.0), (4170, 4226, 5.0), (2839, 76079, 3.5), (4553, 788, 4.0), (2905, 969, 1.0), (2885, 1370, 4.5), (3614, 1240, 5.0), (2060, 193, 2.0), (248, 2288, 5.0), (2010, 1527, 4.5), (343, 8798, 3.5), (5418, 3261, 3.0), (6030, 1485, 2.5), (7035, 56171, 3.5), (5217, 222, 2.0), (300, 1274, 5.0), (343, 8361, 1.5), (6028, 5349, 3.5), (1933, 84152, 3.5), (8110, 1587, 3.0), (3023, 3911, 4.0), (5396, 96691, 2.0), (549, 1061, 3.0), (5356, 2871, 5.0), (5838, 6373, 3.5), (995, 1370, 3.5), (8058, 1036, 4.5), (2426, 91529, 5.0), (4951, 1193, 3.5), (8003, 2282, 4.0), (6109, 364, 2.0), (7597, 2064, 4.0), (7974, 1079, 1.5), (2839, 84152, 3.5), (7991, 165, 3.0), (658, 33794, 4.0), (2666, 2858, 5.0), (1781, 8949, 4.0), (7543, 5464, 3.0), (3450, 6765, 3.5), (920, 1293, 4.0), (5318, 1584, 3.0), (6025, 2064, 3.0), (1028, 81932, 4.5), (5778, 1747, 4.0), (7184, 8643, 5.0), (1367, 3249, 2.0), (7281, 3462, 5.0), (4124, 1446, 4.0), (343, 6874, 4.0), (314, 2420, 3.5), (6681, 1779, 4.0), (3983, 165, 1.0), (2742, 2858, 3.0), (4664, 4535, 4.0), (4883, 116797, 4.0), (7690, 326, 4.0), (4951, 48744, 3.5), (73, 2712, 4.0), (4451, 4643, 1.0), (3903, 6537, 2.0), (8110, 5349, 4.0), (6734, 48, 5.0), (4796, 26394, 4.0), (4853, 7444, 4.0), (73, 1921, 4.0), (5546, 2300, 3.0), (6548, 8644, 4.0), (949, 2155, 4.0), (1519, 2716, 4.5), (497, 2410, 2.0), (1507, 778, 4.5), (4106, 145418, 3.0), (7954, 6889, 3.0), (3943, 1623, 2.0), (4027, 1370, 4.0), (1367, 165, 2.5), (856, 4086, 3.0), (5396, 1845, 3.5), (1272, 31374, 3.5), (3234, 6885, 3.0), (1367, 2712, 5.0), (7746, 2858, 4.0), (4372, 8910, 3.5), (1367, 1342, 2.5), (7398, 2312, 4.5), (5591, 6333, 4.0), (4372, 60408, 3.5), (2610, 6333, 3.5), (1367, 1620, 2.5), (7724, 80463, 3.5), (2745, 91660, 2.5), (2192, 1201, 4.0), (3983, 5339, 4.0), (1041, 2716, 5.0), (7370, 585, 3.0), (4796, 42007, 2.0), (2745, 73023, 3.5), (2626, 48, 2.0), (8049, 2751, 3.0), (7263, 76251, 4.0), (2346, 924, 1.0), (4731, 1036, 4.0), (6783, 8644, 3.0), (5574, 8533, 5.0), (3614, 48877, 4.5), (4796, 81932, 2.5), (5091, 4226, 4.0), (3791, 1584, 3.5), (7954, 74553, 4.0), (6021, 546, 4.0), (6079, 33794, 4.0), (3665, 8360, 3.5), (4372, 2431, 3.0), (6884, 152079, 1.5), (7819, 193, 3.0), (2089, 442, 3.5), (1337, 494, 4.0), (7862, 116797, 4.0), (807, 2712, 4.5), (4094, 1446, 4.0), (4372, 26696, 2.5), (164, 788, 4.0), (3663, 2288, 2.0), (2277, 48, 4.0), (8114, 106100, 4.5), (5927, 33794, 5.0), (4731, 356, 3.0), (2160, 3462, 4.0), (6783, 1527, 4.0), (8038, 2425, 3.0), (3066, 4670, 4.5), (3057, 2396, 4.0), (3081, 364, 2.5), (807, 303, 4.0), (2092, 48, 4.0), (4934, 1172, 5.0), (5396, 2467, 3.5), (1367, 8910, 2.5), (513, 1193, 2.5), (8049, 4333, 2.0), (3903, 1704, 4.5), (5174, 1527, 5.0), (1933, 104241, 3.5), (3665, 1240, 4.0), (6898, 116823, 3.5), (7557, 6365, 2.5), (4796, 5340, 2.0), (3979, 1784, 3.0), (2666, 71542, 4.5), (6625, 4881, 4.0), (73, 70286, 4.0), (5217, 1061, 5.0), (1519, 6874, 4.0), (4628, 7143, 4.0), (1052, 55247, 5.0), (3057, 3418, 4.0), (5932, 6365, 4.0), (1133, 1784, 3.0), (8124, 3755, 3.0), (5658, 27155, 1.0), (111, 2712, 3.0), (6783, 94959, 4.5), (5574, 1527, 4.5), (5429, 2858, 4.0), (3450, 5349, 3.0), (7046, 364, 3.5), (3571, 549, 3.0), (856, 2716, 5.0), (2346, 5015, 5.0), (5948, 1201, 4.5), (3344, 53972, 4.0), (4027, 2716, 4.0), (5589, 788, 3.0), (2839, 96448, 2.0), (6212, 3684, 4.0), (5574, 53972, 4.5), (4106, 442, 3.5), (4492, 4226, 5.0), (5158, 243, 3.0), (4951, 1204, 4.0), (5948, 6934, 3.0), (3943, 3755, 3.0), (3081, 2716, 3.5), (1700, 1297, 5.0), (7274, 3418, 3.0), (4796, 55247, 3.5), (4681, 1345, 2.0), (6898, 27611, 4.5), (248, 6373, 2.0), (7343, 2530, 4.0), (995, 2990, 3.0), (4278, 27815, 4.5), (6767, 5384, 4.0), (8049, 922, 5.0), (1752, 5574, 2.0), (8058, 1193, 5.0), (4106, 1240, 5.0), (497, 608, 5.0), (7769, 6333, 3.5), (1523, 1485, 3.0), (549, 7756, 5.0), (5347, 262, 5.0), (5932, 356, 2.5), (7551, 6874, 4.0), (6938, 79553, 5.0), (2199, 1747, 4.0), (253, 8784, 5.0), (2839, 26662, 4.5), (1519, 3925, 4.0), (7412, 1370, 4.0), (1519, 1485, 3.0), (1952, 4639, 1.0), (5205, 1584, 3.5), (3307, 6380, 3.5), (7742, 924, 5.0), (1570, 2396, 3.0), (7036, 81834, 3.0), (2770, 356, 3.0), (8038, 1584, 3.0), (5217, 695, 1.0), (867, 1240, 3.5), (1120, 442, 3.0), (5471, 2042, 3.0), (920, 2712, 4.0), (6884, 1172, 5.0), (7184, 585, 3.5), (6625, 1464, 3.0), (7543, 8949, 3.0), (748, 3408, 3.0), (5330, 1172, 5.0), (593, 2064, 5.0), (6767, 922, 3.5), (949, 2716, 4.0), (340, 115617, 5.0), (1582, 1353, 5.0), (3614, 8361, 4.5), (7603, 4974, 1.5), (7263, 115617, 4.5), (3717, 1584, 4.0), (763, 778, 3.5), (1519, 7143, 4.0), (4027, 3854, 3.0), (6944, 1079, 4.0), (7644, 1304, 5.0), (5418, 442, 3.0), (4294, 122920, 3.0), (7622, 3911, 4.0), (3325, 4226, 3.0), (7263, 236, 2.5), (7567, 3462, 4.0), (7963, 1779, 2.0), (5471, 1500, 3.0), (6884, 91660, 2.5), (4323, 4226, 4.0), (7807, 4226, 4.0), (6734, 1032, 3.0), (6802, 364, 3.0), (6839, 3638, 4.0), (6750, 33794, 5.0), (4294, 442, 3.5), (3234, 1584, 4.0), (2839, 45950, 4.0), (5446, 4641, 4.5), (6384, 3168, 3.0), (1752, 1784, 4.0), (7398, 34153, 4.0), (3643, 1204, 5.0), (1933, 2297, 4.0), (6384, 3504, 3.5), (7797, 42728, 4.0), (8024, 6889, 4.0), (8110, 3969, 4.0), (8031, 94959, 5.0), (8033, 6934, 5.0), (5418, 2064, 1.0), (4681, 1175, 4.0), (5609, 608, 4.0), (6399, 2871, 4.0), (6399, 1345, 3.0), (6884, 176937, 2.0), (7551, 3034, 4.0), (6212, 946, 5.0), (4395, 3030, 2.0), (8003, 1588, 2.5), (957, 104879, 5.0), (3943, 2676, 3.0), (4573, 165, 3.0), (3369, 5574, 2.5), (4372, 1584, 3.0), (5467, 924, 4.0), (5356, 3450, 3.0), (5418, 3418, 4.0), (1086, 6537, 3.0), (6399, 37386, 3.5), (4605, 4809, 4.0), (7366, 8360, 4.5), (6039, 4535, 2.0), (3234, 3671, 4.0), (8110, 4333, 3.0), (7769, 6373, 5.0), (505, 8360, 3.5), (3882, 4014, 4.0), (4372, 2858, 4.0), (3065, 1172, 4.0), (1040, 924, 1.5), (7263, 94959, 4.5), (2139, 778, 5.0), (5352, 609, 3.0), (3344, 303, 3.0), (7551, 6301, 4.0), (4237, 442, 3.0), (7583, 2420, 3.0), (7209, 1079, 4.0), (640, 2858, 3.0), (6938, 33679, 4.5), (6625, 1036, 4.0), (2463, 115617, 3.5), (3791, 1370, 3.5), (1757, 2530, 2.0), (7991, 1784, 2.5), (1507, 3925, 3.5), (5724, 3261, 4.0), (1272, 81784, 2.0), (4638, 6934, 3.5), (1367, 48780, 3.5), (1570, 50064, 4.5), (1931, 1242, 3.0), (3614, 6373, 3.5), (4796, 1242, 4.0), (8151, 8360, 4.0), (7378, 1414, 4.0), (5562, 1172, 4.0), (6384, 262, 3.0), (3665, 8927, 2.0), (3081, 55247, 4.0), (8021, 33794, 4.5), (3344, 585, 2.5), (3021, 3408, 5.0), (2160, 364, 3.0), (7603, 2858, 4.0), (3066, 2338, 2.5), (5217, 435, 3.0), (4918, 1193, 3.5), (1883, 106100, 5.0), (6384, 1931, 4.5), (1086, 442, 2.5), (5838, 81834, 3.0), (174, 5349, 4.0), (1589, 778, 5.0), (7598, 1204, 4.0), (6104, 3169, 4.0), (6258, 193, 1.0), (6000, 3985, 4.0), (5396, 1414, 4.0), (965, 922, 5.0), (5429, 356, 5.0), (7875, 778, 4.0), (343, 3877, 1.0), (8058, 3471, 4.5), (4027, 4599, 3.5), (7543, 6874, 3.5), (5574, 4248, 4.5), (1519, 3671, 4.5), (867, 60040, 1.0), (5838, 2338, 1.0), (2885, 1704, 2.0), (4486, 2712, 4.0), (1933, 103048, 3.5), (5895, 91529, 5.0), (4027, 6770, 5.0), (7782, 1921, 3.0), (2346, 5506, 2.0), (3643, 459, 2.0), (1028, 6934, 5.0), (6938, 27790, 3.5), (2745, 175569, 4.5), (2666, 1747, 5.0), (6317, 1370, 4.0), (443, 1304, 5.0), (1086, 6934, 3.5), (1961, 8533, 5.0), (2745, 158830, 3.0), (7857, 410, 3.0), (6767, 4914, 3.0), (6428, 3185, 3.0), (6227, 8784, 3.5), (7991, 356, 4.0), (5948, 7143, 3.5), (3021, 3072, 4.0), (7781, 1485, 3.0), (7819, 2858, 3.5), (1507, 86882, 4.0), (6407, 193, 0.5), (1133, 6874, 3.0), (4372, 6934, 3.0), (6384, 5339, 3.0), (5407, 1704, 3.5), (828, 546, 3.0), (3882, 3549, 4.0), (4796, 8948, 3.0), (4372, 5151, 3.0), (2655, 640, 2.0), (4605, 1293, 2.0), (658, 6874, 3.0), (2779, 356, 4.5), (7756, 91529, 4.0), (5396, 5792, 3.5), (6889, 8949, 1.5), (2463, 5349, 2.5), (2885, 67923, 4.0), (5396, 122920, 4.5), (1961, 34143, 4.0), (5948, 2401, 4.0), (248, 4641, 2.5), (1961, 2392, 5.0), (3450, 26003, 4.0), (3983, 65130, 3.5), (4106, 8861, 2.5), (5772, 94070, 5.0), (1883, 1784, 4.0), (7954, 54736, 3.0), (5832, 1293, 5.0), (2655, 3623, 3.0), (3003, 778, 4.5), (7457, 48780, 4.5), (7900, 6373, 3.5), (6428, 1172, 4.0), (7875, 4226, 4.5), (5948, 435, 2.0), (7263, 4641, 4.5), (957, 89470, 2.5), (5123, 262, 4.0), (6898, 1784, 2.0), (5574, 1500, 4.0), (7184, 1704, 5.0), (2475, 4643, 2.0), (7597, 1240, 3.0), (6938, 5171, 3.5), (4809, 1167, 5.0), (1519, 778, 4.5), (428, 4638, 3.0), (6384, 2042, 0.5), (8038, 1353, 2.0), (6109, 165, 5.0), (4796, 1406, 4.0), (1781, 945, 4.0), (4796, 1717, 2.0), (7036, 48780, 5.0), (6212, 7756, 3.0), (6884, 2384, 0.5), (5309, 1204, 4.0), (5196, 116797, 3.5), (549, 27790, 4.0), (2060, 3168, 5.0), (1120, 1079, 3.5), (4158, 2716, 3.0), (1523, 3034, 3.5), (1086, 2410, 2.5), (2760, 3755, 2.0), (7954, 4641, 3.0), (7046, 1240, 4.0), (3813, 1172, 4.0), (4796, 3182, 3.0), (5838, 33679, 3.0), (3060, 1079, 4.0), (2060, 2871, 4.0), (4706, 70286, 3.0), (4002, 170, 4.0), (6859, 26662, 4.0), (4372, 33136, 3.0), (7395, 1584, 3.0), (1454, 6333, 2.5), (6938, 53956, 4.0), (4796, 83270, 3.5), (6944, 2396, 3.0), (7343, 1704, 4.5), (4853, 1704, 5.0), (1272, 8931, 3.0), (3983, 1079, 3.5), (3507, 371, 3.0), (3051, 364, 4.0), (1020, 84152, 5.0), (4106, 788, 1.5), (8110, 1340, 3.0), (3989, 494, 4.0), (5589, 494, 4.0), (3983, 1172, 4.0), (1086, 2420, 3.5), (1757, 943, 4.0), (7769, 33794, 4.0), (4365, 6365, 4.0), (3312, 410, 3.0), (3133, 1193, 3.0), (5648, 52287, 4.0), (5838, 6753, 5.0), (414, 1527, 2.0), (3614, 8387, 3.5), (1933, 141004, 2.5), (6944, 2042, 4.0), (5051, 5349, 3.0), (1933, 86298, 4.0), (3021, 1717, 4.0), (7682, 4226, 4.0), (7749, 778, 4.0), (4311, 44397, 3.5), (7781, 1345, 3.5), (3665, 6934, 1.0), (2333, 778, 3.5), (2745, 122882, 5.0), (1911, 37830, 3.0), (4796, 71518, 2.5), (1757, 2009, 3.0), (4721, 608, 3.0), (6683, 1297, 4.0), (2695, 1036, 5.0), (5111, 163645, 4.5), (8110, 71520, 3.5), (343, 3249, 1.5), (505, 924, 4.0), (7721, 356, 5.0), (3066, 364, 4.0), (2839, 7143, 4.0), (4967, 2396, 5.0), (5648, 45081, 4.5), (7782, 2871, 4.0), (3021, 3893, 4.5), (6869, 1527, 5.0), (4849, 3671, 4.0), (3336, 2990, 3.0), (3234, 3911, 4.0), (3367, 4226, 4.0), (7263, 2064, 4.0), (664, 1240, 5.0), (7974, 3034, 3.5), (1272, 2488, 4.0), (7134, 54881, 3.5), (3990, 1654, 3.0), (7398, 51080, 4.5), (6285, 1370, 3.0), (301, 3877, 3.0), (6542, 1172, 5.0), (3344, 1584, 4.5), (5574, 2449, 3.5), (4451, 2716, 4.0), (8042, 139863, 5.0), (8150, 1079, 4.0), (7873, 117, 3.0), (5838, 54736, 4.0), (1120, 64197, 2.5), (5948, 2716, 4.5), (6104, 549, 4.0), (7185, 5171, 2.5), (5870, 1172, 4.5), (1551, 1573, 4.0), (4721, 167370, 3.0), (571, 1036, 2.0), (287, 1269, 4.0), (5158, 569, 4.0), (3369, 3512, 4.0), (8150, 165, 5.0), (5247, 1240, 3.0), (5895, 96588, 4.5), (7598, 3471, 3.0), (5607, 1171, 4.0), (3717, 3985, 5.0), (6767, 3614, 3.0), (5662, 3030, 3.5), (5483, 356, 4.0), (4245, 2396, 4.0), (2038, 103, 5.0), (3882, 435, 2.0), (6839, 494, 3.0), (2135, 95167, 4.0), (3665, 43460, 2.5), (942, 31225, 4.0), (4372, 113573, 2.0), (6976, 1784, 5.0), (6839, 2712, 4.0), (1752, 33794, 4.0), (6929, 2716, 2.5), (5320, 1485, 4.0), (7272, 3471, 5.0), (2192, 3471, 3.0), (6681, 1254, 4.0), (3507, 608, 5.0), (3819, 3917, 2.0), (5217, 3893, 3.0), (6783, 76251, 4.0), (1929, 8360, 3.0), (7412, 1527, 3.5), (5648, 162578, 5.0), (301, 1370, 3.5), (3781, 328, 3.0), (7756, 162578, 3.5), (4027, 276, 3.0), (3369, 8533, 2.5), (5072, 1172, 4.0), (3813, 4333, 3.0), (5848, 8376, 5.0), (4027, 364, 5.0), (343, 4662, 3.0), (1000, 356, 4.0), (248, 8361, 2.0), (7954, 32017, 0.5), (2097, 165, 5.0), (5210, 2765, 4.0), (7742, 6365, 4.0), (1704, 6538, 4.0), (2760, 1370, 3.0), (6361, 8643, 4.0), (3665, 1704, 3.0), (3813, 8542, 3.0), (6531, 364, 5.0), (4951, 2716, 4.0), (6938, 60040, 3.5), (2745, 94959, 4.0), (5948, 86835, 2.5), (5838, 802, 2.0), (7842, 356, 5.0), (1272, 8949, 3.0), (7974, 8376, 3.5), (5948, 608, 5.0), (1385, 356, 5.0), (3643, 546, 2.0), (3989, 8387, 2.5), (8024, 4223, 4.5), (6051, 1061, 4.0), (7769, 1254, 4.5), (6227, 5388, 3.5), (3005, 1240, 3.0), (3081, 4226, 5.0), (3305, 1385, 3.0), (1854, 3623, 2.5), (2760, 4226, 5.0), (5838, 5815, 4.0), (4553, 338, 4.0), (2338, 33794, 4.0), (3344, 3466, 3.5), (5574, 1747, 3.5), (8003, 1717, 2.0), (4608, 7143, 3.5), (5446, 3030, 4.5), (1854, 1747, 3.0), (6328, 475, 3.5), (3305, 4102, 4.0), (5838, 63131, 3.0), (3614, 6333, 5.0), (4664, 364, 3.5), (745, 111113, 3.0), (5648, 89470, 3.0), (7769, 8644, 4.0), (7873, 229, 5.0), (7473, 27611, 4.5), (8110, 80463, 4.0), (5396, 6535, 1.5), (5895, 2716, 4.0), (4302, 122902, 0.5), (5548, 116797, 4.5), (5948, 101097, 3.0), (83, 410, 5.0), (4936, 6365, 3.5), (4674, 1079, 4.5), (5471, 6373, 4.0), (2084, 84152, 3.0), (5748, 3471, 4.0), (5895, 1201, 4.5), (3021, 3654, 4.5), (7263, 5103, 4.0), (7036, 2396, 3.5), (640, 1175, 4.5), (5948, 5349, 4.0), (6783, 8957, 3.5), (6258, 5349, 3.5), (2954, 236, 3.0), (6381, 1573, 3.0), (3983, 6874, 3.5), (3802, 494, 4.0), (343, 6957, 3.5), (3481, 6889, 4.0), (1010, 96588, 5.0), (3450, 164909, 3.0), (926, 1240, 4.0), (4111, 64, 3.0), (1039, 546, 2.0), (7235, 1584, 5.0), (7954, 7143, 4.0), (7746, 475, 5.0), (7557, 608, 4.5), (2084, 116823, 5.0), (3542, 2858, 3.5), (658, 71899, 0.5), (2087, 122882, 2.0), (3520, 5608, 4.0), (343, 924, 3.5), (355, 48, 3.0), (2074, 1238, 4.0), (6683, 924, 5.0), (7263, 3307, 4.0), (1883, 91529, 1.0), (3920, 2858, 5.0), (3932, 4643, 4.0), (1453, 1573, 5.0), (3344, 6325, 2.5), (5646, 4643, 3.0), (5471, 4226, 4.0), (5174, 81834, 4.5), (5210, 55247, 5.0), (7272, 1385, 3.0), (1519, 2701, 3.0), (5609, 66, 0.5), (8049, 4396, 4.0), (2655, 1704, 5.0), (5396, 64, 2.5), (3839, 356, 3.5), (7954, 5151, 2.0), (5396, 924, 4.5), (5662, 608, 4.5), (1367, 2858, 3.5), (8146, 364, 4.5), (848, 6365, 3.5), (702, 122882, 5.0), (593, 333, 3.0), (6258, 1527, 3.0), (1282, 119145, 3.0), (1933, 110730, 3.0), (6258, 1584, 3.0), (716, 1297, 4.0), (4934, 1079, 5.0), (6681, 4638, 2.0), (2567, 1527, 5.0), (738, 1704, 3.5), (6030, 608, 4.5), (4796, 78039, 3.5), (8049, 608, 4.0), (3903, 4638, 1.0), (362, 2396, 2.0), (5017, 1704, 4.0), (2745, 5574, 3.5), (5648, 152063, 2.5), (6884, 2528, 5.0), (2839, 2858, 3.0), (1337, 1242, 4.0), (3989, 2410, 2.0), (6938, 56171, 4.5), (1385, 1193, 4.5), (3344, 4014, 4.0), (5591, 3671, 4.0), (4027, 4641, 3.0), (2695, 1704, 5.0), (2326, 356, 4.5), (3305, 4223, 4.5), (6212, 3965, 4.0), (7724, 48780, 4.0), (287, 2064, 5.0), (6949, 2279, 5.0), (7974, 54881, 4.5), (1776, 364, 4.5), (5658, 4014, 4.5), (5895, 33679, 4.5), (3665, 522, 3.0), (1901, 55805, 4.0), (6258, 2858, 3.5), (6378, 2467, 5.0), (1184, 608, 3.0), (7991, 2858, 4.0), (7185, 4638, 2.0), (8009, 364, 4.5), (3717, 1201, 4.0), (1757, 2716, 3.0), (3643, 802, 4.0), (4883, 6537, 4.5), (2839, 89260, 3.5), (1272, 2396, 3.5), (5609, 4226, 5.0), (1569, 3408, 3.5), (8038, 494, 3.0), (5407, 356, 4.5), (6384, 3516, 2.5), (4702, 947, 4.0), (5217, 364, 4.0), (3943, 1573, 4.0), (4440, 116823, 4.0), (1507, 112897, 2.5), (8024, 91529, 5.0), (7782, 955, 2.0), (973, 608, 1.0), (1272, 154941, 2.0), (6884, 4641, 5.0), (2297, 442, 3.0), (6938, 72733, 4.0), (3066, 2396, 3.5), (5748, 435, 2.0), (8124, 1032, 5.0), (4934, 1414, 4.0), (6384, 4359, 3.0), (5648, 86835, 3.5), (164, 1485, 3.0), (4796, 6537, 2.5), (7724, 6333, 4.0), (2047, 2712, 4.5), (248, 96728, 4.0), (6322, 119145, 3.5), (8003, 5016, 1.5), (6384, 3076, 3.5), (7229, 3418, 3.5), (7243, 494, 5.0), (6898, 95167, 0.5), (4666, 70286, 5.0), (3866, 6874, 5.0), (6039, 3623, 4.5), (2060, 3471, 5.0), (5948, 74095, 3.5), (593, 924, 3.0), (1162, 3623, 2.5), (6384, 778, 4.0), (5574, 338, 3.5), (5748, 1345, 3.0), (7954, 4386, 1.0), (7769, 1704, 5.0), (6625, 1241, 5.0), (3234, 609, 2.0), (4796, 4032, 2.0), (5217, 4587, 1.0), (5591, 608, 4.5), (2199, 2431, 3.0), (6839, 3763, 3.0), (2475, 2410, 3.5), (7873, 574, 3.0), (1589, 2288, 4.5), (2610, 42738, 2.5), (7184, 6022, 1.5), (7457, 356, 4.0), (5838, 81932, 2.0), (3813, 1584, 3.5), (2338, 1385, 3.5), (8031, 1193, 5.0), (5483, 5349, 4.0), (1040, 60832, 4.0), (593, 3347, 4.0), (34, 94959, 5.0), (7597, 356, 3.0), (7602, 1079, 2.0), (73, 4641, 5.0), (942, 2716, 4.0), (6884, 3461, 5.0), (5471, 8372, 3.5), (854, 2396, 2.0), (7862, 1827, 5.0), (5557, 2495, 4.0), (3842, 70286, 4.5), (3047, 3671, 4.5), (4395, 6298, 5.0), (1507, 86298, 0.5), (1272, 26564, 3.5), (7829, 70286, 3.5), (3983, 7087, 4.0), (6944, 1958, 2.0), (6767, 802, 2.5), (5396, 5110, 4.0), (5752, 442, 3.0), (3344, 1370, 4.5), (6049, 464, 3.0), (3177, 33794, 3.5), (7343, 6365, 4.5), (5217, 608, 4.0), (5609, 2467, 4.0), (5738, 1527, 4.0), (1735, 371, 3.0), (6625, 5507, 0.5), (5948, 1036, 4.5), (1052, 33794, 4.5), (7267, 550, 3.0), (5471, 3512, 3.0), (3478, 71282, 4.5), (4372, 3168, 3.5), (3990, 364, 5.0), (1757, 2420, 4.0), (1162, 5349, 3.0), (5174, 3911, 4.5), (2737, 4641, 4.5), (2180, 262, 3.0), (7974, 608, 1.0), (3643, 407, 3.0), (7991, 8973, 4.0), (1133, 33679, 3.0), (2074, 1500, 4.0), (1933, 8689, 3.5), (5870, 4226, 5.0), (3450, 151113, 3.5), (6485, 1172, 5.0), (4553, 1584, 4.0), (5658, 4226, 4.0), (2729, 3911, 4.0), (1272, 5812, 4.0), (6859, 546, 1.0), (3450, 81834, 4.0), (343, 4223, 3.5), (7756, 119145, 4.0), (6767, 44397, 3.0), (4605, 3819, 3.5), (1028, 59369, 5.0), (2729, 3512, 4.0), (5451, 5349, 2.0), (7875, 1193, 4.5), (1757, 3549, 3.0), (4638, 1704, 3.5), (5964, 7347, 4.0), (2729, 4226, 4.0), (4796, 45950, 2.5), (6384, 2858, 3.5), (4311, 5815, 2.5), (3704, 6373, 3.5), (7829, 82461, 3.5), (1931, 3408, 3.5), (995, 1704, 4.5), (1523, 1584, 2.0), (1888, 2396, 3.0), (7769, 8784, 4.5), (1055, 5220, 2.5), (658, 81834, 5.0), (7746, 778, 5.0), (6384, 4086, 3.0), (4796, 7488, 2.5), (2475, 1584, 2.5), (8003, 435, 3.0), (658, 8360, 1.5), (664, 1784, 5.0), (5354, 2509, 3.0), (4605, 4333, 3.0), (4365, 356, 4.5), (6839, 2396, 4.0), (225, 92507, 4.0), (2321, 1274, 4.0), (5838, 3461, 3.0), (6681, 2420, 4.0), (7641, 333, 2.0), (2500, 326, 3.0), (2839, 48780, 4.0), (7184, 3418, 5.0), (6767, 4014, 5.0), (4796, 2543, 3.0), (5658, 193, 2.0), (7724, 2297, 4.5), (2745, 59369, 4.0), (4027, 1345, 4.0), (4072, 1175, 2.0), (1519, 170, 3.0), (497, 924, 4.0), (1039, 165, 4.0), (2281, 70286, 4.0), (3983, 25786, 4.0), (4628, 5349, 4.0), (3450, 54997, 4.5), (5562, 3408, 3.5), (1133, 6934, 4.5), (7381, 3038, 4.0), (3842, 924, 4.0), (3003, 3693, 3.0), (3133, 788, 1.0), (1781, 2858, 4.0), (8042, 81834, 4.0), (2084, 1587, 3.0), (6407, 1527, 3.0), (668, 96488, 4.0), (4796, 1175, 2.0), (2742, 33794, 4.0), (3344, 6957, 5.0), (4605, 2396, 3.0), (3683, 5349, 3.5), (716, 2858, 5.0), (6025, 1079, 4.0), (4796, 6765, 1.5), (6361, 5151, 3.5), (1933, 4670, 2.5), (7682, 608, 4.5), (6039, 475, 4.0), (6752, 366, 3.0), (6295, 1587, 3.0), (5748, 356, 3.0), (4027, 165, 4.0), (3196, 1485, 3.0), (7366, 6934, 4.0), (6752, 356, 5.0), (5574, 1681, 2.5), (6361, 1032, 4.5), (7557, 70286, 4.0), (1933, 80864, 3.0), (4666, 103755, 2.5), (7366, 4238, 4.0), (6884, 5171, 5.0), (3431, 3755, 3.5), (1933, 3769, 3.5), (8127, 356, 5.0), (5418, 1079, 4.0), (5034, 95167, 4.0), (4553, 1370, 3.0), (31, 2396, 5.0), (2564, 504, 3.0), (3520, 1485, 3.5), (4245, 1704, 4.0), (848, 2858, 4.5), (1040, 96815, 3.5), (4294, 2396, 3.5), (7181, 943, 4.0), (2553, 4226, 3.5), (2119, 6365, 2.5), (6295, 1527, 4.0), (4702, 1704, 4.0), (2737, 8949, 4.0), (2321, 778, 5.0), (3994, 3418, 4.0), (1126, 356, 4.5), (6884, 2392, 2.0), (4094, 1620, 3.0), (6949, 1747, 5.0), (8033, 1193, 5.0), (7597, 3479, 4.0), (593, 435, 2.0), (664, 1304, 4.0), (3177, 1240, 3.5), (5418, 4386, 4.0), (4702, 76251, 4.0), (6000, 356, 3.0), (3133, 1485, 3.0), (7977, 1254, 4.5), (4796, 183, 3.5), (4027, 3864, 3.0), (549, 2384, 4.5), (1930, 371, 2.0), (5814, 410, 3.0), (7398, 3418, 4.5), (3839, 1573, 4.5), (3882, 4396, 4.0), (8009, 70286, 4.0), (7954, 5464, 5.0), (5418, 1958, 3.5), (7287, 6365, 3.5), (5838, 136562, 0.5), (640, 236, 5.0), (8031, 55247, 5.0), (5838, 5464, 5.0), (73, 442, 3.5), (7184, 3893, 3.5), (7900, 2716, 4.5), (4702, 5812, 3.0), (5396, 1032, 4.5), (5548, 7444, 3.0), (3450, 94959, 2.5), (2180, 371, 3.0), (7366, 53972, 3.5), (4441, 7143, 1.0), (3081, 6934, 3.0), (4796, 2610, 3.0), (6860, 165, 5.0), (5418, 2858, 5.0), (5724, 276, 4.0), (4796, 50259, 4.0), (3450, 4014, 4.0), (4822, 1573, 3.0), (1453, 494, 3.0), (1927, 1414, 3.0), (1272, 42007, 2.0), (7808, 3408, 3.0), (807, 55247, 4.5), (513, 608, 3.0), (8193, 924, 3.5), (5932, 5784, 1.0), (7185, 2701, 3.5), (3133, 6538, 4.0), (5748, 1135, 3.0), (3344, 924, 3.5), (6938, 48780, 5.0), (7551, 2871, 5.0), (7156, 5349, 3.0), (3369, 2396, 4.5), (4796, 7615, 3.0), (6859, 1269, 3.5), (4294, 163645, 4.5), (5648, 116823, 5.0), (5418, 49, 5.0), (1519, 3471, 4.5), (1700, 1304, 4.0), (7412, 2990, 4.5), (4451, 8644, 4.0), (6898, 6874, 3.0), (4853, 6535, 0.5), (3344, 969, 3.5), (4553, 464, 4.0), (7398, 2129, 3.0), (2715, 1240, 4.0), (5658, 81417, 3.0), (5591, 2716, 4.0), (5403, 55247, 4.5), (7184, 33794, 4.5), (6859, 48780, 5.0), (7522, 4445, 2.0), (2204, 410, 3.0), (1519, 435, 3.0), (7782, 3261, 2.0), (2344, 4226, 4.5), (4951, 4914, 3.5), (8003, 5103, 3.5), (1911, 3893, 3.0), (7395, 1620, 3.0), (3066, 5388, 4.0), (4237, 546, 3.0), (6399, 4974, 5.0), (2387, 48780, 5.0), (3587, 33794, 5.0), (867, 4226, 1.5), (3081, 8784, 3.5), (6212, 926, 5.0), (6898, 1240, 2.0), (549, 1784, 4.0), (1704, 1370, 3.5), (7991, 4359, 5.0), (7724, 6874, 2.5), (3882, 1474, 3.0), (3515, 1240, 5.0), (4372, 122882, 4.0), (7181, 3471, 3.5), (2192, 4226, 4.0), (4510, 1204, 2.0), (497, 1784, 4.0), (6681, 1500, 5.0), (2900, 1353, 4.0), (2245, 1240, 3.0), (1933, 80590, 4.0), (6428, 6957, 3.5), (5396, 3408, 3.0), (8150, 1845, 1.0), (2475, 516, 3.5), (1961, 3512, 5.0), (4521, 101088, 4.5), (1704, 4329, 4.0), (1927, 1385, 4.0), (3665, 3102, 3.0), (5538, 356, 5.0), (6625, 5588, 3.0), (5471, 8533, 5.0), (5848, 5349, 2.5), (5648, 63992, 2.5), (1927, 463, 2.0), (1911, 3178, 4.0), (6039, 4102, 3.0), (3665, 6183, 2.5), (6381, 8949, 2.5), (35, 1240, 4.0), (7263, 3462, 4.5), (7184, 3549, 4.5), (4796, 27768, 4.0), (7622, 80463, 4.0), (4573, 6874, 3.0), (5396, 2871, 3.5), (7991, 3261, 3.5), (4106, 96815, 3.0), (7370, 165, 4.0), (497, 1620, 4.0), (593, 3072, 1.0), (7229, 2396, 3.0), (378, 33794, 4.0), (1293, 8983, 4.0), (1933, 110127, 4.0), (3234, 262, 4.0), (4245, 364, 4.0), (4605, 6537, 2.5), (593, 1036, 3.0), (1570, 3755, 5.0), (3813, 1370, 3.5), (664, 165, 2.0), (1523, 27611, 4.0), (4441, 94959, 5.0), (6681, 442, 3.0), (4608, 12, 3.5), (7209, 1527, 3.0), (6454, 1079, 4.0), (7156, 1240, 2.5), (5574, 6059, 3.0), (5291, 1500, 3.0), (4106, 1784, 3.5), (1340, 48, 5.0), (1776, 6373, 3.5), (4027, 346, 4.0), (4796, 171759, 3.0), (5407, 778, 4.5), (854, 802, 2.0), (4605, 6365, 1.5), (7742, 5574, 4.0), (7900, 356, 3.5), (6220, 276, 2.0), (3344, 464, 3.0), (856, 3819, 4.0), (4702, 4103, 3.5), (343, 8360, 3.5), (1519, 8376, 4.0), (3021, 2042, 4.0), (7263, 118924, 3.5), (3683, 54997, 3.5), (8021, 2716, 4.0), (4796, 8838, 3.5), (7302, 91529, 4.0), (4486, 2600, 2.0), (3983, 6254, 3.0), (4605, 1921, 2.0), (6681, 1587, 3.0), (8124, 2858, 4.0), (6384, 788, 2.0), (5158, 442, 3.0), (4441, 95167, 3.5), (7900, 6709, 4.0), (2655, 2367, 3.0), (4849, 2716, 5.0), (3021, 222, 4.0), (763, 33794, 3.5), (5948, 5151, 2.0), (7398, 4014, 4.0), (343, 1620, 2.5), (7457, 116797, 4.0), (7184, 170, 4.0), (2745, 1061, 4.5), (1523, 1201, 4.0), (7551, 1931, 4.0), (505, 8784, 3.5), (5471, 33794, 4.5), (4072, 175, 3.0), (549, 3623, 2.5), (4027, 1573, 4.0), (5927, 4226, 4.0), (6884, 42738, 3.0), (995, 5103, 3.5), (7802, 8132, 3.5), (807, 4881, 4.0), (2084, 2420, 5.0), (5848, 1204, 3.0), (1228, 1485, 4.0), (965, 3478, 5.0), (351, 1036, 4.5), (5662, 7115, 3.5), (4977, 147384, 3.5), (1120, 41569, 3.5), (7263, 1527, 4.5), (7185, 1704, 4.5), (5838, 1370, 4.0), (6454, 1204, 5.0), (505, 94959, 3.0), (6884, 2990, 4.0), (7281, 1079, 4.5), (4027, 442, 2.0), (1228, 3399, 5.0), (4796, 1958, 4.0), (7873, 1730, 5.0), (2954, 1036, 3.0), (4796, 1135, 4.0), (5838, 94959, 0.5), (4918, 4226, 3.5), (4372, 119145, 4.0), (3344, 442, 3.0), (3051, 1036, 3.0), (5247, 924, 5.0), (6266, 2927, 5.0), (4350, 6874, 4.0), (1062, 1269, 3.0), (2856, 546, 1.0), (3819, 2530, 3.0), (7954, 1907, 2.0), (6028, 2716, 4.0), (1519, 8949, 4.0), (1133, 1527, 3.5), (5322, 64, 2.0), (1000, 4974, 2.0), (5838, 410, 2.5), (6720, 1464, 5.0), (4796, 60341, 2.5), (4302, 63992, 1.5), (1911, 3471, 4.0), (4853, 95167, 1.0), (4423, 2701, 2.0), (4738, 2858, 5.0), (7622, 71264, 3.5), (3313, 608, 5.0), (6884, 5784, 3.5), (5574, 5574, 4.0), (6884, 64197, 5.0), (3643, 2279, 3.0), (3665, 2716, 4.0), (867, 165, 2.0), (4365, 5507, 1.5), (7622, 922, 4.5), (3021, 2288, 4.0), (2277, 356, 5.0), (2160, 67923, 3.5), (1551, 2396, 4.0), (6839, 2410, 3.0), (6908, 76251, 4.0), (4918, 5349, 3.5), (1961, 7226, 3.5), (4350, 119145, 4.5), (5196, 2410, 3.5), (428, 4628, 5.0), (8003, 6215, 3.0), (1776, 788, 2.5), (1930, 2009, 2.0), (505, 79553, 2.5), (1569, 122882, 3.0), (2333, 106100, 4.0), (6854, 5349, 1.0), (4002, 303, 3.0), (7782, 4529, 3.0), (5471, 1240, 4.0), (2737, 4014, 4.0), (1519, 6620, 4.5), (3515, 356, 5.0), (6381, 1193, 3.5), (1927, 1304, 4.0), (3842, 1921, 4.0), (5528, 48, 4.0), (2160, 3408, 4.5), (4423, 2147, 4.0), (5236, 5464, 3.0), (3729, 356, 5.0), (7622, 27815, 3.5), (1933, 33679, 4.0), (5748, 2858, 5.0), (301, 356, 5.0), (2885, 1784, 3.5), (4372, 3408, 2.5), (4796, 70201, 2.0), (5838, 6874, 1.0), (8110, 3715, 3.0), (7802, 1172, 5.0), (3983, 61240, 4.5), (6929, 778, 3.0), (59, 802, 5.0), (7522, 3763, 2.0), (3481, 356, 4.5), (4510, 1527, 4.0), (1570, 8798, 3.5), (8193, 6934, 2.5), (1519, 81834, 4.0), (7398, 2431, 3.0), (1523, 96588, 2.5), (874, 70286, 4.0), (7954, 1717, 2.5), (7184, 1584, 4.0), (5291, 1704, 4.0), (4796, 3307, 3.0), (6764, 608, 4.0), (7782, 2300, 5.0), (4365, 165, 2.0), (549, 1274, 5.0), (7716, 236, 4.0), (5471, 8643, 4.0), (8150, 2676, 4.0), (6212, 302, 3.5), (5446, 8784, 5.0), (7036, 364, 4.0), (8110, 6301, 3.5), (3021, 3638, 3.5), (8009, 1704, 4.0), (2463, 5151, 1.5), (2561, 2705, 4.0), (2084, 4226, 3.0), (4796, 64716, 2.0), (1010, 5349, 4.5), (6938, 59369, 4.5), (2160, 1527, 2.5), (6309, 3969, 1.0), (1054, 519, 3.0), (593, 2716, 4.0), (4605, 1274, 2.0), (6859, 76251, 2.5), (6976, 2858, 3.5), (2426, 116797, 3.0), (5665, 229, 3.0), (6783, 3911, 5.0), (1272, 8376, 3.0), (1228, 1907, 3.0), (6201, 1500, 3.0), (3234, 8376, 4.5), (967, 410, 3.0), (3058, 356, 3.0), (6371, 1747, 4.0), (248, 119145, 2.5), (7974, 8949, 1.0), (84, 475, 4.0), (3831, 2583, 3.0), (3742, 435, 3.0), (6378, 1304, 4.5), (8114, 5388, 4.0), (8132, 356, 3.5), (7263, 6620, 3.5), (6944, 1485, 1.0), (3344, 8376, 4.5), (73, 1345, 4.0), (335, 475, 4.0), (6285, 442, 3.0), (4796, 3261, 2.0), (5888, 116797, 4.0), (6764, 28, 5.0), (5838, 4638, 1.5), (3614, 3623, 4.5), (748, 3261, 3.0), (1781, 1584, 4.0), (7693, 8644, 2.0), (1911, 1584, 4.0), (6767, 31422, 3.0), (2463, 48780, 5.0), (7263, 105801, 1.0), (2561, 2441, 2.0), (6428, 2858, 2.5), (3839, 8798, 3.0), (4853, 1573, 3.0), (1120, 1485, 2.5), (4796, 5238, 3.0), (5347, 38, 5.0), (7991, 924, 1.5), (1062, 3548, 4.0), (7781, 1784, 4.0), (4605, 54997, 4.0), (6884, 1340, 4.0), (7522, 4103, 4.0), (3449, 81834, 4.0), (3983, 1704, 3.0), (6938, 8132, 5.0), (2885, 31225, 2.5), (3023, 2716, 3.0), (6938, 32017, 4.5), (1367, 120392, 2.5), (5574, 2111, 4.0), (3081, 1242, 4.5), (3643, 1036, 5.0), (4025, 2396, 3.0), (7184, 1079, 3.0), (5429, 6934, 4.0), (1272, 86882, 2.5), (848, 8784, 5.0), (1000, 6373, 3.0), (6938, 88515, 3.0), (301, 2384, 3.0), (3983, 56171, 2.0), (2737, 6380, 4.0), (2387, 33794, 4.5), (5396, 27611, 4.0), (8127, 1240, 3.0), (828, 371, 3.0), (4796, 1353, 2.5), (6898, 96728, 3.5), (1272, 3289, 3.5), (5738, 8207, 4.5), (4796, 7087, 3.0), (7781, 2431, 4.5), (7219, 410, 3.0), (3819, 1240, 5.0), (7378, 608, 5.0), (2038, 243, 1.0), (5396, 3034, 4.0), (6681, 3034, 4.0), (738, 608, 4.0), (6938, 4638, 3.5), (3813, 4641, 3.5), (7366, 1584, 4.0), (6212, 3462, 4.5), (5838, 3513, 3.0), (6575, 364, 4.0), (4411, 71264, 3.0), (6929, 3623, 2.5), (5658, 1527, 4.0), (3344, 4643, 3.0), (3450, 97870, 4.0), (2770, 48780, 4.5), (4883, 788, 3.0), (8003, 924, 4.5), (1072, 236, 4.0), (1052, 924, 4.0), (3990, 924, 3.0), (6571, 3623, 4.0), (6361, 72733, 4.5), (3614, 5507, 4.5), (1773, 1201, 4.5), (8024, 82461, 4.0), (3665, 4599, 2.0), (3325, 3408, 2.0), (3973, 91529, 4.5), (4702, 943, 4.5), (7862, 5464, 4.0), (1519, 3654, 4.0), (5217, 2026, 3.0), (7185, 2858, 5.0), (1931, 3969, 3.0), (6485, 778, 3.0), (6884, 117372, 4.0), (8009, 4226, 4.5), (716, 788, 3.0), (5354, 1784, 5.0), (5471, 222, 4.0), (1523, 2420, 2.5), (1735, 550, 3.0), (5848, 86377, 4.0), (1367, 924, 5.0), (6884, 70286, 4.0), (3839, 4643, 2.5), (8124, 2871, 4.0), (4853, 356, 2.5), (4721, 175569, 4.0), (2715, 802, 3.0), (1734, 3418, 4.0), (8114, 6934, 3.0), (7781, 55052, 4.0), (7395, 2858, 5.0), (1933, 168266, 3.5), (5648, 118466, 4.0), (4395, 3471, 2.5), (1930, 2530, 2.0), (5418, 1293, 3.0), (7991, 6166, 2.5), (5034, 33679, 3.0), (4666, 90647, 3.5), (4934, 2367, 3.0), (4853, 8533, 5.0), (7898, 788, 3.0), (5832, 1079, 3.0), (926, 12, 2.0), (7850, 1036, 3.0), (8003, 3034, 3.5), (6542, 2716, 5.0), (8042, 6537, 2.5), (4796, 53000, 3.0), (3450, 2712, 4.0), (2160, 90647, 1.5), (4796, 99220, 3.0), (1086, 3022, 5.0), (6428, 2990, 2.0), (658, 356, 4.0), (3665, 2010, 3.5), (5574, 3755, 3.0), (7954, 79242, 3.5), (3047, 6874, 4.0), (5528, 333, 1.0), (301, 8861, 3.5), (6859, 1527, 4.0), (3117, 303, 2.0), (1272, 4329, 3.5), (6428, 30846, 3.5), (7622, 955, 3.5), (4638, 2858, 4.0), (3304, 1704, 4.5), (6783, 2716, 5.0), (995, 1242, 4.5), (3177, 1527, 3.5), (5960, 475, 5.0), (2463, 89523, 4.0), (7603, 23, 3.5), (6103, 609, 4.0), (4343, 778, 4.5), (1888, 6365, 1.5), (4796, 55052, 3.5), (83, 165, 2.0), (4124, 2009, 5.0), (3021, 546, 3.0), (3839, 53000, 3.0), (797, 8798, 3.5), (7850, 778, 3.5), (1272, 236, 3.0), (7263, 6380, 4.0), (1519, 2990, 3.5), (3882, 2286, 3.0), (7597, 1079, 4.0), (1367, 76251, 1.5), (5446, 91529, 2.0), (3813, 3671, 5.0), (5358, 1304, 4.0), (7398, 8698, 2.0), (7597, 3864, 3.0), (6309, 48, 2.5), (1659, 608, 3.0), (4605, 175, 4.0), (7603, 3755, 3.5), (7954, 2716, 2.5), (8049, 1240, 4.0), (2463, 8376, 2.5), (1927, 802, 4.0), (7807, 778, 4.0), (5418, 3249, 3.0), (7724, 71520, 5.0), (4573, 8360, 4.5), (6212, 2872, 4.5), (5838, 1907, 3.0), (1055, 6365, 2.0), (3304, 1591, 3.5), (2664, 5349, 2.0), (5895, 8360, 4.5), (2954, 640, 3.0), (4713, 4226, 2.0), (3665, 4248, 5.0), (2463, 71518, 3.0), (7263, 5477, 4.0), (7756, 160980, 4.0), (3839, 1036, 3.5), (4605, 3249, 1.5), (3133, 608, 3.5), (6428, 6620, 4.5), (3336, 12, 2.0), (4027, 1845, 4.0), (3060, 2396, 5.0), (6871, 1032, 2.0), (7036, 71264, 4.0), (7343, 119145, 3.5), (6454, 1269, 5.0), (3220, 26662, 4.0), (1933, 72557, 4.0), (8151, 5349, 3.0), (2715, 2716, 5.0), (4664, 788, 3.5), (6938, 1485, 3.5), (848, 3911, 3.5), (6681, 3799, 1.0), (4099, 6333, 5.0), (5948, 4902, 3.5), (2856, 5349, 3.0), (5217, 2064, 4.0), (7281, 1036, 3.5), (5247, 2858, 4.0), (7963, 6957, 3.0), (8127, 435, 3.0), (4936, 1193, 4.5), (1933, 96728, 2.5), (1965, 33794, 3.0), (7850, 4535, 3.5), (6388, 1079, 3.0), (7797, 163645, 4.5), (6485, 1730, 5.0), (7603, 356, 4.5), (1854, 1036, 3.0), (1436, 48780, 3.5), (5531, 1304, 4.0), (1757, 3445, 2.0), (4921, 38798, 3.0), (1582, 12, 1.0), (1704, 2858, 4.0), (248, 106100, 3.0), (3305, 1704, 4.5), (7212, 2396, 4.0), (1523, 116797, 3.5), (6884, 100810, 3.0), (4796, 3201, 4.0), (7963, 2010, 4.0), (7857, 302, 3.0), (1927, 1845, 4.0), (4372, 3513, 2.5), (5396, 3877, 2.0), (744, 48780, 3.5), (6381, 6615, 0.5), (6762, 79242, 5.0), (7551, 6333, 4.0), (7398, 55417, 5.0), (5418, 516, 3.0), (949, 585, 3.0), (7724, 71264, 3.0), (351, 2716, 3.0), (4027, 6373, 2.5), (1964, 550, 5.0), (4411, 6373, 3.0), (248, 84152, 2.0), (3177, 924, 4.0), (3802, 640, 3.0), (797, 5349, 3.0), (4423, 2858, 5.0), (5574, 3168, 4.0), (7721, 2858, 4.5), (1055, 8861, 2.5), (717, 3671, 4.0), (2561, 1527, 2.0), (7281, 1193, 4.0), (3369, 1779, 2.5), (807, 926, 4.0), (8114, 1704, 4.5), (854, 2384, 1.0), (6428, 1907, 5.0), (3983, 2488, 3.5), (549, 3671, 5.0), (7343, 6934, 5.0), (7229, 1527, 3.0), (6388, 1036, 3.0), (4553, 761, 3.0), (5772, 103688, 4.5), (4395, 5879, 2.0), (1126, 2858, 4.0), (3860, 3755, 3.0), (6189, 1242, 3.0), (3791, 788, 2.5), (6938, 80590, 3.0), (4372, 116823, 1.5), (6949, 442, 3.0), (4796, 6215, 2.5), (6938, 65802, 4.0), (1345, 4226, 4.0), (1337, 356, 5.0), (386, 608, 3.0), (5648, 59727, 4.0), (664, 1079, 5.0), (4372, 122920, 3.0), (8105, 1036, 4.0), (6212, 4643, 0.5), (299, 356, 4.0), (8003, 3286, 3.0), (3665, 4238, 4.0), (3234, 2384, 5.0), (6039, 5349, 5.0), (2084, 95167, 3.5), (4124, 2010, 5.0), (8010, 494, 5.0), (5123, 61240, 2.5), (5313, 27592, 4.0), (4721, 33794, 4.0), (2745, 86835, 2.5), (3994, 778, 4.0), (3729, 1036, 5.0), (73, 94959, 4.5), (3860, 1863, 4.0), (6889, 59369, 3.5), (4605, 4086, 4.0), (1961, 84152, 5.0), (6328, 3755, 0.5), (4106, 59016, 3.5), (5418, 4126, 2.0), (5838, 1681, 4.0), (2204, 550, 3.0), (7381, 1193, 5.0), (2745, 165551, 4.0), (3344, 55247, 3.0), (5356, 1620, 2.0), (2183, 5349, 4.5), (6938, 57401, 4.0), (2521, 2300, 4.0), (7756, 107069, 4.5), (5948, 4643, 2.0), (3369, 8784, 3.5), (6884, 3034, 3.0), (8110, 53972, 4.0), (784, 1573, 4.0), (1055, 6957, 1.0), (4849, 1304, 3.5), (1507, 4226, 3.5), (1734, 3450, 3.0), (867, 1527, 1.5), (7274, 1201, 4.0), (6614, 165, 3.0), (5396, 1036, 4.0), (2475, 3408, 2.5), (6752, 333, 3.0), (1614, 33794, 3.5), (4796, 1297, 3.0), (5562, 42738, 3.0), (3003, 2441, 3.0), (7781, 1193, 3.0), (1385, 1304, 4.5), (1961, 3408, 5.0), (8049, 3102, 4.0), (1569, 7007, 5.0), (5196, 164909, 5.0), (7900, 4643, 2.5), (5648, 79895, 4.5), (6625, 1204, 5.0), (5313, 4641, 4.0), (5748, 3693, 2.0), (6767, 7087, 4.5), (6388, 519, 2.0), (3066, 546, 3.0), (5838, 140805, 3.5), (4350, 33794, 4.0), (1773, 4226, 4.0), (4605, 109243, 3.5), (6380, 1730, 5.0), (5091, 778, 4.5), (5356, 3513, 3.0), (4451, 788, 4.0), (5772, 176937, 3.0), (1120, 1370, 3.0), (2338, 59369, 4.0), (7185, 4226, 5.0), (3344, 1616, 3.0), (7263, 61240, 4.0), (4245, 1036, 4.0), (3481, 48780, 4.5), (4608, 1274, 4.5), (4395, 4974, 4.5), (7954, 6373, 1.5), (5429, 2716, 4.0), (3065, 4014, 3.5), (3369, 4974, 3.0), (6384, 969, 4.0), (1519, 6333, 4.0), (7974, 61240, 4.0), (7900, 8376, 2.0), (3305, 356, 3.5), (926, 66, 1.0), (3882, 4834, 2.0), (8105, 2425, 5.0), (5648, 8360, 4.0), (5403, 1747, 3.0), (2103, 1704, 3.0), (2060, 2676, 4.0), (6399, 6410, 2.5), (6859, 6765, 4.0), (4796, 85, 3.0), (7862, 1204, 5.0), (4027, 3450, 4.0), (3831, 802, 5.0), (4411, 95167, 4.0), (6212, 5507, 0.5), (6767, 4077, 4.0), (6077, 1485, 2.5), (1120, 1201, 4.5), (6384, 2064, 4.0), (5091, 8949, 4.0), (4677, 1036, 4.0), (340, 116797, 4.5), (3665, 1241, 5.0), (2902, 356, 5.0), (5798, 1527, 5.0), (1040, 63826, 3.5), (7974, 6874, 0.5), (3431, 4223, 4.5), (301, 1240, 4.5), (716, 1573, 3.0), (5798, 1193, 3.5), (7229, 84152, 2.5), (5574, 442, 3.5), (1272, 6032, 4.0), (4664, 5464, 1.5), (4731, 608, 5.0), (7156, 8361, 2.0), (443, 1414, 2.0), (174, 4014, 3.5), (3672, 371, 4.0), (6968, 1242, 3.0), (3943, 3969, 3.0), (5557, 2858, 4.0), (1086, 4881, 3.5), (3450, 2871, 4.0), (7963, 1193, 4.0), (6748, 1527, 5.0), (7602, 2712, 2.0), (2060, 356, 5.0), (4302, 8798, 3.5), (6949, 1193, 4.0), (3813, 1242, 2.5), (1589, 1079, 5.0), (7954, 788, 1.0), (593, 1827, 5.0), (7991, 1061, 4.0), (4796, 26587, 3.0), (7991, 3408, 4.0), (3093, 48780, 4.5), (5662, 924, 4.0), (5354, 2384, 2.0), (2837, 2858, 5.0), (2212, 4226, 4.0), (1337, 1032, 4.0), (926, 3261, 5.0), (4751, 788, 4.0), (4605, 3168, 3.5), (745, 6874, 5.0), (6201, 1254, 4.5), (73, 34153, 4.0), (6869, 8644, 4.0), (6986, 80463, 5.0), (1931, 4014, 2.5), (7724, 64716, 3.5), (5451, 1240, 4.0), (7724, 62644, 3.5), (593, 1587, 3.0), (6884, 761, 1.0), (5205, 1784, 4.0), (7603, 1784, 4.0), (1040, 42738, 2.0), (926, 1079, 5.0), (1519, 65130, 4.0), (1933, 101088, 3.0), (6938, 1240, 3.0), (3791, 6934, 4.0), (7184, 2396, 5.0), (3947, 1193, 3.0), (1507, 157699, 2.0), (7873, 3201, 5.0), (3268, 3623, 3.0), (4311, 1370, 4.0), (5748, 1717, 3.0), (7092, 1175, 5.0), (7622, 3030, 5.0), (7597, 3347, 3.0), (5948, 27611, 4.0), (3196, 2880, 4.0), (4605, 82378, 2.5), (6377, 8784, 3.5), (3478, 55247, 2.0), (2521, 1172, 4.0), (1282, 49815, 5.0), (5838, 924, 3.0), (926, 3684, 5.0), (4796, 5806, 3.0), (6884, 58975, 3.0), (2770, 8910, 4.5), (7815, 585, 2.0), (187, 2858, 4.0), (7184, 1527, 5.0), (248, 164909, 4.0), (7954, 80463, 4.5), (4796, 175, 3.0), (4027, 6215, 5.0), (3450, 124859, 3.0), (1052, 1704, 4.0), (7412, 33679, 3.5), (3994, 2712, 5.0), (5964, 2410, 2.0), (497, 1172, 5.0), (2729, 8949, 4.0), (2038, 788, 1.0), (5964, 12, 4.5), (6898, 81834, 4.0), (1933, 175569, 3.5), (2745, 163645, 4.0), (7366, 41569, 4.0), (3665, 1616, 3.0), (6201, 1193, 5.0), (1570, 6765, 4.5), (1507, 80463, 3.5), (1120, 7143, 1.5), (1931, 79242, 3.0), (2463, 6365, 2.0), (920, 1345, 2.0), (1911, 6373, 3.5), (8042, 26662, 5.0), (3133, 170705, 4.0), (4967, 1907, 4.0), (2779, 4226, 5.0), (7046, 54997, 4.0), (1372, 96588, 1.5), (4554, 364, 3.0), (4106, 8361, 1.5), (7782, 371, 3.0), (8114, 364, 5.0), (2715, 356, 4.0), (7229, 5349, 2.5), (7875, 3347, 4.0), (4027, 1620, 3.5), (6181, 122882, 2.5), (3973, 6874, 1.5), (6396, 2401, 3.0), (6938, 85020, 4.0), (248, 1036, 3.5), (7782, 3893, 3.0), (6938, 81229, 4.5), (5658, 33679, 2.5), (2053, 1485, 1.0), (443, 356, 5.0), (1704, 608, 5.0), (4311, 1240, 3.5), (1933, 1527, 3.5), (1519, 1293, 4.5), (2837, 1135, 5.0), (3683, 1274, 3.5), (6388, 23, 3.0), (2084, 356, 5.0), (6884, 1032, 3.0), (7267, 435, 2.0), (4094, 364, 4.0), (5217, 585, 3.0), (6884, 1584, 5.0), (1933, 26700, 3.5), (549, 6874, 4.5), (1961, 8948, 4.5), (6212, 6333, 2.0), (3665, 4659, 2.0), (4605, 1345, 3.5), (36, 8949, 4.0), (8003, 2712, 3.5), (5322, 788, 1.0), (1272, 4077, 3.0), (6767, 788, 1.0), (4605, 364, 2.0), (2338, 6934, 3.5), (2475, 2009, 4.0), (2326, 33794, 4.5), (4934, 608, 5.0), (3983, 8025, 4.0), (7991, 1193, 3.0), (5356, 410, 2.0), (1776, 8376, 3.5), (3065, 1193, 4.5), (4796, 58975, 2.0), (4411, 106441, 3.0), (1742, 1240, 2.5), (2837, 3178, 5.0), (3983, 3038, 4.5), (6285, 2410, 2.0), (3021, 8644, 4.0), (4002, 364, 4.0), (7398, 778, 4.0), (8021, 364, 5.0), (3133, 122882, 5.0), (2655, 2846, 4.0), (5158, 356, 5.0), (7551, 1204, 4.5), (5752, 356, 5.0), (6929, 33794, 3.0), (5574, 23, 3.5), (5838, 2828, 1.0), (1961, 4238, 5.0), (4027, 6671, 4.0), (5832, 364, 3.0), (640, 1704, 3.5), (949, 2431, 5.0), (1929, 137337, 4.0), (3066, 356, 4.5), (7862, 5349, 4.0), (7551, 8798, 3.5), (5091, 1172, 4.5), (7829, 356, 3.0), (995, 802, 4.0), (1519, 5349, 4.0), (340, 1036, 5.0), (7583, 1931, 0.5), (5838, 5507, 2.0), (4441, 6874, 3.0), (4372, 3034, 3.5), (8049, 435, 3.0), (8049, 4102, 3.0), (7781, 84152, 4.0), (379, 69644, 5.0), (7862, 608, 5.0), (6767, 26587, 5.0), (2452, 163645, 2.5), (5548, 608, 4.5), (3369, 8798, 4.0), (1133, 8798, 3.5), (5609, 1584, 4.0), (3011, 63992, 5.0), (1558, 1385, 3.5), (6251, 4226, 5.0), (7862, 4641, 4.0), (4440, 81834, 5.0), (1927, 338, 4.0), (5196, 168266, 3.5), (3021, 8361, 4.0), (6399, 2716, 4.5), (6898, 94959, 4.5), (8114, 608, 4.5), (4605, 6874, 2.0), (8003, 303, 3.5), (3665, 3515, 5.0), (1757, 1269, 3.0), (5562, 91529, 3.0), (6889, 6615, 1.5), (8003, 1704, 5.0), (5352, 1474, 2.0), (4918, 6874, 4.0), (7597, 1274, 3.0), (5446, 2858, 5.0), (6189, 175, 3.0), (7551, 3168, 3.5), (5838, 60040, 3.5), (1523, 8644, 3.5), (6258, 2927, 4.5), (1933, 4122, 3.5), (4440, 76251, 3.5), (3057, 608, 4.0), (2281, 1784, 3.0), (549, 926, 5.0), (8150, 2384, 4.0), (8049, 4498, 3.0), (5648, 94959, 3.5), (3791, 2924, 4.0), (379, 76251, 1.0), (7782, 1193, 4.0), (4786, 55052, 3.0), (1378, 1201, 4.0), (5320, 1863, 3.0), (5895, 122882, 5.0), (7378, 356, 5.0), (1133, 356, 4.0), (1124, 1527, 2.0), (3450, 105429, 4.0), (6371, 5464, 3.5), (1519, 5151, 3.0), (5574, 8376, 5.0), (6381, 435, 2.5), (2463, 72733, 3.5), (4608, 356, 3.5), (3791, 924, 3.5), (1511, 356, 5.0), (4106, 3355, 4.5), (4796, 4809, 3.0), (6898, 356, 2.5), (7212, 608, 4.0), (5838, 3504, 3.0), (1028, 70286, 5.0), (4796, 1238, 2.0), (5948, 464, 3.0), (6860, 1779, 4.0), (2839, 82378, 3.5), (2199, 1587, 4.0), (6767, 3512, 4.0), (7682, 356, 2.5), (1716, 1193, 3.5), (4664, 6537, 2.5), (2610, 5349, 3.0), (5772, 4386, 3.0), (4934, 2410, 3.0), (3450, 2396, 4.0), (7603, 1370, 3.0), (6884, 2858, 5.0), (5562, 6874, 4.0), (5658, 165, 4.0), (2992, 6753, 5.0), (3813, 165, 4.0), (2338, 1240, 3.0), (1337, 802, 3.0), (6898, 608, 3.5), (7229, 6934, 2.0), (3304, 6373, 4.0), (5752, 338, 3.0), (2500, 356, 5.0), (2626, 193, 1.0), (6929, 48877, 1.0), (4796, 3756, 2.0), (2898, 1370, 2.5), (8033, 6365, 5.0), (3210, 1584, 5.0), (4158, 585, 0.5), (5446, 55052, 4.0), (5471, 1385, 3.0), (7769, 3755, 4.0), (4455, 364, 3.5), (4853, 122920, 1.5), (3983, 5056, 4.0), (6625, 1573, 4.0), (3344, 8372, 2.0), (2135, 364, 5.0), (4372, 1527, 3.5), (7746, 1240, 4.5), (8033, 924, 5.0), (6022, 608, 2.0), (4628, 3684, 2.5), (4060, 516, 5.0), (4796, 42002, 2.5), (4706, 55247, 2.0), (2199, 1304, 5.0), (2463, 6957, 1.5), (2245, 8360, 2.0), (5838, 5110, 5.0), (1933, 165551, 3.5), (7603, 442, 3.5), (7274, 1274, 4.0), (3021, 8132, 4.0), (4853, 81932, 4.0), (39, 6537, 2.5), (549, 3893, 3.5), (3450, 922, 3.5), (3717, 1304, 5.0), (7603, 2064, 3.5), (7622, 1240, 4.5), (1511, 4641, 5.0), (343, 6537, 3.0), (5589, 761, 3.0), (957, 86882, 3.5), (4936, 89470, 3.5), (1883, 1036, 3.5), (497, 2712, 3.0), (3943, 788, 4.0), (1589, 3408, 3.0), (3081, 356, 3.0), (6384, 3450, 1.5), (3051, 788, 3.0), (3065, 6874, 4.5), (942, 64716, 4.5), (1133, 6333, 3.5), (4666, 81229, 4.0), (547, 364, 4.0), (3304, 303, 4.5), (731, 1242, 4.0), (4027, 30846, 2.5), (7622, 1345, 4.0), (3761, 640, 5.0), (7263, 86882, 4.0), (428, 1036, 4.0), (3781, 333, 5.0), (3450, 8207, 4.0), (6752, 550, 3.0), (1933, 139857, 4.0), (7263, 3504, 4.5), (5948, 2367, 3.0), (4605, 116823, 3.0), (340, 48780, 5.0), (2333, 356, 4.5), (2297, 333, 3.0), (2997, 1784, 4.5), (4796, 6775, 2.5), (1569, 64716, 4.0), (3234, 2716, 3.0), (7644, 6333, 4.5), (4664, 88345, 3.0), (1367, 7143, 1.5), (1930, 2431, 1.0), (4027, 3064, 1.0), (3687, 165, 3.0), (1582, 66, 5.0), (4106, 2288, 5.0), (8042, 103042, 3.5), (4702, 6620, 4.0), (5403, 2858, 5.0), (3344, 8983, 4.0), (505, 73808, 2.0), (1507, 34435, 0.5), (3959, 81834, 5.0), (1856, 165, 3.0), (957, 3462, 4.0), (362, 1304, 3.0), (5471, 2431, 3.0), (5574, 6685, 1.5), (4796, 3851, 2.0), (1000, 86882, 4.5), (1570, 2716, 4.0), (1007, 2858, 4.0), (7046, 1036, 5.0), (135, 5464, 4.0), (8151, 7143, 3.5), (3234, 364, 3.0), (1385, 2858, 4.5), (4302, 8361, 3.0), (4311, 55052, 3.5), (4796, 236, 1.0), (3994, 170, 3.0), (7875, 1240, 4.0), (1272, 155392, 3.0), (7551, 3911, 4.5), (3717, 4643, 1.0), (3268, 5463, 3.0), (4440, 1193, 3.5), (4796, 127186, 3.0), (386, 1204, 5.0), (4835, 1036, 4.0), (926, 410, 5.0), (6762, 84152, 5.0), (379, 8957, 5.0), (7640, 6874, 5.0), (6938, 7444, 3.0), (2160, 3623, 3.0), (3610, 4226, 3.5), (1570, 1500, 5.0), (1933, 58425, 5.0), (1272, 68858, 3.5), (6752, 435, 3.0), (6860, 70286, 4.0), (5407, 170, 3.5), (4702, 78039, 3.5), (1541, 119145, 4.5), (7781, 65130, 4.0), (7557, 1921, 4.0), (4347, 1340, 2.0), (1272, 42217, 5.0), (549, 3072, 4.5), (8136, 333, 3.0), (3717, 5349, 5.0), (2954, 475, 5.0), (5396, 1242, 3.5), (1454, 48780, 5.0), (6309, 2858, 3.5), (8151, 116797, 4.0), (4142, 5335, 2.0), (2160, 5574, 3.5), (7263, 2858, 4.5), (7381, 2701, 2.0), (7603, 3911, 2.5), (7229, 6874, 3.5), (920, 1747, 5.0), (5318, 4014, 2.0), (7398, 3102, 4.5), (2905, 4223, 5.0), (6049, 170, 2.0), (1523, 802, 3.0), (2463, 1784, 4.0), (8110, 2967, 3.5), (3450, 43460, 2.5), (5948, 494, 2.0), (6889, 81834, 5.0), (3065, 61240, 5.0), (1659, 302, 3.0), (2742, 91529, 4.0), (3781, 550, 5.0), (7954, 86298, 1.0), (6212, 356, 2.0), (949, 1784, 5.0), (4664, 3911, 4.0), (4431, 1584, 4.0), (2655, 3261, 4.0), (7395, 3512, 3.0), (1927, 333, 4.0), (4470, 6709, 4.0), (1385, 55052, 4.5), (2885, 2858, 4.5), (549, 546, 1.5), (1523, 2528, 2.5), (45, 3638, 4.0), (1120, 55805, 4.0), (4441, 1784, 4.0), (7370, 442, 4.0), (807, 3408, 4.0), (5838, 1717, 2.0), (7682, 1704, 4.5), (4124, 1527, 4.0), (1927, 585, 2.0), (3133, 27611, 4.0), (7862, 3450, 1.0), (5319, 4226, 3.0), (4510, 1079, 3.0), (5319, 1747, 4.0), (5418, 3911, 4.0), (6681, 1573, 1.0), (3344, 5103, 4.0), (1933, 4529, 2.5), (8193, 1370, 4.0), (5648, 44397, 4.0), (7263, 4914, 4.5), (7153, 119145, 5.0), (7769, 1527, 3.5), (5418, 276, 2.0), (2064, 1240, 4.0), (213, 1584, 5.0), (4094, 3261, 4.0), (7819, 165, 5.0), (3614, 8861, 5.0), (2475, 3911, 3.5), (4605, 7284, 1.5), (763, 6874, 3.5), (4322, 475, 5.0), (745, 48780, 5.0), (8038, 1171, 4.0), (6049, 236, 3.0), (45, 5151, 3.5), (549, 356, 3.5), (6869, 2600, 4.5), (854, 262, 3.0), (7873, 778, 4.0), (6258, 1193, 4.5), (1931, 1704, 3.5), (6802, 585, 3.0), (248, 94959, 4.0), (3643, 1620, 4.0), (716, 924, 5.0), (1367, 1201, 2.0), (5724, 1036, 5.0), (7974, 48, 2.5), (5062, 80590, 4.5), (4605, 8957, 3.0), (3179, 1201, 4.5), (6884, 6615, 2.0), (4072, 929, 3.0), (7842, 410, 3.0), (5081, 4226, 4.0), (1569, 6365, 1.5), (7781, 5349, 3.5), (5559, 6874, 5.0), (5724, 1704, 5.0), (6859, 608, 4.5), (5609, 924, 4.5), (6485, 1704, 5.0), (1041, 2396, 4.0), (3450, 85438, 3.5), (8003, 5574, 2.0), (2074, 585, 4.0), (6030, 3471, 2.0), (3005, 27815, 4.0), (4311, 2701, 3.5), (5948, 2288, 4.5), (2715, 2396, 4.0), (6884, 170, 5.0), (253, 356, 5.0), (414, 6373, 3.0), (7640, 3072, 3.5), (4350, 1620, 4.0), (3336, 2064, 5.0), (1272, 1704, 2.5), (3210, 1036, 4.0), (1000, 3178, 4.0), (1507, 1201, 4.0), (5574, 3268, 2.0), (2839, 4089, 2.5), (6908, 6874, 4.5), (2890, 1193, 4.0), (6884, 3408, 3.0), (7185, 1573, 3.5), (5034, 4226, 4.0), (8150, 2396, 4.0), (1169, 4226, 4.5), (4934, 2431, 1.0), (6884, 1591, 3.0), (1933, 4359, 2.5), (1519, 4974, 3.0), (5772, 1907, 4.5), (2475, 71520, 3.5), (3717, 3671, 3.0), (920, 1717, 2.0), (3312, 364, 4.0), (7229, 1616, 3.0), (2500, 229, 3.0), (4094, 1784, 4.0), (3704, 3755, 3.5), (2060, 1304, 5.0), (6000, 1584, 5.0), (5356, 4643, 5.0), (4731, 4226, 3.5), (3450, 1201, 3.0), (6384, 2876, 1.0), (5658, 6333, 4.0), (7092, 1171, 5.0), (1304, 165, 2.5), (702, 116823, 4.0), (1569, 5349, 0.5), (6767, 6373, 3.5), (4796, 27843, 3.5), (3947, 1036, 4.0), (5545, 1240, 5.0), (5948, 1573, 3.0), (299, 3408, 4.0), (4605, 1172, 2.5), (1337, 236, 3.0), (287, 2716, 3.0), (203, 8011, 5.0), (5346, 356, 4.0), (7184, 5608, 5.0), (3450, 1573, 4.0), (7954, 130576, 4.0), (549, 2716, 4.5), (6428, 3030, 4.5), (378, 4226, 4.0), (248, 55247, 2.5), (1436, 2716, 4.0), (3336, 1240, 4.0), (2567, 364, 4.0), (3882, 1958, 4.0), (920, 4529, 4.0), (1272, 165, 2.5), (2183, 1485, 4.0), (4302, 33794, 4.0), (1040, 100810, 3.0), (3507, 356, 3.0), (1120, 6373, 2.5), (745, 70286, 5.0), (6767, 2634, 2.0), (45, 4223, 3.5), (744, 1704, 4.0), (807, 5339, 3.0), (1133, 1573, 4.0), (4027, 3249, 2.5), (4451, 2420, 3.0), (2737, 52952, 4.0), (4025, 4238, 4.0), (3344, 519, 3.5), (5091, 4641, 4.5), (7640, 4226, 4.0), (5356, 3347, 4.0), (949, 356, 3.0), (1086, 3623, 3.0), (5848, 608, 3.5), (3081, 2858, 4.0), (1162, 356, 5.0), (7693, 3408, 2.0), (4323, 608, 4.0), (3665, 4266, 4.0), (1541, 122920, 4.5), (5658, 62374, 4.0), (2992, 5103, 3.0), (3663, 2716, 4.0), (4361, 6373, 3.5), (5062, 84152, 5.0), (5418, 1193, 3.5), (5346, 3034, 4.0), (1120, 1584, 3.0), (7954, 3471, 4.5), (5948, 4226, 4.5), (5061, 80463, 3.5), (1272, 924, 3.0), (6647, 3755, 4.0), (7366, 6318, 3.5), (6416, 1588, 3.0), (1931, 608, 4.0), (60, 464, 4.0), (7398, 4334, 2.5), (6681, 3864, 2.0), (6201, 608, 5.0), (716, 608, 5.0), (3234, 6538, 4.0), (5591, 4226, 4.0), (7641, 356, 4.0), (6388, 608, 5.0), (1931, 80463, 3.5), (7815, 778, 5.0), (848, 5349, 4.0), (1523, 106766, 3.5), (5091, 8361, 2.5), (1345, 1584, 2.5), (5277, 6535, 3.0), (7274, 1240, 5.0), (7769, 48, 2.5), (7603, 8644, 1.5), (7212, 1238, 2.0), (3882, 4359, 5.0), (4106, 8798, 5.0), (2655, 3138, 5.0), (6949, 3512, 2.0), (3520, 1193, 4.5), (1523, 788, 2.5), (4796, 6293, 3.5), (1704, 969, 4.0), (5648, 95167, 5.0), (5346, 4014, 4.0), (6407, 54997, 4.0), (957, 78039, 5.0), (949, 435, 2.0), (4934, 410, 4.0), (4347, 2858, 5.0), (8146, 3408, 2.5), (5888, 104879, 3.5), (4294, 48780, 4.0), (6454, 969, 5.0), (4372, 1240, 3.5), (414, 1036, 0.5), (8033, 1036, 4.5), (6938, 92507, 4.0), (6625, 2924, 4.0), (6361, 38798, 3.5), (1933, 90647, 3.5), (4027, 303, 3.0), (5752, 222, 4.0), (5591, 356, 4.0), (7644, 6537, 4.5), (6884, 41569, 1.5), (36, 1584, 4.0), (8124, 3623, 1.0), (7963, 71899, 3.5), (5960, 6365, 3.0), (1367, 5151, 1.5), (4786, 91529, 5.0), (4027, 338, 3.0), (5356, 1193, 5.0), (3515, 165, 5.0), (5072, 2716, 3.0), (920, 4226, 4.0), (7844, 91529, 4.0), (7781, 4154, 4.0), (6898, 1485, 1.5), (6762, 356, 4.0), (7543, 1485, 1.5), (3882, 1079, 4.0), (3665, 1304, 2.0), (1933, 2871, 4.0), (2333, 1784, 4.0), (8003, 1784, 3.0), (5838, 1591, 4.0), (5574, 1370, 3.5), (1854, 8376, 3.5), (4372, 3030, 3.5), (5061, 80864, 3.0), (6869, 1584, 4.5), (5960, 356, 5.0), (4431, 117, 4.0), (1781, 27790, 4.0), (3994, 1704, 4.0), (5437, 33794, 4.0), (6201, 8949, 5.0), (5658, 1485, 3.5), (6049, 364, 5.0), (3450, 1242, 4.0), (1781, 5812, 4.5), (1931, 1304, 3.5), (3450, 3638, 3.0), (7622, 2300, 4.5), (2038, 371, 2.0), (8033, 1527, 5.0), (6485, 3072, 4.0), (7263, 96815, 3.0), (6000, 4638, 4.0), (6548, 5507, 4.0), (3450, 99220, 4.0), (7900, 1784, 4.0), (5948, 6333, 4.0), (4731, 33794, 2.5), (957, 94959, 4.5), (7036, 6333, 3.5), (6625, 1342, 2.0), (158, 761, 3.0), (6839, 2990, 3.0), (4237, 356, 5.0), (3369, 6333, 3.5), (6938, 34129, 3.5), (7263, 91529, 4.5), (5319, 3408, 4.0), (7603, 6957, 3.0), (4311, 5574, 3.5), (593, 1342, 3.0), (8146, 435, 3.5), (5662, 8670, 3.5), (73, 4226, 4.0), (4894, 550, 2.0), (1911, 2716, 3.0), (6000, 1193, 5.0), (5319, 2858, 4.5), (4311, 3917, 3.0), (4027, 2300, 5.0), (3983, 909, 4.0), (4027, 1747, 4.5), (593, 1870, 4.0), (6201, 4226, 5.0), (7229, 5464, 2.5), (4605, 8361, 1.5), (6839, 1983, 3.0), (5895, 168366, 3.5), (3520, 442, 4.5), (1931, 41569, 2.5), (3733, 3917, 3.0), (4290, 5507, 3.0), (6399, 6333, 3.5), (4302, 8533, 3.5), (378, 4102, 4.0), (3643, 494, 4.0), (1691, 222, 4.0), (2387, 53956, 4.5), (7954, 54881, 4.0), (505, 3504, 4.0), (3450, 6538, 4.0), (7963, 6620, 4.0), (7420, 364, 5.0), (6859, 89190, 2.5), (2160, 8361, 2.5), (5838, 2111, 4.0), (1931, 3418, 3.0), (4431, 1500, 5.0), (5848, 70286, 3.5), (4934, 1304, 5.0), (6767, 3969, 3.0), (6859, 2712, 4.5), (1781, 5288, 4.5), (7742, 5608, 4.0), (6625, 5388, 4.0), (5895, 56171, 2.0), (4664, 4226, 2.0), (7395, 1717, 1.0), (7749, 1269, 5.0), (4796, 76079, 3.0), (5964, 8360, 4.5), (7366, 6800, 3.0), (1757, 1297, 3.0), (4521, 3355, 5.0), (1757, 969, 5.0), (8132, 3925, 3.0), (7598, 2396, 4.0), (1757, 3418, 4.0), (2084, 924, 3.0), (1933, 2401, 3.0), (4311, 6537, 3.5), (4027, 2077, 4.0), (5034, 1240, 3.5), (2779, 3408, 4.0), (5352, 2384, 5.0), (2160, 33679, 3.0), (3983, 3030, 3.5), (7398, 1254, 4.5), (3831, 2312, 4.0), (5418, 3478, 3.0), (3672, 475, 5.0), (8003, 6166, 2.5), (4796, 2396, 2.0), (1680, 6753, 5.0), (4294, 80463, 3.0), (4361, 1274, 2.0), (4796, 6717, 3.0), (4027, 650, 5.0), (6628, 2716, 3.0), (5752, 585, 3.0), (4025, 1240, 5.0), (4245, 356, 4.5), (3066, 1464, 3.5), (4372, 1370, 3.0), (8042, 364, 4.0), (4605, 55247, 4.0), (4796, 922, 3.0), (6767, 53972, 4.0), (1569, 2858, 5.0), (1911, 1036, 4.5), (73, 33794, 4.5), (7343, 2009, 4.0), (4372, 53972, 2.0), (2626, 371, 3.0), (1752, 2420, 3.0), (6767, 3796, 3.5), (2212, 924, 4.5), (5236, 2858, 4.0), (5752, 165, 3.0), (1974, 1907, 4.5), (957, 8533, 5.0), (4796, 924, 5.0), (5158, 364, 5.0), (5396, 1474, 1.0), (1507, 442, 2.5), (343, 1385, 2.0), (3994, 193, 3.0), (4106, 6537, 3.0), (4666, 52287, 3.0), (2060, 3516, 2.0), (995, 410, 0.5), (7398, 4881, 4.0), (1028, 2410, 4.0), (3133, 5171, 2.0), (4883, 110730, 3.5), (7398, 31437, 4.0), (5476, 58975, 4.5), (7802, 1274, 4.5), (4796, 3102, 4.0), (4796, 59118, 4.0), (893, 51080, 4.5), (6929, 6874, 3.5), (1507, 1704, 4.5), (4853, 72733, 1.0), (3819, 1036, 4.0), (3831, 64, 2.0), (4702, 926, 3.0), (1519, 94959, 5.0), (8049, 943, 4.0), (7302, 4643, 3.5), (4674, 1784, 4.0), (513, 1201, 2.0), (5662, 1587, 2.0), (6884, 1485, 4.0), (5123, 55052, 3.5), (3665, 2147, 2.0), (343, 494, 2.0), (7991, 8784, 4.0), (3336, 1704, 4.5), (2139, 519, 3.0), (340, 788, 2.5), (3450, 1385, 3.5), (7974, 1032, 3.5), (8049, 356, 2.0), (7092, 1079, 4.0), (2204, 356, 5.0), (4142, 3408, 3.0), (5748, 969, 5.0), (1054, 1704, 5.0), (8110, 2312, 3.5), (3450, 5103, 4.0), (7597, 922, 4.0), (4027, 2738, 4.0), (1757, 1584, 4.0), (2997, 5103, 4.0), (6499, 494, 4.0), (8049, 3405, 4.0), (7274, 1464, 4.0), (7274, 778, 4.0), (1453, 2338, 3.0), (5346, 53000, 2.5), (8049, 1587, 4.0), (4072, 608, 5.0), (1372, 8533, 1.5), (5446, 6957, 4.5), (7622, 608, 5.0), (7991, 4881, 3.5), (7685, 1500, 4.0), (1523, 41569, 2.5), (5964, 4226, 3.5), (5356, 924, 4.0), (4027, 1171, 3.0), (5418, 569, 3.0), (2745, 38798, 3.0), (6938, 1527, 4.0), (4290, 3638, 2.0), (6986, 111113, 4.0), (362, 1036, 2.0), (6028, 1201, 4.5), (1041, 1784, 4.0), (6859, 1784, 3.5), (1126, 154941, 5.0), (2204, 364, 3.0), (5396, 2712, 3.5), (4027, 3466, 4.0), (4605, 64197, 3.0), (6212, 8207, 2.5), (6869, 6709, 4.5), (3813, 922, 4.0), (3450, 364, 3.5), (8132, 1193, 4.0), (5352, 1747, 5.0), (4060, 519, 1.0), (2346, 1573, 5.0), (571, 5349, 4.5), (7263, 8376, 4.5), (4664, 95167, 3.5), (4411, 356, 5.0), (5948, 1241, 3.5), (287, 1079, 4.0), (6212, 1500, 3.0), (3673, 1345, 4.0), (1340, 364, 5.0), (4894, 356, 4.0), (4027, 4082, 3.0), (4721, 81932, 3.5), (1752, 4226, 4.0), (1961, 111795, 5.0), (6428, 1584, 3.5), (2087, 356, 4.5), (4605, 4643, 2.0), (6681, 3638, 3.0), (5838, 47423, 3.5), (1040, 2858, 2.5), (4376, 2858, 5.0), (3369, 2858, 3.0), (8110, 1079, 3.5), (1930, 410, 1.0), (926, 1921, 5.0), (6750, 1907, 5.0), (3450, 62644, 4.0), (1507, 1573, 2.5), (1856, 442, 4.0), (3643, 1061, 4.0), (1551, 236, 5.0), (5895, 116823, 4.5), (5559, 54997, 5.0), (1523, 3638, 2.5), (1228, 1784, 1.0), (4372, 1485, 3.0), (1337, 165, 3.0), (6884, 53956, 3.5), (5559, 5349, 5.0), (8024, 2716, 2.0), (4094, 1870, 2.0), (497, 1946, 4.0), (7046, 1061, 3.0), (1337, 516, 3.0), (7842, 262, 5.0), (6378, 608, 5.0), (7543, 2858, 4.0), (6884, 1726, 5.0), (1120, 70286, 4.5), (7263, 56389, 3.5), (4256, 33794, 4.5), (4361, 2467, 3.0), (6030, 4396, 3.5), (6592, 6800, 3.5), (738, 1584, 2.5), (1519, 8784, 4.5), (5574, 2846, 3.0), (1757, 2523, 1.0), (6396, 1204, 2.0), (2204, 48, 2.0), (7954, 89470, 4.5), (5772, 80463, 3.0), (6212, 2858, 0.5), (4027, 8533, 5.0), (1272, 33794, 2.5), (8110, 33794, 4.5), (1162, 6934, 5.0), (351, 3985, 4.0), (5429, 364, 4.5), (1120, 1204, 5.0), (4470, 33794, 2.5), (4106, 157326, 4.0), (7364, 6874, 4.5), (45, 5507, 0.5), (4111, 236, 3.0), (253, 3911, 5.0), (2199, 276, 3.0), (3813, 2716, 4.0), (248, 90376, 2.5), (45, 1036, 4.5), (7267, 333, 3.0), (8110, 3504, 4.5), (1272, 119145, 3.0), (2047, 1201, 3.0), (7263, 2701, 1.0), (3060, 969, 5.0), (2383, 8644, 2.5), (187, 1172, 3.0), (6884, 236, 5.0), (3369, 1240, 3.0), (7862, 6215, 5.0), (4796, 38994, 3.0), (7263, 1784, 4.0), (1340, 435, 3.0), (5948, 6365, 3.0), (73, 33679, 3.0), (6485, 2064, 5.0), (5407, 54881, 3.0), (2475, 608, 5.0), (4106, 5388, 4.0), (995, 356, 5.0), (5061, 107069, 3.5), (7819, 1240, 4.5), (1000, 364, 5.0), (3842, 1274, 4.0), (5347, 333, 5.0), (7274, 4670, 4.0), (1010, 40851, 1.5), (7873, 1304, 5.0), (5665, 442, 2.0), (6628, 1135, 3.0), (1933, 2858, 4.5), (4605, 101088, 3.5), (2839, 4902, 4.0), (7749, 1535, 4.0), (7622, 1193, 5.0), (7583, 8207, 1.0), (7551, 356, 4.5), (4372, 1204, 4.5), (5396, 86377, 4.0), (1931, 59369, 3.0), (5396, 2297, 3.0), (5174, 924, 5.0), (5446, 6620, 4.0), (1691, 236, 3.0), (7802, 1304, 4.5), (4302, 1242, 3.5), (5418, 2716, 4.0), (6361, 364, 4.5), (5724, 1500, 5.0), (4106, 1573, 4.0), (3450, 37855, 3.5), (1704, 1304, 4.5), (2346, 165, 4.0), (5174, 1175, 4.0), (505, 56389, 3.5), (4441, 8361, 2.5), (6884, 3755, 2.0), (2610, 6709, 1.5), (1691, 165, 3.0), (549, 8376, 4.0), (6212, 3102, 4.0), (6428, 8983, 4.0), (2885, 53000, 3.0), (5217, 3513, 2.0), (7036, 70286, 2.0), (1933, 162578, 4.0), (7181, 1269, 3.5), (5545, 1345, 2.0), (5196, 104879, 4.5), (6625, 1304, 5.0), (5658, 26729, 4.5), (7263, 3471, 4.0), (4027, 1958, 5.0), (5091, 2716, 3.5), (4822, 3671, 5.0), (4431, 3893, 4.0), (1933, 3249, 4.5), (4796, 442, 2.0), (5574, 1204, 4.0), (4936, 62644, 4.0), (1519, 2467, 4.5), (6195, 1500, 4.0), (1519, 494, 3.5), (5772, 5349, 3.0), (893, 608, 4.0), (5838, 79224, 1.0), (4605, 169760, 3.5), (7557, 165, 3.5), (7991, 4014, 3.0), (7954, 1370, 3.0), (4451, 3911, 4.0), (4666, 8644, 3.0), (4372, 91529, 3.5), (5648, 104241, 3.5), (4451, 3471, 4.0), (340, 91529, 5.0), (1927, 2026, 2.0), (3839, 53956, 4.5), (5964, 2384, 1.0), (2281, 4226, 4.0), (4796, 4169, 2.0), (6944, 222, 3.0), (1781, 926, 4.5), (6381, 5349, 2.5), (7184, 1921, 5.0), (3344, 6537, 3.0), (8151, 6537, 3.5), (5247, 608, 4.0), (1901, 70286, 4.0), (2905, 2716, 4.0), (343, 1747, 4.0), (4605, 2367, 3.0), (4099, 3408, 3.5), (745, 122920, 4.0), (8042, 924, 5.0), (6767, 3893, 4.0), (1010, 6365, 2.5), (7991, 1079, 4.0), (4294, 27815, 4.0), (4072, 1784, 2.0), (6734, 2872, 3.0), (7398, 5015, 5.0), (6212, 5335, 4.0), (3831, 2701, 1.0), (3450, 172591, 4.5), (1072, 356, 5.0), (5665, 236, 2.0), (8193, 7143, 4.0), (7603, 5349, 3.0), (5483, 6537, 4.0), (314, 236, 3.5), (1272, 1616, 3.0), (702, 119145, 5.0), (2954, 85, 4.0), (5838, 116823, 0.5), (4170, 71899, 5.0), (5437, 115617, 4.5), (658, 1201, 4.0), (2839, 70286, 4.0), (2089, 1240, 4.5), (248, 2858, 2.0), (5247, 5812, 3.5), (7398, 1958, 4.0), (4290, 1584, 5.0)]\n"
          ],
          "name": "stdout"
        }
      ]
    },
    {
      "cell_type": "code",
      "metadata": {
        "id": "WQ3csFvN8h1v"
      },
      "source": [
        "def test_user_mov(user, movie):\n",
        "  print(algo.predict(uid = user, iid = movie))\n",
        "  print(\"User seen in training:\", trainset.knows_user(user))\n",
        "  print(\"Movie seen in training:\", trainset.knows_item(movie))"
      ],
      "execution_count": 98,
      "outputs": []
    },
    {
      "cell_type": "code",
      "metadata": {
        "id": "ojwuvSyr1Mpe",
        "outputId": "78ef9cee-f197-4cfd-d7a8-9b43a415123d",
        "colab": {
          "base_uri": "https://localhost:8080/"
        }
      },
      "source": [
        "test_user_mov(73, 94959)"
      ],
      "execution_count": 99,
      "outputs": [
        {
          "output_type": "stream",
          "text": [
            "user: 73         item: 94959      r_ui = None   est = 4.06   {'actual_k': 24, 'was_impossible': False}\n",
            "User seen in training: True\n",
            "Movie seen in training: False\n"
          ],
          "name": "stdout"
        }
      ]
    },
    {
      "cell_type": "code",
      "metadata": {
        "id": "EBly7k9Z2HIh",
        "outputId": "2fbdc1a4-614d-414c-dbbb-e045a7904718",
        "colab": {
          "base_uri": "https://localhost:8080/"
        }
      },
      "source": [
        "test_user_mov(2610, 1584)"
      ],
      "execution_count": 100,
      "outputs": [
        {
          "output_type": "stream",
          "text": [
            "user: 2610       item: 1584       r_ui = None   est = 3.57   {'actual_k': 25, 'was_impossible': False}\n",
            "User seen in training: False\n",
            "Movie seen in training: False\n"
          ],
          "name": "stdout"
        }
      ]
    },
    {
      "cell_type": "code",
      "metadata": {
        "id": "jB7MKmYl2hpJ",
        "outputId": "b14db874-3b82-41c6-bc0e-c71323da141b",
        "colab": {
          "base_uri": "https://localhost:8080/"
        }
      },
      "source": [
        "test_user_mov(6021, 1584)"
      ],
      "execution_count": 103,
      "outputs": [
        {
          "output_type": "stream",
          "text": [
            "user: 6021       item: 1584       r_ui = None   est = 4.14   {'actual_k': 25, 'was_impossible': False}\n",
            "User seen in training: False\n",
            "Movie seen in training: False\n"
          ],
          "name": "stdout"
        }
      ]
    },
    {
      "cell_type": "code",
      "metadata": {
        "id": "LzvDIbVl2S1V"
      },
      "source": [
        ""
      ],
      "execution_count": null,
      "outputs": []
    }
  ]
}
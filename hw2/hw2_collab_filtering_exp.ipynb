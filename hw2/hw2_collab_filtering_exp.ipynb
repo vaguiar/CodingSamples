{
  "nbformat": 4,
  "nbformat_minor": 0,
  "metadata": {
    "colab": {
      "name": "hw2_collab_filtering_exp.ipynb",
      "provenance": [],
      "collapsed_sections": [],
      "authorship_tag": "ABX9TyOs6HsF925frpIEEzsH5PWw",
      "include_colab_link": true
    },
    "kernelspec": {
      "name": "python3",
      "display_name": "Python 3"
    }
  },
  "cells": [
    {
      "cell_type": "markdown",
      "metadata": {
        "id": "view-in-github",
        "colab_type": "text"
      },
      "source": [
        "<a href=\"https://colab.research.google.com/github/vaguiar/CodingSamples/blob/master/hw2/hw2_collab_filtering_exp.ipynb\" target=\"_parent\"><img src=\"https://colab.research.google.com/assets/colab-badge.svg\" alt=\"Open In Colab\"/></a>"
      ]
    },
    {
      "cell_type": "code",
      "metadata": {
        "id": "r-yuMA0MiWOw"
      },
      "source": [
        "import matplotlib.pyplot as plt\n",
        "import numpy as np\n",
        "import pandas as pd\n",
        "from IPython.display import display, Markdown, HTML\n",
        "import os"
      ],
      "execution_count": 1,
      "outputs": []
    },
    {
      "cell_type": "code",
      "metadata": {
        "id": "RxDFxgNBicNe",
        "outputId": "361f0ca7-c0e7-4404-94c6-6199bdeb02c3",
        "colab": {
          "base_uri": "https://localhost:8080/",
          "height": 74
        }
      },
      "source": [
        "display(Markdown(\"### Mounting GDrive in Colab\" ))\n",
        "from google.colab import drive\n",
        "drive.mount(\"/content/drive\", force_remount=True)"
      ],
      "execution_count": 2,
      "outputs": [
        {
          "output_type": "display_data",
          "data": {
            "text/markdown": "#### Mounting GDrive in Colab",
            "text/plain": [
              "<IPython.core.display.Markdown object>"
            ]
          },
          "metadata": {
            "tags": []
          }
        },
        {
          "output_type": "stream",
          "text": [
            "Mounted at /content/drive\n"
          ],
          "name": "stdout"
        }
      ]
    },
    {
      "cell_type": "code",
      "metadata": {
        "id": "xXuF-Qyrk2Tj",
        "outputId": "dc07092a-2309-4157-f96d-3db5bc9061b5",
        "colab": {
          "base_uri": "https://localhost:8080/",
          "height": 105
        }
      },
      "source": [
        "def get_data(file):\n",
        "  data = pd.read_csv(f\"/content/drive/My Drive/Personalization/hw2/data/ml-latest/{file}\")\n",
        "  display(Markdown(f\"{file} has %s columns & %s rows\" % ( len(data.columns), len(data.index) ) ))\n",
        "  return data\n",
        "\n",
        "display(Markdown(\"### Reading data\"))\n",
        "movies = get_data(\"movies.csv\")\n",
        "ratings = get_data(\"ratings.csv\")"
      ],
      "execution_count": 4,
      "outputs": [
        {
          "output_type": "display_data",
          "data": {
            "text/markdown": "#### Reading data",
            "text/plain": [
              "<IPython.core.display.Markdown object>"
            ]
          },
          "metadata": {
            "tags": []
          }
        },
        {
          "output_type": "display_data",
          "data": {
            "text/markdown": "movies.csv has 3 columns & 58098 rows",
            "text/plain": [
              "<IPython.core.display.Markdown object>"
            ]
          },
          "metadata": {
            "tags": []
          }
        },
        {
          "output_type": "display_data",
          "data": {
            "text/markdown": "ratings.csv has 4 columns & 27753444 rows",
            "text/plain": [
              "<IPython.core.display.Markdown object>"
            ]
          },
          "metadata": {
            "tags": []
          }
        }
      ]
    },
    {
      "cell_type": "code",
      "metadata": {
        "id": "XlgR3Yjt2flu"
      },
      "source": [
        "def get_popularity(ratings_df, id_col):\n",
        "    # count the number of ratings \n",
        "    popularity_df = ratings_df[id_col].value_counts().to_frame().reset_index()\n",
        "    popularity_df.columns = [id_col, 'count']\n",
        "\n",
        "    # assign weights\n",
        "    popularity_df['weights'] = 1/(1-popularity_df['count'].map(popularity_df['count'].value_counts(normalize = True)))\n",
        "\n",
        "    return popularity_df\n",
        "\n",
        "def sampling_id(popularity_df, id_col, threshold, num, random_state=123):\n",
        "    # filter by threshold\n",
        "    valid_df = popularity_df[popularity_df['count'] >= threshold] \n",
        "    # sample by weights \n",
        "    sampled_id = valid_df.sample(n = num, weights = 'weights', random_state=random_state)[id_col].tolist()\n",
        "    \n",
        "    return sampled_id"
      ],
      "execution_count": 5,
      "outputs": []
    },
    {
      "cell_type": "code",
      "metadata": {
        "id": "54fRWoqOvDmR"
      },
      "source": [
        "# initiate constants\n",
        "MOVIE_THRESHOLD = 50\n",
        "USER_THRESHOLD = 50\n",
        "\n",
        "# get movie rating counts df & sampled movie_ids\n",
        "popularity_movie_df = get_popularity(ratings, id_col='movieId')\n",
        "sampled_movieId = sampling_id(popularity_movie_df, id_col='movieId', threshold=MOVIE_THRESHOLD, num=1500)\n",
        "\n",
        "# get user rating counts df & sampled user_ids\n",
        "popularity_user_df = get_popularity(ratings, id_col='userId')\n",
        "sampled_userId = sampling_id(popularity_user_df, id_col='userId', threshold=USER_THRESHOLD, num=25000)"
      ],
      "execution_count": 6,
      "outputs": []
    },
    {
      "cell_type": "code",
      "metadata": {
        "id": "0e3pBTFqvEo1",
        "outputId": "062ee149-79f6-48f9-e0ef-1a3c587f4ed5",
        "colab": {
          "base_uri": "https://localhost:8080/",
          "height": 57
        }
      },
      "source": [
        "display(Markdown(\"#### Sampled data\"))\n",
        "\n",
        "# select by sampled movieId\n",
        "sampled_df = ratings[ratings['movieId'].isin(sampled_movieId)]\n",
        "# select by sampled userId\n",
        "sampled_df = sampled_df[sampled_df['userId'].isin(sampled_userId)]"
      ],
      "execution_count": 9,
      "outputs": [
        {
          "output_type": "display_data",
          "data": {
            "text/markdown": "#### Sampled data",
            "text/plain": [
              "<IPython.core.display.Markdown object>"
            ]
          },
          "metadata": {
            "tags": []
          }
        }
      ]
    },
    {
      "cell_type": "code",
      "metadata": {
        "id": "fkWlh9PgvGJk",
        "outputId": "d5ee0f3b-eec1-4979-987f-86b983cc9d03",
        "colab": {
          "base_uri": "https://localhost:8080/",
          "height": 419
        }
      },
      "source": [
        "sampled_df"
      ],
      "execution_count": 10,
      "outputs": [
        {
          "output_type": "execute_result",
          "data": {
            "text/html": [
              "<div>\n",
              "<style scoped>\n",
              "    .dataframe tbody tr th:only-of-type {\n",
              "        vertical-align: middle;\n",
              "    }\n",
              "\n",
              "    .dataframe tbody tr th {\n",
              "        vertical-align: top;\n",
              "    }\n",
              "\n",
              "    .dataframe thead th {\n",
              "        text-align: right;\n",
              "    }\n",
              "</style>\n",
              "<table border=\"1\" class=\"dataframe\">\n",
              "  <thead>\n",
              "    <tr style=\"text-align: right;\">\n",
              "      <th></th>\n",
              "      <th>userId</th>\n",
              "      <th>movieId</th>\n",
              "      <th>rating</th>\n",
              "      <th>timestamp</th>\n",
              "    </tr>\n",
              "  </thead>\n",
              "  <tbody>\n",
              "    <tr>\n",
              "      <th>2122</th>\n",
              "      <td>31</td>\n",
              "      <td>608</td>\n",
              "      <td>5.0</td>\n",
              "      <td>968886879</td>\n",
              "    </tr>\n",
              "    <tr>\n",
              "      <th>2135</th>\n",
              "      <td>31</td>\n",
              "      <td>1240</td>\n",
              "      <td>4.0</td>\n",
              "      <td>968887413</td>\n",
              "    </tr>\n",
              "    <tr>\n",
              "      <th>2144</th>\n",
              "      <td>31</td>\n",
              "      <td>1304</td>\n",
              "      <td>3.0</td>\n",
              "      <td>968870967</td>\n",
              "    </tr>\n",
              "    <tr>\n",
              "      <th>2154</th>\n",
              "      <td>31</td>\n",
              "      <td>2396</td>\n",
              "      <td>5.0</td>\n",
              "      <td>968886749</td>\n",
              "    </tr>\n",
              "    <tr>\n",
              "      <th>2158</th>\n",
              "      <td>31</td>\n",
              "      <td>2716</td>\n",
              "      <td>4.0</td>\n",
              "      <td>968871098</td>\n",
              "    </tr>\n",
              "    <tr>\n",
              "      <th>...</th>\n",
              "      <td>...</td>\n",
              "      <td>...</td>\n",
              "      <td>...</td>\n",
              "      <td>...</td>\n",
              "    </tr>\n",
              "    <tr>\n",
              "      <th>27752635</th>\n",
              "      <td>283215</td>\n",
              "      <td>276</td>\n",
              "      <td>4.0</td>\n",
              "      <td>862414494</td>\n",
              "    </tr>\n",
              "    <tr>\n",
              "      <th>27752642</th>\n",
              "      <td>283215</td>\n",
              "      <td>494</td>\n",
              "      <td>5.0</td>\n",
              "      <td>854982148</td>\n",
              "    </tr>\n",
              "    <tr>\n",
              "      <th>27752648</th>\n",
              "      <td>283215</td>\n",
              "      <td>608</td>\n",
              "      <td>3.0</td>\n",
              "      <td>854982147</td>\n",
              "    </tr>\n",
              "    <tr>\n",
              "      <th>27752664</th>\n",
              "      <td>283215</td>\n",
              "      <td>788</td>\n",
              "      <td>5.0</td>\n",
              "      <td>854982198</td>\n",
              "    </tr>\n",
              "    <tr>\n",
              "      <th>27752668</th>\n",
              "      <td>283215</td>\n",
              "      <td>1061</td>\n",
              "      <td>4.0</td>\n",
              "      <td>854982605</td>\n",
              "    </tr>\n",
              "  </tbody>\n",
              "</table>\n",
              "<p>666378 rows × 4 columns</p>\n",
              "</div>"
            ],
            "text/plain": [
              "          userId  movieId  rating  timestamp\n",
              "2122          31      608     5.0  968886879\n",
              "2135          31     1240     4.0  968887413\n",
              "2144          31     1304     3.0  968870967\n",
              "2154          31     2396     5.0  968886749\n",
              "2158          31     2716     4.0  968871098\n",
              "...          ...      ...     ...        ...\n",
              "27752635  283215      276     4.0  862414494\n",
              "27752642  283215      494     5.0  854982148\n",
              "27752648  283215      608     3.0  854982147\n",
              "27752664  283215      788     5.0  854982198\n",
              "27752668  283215     1061     4.0  854982605\n",
              "\n",
              "[666378 rows x 4 columns]"
            ]
          },
          "metadata": {
            "tags": []
          },
          "execution_count": 10
        }
      ]
    },
    {
      "cell_type": "markdown",
      "metadata": {
        "id": "VDGZlsQ-vkCn"
      },
      "source": [
        "### Surprise - KNN User based recommendations"
      ]
    },
    {
      "cell_type": "code",
      "metadata": {
        "id": "l8j-YeFvEIb0",
        "outputId": "0c975bc6-d385-4eac-8bd3-44ce462ca12f",
        "colab": {
          "base_uri": "https://localhost:8080/"
        }
      },
      "source": [
        "# Only once per session\n",
        "!pip install scikit-surprise"
      ],
      "execution_count": 11,
      "outputs": [
        {
          "output_type": "stream",
          "text": [
            "Collecting scikit-surprise\n",
            "\u001b[?25l  Downloading https://files.pythonhosted.org/packages/97/37/5d334adaf5ddd65da99fc65f6507e0e4599d092ba048f4302fe8775619e8/scikit-surprise-1.1.1.tar.gz (11.8MB)\n",
            "\u001b[K     |████████████████████████████████| 11.8MB 5.5MB/s \n",
            "\u001b[?25hRequirement already satisfied: joblib>=0.11 in /usr/local/lib/python3.6/dist-packages (from scikit-surprise) (0.17.0)\n",
            "Requirement already satisfied: numpy>=1.11.2 in /usr/local/lib/python3.6/dist-packages (from scikit-surprise) (1.18.5)\n",
            "Requirement already satisfied: scipy>=1.0.0 in /usr/local/lib/python3.6/dist-packages (from scikit-surprise) (1.4.1)\n",
            "Requirement already satisfied: six>=1.10.0 in /usr/local/lib/python3.6/dist-packages (from scikit-surprise) (1.15.0)\n",
            "Building wheels for collected packages: scikit-surprise\n",
            "  Building wheel for scikit-surprise (setup.py) ... \u001b[?25l\u001b[?25hdone\n",
            "  Created wheel for scikit-surprise: filename=scikit_surprise-1.1.1-cp36-cp36m-linux_x86_64.whl size=1670927 sha256=584909681cae976de3a9f8b3c8a540442e8ad69f7217f42f4de3f06a640ea73b\n",
            "  Stored in directory: /root/.cache/pip/wheels/78/9c/3d/41b419c9d2aff5b6e2b4c0fc8d25c538202834058f9ed110d0\n",
            "Successfully built scikit-surprise\n",
            "Installing collected packages: scikit-surprise\n",
            "Successfully installed scikit-surprise-1.1.1\n"
          ],
          "name": "stdout"
        }
      ]
    },
    {
      "cell_type": "code",
      "metadata": {
        "id": "ij67bFY9v3AV"
      },
      "source": [
        "from surprise import Dataset, Reader\n",
        "from surprise.model_selection import train_test_split, cross_validate\n",
        "from surprise import KNNWithMeans\n",
        "from surprise import accuracy\n",
        "\n",
        "# Step 1 = Data Import & Prep\n",
        "# ratings_full = get_data(\"ratings.csv\")\n",
        "ratings_full = sampled_df\n",
        "ratings = ratings_full.iloc[:20000]\n",
        "\n",
        "reader = Reader(rating_scale=(0.5,5))\n",
        "\n",
        "data = Dataset.load_from_df(ratings[['userId', 'movieId', 'rating']], reader)"
      ],
      "execution_count": 12,
      "outputs": []
    },
    {
      "cell_type": "code",
      "metadata": {
        "id": "-dX5d74xptsd"
      },
      "source": [
        "# Create the train test split\n",
        "from surprise.model_selection import train_test_split\n",
        "\n",
        "trainset, testset = train_test_split(data, test_size=0.2, shuffle=True)"
      ],
      "execution_count": 13,
      "outputs": []
    },
    {
      "cell_type": "code",
      "metadata": {
        "id": "jeCKxOMYxN5N",
        "outputId": "c8cdb78f-f3b1-46f5-83f2-b246f5c5e528",
        "colab": {
          "base_uri": "https://localhost:8080/",
          "height": 214
        }
      },
      "source": [
        "## If we had the use data as a training chunk\n",
        "# # trainsetfull = data.build_full_trainset()\n",
        "\n",
        "display(Markdown(\"## Training Set:\"))\n",
        "print('Number of ratings: ', trainset.n_ratings)\n",
        "print('Number of users: ', trainset.n_users)\n",
        "print('Number of items: ', trainset.n_items)\n",
        "print('Global Mean:', trainset.global_mean )\n",
        "\n",
        "display(Markdown(\"## Test Set:\"))\n",
        "print('Number of ratings: ', len(testset), '\\n')"
      ],
      "execution_count": 14,
      "outputs": [
        {
          "output_type": "display_data",
          "data": {
            "text/markdown": "## Training Set:",
            "text/plain": [
              "<IPython.core.display.Markdown object>"
            ]
          },
          "metadata": {
            "tags": []
          }
        },
        {
          "output_type": "stream",
          "text": [
            "Number of ratings:  16000\n",
            "Number of users:  751\n",
            "Number of items:  1139\n",
            "Global Mean: 3.576375\n"
          ],
          "name": "stdout"
        },
        {
          "output_type": "display_data",
          "data": {
            "text/markdown": "## Test Set:",
            "text/plain": [
              "<IPython.core.display.Markdown object>"
            ]
          },
          "metadata": {
            "tags": []
          }
        },
        {
          "output_type": "stream",
          "text": [
            "Number of ratings:  4000 \n",
            "\n"
          ],
          "name": "stdout"
        }
      ]
    },
    {
      "cell_type": "code",
      "metadata": {
        "id": "7CmN3fM907eo",
        "outputId": "fe52355a-9b68-46b0-8cf5-e8b3afccbad4",
        "colab": {
          "base_uri": "https://localhost:8080/"
        }
      },
      "source": [
        "# Step 2 - Cross-Validation\n",
        "\n",
        "my_k = 25\n",
        "my_min_k = 5    # if min_k is not satisfied the global average will be used for estimates. (default 1)\n",
        "my_sim_option = {\n",
        "    'name':'pearson', 'user_based':True\n",
        "    }\n",
        "\n",
        "\n",
        "algo = KNNWithMeans(\n",
        "  k = my_k, \n",
        "  min_k = my_min_k, \n",
        "  sim_options = my_sim_option, \n",
        "  verbose = True\n",
        "  )\n",
        "  \n",
        "results = cross_validate(\n",
        "    algo = algo, \n",
        "    data = data, \n",
        "    measures=['RMSE', 'MAE', 'MSE'], \n",
        "    cv=5, \n",
        "    return_train_measures=True\n",
        "    )\n",
        "    \n",
        "print(\"RMSE: \", results['test_rmse'].mean())\n",
        "print(\"MAE: \", results['test_mae'].mean())\n",
        "print(\"MSE: \", results['test_mse'].mean())"
      ],
      "execution_count": 17,
      "outputs": [
        {
          "output_type": "stream",
          "text": [
            "Computing the pearson similarity matrix...\n",
            "Done computing similarity matrix.\n",
            "Computing the pearson similarity matrix...\n",
            "Done computing similarity matrix.\n",
            "Computing the pearson similarity matrix...\n",
            "Done computing similarity matrix.\n",
            "Computing the pearson similarity matrix...\n",
            "Done computing similarity matrix.\n",
            "Computing the pearson similarity matrix...\n",
            "Done computing similarity matrix.\n",
            "RMSE:  0.9236086113338541\n",
            "MAE:  0.7064122634957551\n",
            "MSE:  0.8531533330892632\n"
          ],
          "name": "stdout"
        }
      ]
    },
    {
      "cell_type": "code",
      "metadata": {
        "id": "rtaCxJoFuZYH",
        "outputId": "ea7a6307-3b33-4fcf-d134-fd814565bd59",
        "colab": {
          "base_uri": "https://localhost:8080/",
          "height": 77
        }
      },
      "source": [
        "def algo_name(algo):\n",
        "  return str(algo).split(\".\")[-1].split(\"'\")[0]\n",
        "\n",
        "def try_algo(algo_fn, k_val, min_k_val=5, similarity_method='pearson', user_based=True):\n",
        "\n",
        "  my_k = k_val\n",
        "  my_min_k = min_k_val\n",
        "  my_sim_option = {\n",
        "      'name':similarity_method, \n",
        "      'user_based':user_based\n",
        "      }\n",
        "\n",
        "  algo = algo_fn(\n",
        "    k = my_k, \n",
        "    min_k = my_min_k, \n",
        "    sim_options = my_sim_option, \n",
        "    verbose = True\n",
        "    )\n",
        "  \n",
        "  display(Markdown(\"#### Running '%s' algo (user based=%s) '%s' similarity\" %(algo_name(algo_fn), user_based, similarity_method)))\n",
        "\n",
        "  results = cross_validate(\n",
        "      algo = algo, \n",
        "      data = data, \n",
        "      measures=['RMSE', 'MAE', 'MSE'], \n",
        "      cv=5, \n",
        "      return_train_measures=True\n",
        "      )\n",
        "\n",
        "  display(Markdown(\"#### Results:\"))\n",
        "  print(\"RMSE: \", results['test_rmse'].mean(), \"MAE: \", results['test_mae'].mean(), \"MSE: \", results['test_mse'].mean())\n",
        "\n",
        "  return results\n",
        "\n",
        "display(Markdown(\"### A single movie in the sampled dataset has atleast 30 user ratings. Hence while finding computing the KNN similarities, with can use a k with value upto 30. I will use 25\"))"
      ],
      "execution_count": 71,
      "outputs": [
        {
          "output_type": "display_data",
          "data": {
            "text/markdown": "### A single movie in the sampled dataset has atleast 30 user ratings. Hence while finding computing the KNN similarities, with can use a k with value upto 30. I will use 25",
            "text/plain": [
              "<IPython.core.display.Markdown object>"
            ]
          },
          "metadata": {
            "tags": []
          }
        }
      ]
    },
    {
      "cell_type": "code",
      "metadata": {
        "id": "rCBWji8dyQ3g",
        "outputId": "41e16b4e-66d9-44b1-cd1c-6bcf3c917d69",
        "colab": {
          "base_uri": "https://localhost:8080/",
          "height": 1000
        }
      },
      "source": [
        "from surprise import KNNWithMeans, KNNWithZScore, KNNBaseline, KNNBasic\n",
        "\n",
        "algos = [ KNNBasic, KNNWithMeans, KNNWithZScore, KNNBaseline ]\n",
        "sims = ['cosine', 'msd', 'pearson', 'pearson_baseline']\n",
        "user_based_opts = [ True, False ]\n",
        "k_val = 25\n",
        "\n",
        "display(Markdown(\"## Cross Validating to find best Memory Based option\"))\n",
        "display(Markdown(\"k-NN based nearest neighbor algorithm with k value of '%s'\" %(str(k_val))))\n",
        "\n",
        "userBasedOp = pd.DataFrame(index=[algo_name(i) for i in algos], columns=sims)\n",
        "itemBasedOp = pd.DataFrame(index=[algo_name(i) for i in algos], columns=sims)\n",
        "\n",
        "for algo in algos:\n",
        "  for sim in sims:\n",
        "    for user_based_opt in user_based_opts:\n",
        "\n",
        "      rslt = try_algo(algo, k_val=k_val, similarity_method=sim, user_based=user_based_opt)\n",
        "      \n",
        "      if user_based_opt:\n",
        "        userBasedOp.at[algo_name(algo), sim] = rslt['test_rmse'].mean()\n",
        "      else:\n",
        "        itemBasedOp.at[algo_name(algo), sim] = rslt['test_rmse'].mean()"
      ],
      "execution_count": 72,
      "outputs": [
        {
          "output_type": "display_data",
          "data": {
            "text/markdown": "## Cross Validating to find best Memory Based option",
            "text/plain": [
              "<IPython.core.display.Markdown object>"
            ]
          },
          "metadata": {
            "tags": []
          }
        },
        {
          "output_type": "display_data",
          "data": {
            "text/markdown": "k-NN based nearest neighbor algorithm with k value of '25'",
            "text/plain": [
              "<IPython.core.display.Markdown object>"
            ]
          },
          "metadata": {
            "tags": []
          }
        },
        {
          "output_type": "display_data",
          "data": {
            "text/markdown": "#### Running 'KNNBasic' algo (user based=True) 'cosine' similarity",
            "text/plain": [
              "<IPython.core.display.Markdown object>"
            ]
          },
          "metadata": {
            "tags": []
          }
        },
        {
          "output_type": "stream",
          "text": [
            "Computing the cosine similarity matrix...\n",
            "Done computing similarity matrix.\n",
            "Computing the cosine similarity matrix...\n",
            "Done computing similarity matrix.\n",
            "Computing the cosine similarity matrix...\n",
            "Done computing similarity matrix.\n",
            "Computing the cosine similarity matrix...\n",
            "Done computing similarity matrix.\n",
            "Computing the cosine similarity matrix...\n",
            "Done computing similarity matrix.\n"
          ],
          "name": "stdout"
        },
        {
          "output_type": "display_data",
          "data": {
            "text/markdown": "#### Results:",
            "text/plain": [
              "<IPython.core.display.Markdown object>"
            ]
          },
          "metadata": {
            "tags": []
          }
        },
        {
          "output_type": "stream",
          "text": [
            "RMSE:  0.9658189791740617 MAE:  0.7449374083793476 MSE:  0.9328474221521894\n"
          ],
          "name": "stdout"
        },
        {
          "output_type": "display_data",
          "data": {
            "text/markdown": "#### Running 'KNNBasic' algo (user based=False) 'cosine' similarity",
            "text/plain": [
              "<IPython.core.display.Markdown object>"
            ]
          },
          "metadata": {
            "tags": []
          }
        },
        {
          "output_type": "stream",
          "text": [
            "Computing the cosine similarity matrix...\n",
            "Done computing similarity matrix.\n",
            "Computing the cosine similarity matrix...\n",
            "Done computing similarity matrix.\n",
            "Computing the cosine similarity matrix...\n",
            "Done computing similarity matrix.\n",
            "Computing the cosine similarity matrix...\n",
            "Done computing similarity matrix.\n",
            "Computing the cosine similarity matrix...\n",
            "Done computing similarity matrix.\n"
          ],
          "name": "stdout"
        },
        {
          "output_type": "display_data",
          "data": {
            "text/markdown": "#### Results:",
            "text/plain": [
              "<IPython.core.display.Markdown object>"
            ]
          },
          "metadata": {
            "tags": []
          }
        },
        {
          "output_type": "stream",
          "text": [
            "RMSE:  0.9724406576850271 MAE:  0.7530121328023975 MSE:  0.9459737980701538\n"
          ],
          "name": "stdout"
        },
        {
          "output_type": "display_data",
          "data": {
            "text/markdown": "#### Running 'KNNBasic' algo (user based=True) 'msd' similarity",
            "text/plain": [
              "<IPython.core.display.Markdown object>"
            ]
          },
          "metadata": {
            "tags": []
          }
        },
        {
          "output_type": "stream",
          "text": [
            "Computing the msd similarity matrix...\n",
            "Done computing similarity matrix.\n",
            "Computing the msd similarity matrix...\n",
            "Done computing similarity matrix.\n",
            "Computing the msd similarity matrix...\n",
            "Done computing similarity matrix.\n",
            "Computing the msd similarity matrix...\n",
            "Done computing similarity matrix.\n",
            "Computing the msd similarity matrix...\n",
            "Done computing similarity matrix.\n"
          ],
          "name": "stdout"
        },
        {
          "output_type": "display_data",
          "data": {
            "text/markdown": "#### Results:",
            "text/plain": [
              "<IPython.core.display.Markdown object>"
            ]
          },
          "metadata": {
            "tags": []
          }
        },
        {
          "output_type": "stream",
          "text": [
            "RMSE:  0.9425527625569238 MAE:  0.724565805704881 MSE:  0.8884528358436048\n"
          ],
          "name": "stdout"
        },
        {
          "output_type": "display_data",
          "data": {
            "text/markdown": "#### Running 'KNNBasic' algo (user based=False) 'msd' similarity",
            "text/plain": [
              "<IPython.core.display.Markdown object>"
            ]
          },
          "metadata": {
            "tags": []
          }
        },
        {
          "output_type": "stream",
          "text": [
            "Computing the msd similarity matrix...\n",
            "Done computing similarity matrix.\n",
            "Computing the msd similarity matrix...\n",
            "Done computing similarity matrix.\n",
            "Computing the msd similarity matrix...\n",
            "Done computing similarity matrix.\n",
            "Computing the msd similarity matrix...\n",
            "Done computing similarity matrix.\n",
            "Computing the msd similarity matrix...\n",
            "Done computing similarity matrix.\n"
          ],
          "name": "stdout"
        },
        {
          "output_type": "display_data",
          "data": {
            "text/markdown": "#### Results:",
            "text/plain": [
              "<IPython.core.display.Markdown object>"
            ]
          },
          "metadata": {
            "tags": []
          }
        },
        {
          "output_type": "stream",
          "text": [
            "RMSE:  0.9502422637865091 MAE:  0.7320446038072256 MSE:  0.9031192363751988\n"
          ],
          "name": "stdout"
        },
        {
          "output_type": "display_data",
          "data": {
            "text/markdown": "#### Running 'KNNBasic' algo (user based=True) 'pearson' similarity",
            "text/plain": [
              "<IPython.core.display.Markdown object>"
            ]
          },
          "metadata": {
            "tags": []
          }
        },
        {
          "output_type": "stream",
          "text": [
            "Computing the pearson similarity matrix...\n",
            "Done computing similarity matrix.\n",
            "Computing the pearson similarity matrix...\n",
            "Done computing similarity matrix.\n",
            "Computing the pearson similarity matrix...\n",
            "Done computing similarity matrix.\n",
            "Computing the pearson similarity matrix...\n",
            "Done computing similarity matrix.\n",
            "Computing the pearson similarity matrix...\n",
            "Done computing similarity matrix.\n"
          ],
          "name": "stdout"
        },
        {
          "output_type": "display_data",
          "data": {
            "text/markdown": "#### Results:",
            "text/plain": [
              "<IPython.core.display.Markdown object>"
            ]
          },
          "metadata": {
            "tags": []
          }
        },
        {
          "output_type": "stream",
          "text": [
            "RMSE:  0.9729889461110706 MAE:  0.7555405024553293 MSE:  0.9467570284543292\n"
          ],
          "name": "stdout"
        },
        {
          "output_type": "display_data",
          "data": {
            "text/markdown": "#### Running 'KNNBasic' algo (user based=False) 'pearson' similarity",
            "text/plain": [
              "<IPython.core.display.Markdown object>"
            ]
          },
          "metadata": {
            "tags": []
          }
        },
        {
          "output_type": "stream",
          "text": [
            "Computing the pearson similarity matrix...\n",
            "Done computing similarity matrix.\n",
            "Computing the pearson similarity matrix...\n",
            "Done computing similarity matrix.\n",
            "Computing the pearson similarity matrix...\n",
            "Done computing similarity matrix.\n",
            "Computing the pearson similarity matrix...\n",
            "Done computing similarity matrix.\n",
            "Computing the pearson similarity matrix...\n",
            "Done computing similarity matrix.\n"
          ],
          "name": "stdout"
        },
        {
          "output_type": "display_data",
          "data": {
            "text/markdown": "#### Results:",
            "text/plain": [
              "<IPython.core.display.Markdown object>"
            ]
          },
          "metadata": {
            "tags": []
          }
        },
        {
          "output_type": "stream",
          "text": [
            "RMSE:  0.9821537047791814 MAE:  0.7621057579244946 MSE:  0.964687115124671\n"
          ],
          "name": "stdout"
        },
        {
          "output_type": "display_data",
          "data": {
            "text/markdown": "#### Running 'KNNBasic' algo (user based=True) 'pearson_baseline' similarity",
            "text/plain": [
              "<IPython.core.display.Markdown object>"
            ]
          },
          "metadata": {
            "tags": []
          }
        },
        {
          "output_type": "stream",
          "text": [
            "Estimating biases using als...\n",
            "Computing the pearson_baseline similarity matrix...\n",
            "Done computing similarity matrix.\n",
            "Estimating biases using als...\n",
            "Computing the pearson_baseline similarity matrix...\n",
            "Done computing similarity matrix.\n",
            "Estimating biases using als...\n",
            "Computing the pearson_baseline similarity matrix...\n",
            "Done computing similarity matrix.\n",
            "Estimating biases using als...\n",
            "Computing the pearson_baseline similarity matrix...\n",
            "Done computing similarity matrix.\n",
            "Estimating biases using als...\n",
            "Computing the pearson_baseline similarity matrix...\n",
            "Done computing similarity matrix.\n"
          ],
          "name": "stdout"
        },
        {
          "output_type": "display_data",
          "data": {
            "text/markdown": "#### Results:",
            "text/plain": [
              "<IPython.core.display.Markdown object>"
            ]
          },
          "metadata": {
            "tags": []
          }
        },
        {
          "output_type": "stream",
          "text": [
            "RMSE:  0.9607365960633502 MAE:  0.7449063287943292 MSE:  0.9230718900505671\n"
          ],
          "name": "stdout"
        },
        {
          "output_type": "display_data",
          "data": {
            "text/markdown": "#### Running 'KNNBasic' algo (user based=False) 'pearson_baseline' similarity",
            "text/plain": [
              "<IPython.core.display.Markdown object>"
            ]
          },
          "metadata": {
            "tags": []
          }
        },
        {
          "output_type": "stream",
          "text": [
            "Estimating biases using als...\n",
            "Computing the pearson_baseline similarity matrix...\n",
            "Done computing similarity matrix.\n",
            "Estimating biases using als...\n",
            "Computing the pearson_baseline similarity matrix...\n",
            "Done computing similarity matrix.\n",
            "Estimating biases using als...\n",
            "Computing the pearson_baseline similarity matrix...\n",
            "Done computing similarity matrix.\n",
            "Estimating biases using als...\n",
            "Computing the pearson_baseline similarity matrix...\n",
            "Done computing similarity matrix.\n",
            "Estimating biases using als...\n",
            "Computing the pearson_baseline similarity matrix...\n",
            "Done computing similarity matrix.\n"
          ],
          "name": "stdout"
        },
        {
          "output_type": "display_data",
          "data": {
            "text/markdown": "#### Results:",
            "text/plain": [
              "<IPython.core.display.Markdown object>"
            ]
          },
          "metadata": {
            "tags": []
          }
        },
        {
          "output_type": "stream",
          "text": [
            "RMSE:  0.970406900360922 MAE:  0.7480769915936524 MSE:  0.9419742056528356\n"
          ],
          "name": "stdout"
        },
        {
          "output_type": "display_data",
          "data": {
            "text/markdown": "#### Running 'KNNWithMeans' algo (user based=True) 'cosine' similarity",
            "text/plain": [
              "<IPython.core.display.Markdown object>"
            ]
          },
          "metadata": {
            "tags": []
          }
        },
        {
          "output_type": "stream",
          "text": [
            "Computing the cosine similarity matrix...\n",
            "Done computing similarity matrix.\n",
            "Computing the cosine similarity matrix...\n",
            "Done computing similarity matrix.\n",
            "Computing the cosine similarity matrix...\n",
            "Done computing similarity matrix.\n",
            "Computing the cosine similarity matrix...\n",
            "Done computing similarity matrix.\n",
            "Computing the cosine similarity matrix...\n",
            "Done computing similarity matrix.\n"
          ],
          "name": "stdout"
        },
        {
          "output_type": "display_data",
          "data": {
            "text/markdown": "#### Results:",
            "text/plain": [
              "<IPython.core.display.Markdown object>"
            ]
          },
          "metadata": {
            "tags": []
          }
        },
        {
          "output_type": "stream",
          "text": [
            "RMSE:  0.9196033861972787 MAE:  0.7094448064703074 MSE:  0.8458490481477957\n"
          ],
          "name": "stdout"
        },
        {
          "output_type": "display_data",
          "data": {
            "text/markdown": "#### Running 'KNNWithMeans' algo (user based=False) 'cosine' similarity",
            "text/plain": [
              "<IPython.core.display.Markdown object>"
            ]
          },
          "metadata": {
            "tags": []
          }
        },
        {
          "output_type": "stream",
          "text": [
            "Computing the cosine similarity matrix...\n",
            "Done computing similarity matrix.\n",
            "Computing the cosine similarity matrix...\n",
            "Done computing similarity matrix.\n",
            "Computing the cosine similarity matrix...\n",
            "Done computing similarity matrix.\n",
            "Computing the cosine similarity matrix...\n",
            "Done computing similarity matrix.\n",
            "Computing the cosine similarity matrix...\n",
            "Done computing similarity matrix.\n"
          ],
          "name": "stdout"
        },
        {
          "output_type": "display_data",
          "data": {
            "text/markdown": "#### Results:",
            "text/plain": [
              "<IPython.core.display.Markdown object>"
            ]
          },
          "metadata": {
            "tags": []
          }
        },
        {
          "output_type": "stream",
          "text": [
            "RMSE:  0.910833916162361 MAE:  0.7007411137280243 MSE:  0.8297156627088554\n"
          ],
          "name": "stdout"
        },
        {
          "output_type": "display_data",
          "data": {
            "text/markdown": "#### Running 'KNNWithMeans' algo (user based=True) 'msd' similarity",
            "text/plain": [
              "<IPython.core.display.Markdown object>"
            ]
          },
          "metadata": {
            "tags": []
          }
        },
        {
          "output_type": "stream",
          "text": [
            "Computing the msd similarity matrix...\n",
            "Done computing similarity matrix.\n",
            "Computing the msd similarity matrix...\n",
            "Done computing similarity matrix.\n",
            "Computing the msd similarity matrix...\n",
            "Done computing similarity matrix.\n",
            "Computing the msd similarity matrix...\n",
            "Done computing similarity matrix.\n",
            "Computing the msd similarity matrix...\n",
            "Done computing similarity matrix.\n"
          ],
          "name": "stdout"
        },
        {
          "output_type": "display_data",
          "data": {
            "text/markdown": "#### Results:",
            "text/plain": [
              "<IPython.core.display.Markdown object>"
            ]
          },
          "metadata": {
            "tags": []
          }
        },
        {
          "output_type": "stream",
          "text": [
            "RMSE:  0.9169188233494656 MAE:  0.7062287502295772 MSE:  0.8408790878012296\n"
          ],
          "name": "stdout"
        },
        {
          "output_type": "display_data",
          "data": {
            "text/markdown": "#### Running 'KNNWithMeans' algo (user based=False) 'msd' similarity",
            "text/plain": [
              "<IPython.core.display.Markdown object>"
            ]
          },
          "metadata": {
            "tags": []
          }
        },
        {
          "output_type": "stream",
          "text": [
            "Computing the msd similarity matrix...\n",
            "Done computing similarity matrix.\n",
            "Computing the msd similarity matrix...\n",
            "Done computing similarity matrix.\n",
            "Computing the msd similarity matrix...\n",
            "Done computing similarity matrix.\n",
            "Computing the msd similarity matrix...\n",
            "Done computing similarity matrix.\n",
            "Computing the msd similarity matrix...\n",
            "Done computing similarity matrix.\n"
          ],
          "name": "stdout"
        },
        {
          "output_type": "display_data",
          "data": {
            "text/markdown": "#### Results:",
            "text/plain": [
              "<IPython.core.display.Markdown object>"
            ]
          },
          "metadata": {
            "tags": []
          }
        },
        {
          "output_type": "stream",
          "text": [
            "RMSE:  0.9050026301957768 MAE:  0.6948317306397798 MSE:  0.8191346813287781\n"
          ],
          "name": "stdout"
        },
        {
          "output_type": "display_data",
          "data": {
            "text/markdown": "#### Running 'KNNWithMeans' algo (user based=True) 'pearson' similarity",
            "text/plain": [
              "<IPython.core.display.Markdown object>"
            ]
          },
          "metadata": {
            "tags": []
          }
        },
        {
          "output_type": "stream",
          "text": [
            "Computing the pearson similarity matrix...\n",
            "Done computing similarity matrix.\n",
            "Computing the pearson similarity matrix...\n",
            "Done computing similarity matrix.\n",
            "Computing the pearson similarity matrix...\n",
            "Done computing similarity matrix.\n",
            "Computing the pearson similarity matrix...\n",
            "Done computing similarity matrix.\n",
            "Computing the pearson similarity matrix...\n",
            "Done computing similarity matrix.\n"
          ],
          "name": "stdout"
        },
        {
          "output_type": "display_data",
          "data": {
            "text/markdown": "#### Results:",
            "text/plain": [
              "<IPython.core.display.Markdown object>"
            ]
          },
          "metadata": {
            "tags": []
          }
        },
        {
          "output_type": "stream",
          "text": [
            "RMSE:  0.9290834265644017 MAE:  0.709228925463565 MSE:  0.8633262152175629\n"
          ],
          "name": "stdout"
        },
        {
          "output_type": "display_data",
          "data": {
            "text/markdown": "#### Running 'KNNWithMeans' algo (user based=False) 'pearson' similarity",
            "text/plain": [
              "<IPython.core.display.Markdown object>"
            ]
          },
          "metadata": {
            "tags": []
          }
        },
        {
          "output_type": "stream",
          "text": [
            "Computing the pearson similarity matrix...\n",
            "Done computing similarity matrix.\n",
            "Computing the pearson similarity matrix...\n",
            "Done computing similarity matrix.\n",
            "Computing the pearson similarity matrix...\n",
            "Done computing similarity matrix.\n",
            "Computing the pearson similarity matrix...\n",
            "Done computing similarity matrix.\n",
            "Computing the pearson similarity matrix...\n",
            "Done computing similarity matrix.\n"
          ],
          "name": "stdout"
        },
        {
          "output_type": "display_data",
          "data": {
            "text/markdown": "#### Results:",
            "text/plain": [
              "<IPython.core.display.Markdown object>"
            ]
          },
          "metadata": {
            "tags": []
          }
        },
        {
          "output_type": "stream",
          "text": [
            "RMSE:  0.9242276989582328 MAE:  0.7081640468389276 MSE:  0.8544762566084646\n"
          ],
          "name": "stdout"
        },
        {
          "output_type": "display_data",
          "data": {
            "text/markdown": "#### Running 'KNNWithMeans' algo (user based=True) 'pearson_baseline' similarity",
            "text/plain": [
              "<IPython.core.display.Markdown object>"
            ]
          },
          "metadata": {
            "tags": []
          }
        },
        {
          "output_type": "stream",
          "text": [
            "Estimating biases using als...\n",
            "Computing the pearson_baseline similarity matrix...\n",
            "Done computing similarity matrix.\n",
            "Estimating biases using als...\n",
            "Computing the pearson_baseline similarity matrix...\n",
            "Done computing similarity matrix.\n",
            "Estimating biases using als...\n",
            "Computing the pearson_baseline similarity matrix...\n",
            "Done computing similarity matrix.\n",
            "Estimating biases using als...\n",
            "Computing the pearson_baseline similarity matrix...\n",
            "Done computing similarity matrix.\n",
            "Estimating biases using als...\n",
            "Computing the pearson_baseline similarity matrix...\n",
            "Done computing similarity matrix.\n"
          ],
          "name": "stdout"
        },
        {
          "output_type": "display_data",
          "data": {
            "text/markdown": "#### Results:",
            "text/plain": [
              "<IPython.core.display.Markdown object>"
            ]
          },
          "metadata": {
            "tags": []
          }
        },
        {
          "output_type": "stream",
          "text": [
            "RMSE:  0.9231773202558939 MAE:  0.703836754046887 MSE:  0.8524864904609484\n"
          ],
          "name": "stdout"
        },
        {
          "output_type": "display_data",
          "data": {
            "text/markdown": "#### Running 'KNNWithMeans' algo (user based=False) 'pearson_baseline' similarity",
            "text/plain": [
              "<IPython.core.display.Markdown object>"
            ]
          },
          "metadata": {
            "tags": []
          }
        },
        {
          "output_type": "stream",
          "text": [
            "Estimating biases using als...\n",
            "Computing the pearson_baseline similarity matrix...\n",
            "Done computing similarity matrix.\n",
            "Estimating biases using als...\n",
            "Computing the pearson_baseline similarity matrix...\n",
            "Done computing similarity matrix.\n",
            "Estimating biases using als...\n",
            "Computing the pearson_baseline similarity matrix...\n",
            "Done computing similarity matrix.\n",
            "Estimating biases using als...\n",
            "Computing the pearson_baseline similarity matrix...\n",
            "Done computing similarity matrix.\n",
            "Estimating biases using als...\n",
            "Computing the pearson_baseline similarity matrix...\n",
            "Done computing similarity matrix.\n"
          ],
          "name": "stdout"
        },
        {
          "output_type": "display_data",
          "data": {
            "text/markdown": "#### Results:",
            "text/plain": [
              "<IPython.core.display.Markdown object>"
            ]
          },
          "metadata": {
            "tags": []
          }
        },
        {
          "output_type": "stream",
          "text": [
            "RMSE:  0.9250722859559529 MAE:  0.7096979431769541 MSE:  0.855848441430507\n"
          ],
          "name": "stdout"
        },
        {
          "output_type": "display_data",
          "data": {
            "text/markdown": "#### Running 'KNNWithZScore' algo (user based=True) 'cosine' similarity",
            "text/plain": [
              "<IPython.core.display.Markdown object>"
            ]
          },
          "metadata": {
            "tags": []
          }
        },
        {
          "output_type": "stream",
          "text": [
            "Computing the cosine similarity matrix...\n",
            "Done computing similarity matrix.\n",
            "Computing the cosine similarity matrix...\n",
            "Done computing similarity matrix.\n",
            "Computing the cosine similarity matrix...\n",
            "Done computing similarity matrix.\n",
            "Computing the cosine similarity matrix...\n",
            "Done computing similarity matrix.\n",
            "Computing the cosine similarity matrix...\n",
            "Done computing similarity matrix.\n"
          ],
          "name": "stdout"
        },
        {
          "output_type": "display_data",
          "data": {
            "text/markdown": "#### Results:",
            "text/plain": [
              "<IPython.core.display.Markdown object>"
            ]
          },
          "metadata": {
            "tags": []
          }
        },
        {
          "output_type": "stream",
          "text": [
            "RMSE:  0.9219727607286561 MAE:  0.7056235324869007 MSE:  0.8501892505044154\n"
          ],
          "name": "stdout"
        },
        {
          "output_type": "display_data",
          "data": {
            "text/markdown": "#### Running 'KNNWithZScore' algo (user based=False) 'cosine' similarity",
            "text/plain": [
              "<IPython.core.display.Markdown object>"
            ]
          },
          "metadata": {
            "tags": []
          }
        },
        {
          "output_type": "stream",
          "text": [
            "Computing the cosine similarity matrix...\n",
            "Done computing similarity matrix.\n",
            "Computing the cosine similarity matrix...\n",
            "Done computing similarity matrix.\n",
            "Computing the cosine similarity matrix...\n",
            "Done computing similarity matrix.\n",
            "Computing the cosine similarity matrix...\n",
            "Done computing similarity matrix.\n",
            "Computing the cosine similarity matrix...\n",
            "Done computing similarity matrix.\n"
          ],
          "name": "stdout"
        },
        {
          "output_type": "display_data",
          "data": {
            "text/markdown": "#### Results:",
            "text/plain": [
              "<IPython.core.display.Markdown object>"
            ]
          },
          "metadata": {
            "tags": []
          }
        },
        {
          "output_type": "stream",
          "text": [
            "RMSE:  0.9152903515336404 MAE:  0.7023030682667695 MSE:  0.8378055302564318\n"
          ],
          "name": "stdout"
        },
        {
          "output_type": "display_data",
          "data": {
            "text/markdown": "#### Running 'KNNWithZScore' algo (user based=True) 'msd' similarity",
            "text/plain": [
              "<IPython.core.display.Markdown object>"
            ]
          },
          "metadata": {
            "tags": []
          }
        },
        {
          "output_type": "stream",
          "text": [
            "Computing the msd similarity matrix...\n",
            "Done computing similarity matrix.\n",
            "Computing the msd similarity matrix...\n",
            "Done computing similarity matrix.\n",
            "Computing the msd similarity matrix...\n",
            "Done computing similarity matrix.\n",
            "Computing the msd similarity matrix...\n",
            "Done computing similarity matrix.\n",
            "Computing the msd similarity matrix...\n",
            "Done computing similarity matrix.\n"
          ],
          "name": "stdout"
        },
        {
          "output_type": "display_data",
          "data": {
            "text/markdown": "#### Results:",
            "text/plain": [
              "<IPython.core.display.Markdown object>"
            ]
          },
          "metadata": {
            "tags": []
          }
        },
        {
          "output_type": "stream",
          "text": [
            "RMSE:  0.9210026708485021 MAE:  0.7064289845049017 MSE:  0.8483435107635253\n"
          ],
          "name": "stdout"
        },
        {
          "output_type": "display_data",
          "data": {
            "text/markdown": "#### Running 'KNNWithZScore' algo (user based=False) 'msd' similarity",
            "text/plain": [
              "<IPython.core.display.Markdown object>"
            ]
          },
          "metadata": {
            "tags": []
          }
        },
        {
          "output_type": "stream",
          "text": [
            "Computing the msd similarity matrix...\n",
            "Done computing similarity matrix.\n",
            "Computing the msd similarity matrix...\n",
            "Done computing similarity matrix.\n",
            "Computing the msd similarity matrix...\n",
            "Done computing similarity matrix.\n",
            "Computing the msd similarity matrix...\n",
            "Done computing similarity matrix.\n",
            "Computing the msd similarity matrix...\n",
            "Done computing similarity matrix.\n"
          ],
          "name": "stdout"
        },
        {
          "output_type": "display_data",
          "data": {
            "text/markdown": "#### Results:",
            "text/plain": [
              "<IPython.core.display.Markdown object>"
            ]
          },
          "metadata": {
            "tags": []
          }
        },
        {
          "output_type": "stream",
          "text": [
            "RMSE:  0.912774220759023 MAE:  0.6987529506546996 MSE:  0.8332507614684893\n"
          ],
          "name": "stdout"
        },
        {
          "output_type": "display_data",
          "data": {
            "text/markdown": "#### Running 'KNNWithZScore' algo (user based=True) 'pearson' similarity",
            "text/plain": [
              "<IPython.core.display.Markdown object>"
            ]
          },
          "metadata": {
            "tags": []
          }
        },
        {
          "output_type": "stream",
          "text": [
            "Computing the pearson similarity matrix...\n",
            "Done computing similarity matrix.\n",
            "Computing the pearson similarity matrix...\n",
            "Done computing similarity matrix.\n",
            "Computing the pearson similarity matrix...\n",
            "Done computing similarity matrix.\n",
            "Computing the pearson similarity matrix...\n",
            "Done computing similarity matrix.\n",
            "Computing the pearson similarity matrix...\n",
            "Done computing similarity matrix.\n"
          ],
          "name": "stdout"
        },
        {
          "output_type": "display_data",
          "data": {
            "text/markdown": "#### Results:",
            "text/plain": [
              "<IPython.core.display.Markdown object>"
            ]
          },
          "metadata": {
            "tags": []
          }
        },
        {
          "output_type": "stream",
          "text": [
            "RMSE:  0.9251560102036211 MAE:  0.705872356170387 MSE:  0.8562826661970421\n"
          ],
          "name": "stdout"
        },
        {
          "output_type": "display_data",
          "data": {
            "text/markdown": "#### Running 'KNNWithZScore' algo (user based=False) 'pearson' similarity",
            "text/plain": [
              "<IPython.core.display.Markdown object>"
            ]
          },
          "metadata": {
            "tags": []
          }
        },
        {
          "output_type": "stream",
          "text": [
            "Computing the pearson similarity matrix...\n",
            "Done computing similarity matrix.\n",
            "Computing the pearson similarity matrix...\n",
            "Done computing similarity matrix.\n",
            "Computing the pearson similarity matrix...\n",
            "Done computing similarity matrix.\n",
            "Computing the pearson similarity matrix...\n",
            "Done computing similarity matrix.\n",
            "Computing the pearson similarity matrix...\n",
            "Done computing similarity matrix.\n"
          ],
          "name": "stdout"
        },
        {
          "output_type": "display_data",
          "data": {
            "text/markdown": "#### Results:",
            "text/plain": [
              "<IPython.core.display.Markdown object>"
            ]
          },
          "metadata": {
            "tags": []
          }
        },
        {
          "output_type": "stream",
          "text": [
            "RMSE:  0.9257984791688971 MAE:  0.7080565653723132 MSE:  0.8573008914127911\n"
          ],
          "name": "stdout"
        },
        {
          "output_type": "display_data",
          "data": {
            "text/markdown": "#### Running 'KNNWithZScore' algo (user based=True) 'pearson_baseline' similarity",
            "text/plain": [
              "<IPython.core.display.Markdown object>"
            ]
          },
          "metadata": {
            "tags": []
          }
        },
        {
          "output_type": "stream",
          "text": [
            "Estimating biases using als...\n",
            "Computing the pearson_baseline similarity matrix...\n",
            "Done computing similarity matrix.\n",
            "Estimating biases using als...\n",
            "Computing the pearson_baseline similarity matrix...\n",
            "Done computing similarity matrix.\n",
            "Estimating biases using als...\n",
            "Computing the pearson_baseline similarity matrix...\n",
            "Done computing similarity matrix.\n",
            "Estimating biases using als...\n",
            "Computing the pearson_baseline similarity matrix...\n",
            "Done computing similarity matrix.\n",
            "Estimating biases using als...\n",
            "Computing the pearson_baseline similarity matrix...\n",
            "Done computing similarity matrix.\n"
          ],
          "name": "stdout"
        },
        {
          "output_type": "display_data",
          "data": {
            "text/markdown": "#### Results:",
            "text/plain": [
              "<IPython.core.display.Markdown object>"
            ]
          },
          "metadata": {
            "tags": []
          }
        },
        {
          "output_type": "stream",
          "text": [
            "RMSE:  0.9256600435850659 MAE:  0.7006135319339135 MSE:  0.8569095916497049\n"
          ],
          "name": "stdout"
        },
        {
          "output_type": "display_data",
          "data": {
            "text/markdown": "#### Running 'KNNWithZScore' algo (user based=False) 'pearson_baseline' similarity",
            "text/plain": [
              "<IPython.core.display.Markdown object>"
            ]
          },
          "metadata": {
            "tags": []
          }
        },
        {
          "output_type": "stream",
          "text": [
            "Estimating biases using als...\n",
            "Computing the pearson_baseline similarity matrix...\n",
            "Done computing similarity matrix.\n",
            "Estimating biases using als...\n",
            "Computing the pearson_baseline similarity matrix...\n",
            "Done computing similarity matrix.\n",
            "Estimating biases using als...\n",
            "Computing the pearson_baseline similarity matrix...\n",
            "Done computing similarity matrix.\n",
            "Estimating biases using als...\n",
            "Computing the pearson_baseline similarity matrix...\n",
            "Done computing similarity matrix.\n",
            "Estimating biases using als...\n",
            "Computing the pearson_baseline similarity matrix...\n",
            "Done computing similarity matrix.\n"
          ],
          "name": "stdout"
        },
        {
          "output_type": "display_data",
          "data": {
            "text/markdown": "#### Results:",
            "text/plain": [
              "<IPython.core.display.Markdown object>"
            ]
          },
          "metadata": {
            "tags": []
          }
        },
        {
          "output_type": "stream",
          "text": [
            "RMSE:  0.9232682242733412 MAE:  0.7056662525315129 MSE:  0.8524751744546595\n"
          ],
          "name": "stdout"
        },
        {
          "output_type": "display_data",
          "data": {
            "text/markdown": "#### Running 'KNNBaseline' algo (user based=True) 'cosine' similarity",
            "text/plain": [
              "<IPython.core.display.Markdown object>"
            ]
          },
          "metadata": {
            "tags": []
          }
        },
        {
          "output_type": "stream",
          "text": [
            "Estimating biases using als...\n",
            "Computing the cosine similarity matrix...\n",
            "Done computing similarity matrix.\n",
            "Estimating biases using als...\n",
            "Computing the cosine similarity matrix...\n",
            "Done computing similarity matrix.\n",
            "Estimating biases using als...\n",
            "Computing the cosine similarity matrix...\n",
            "Done computing similarity matrix.\n",
            "Estimating biases using als...\n",
            "Computing the cosine similarity matrix...\n",
            "Done computing similarity matrix.\n",
            "Estimating biases using als...\n",
            "Computing the cosine similarity matrix...\n",
            "Done computing similarity matrix.\n"
          ],
          "name": "stdout"
        },
        {
          "output_type": "display_data",
          "data": {
            "text/markdown": "#### Results:",
            "text/plain": [
              "<IPython.core.display.Markdown object>"
            ]
          },
          "metadata": {
            "tags": []
          }
        },
        {
          "output_type": "stream",
          "text": [
            "RMSE:  0.8943736790121198 MAE:  0.6883059687238102 MSE:  0.7999983115715468\n"
          ],
          "name": "stdout"
        },
        {
          "output_type": "display_data",
          "data": {
            "text/markdown": "#### Running 'KNNBaseline' algo (user based=False) 'cosine' similarity",
            "text/plain": [
              "<IPython.core.display.Markdown object>"
            ]
          },
          "metadata": {
            "tags": []
          }
        },
        {
          "output_type": "stream",
          "text": [
            "Estimating biases using als...\n",
            "Computing the cosine similarity matrix...\n",
            "Done computing similarity matrix.\n",
            "Estimating biases using als...\n",
            "Computing the cosine similarity matrix...\n",
            "Done computing similarity matrix.\n",
            "Estimating biases using als...\n",
            "Computing the cosine similarity matrix...\n",
            "Done computing similarity matrix.\n",
            "Estimating biases using als...\n",
            "Computing the cosine similarity matrix...\n",
            "Done computing similarity matrix.\n",
            "Estimating biases using als...\n",
            "Computing the cosine similarity matrix...\n",
            "Done computing similarity matrix.\n"
          ],
          "name": "stdout"
        },
        {
          "output_type": "display_data",
          "data": {
            "text/markdown": "#### Results:",
            "text/plain": [
              "<IPython.core.display.Markdown object>"
            ]
          },
          "metadata": {
            "tags": []
          }
        },
        {
          "output_type": "stream",
          "text": [
            "RMSE:  0.9002812993545468 MAE:  0.6931943364626592 MSE:  0.8107505720265535\n"
          ],
          "name": "stdout"
        },
        {
          "output_type": "display_data",
          "data": {
            "text/markdown": "#### Running 'KNNBaseline' algo (user based=True) 'msd' similarity",
            "text/plain": [
              "<IPython.core.display.Markdown object>"
            ]
          },
          "metadata": {
            "tags": []
          }
        },
        {
          "output_type": "stream",
          "text": [
            "Estimating biases using als...\n",
            "Computing the msd similarity matrix...\n",
            "Done computing similarity matrix.\n",
            "Estimating biases using als...\n",
            "Computing the msd similarity matrix...\n",
            "Done computing similarity matrix.\n",
            "Estimating biases using als...\n",
            "Computing the msd similarity matrix...\n",
            "Done computing similarity matrix.\n",
            "Estimating biases using als...\n",
            "Computing the msd similarity matrix...\n",
            "Done computing similarity matrix.\n",
            "Estimating biases using als...\n",
            "Computing the msd similarity matrix...\n",
            "Done computing similarity matrix.\n"
          ],
          "name": "stdout"
        },
        {
          "output_type": "display_data",
          "data": {
            "text/markdown": "#### Results:",
            "text/plain": [
              "<IPython.core.display.Markdown object>"
            ]
          },
          "metadata": {
            "tags": []
          }
        },
        {
          "output_type": "stream",
          "text": [
            "RMSE:  0.8917833672255258 MAE:  0.684863813807837 MSE:  0.7954554952850247\n"
          ],
          "name": "stdout"
        },
        {
          "output_type": "display_data",
          "data": {
            "text/markdown": "#### Running 'KNNBaseline' algo (user based=False) 'msd' similarity",
            "text/plain": [
              "<IPython.core.display.Markdown object>"
            ]
          },
          "metadata": {
            "tags": []
          }
        },
        {
          "output_type": "stream",
          "text": [
            "Estimating biases using als...\n",
            "Computing the msd similarity matrix...\n",
            "Done computing similarity matrix.\n",
            "Estimating biases using als...\n",
            "Computing the msd similarity matrix...\n",
            "Done computing similarity matrix.\n",
            "Estimating biases using als...\n",
            "Computing the msd similarity matrix...\n",
            "Done computing similarity matrix.\n",
            "Estimating biases using als...\n",
            "Computing the msd similarity matrix...\n",
            "Done computing similarity matrix.\n",
            "Estimating biases using als...\n",
            "Computing the msd similarity matrix...\n",
            "Done computing similarity matrix.\n"
          ],
          "name": "stdout"
        },
        {
          "output_type": "display_data",
          "data": {
            "text/markdown": "#### Results:",
            "text/plain": [
              "<IPython.core.display.Markdown object>"
            ]
          },
          "metadata": {
            "tags": []
          }
        },
        {
          "output_type": "stream",
          "text": [
            "RMSE:  0.8931571561786653 MAE:  0.6845424885269991 MSE:  0.797757389109743\n"
          ],
          "name": "stdout"
        },
        {
          "output_type": "display_data",
          "data": {
            "text/markdown": "#### Running 'KNNBaseline' algo (user based=True) 'pearson' similarity",
            "text/plain": [
              "<IPython.core.display.Markdown object>"
            ]
          },
          "metadata": {
            "tags": []
          }
        },
        {
          "output_type": "stream",
          "text": [
            "Estimating biases using als...\n",
            "Computing the pearson similarity matrix...\n",
            "Done computing similarity matrix.\n",
            "Estimating biases using als...\n",
            "Computing the pearson similarity matrix...\n",
            "Done computing similarity matrix.\n",
            "Estimating biases using als...\n",
            "Computing the pearson similarity matrix...\n",
            "Done computing similarity matrix.\n",
            "Estimating biases using als...\n",
            "Computing the pearson similarity matrix...\n",
            "Done computing similarity matrix.\n",
            "Estimating biases using als...\n",
            "Computing the pearson similarity matrix...\n",
            "Done computing similarity matrix.\n"
          ],
          "name": "stdout"
        },
        {
          "output_type": "display_data",
          "data": {
            "text/markdown": "#### Results:",
            "text/plain": [
              "<IPython.core.display.Markdown object>"
            ]
          },
          "metadata": {
            "tags": []
          }
        },
        {
          "output_type": "stream",
          "text": [
            "RMSE:  0.9013626812612182 MAE:  0.6933877661714771 MSE:  0.8125132576896819\n"
          ],
          "name": "stdout"
        },
        {
          "output_type": "display_data",
          "data": {
            "text/markdown": "#### Running 'KNNBaseline' algo (user based=False) 'pearson' similarity",
            "text/plain": [
              "<IPython.core.display.Markdown object>"
            ]
          },
          "metadata": {
            "tags": []
          }
        },
        {
          "output_type": "stream",
          "text": [
            "Estimating biases using als...\n",
            "Computing the pearson similarity matrix...\n",
            "Done computing similarity matrix.\n",
            "Estimating biases using als...\n",
            "Computing the pearson similarity matrix...\n",
            "Done computing similarity matrix.\n",
            "Estimating biases using als...\n",
            "Computing the pearson similarity matrix...\n",
            "Done computing similarity matrix.\n",
            "Estimating biases using als...\n",
            "Computing the pearson similarity matrix...\n",
            "Done computing similarity matrix.\n",
            "Estimating biases using als...\n",
            "Computing the pearson similarity matrix...\n",
            "Done computing similarity matrix.\n"
          ],
          "name": "stdout"
        },
        {
          "output_type": "display_data",
          "data": {
            "text/markdown": "#### Results:",
            "text/plain": [
              "<IPython.core.display.Markdown object>"
            ]
          },
          "metadata": {
            "tags": []
          }
        },
        {
          "output_type": "stream",
          "text": [
            "RMSE:  0.9016170132384544 MAE:  0.6932725487344364 MSE:  0.8131346863329915\n"
          ],
          "name": "stdout"
        },
        {
          "output_type": "display_data",
          "data": {
            "text/markdown": "#### Running 'KNNBaseline' algo (user based=True) 'pearson_baseline' similarity",
            "text/plain": [
              "<IPython.core.display.Markdown object>"
            ]
          },
          "metadata": {
            "tags": []
          }
        },
        {
          "output_type": "stream",
          "text": [
            "Estimating biases using als...\n",
            "Computing the pearson_baseline similarity matrix...\n",
            "Done computing similarity matrix.\n",
            "Estimating biases using als...\n",
            "Computing the pearson_baseline similarity matrix...\n",
            "Done computing similarity matrix.\n",
            "Estimating biases using als...\n",
            "Computing the pearson_baseline similarity matrix...\n",
            "Done computing similarity matrix.\n",
            "Estimating biases using als...\n",
            "Computing the pearson_baseline similarity matrix...\n",
            "Done computing similarity matrix.\n",
            "Estimating biases using als...\n",
            "Computing the pearson_baseline similarity matrix...\n",
            "Done computing similarity matrix.\n"
          ],
          "name": "stdout"
        },
        {
          "output_type": "display_data",
          "data": {
            "text/markdown": "#### Results:",
            "text/plain": [
              "<IPython.core.display.Markdown object>"
            ]
          },
          "metadata": {
            "tags": []
          }
        },
        {
          "output_type": "stream",
          "text": [
            "RMSE:  0.8932172950050787 MAE:  0.6865872124600345 MSE:  0.7980038160250855\n"
          ],
          "name": "stdout"
        },
        {
          "output_type": "display_data",
          "data": {
            "text/markdown": "#### Running 'KNNBaseline' algo (user based=False) 'pearson_baseline' similarity",
            "text/plain": [
              "<IPython.core.display.Markdown object>"
            ]
          },
          "metadata": {
            "tags": []
          }
        },
        {
          "output_type": "stream",
          "text": [
            "Estimating biases using als...\n",
            "Computing the pearson_baseline similarity matrix...\n",
            "Done computing similarity matrix.\n",
            "Estimating biases using als...\n",
            "Computing the pearson_baseline similarity matrix...\n",
            "Done computing similarity matrix.\n",
            "Estimating biases using als...\n",
            "Computing the pearson_baseline similarity matrix...\n",
            "Done computing similarity matrix.\n",
            "Estimating biases using als...\n",
            "Computing the pearson_baseline similarity matrix...\n",
            "Done computing similarity matrix.\n",
            "Estimating biases using als...\n",
            "Computing the pearson_baseline similarity matrix...\n",
            "Done computing similarity matrix.\n"
          ],
          "name": "stdout"
        },
        {
          "output_type": "display_data",
          "data": {
            "text/markdown": "#### Results:",
            "text/plain": [
              "<IPython.core.display.Markdown object>"
            ]
          },
          "metadata": {
            "tags": []
          }
        },
        {
          "output_type": "stream",
          "text": [
            "RMSE:  0.8984952447060446 MAE:  0.6878728580988007 MSE:  0.8073658718013734\n"
          ],
          "name": "stdout"
        }
      ]
    },
    {
      "cell_type": "code",
      "metadata": {
        "id": "yq2fy82l0yL9",
        "outputId": "aa50e040-9b10-4c86-d907-60995a1971d9",
        "colab": {
          "base_uri": "https://localhost:8080/",
          "height": 173
        }
      },
      "source": [
        "userBasedOp"
      ],
      "execution_count": 80,
      "outputs": [
        {
          "output_type": "execute_result",
          "data": {
            "text/html": [
              "<div>\n",
              "<style scoped>\n",
              "    .dataframe tbody tr th:only-of-type {\n",
              "        vertical-align: middle;\n",
              "    }\n",
              "\n",
              "    .dataframe tbody tr th {\n",
              "        vertical-align: top;\n",
              "    }\n",
              "\n",
              "    .dataframe thead th {\n",
              "        text-align: right;\n",
              "    }\n",
              "</style>\n",
              "<table border=\"1\" class=\"dataframe\">\n",
              "  <thead>\n",
              "    <tr style=\"text-align: right;\">\n",
              "      <th></th>\n",
              "      <th>cosine</th>\n",
              "      <th>msd</th>\n",
              "      <th>pearson</th>\n",
              "      <th>pearson_baseline</th>\n",
              "    </tr>\n",
              "  </thead>\n",
              "  <tbody>\n",
              "    <tr>\n",
              "      <th>KNNBasic</th>\n",
              "      <td>0.965819</td>\n",
              "      <td>0.942553</td>\n",
              "      <td>0.972989</td>\n",
              "      <td>0.960737</td>\n",
              "    </tr>\n",
              "    <tr>\n",
              "      <th>KNNWithMeans</th>\n",
              "      <td>0.919603</td>\n",
              "      <td>0.916919</td>\n",
              "      <td>0.929083</td>\n",
              "      <td>0.923177</td>\n",
              "    </tr>\n",
              "    <tr>\n",
              "      <th>KNNWithZScore</th>\n",
              "      <td>0.921973</td>\n",
              "      <td>0.921003</td>\n",
              "      <td>0.925156</td>\n",
              "      <td>0.92566</td>\n",
              "    </tr>\n",
              "    <tr>\n",
              "      <th>KNNBaseline</th>\n",
              "      <td>0.894374</td>\n",
              "      <td>0.891783</td>\n",
              "      <td>0.901363</td>\n",
              "      <td>0.893217</td>\n",
              "    </tr>\n",
              "  </tbody>\n",
              "</table>\n",
              "</div>"
            ],
            "text/plain": [
              "                 cosine       msd   pearson pearson_baseline\n",
              "KNNBasic       0.965819  0.942553  0.972989         0.960737\n",
              "KNNWithMeans   0.919603  0.916919  0.929083         0.923177\n",
              "KNNWithZScore  0.921973  0.921003  0.925156          0.92566\n",
              "KNNBaseline    0.894374  0.891783  0.901363         0.893217"
            ]
          },
          "metadata": {
            "tags": []
          },
          "execution_count": 80
        }
      ]
    },
    {
      "cell_type": "code",
      "metadata": {
        "id": "3AYRkmpY1MXA",
        "outputId": "58fc7d37-3718-4017-cecc-13f589811f61",
        "colab": {
          "base_uri": "https://localhost:8080/",
          "height": 173
        }
      },
      "source": [
        "itemBasedOp"
      ],
      "execution_count": 73,
      "outputs": [
        {
          "output_type": "execute_result",
          "data": {
            "text/html": [
              "<div>\n",
              "<style scoped>\n",
              "    .dataframe tbody tr th:only-of-type {\n",
              "        vertical-align: middle;\n",
              "    }\n",
              "\n",
              "    .dataframe tbody tr th {\n",
              "        vertical-align: top;\n",
              "    }\n",
              "\n",
              "    .dataframe thead th {\n",
              "        text-align: right;\n",
              "    }\n",
              "</style>\n",
              "<table border=\"1\" class=\"dataframe\">\n",
              "  <thead>\n",
              "    <tr style=\"text-align: right;\">\n",
              "      <th></th>\n",
              "      <th>cosine</th>\n",
              "      <th>msd</th>\n",
              "      <th>pearson</th>\n",
              "      <th>pearson_baseline</th>\n",
              "    </tr>\n",
              "  </thead>\n",
              "  <tbody>\n",
              "    <tr>\n",
              "      <th>KNNBasic</th>\n",
              "      <td>0.972441</td>\n",
              "      <td>0.950242</td>\n",
              "      <td>0.982154</td>\n",
              "      <td>0.970407</td>\n",
              "    </tr>\n",
              "    <tr>\n",
              "      <th>KNNWithMeans</th>\n",
              "      <td>0.910834</td>\n",
              "      <td>0.905003</td>\n",
              "      <td>0.924228</td>\n",
              "      <td>0.925072</td>\n",
              "    </tr>\n",
              "    <tr>\n",
              "      <th>KNNWithZScore</th>\n",
              "      <td>0.91529</td>\n",
              "      <td>0.912774</td>\n",
              "      <td>0.925798</td>\n",
              "      <td>0.923268</td>\n",
              "    </tr>\n",
              "    <tr>\n",
              "      <th>KNNBaseline</th>\n",
              "      <td>0.900281</td>\n",
              "      <td>0.893157</td>\n",
              "      <td>0.901617</td>\n",
              "      <td>0.898495</td>\n",
              "    </tr>\n",
              "  </tbody>\n",
              "</table>\n",
              "</div>"
            ],
            "text/plain": [
              "                 cosine       msd   pearson pearson_baseline\n",
              "KNNBasic       0.972441  0.950242  0.982154         0.970407\n",
              "KNNWithMeans   0.910834  0.905003  0.924228         0.925072\n",
              "KNNWithZScore   0.91529  0.912774  0.925798         0.923268\n",
              "KNNBaseline    0.900281  0.893157  0.901617         0.898495"
            ]
          },
          "metadata": {
            "tags": []
          },
          "execution_count": 73
        }
      ]
    },
    {
      "cell_type": "code",
      "metadata": {
        "id": "xJE5oa0z1Mgf",
        "outputId": "ba69128f-5c8b-4166-b81c-5e0cda961046",
        "colab": {
          "base_uri": "https://localhost:8080/"
        }
      },
      "source": [
        "# Train model and predicts with train/test data cuts separately.\n",
        "\n",
        "algo = KNNBaseline(\n",
        "    k=15,\n",
        "    min_k=5,\n",
        "    sim_options={\n",
        "      'name':'pearson', 'user_based':True\n",
        "    },\n",
        "    verbose=True\n",
        ")\n",
        "\n",
        "algo.fit(trainset)\n",
        "predictions = algo.test(testset)"
      ],
      "execution_count": null,
      "outputs": [
        {
          "output_type": "stream",
          "text": [
            "Estimating biases using als...\n",
            "Computing the pearson similarity matrix...\n",
            "Done computing similarity matrix.\n"
          ],
          "name": "stdout"
        }
      ]
    },
    {
      "cell_type": "code",
      "metadata": {
        "id": "lTQz9VuR1Mjb",
        "outputId": "e2317391-4d11-48c9-f333-c39f38019305",
        "colab": {
          "base_uri": "https://localhost:8080/"
        }
      },
      "source": [
        "accuracy.rmse(predictions)"
      ],
      "execution_count": null,
      "outputs": [
        {
          "output_type": "stream",
          "text": [
            "RMSE: 0.9391\n"
          ],
          "name": "stdout"
        },
        {
          "output_type": "execute_result",
          "data": {
            "text/plain": [
              "0.9391173955433683"
            ]
          },
          "metadata": {
            "tags": []
          },
          "execution_count": 42
        }
      ]
    },
    {
      "cell_type": "code",
      "metadata": {
        "id": "Gf74RMVc1MmJ",
        "outputId": "199e6d50-c73c-4aee-bc76-a0982527ec90",
        "colab": {
          "base_uri": "https://localhost:8080/"
        }
      },
      "source": [
        "print(testset)"
      ],
      "execution_count": null,
      "outputs": [
        {
          "output_type": "stream",
          "text": [
            "[(200, 79132, 4.0), (43, 497, 4.5), (138, 1089, 5.0), (4, 2011, 4.0), (73, 48877, 0.5), (38, 3082, 4.0), (158, 367, 3.0), (138, 1649, 5.0), (183, 589, 4.0), (73, 48082, 4.5), (35, 1214, 4.0), (19, 482, 3.0), (56, 1586, 4.0), (101, 150, 3.0), (163, 364, 3.0), (176, 5608, 4.0), (93, 1233, 4.5), (56, 6373, 3.0), (11, 2302, 3.5), (55, 1082, 3.5), (181, 356, 5.0), (174, 4896, 3.5), (119, 194, 5.0), (189, 2268, 3.0), (55, 2140, 4.5), (180, 2788, 5.0), (81, 2628, 3.0), (98, 2428, 3.5), (100, 3536, 3.5), (88, 8783, 4.0), (32, 112552, 4.5), (95, 1222, 4.0), (16, 224, 4.0), (158, 761, 3.0), (134, 3088, 4.0), (51, 1259, 4.0), (138, 6535, 2.0), (173, 3784, 3.0), (36, 4776, 3.5), (59, 161, 4.0), (180, 356, 4.0), (100, 919, 4.5), (99, 101739, 3.0), (48, 68237, 5.0), (51, 1321, 4.0), (51, 2421, 3.0), (81, 58559, 4.0), (163, 1397, 4.0), (93, 1653, 2.0), (164, 377, 4.0), (67, 1544, 2.0), (134, 105468, 4.0), (114, 164, 3.0), (155, 3513, 4.0), (138, 2657, 0.5), (147, 45720, 2.0), (183, 919, 5.0), (173, 37727, 2.5), (134, 160980, 3.5), (47, 1191, 3.0), (88, 4815, 4.0), (81, 8861, 0.5), (174, 7, 3.0), (4, 7102, 3.5), (100, 5459, 3.5), (180, 1270, 5.0), (81, 122904, 4.5), (174, 3159, 3.5), (100, 1610, 4.0), (4, 5438, 2.5), (173, 80846, 2.0), (147, 342, 0.5), (176, 170291, 2.5), (81, 5146, 4.0), (56, 98809, 2.0), (134, 2294, 4.0), (38, 3751, 3.0), (183, 1485, 2.5), (160, 6840, 4.0), (8, 12, 3.0), (173, 3527, 4.0), (4, 4701, 4.0), (53, 2502, 3.5), (73, 1036, 3.5), (42, 34048, 3.0), (43, 1225, 5.0), (48, 1704, 3.5), (88, 45668, 3.5), (134, 3926, 4.0), (79, 2469, 4.0), (173, 68135, 2.0), (119, 6867, 5.0), (35, 1333, 4.0), (173, 86882, 3.5), (81, 30793, 2.5), (73, 5952, 4.0), (103, 1748, 4.0), (43, 2396, 4.5), (43, 783, 3.5), (73, 1704, 5.0), (100, 53996, 3.0), (51, 904, 4.0), (46, 2529, 2.5), (81, 1464, 5.0), (73, 2750, 4.0), (173, 135536, 3.0), (75, 106100, 4.5), (4, 1049, 4.0), (51, 2436, 4.0), (42, 63082, 4.0), (71, 1921, 4.0), (180, 4275, 5.0), (51, 1385, 4.0), (119, 5945, 5.0), (103, 1299, 5.0), (173, 97643, 1.0), (79, 3751, 5.0), (160, 6711, 5.0), (73, 110110, 3.5), (136, 172547, 5.0), (4, 379, 1.5), (75, 58559, 3.0), (154, 3949, 3.0), (147, 6650, 3.0), (4, 5378, 3.0), (92, 5952, 2.0), (71, 3444, 2.5), (185, 316, 3.0), (172, 98956, 4.0), (132, 50, 4.5), (73, 44191, 4.0), (47, 1846, 2.0), (132, 8961, 4.5), (81, 316, 4.0), (81, 5349, 3.5), (83, 146, 3.0), (196, 2942, 1.0), (47, 337, 5.0), (138, 233, 4.0), (135, 4128, 3.0), (56, 1784, 2.5), (99, 91658, 4.0), (4, 4545, 3.0), (73, 7361, 4.5), (81, 3039, 4.0), (47, 924, 3.0), (173, 8644, 3.0), (67, 4011, 3.5), (42, 63131, 3.5), (55, 110, 5.0), (49, 3257, 2.0), (4, 5388, 5.0), (196, 2407, 3.0), (100, 587, 3.5), (4, 5872, 4.0), (185, 180, 4.0), (72, 122900, 5.0), (95, 342, 4.0), (105, 2302, 3.0), (56, 8783, 3.5), (46, 39, 3.5), (45, 2409, 3.5), (147, 33679, 4.0), (187, 1199, 5.0), (4, 44, 1.0), (105, 1580, 4.5), (47, 1968, 2.0), (56, 3435, 2.0), (81, 34150, 1.5), (27, 78499, 5.0), (73, 1225, 4.0), (75, 143355, 2.0), (62, 589, 2.0), (137, 2997, 3.5), (36, 6502, 4.0), (48, 46578, 3.5), (99, 7158, 3.5), (38, 454, 4.0), (45, 1359, 1.0), (154, 3911, 3.0), (154, 2701, 3.0), (160, 4878, 5.0), (196, 3256, 3.0), (49, 175, 1.0), (187, 50, 3.0), (196, 597, 1.0), (10, 3203, 3.0), (63, 380, 4.0), (83, 641, 3.0), (53, 53996, 3.5), (176, 83132, 3.5), (81, 2688, 3.5), (51, 1100, 5.0), (56, 8042, 2.0), (14, 86882, 5.0), (73, 4641, 5.0), (176, 87520, 3.0), (134, 97938, 4.0), (160, 1387, 4.5), (173, 7317, 3.0), (183, 1230, 5.0), (81, 44199, 3.5), (49, 2898, 2.0), (100, 1527, 4.5), (4, 2058, 4.0), (180, 2431, 4.0), (151, 6971, 1.0), (47, 2076, 4.0), (114, 1377, 4.0), (119, 69516, 5.0), (173, 4558, 2.5), (14, 95510, 3.0), (71, 1206, 4.0), (187, 924, 1.0), (51, 317, 4.0), (173, 135569, 3.0), (164, 166, 4.0), (81, 8874, 3.0), (137, 2716, 4.0), (81, 49530, 4.0), (81, 50872, 4.0), (154, 2163, 5.0), (173, 6373, 2.0), (54, 783, 3.0), (196, 2081, 2.0), (43, 6711, 4.0), (132, 1204, 3.0), (71, 33004, 2.5), (173, 67408, 3.0), (180, 10, 4.0), (164, 112, 3.0), (79, 1220, 4.0), (137, 903, 4.5), (117, 1367, 3.0), (163, 252, 3.0), (114, 25, 3.0), (58, 339, 4.0), (88, 48774, 4.5), (160, 1361, 5.0), (183, 2100, 4.0), (135, 1089, 4.0), (42, 2291, 4.0), (160, 5219, 3.0), (88, 44555, 4.5), (137, 2871, 4.5), (1, 1449, 4.5), (105, 762, 2.0), (73, 55442, 4.0), (51, 423, 3.0), (134, 5679, 2.5), (100, 150, 4.0), (15, 84152, 5.0), (176, 69818, 3.0), (82, 1214, 5.0), (138, 5909, 5.0), (97, 7444, 3.0), (188, 2657, 4.0), (55, 2706, 4.5), (60, 296, 4.0), (192, 1407, 3.0), (10, 903, 4.0), (51, 383, 3.0), (99, 122886, 3.5), (173, 134368, 3.0), (95, 350, 4.0), (73, 86882, 4.0), (51, 1620, 4.0), (183, 370, 2.5), (84, 3683, 3.0), (119, 142488, 5.0), (56, 70533, 4.0), (51, 2046, 3.0), (130, 98809, 0.5), (53, 6365, 3.5), (81, 67331, 1.5), (47, 2337, 3.0), (147, 1243, 4.5), (173, 101864, 3.5), (81, 3354, 2.5), (173, 8977, 2.0), (132, 5995, 5.0), (34, 86833, 5.0), (114, 2505, 4.0), (51, 1127, 4.0), (173, 133383, 3.0), (138, 4326, 3.5), (42, 61236, 4.0), (100, 2118, 4.0), (176, 2011, 4.5), (107, 588, 3.5), (6, 10, 4.0), (90, 1704, 4.5), (173, 6281, 2.5), (75, 48516, 4.0), (173, 8870, 1.5), (163, 2279, 3.0), (187, 914, 4.0), (173, 7254, 3.5), (114, 1438, 5.0), (137, 2186, 4.5), (160, 1169, 4.0), (132, 1, 5.0), (48, 56782, 5.0), (79, 2268, 3.0), (56, 5903, 3.0), (160, 296, 5.0), (122, 587, 2.0), (42, 2628, 3.5), (27, 1, 5.0), (67, 97304, 5.0), (171, 5499, 4.0), (73, 3814, 4.5), (173, 64497, 2.0), (183, 104, 3.5), (172, 89492, 4.5), (173, 30825, 2.5), (138, 5464, 4.5), (173, 788, 1.0), (4, 4718, 4.0), (70, 1031, 2.5), (160, 410, 3.5), (187, 953, 3.0), (134, 1373, 2.0), (19, 521, 2.0), (176, 160980, 3.5), (134, 99114, 4.5), (160, 5878, 5.0), (107, 1270, 5.0), (51, 1345, 4.0), (4, 3994, 4.5), (173, 114044, 2.5), (81, 64993, 3.0), (179, 367, 4.0), (7, 4033, 4.0), (176, 91500, 4.5), (26, 2043, 4.5), (101, 442, 1.0), (53, 1080, 2.0), (73, 62155, 3.0), (135, 8865, 3.0), (15, 3006, 3.5), (176, 78105, 4.0), (158, 2628, 3.0), (55, 3194, 2.5), (83, 225, 5.0), (100, 47999, 4.5), (176, 170403, 3.0), (88, 2947, 3.0), (160, 3763, 4.0), (196, 838, 3.0), (103, 1129, 5.0), (196, 1334, 2.0), (4, 1760, 0.5), (160, 5108, 3.0), (4, 43708, 0.5), (4, 169, 0.5), (134, 2991, 4.0), (134, 2028, 4.0), (45, 2329, 4.0), (51, 1193, 4.0), (147, 1097, 2.0), (130, 88140, 0.5), (176, 115011, 4.5), (51, 150, 5.0), (72, 140110, 5.0), (34, 2959, 4.0), (100, 45431, 4.0), (88, 1084, 4.5), (196, 4644, 4.0), (132, 1240, 3.0), (19, 362, 4.0), (183, 480, 3.5), (45, 1101, 4.5), (173, 64839, 3.0), (81, 7842, 4.5), (134, 1407, 4.5), (173, 144976, 3.0), (56, 2596, 1.5), (101, 589, 3.0), (81, 68157, 4.0), (56, 1341, 2.5), (14, 115617, 4.5), (158, 912, 4.0), (100, 7373, 4.0), (138, 4467, 4.0), (72, 132796, 3.0), (81, 8830, 0.5), (81, 103249, 0.5), (174, 296, 4.0), (180, 1676, 3.0), (173, 56587, 3.0), (27, 56782, 3.0), (4, 3256, 5.0), (4, 4734, 4.0), (39, 628, 4.5), (137, 5418, 3.5), (26, 3087, 5.0), (4, 1203, 1.5), (4, 380, 4.0), (173, 81591, 3.0), (163, 1027, 5.0), (36, 1584, 4.0), (18, 50, 5.0), (183, 1092, 5.0), (138, 1206, 5.0), (19, 762, 4.0), (94, 89804, 3.5), (79, 3994, 5.0), (147, 33004, 4.0), (43, 5299, 4.0), (53, 53000, 4.0), (88, 7149, 4.0), (75, 5989, 4.0), (42, 4979, 4.5), (60, 122, 1.0), (138, 2555, 2.0), (97, 3686, 3.5), (181, 76, 3.0), (99, 113252, 3.5), (81, 1206, 4.0), (70, 6016, 4.5), (48, 74228, 4.0), (187, 1069, 4.0), (59, 370, 4.0), (51, 382, 5.0), (81, 96610, 3.0), (56, 1911, 1.5), (81, 27706, 3.0), (156, 592, 4.0), (121, 48, 3.0), (99, 1732, 3.5), (99, 318, 5.0), (151, 6415, 5.0), (14, 108932, 4.0), (114, 158, 5.0), (46, 1136, 4.5), (105, 6533, 3.5), (72, 93840, 5.0), (73, 1464, 4.5), (51, 1358, 5.0), (56, 2890, 3.0), (67, 6, 3.0), (100, 2987, 3.5), (100, 1997, 4.0), (101, 377, 2.0), (10, 527, 5.0), (79, 5540, 4.0), (55, 2572, 1.5), (56, 4367, 1.5), (55, 3504, 3.5), (148, 783, 3.0), (74, 362, 3.5), (173, 1961, 3.0), (147, 2080, 3.5), (63, 891, 2.0), (147, 1206, 3.5), (173, 64716, 2.5), (81, 30812, 3.5), (42, 367, 2.5), (176, 160438, 4.0), (79, 1236, 5.0), (15, 97304, 4.0), (141, 225, 3.0), (134, 56171, 4.0), (141, 367, 2.0), (176, 41566, 3.5), (10, 2360, 5.0), (79, 858, 3.0), (42, 39, 3.0), (196, 377, 2.0), (185, 225, 2.0), (185, 1336, 2.0), (173, 6156, 2.0), (196, 1356, 3.0), (173, 54004, 0.5), (81, 71211, 5.0), (134, 80969, 4.0), (160, 1214, 5.0), (183, 110, 3.5), (55, 4467, 1.0), (179, 457, 5.0), (160, 1345, 3.5), (173, 88140, 3.5), (48, 111, 4.5), (174, 318, 4.5), (164, 273, 1.0), (187, 588, 4.0), (188, 585, 3.0), (138, 1175, 5.0), (14, 3578, 4.0), (73, 551, 3.5), (65, 4995, 3.0), (180, 3254, 3.0), (172, 3791, 4.0), (188, 2907, 2.0), (200, 5995, 4.0), (163, 1821, 4.0), (134, 5882, 4.5), (11, 3052, 4.0), (173, 104272, 4.5), (56, 912, 3.0), (87, 2985, 0.5), (134, 2124, 4.0), (156, 339, 3.0), (98, 3263, 3.5), (176, 147942, 4.0), (119, 924, 5.0), (39, 2011, 4.0), (48, 176423, 3.5), (147, 597, 2.0), (55, 2174, 3.0), (81, 19, 3.5), (83, 54, 3.0), (42, 5218, 0.5), (172, 89904, 3.5), (4, 3208, 4.0), (173, 112623, 4.0), (48, 608, 5.0), (79, 1676, 4.0), (48, 6539, 3.0), (189, 2617, 3.0), (160, 3918, 2.0), (176, 61401, 3.5), (47, 2145, 2.0), (138, 6731, 4.0), (114, 2125, 3.0), (2, 2352, 4.0), (100, 924, 5.0), (45, 5669, 5.0), (81, 26701, 5.0), (10, 1093, 2.0), (67, 34, 5.0), (18, 39, 4.0), (63, 296, 5.0), (101, 288, 3.0), (81, 4310, 0.5), (176, 8526, 0.5), (42, 38061, 4.0), (75, 589, 4.0), (70, 1682, 5.0), (174, 5673, 4.0), (164, 542, 3.0), (119, 1222, 5.0), (79, 3261, 5.0), (18, 555, 4.0), (15, 5995, 5.0), (134, 86835, 4.0), (185, 21, 4.0), (173, 45499, 2.5), (14, 4963, 4.5), (38, 3786, 4.0), (15, 1197, 2.5), (81, 64614, 4.0), (73, 4392, 4.5), (176, 68319, 2.5), (4, 4446, 3.5), (48, 96811, 4.5), (185, 382, 3.0), (72, 457, 5.0), (19, 420, 3.0), (4, 2002, 4.0), (81, 5673, 3.0), (176, 168248, 3.5), (81, 3968, 2.5), (138, 50, 4.5), (141, 380, 2.0), (160, 431, 4.5), (185, 1241, 2.0), (176, 61262, 4.5), (4, 8644, 4.0), (4, 2881, 3.0), (173, 4520, 2.5), (71, 54286, 3.5), (56, 308, 3.5), (173, 45003, 3.5), (176, 165963, 3.5), (56, 4878, 4.0), (183, 2640, 3.5), (129, 3006, 3.0), (71, 26578, 4.5), (45, 2953, 1.0), (180, 1288, 4.0), (81, 7161, 0.5), (138, 1095, 5.0), (35, 58293, 2.0), (138, 366, 3.5), (147, 915, 2.0), (39, 208, 4.0), (55, 832, 4.5), (114, 507, 4.0), (100, 2985, 3.5), (55, 4006, 2.0), (83, 116, 5.0), (148, 628, 4.0), (73, 97921, 4.5), (114, 434, 4.0), (174, 4886, 4.5), (164, 562, 4.0), (60, 227, 3.0), (47, 1079, 4.0), (114, 2028, 5.0), (81, 7367, 4.0), (45, 3450, 4.0), (51, 2370, 5.0), (81, 3409, 1.5), (174, 1025, 4.0), (36, 778, 4.5), (82, 1198, 4.0), (138, 6582, 3.0), (147, 720, 4.5), (173, 4701, 2.5), (173, 76093, 4.5), (84, 2427, 4.0), (115, 234, 2.5), (103, 1580, 3.0), (173, 4718, 2.0), (114, 105, 2.0), (99, 7318, 5.0), (76, 4033, 5.0), (10, 1199, 5.0), (173, 40723, 1.5), (4, 2953, 0.5), (89, 648, 3.0), (119, 104881, 5.0), (105, 466, 4.5), (73, 1952, 4.0), (130, 910, 1.0), (132, 6218, 4.5), (100, 3354, 4.0), (46, 529, 3.0), (56, 1580, 3.0), (84, 2546, 3.0), (56, 5620, 1.0), (56, 3081, 3.0), (134, 3032, 4.5), (176, 148626, 3.5), (176, 7438, 3.0), (134, 2522, 4.0), (10, 2300, 4.0), (51, 1954, 3.0), (154, 3360, 5.0), (81, 4299, 3.5), (81, 42738, 0.5), (173, 1288, 4.0), (173, 3753, 3.0), (100, 1500, 4.0), (26, 1320, 4.5), (81, 49932, 4.0), (127, 11, 1.0), (83, 248, 4.0), (133, 2398, 3.5), (161, 955, 0.5), (134, 49649, 4.0), (128, 44191, 4.5), (157, 356, 4.5), (46, 858, 4.0), (77, 2460, 0.5), (4, 2468, 3.5), (138, 5893, 4.5), (122, 595, 3.0), (111, 588, 4.0), (4, 2153, 1.5), (119, 27834, 5.0), (43, 919, 5.0), (73, 6001, 4.5), (119, 39292, 5.0), (56, 1380, 1.0), (111, 349, 2.0), (44, 215, 4.0), (196, 4995, 4.0), (164, 569, 2.0), (173, 60937, 2.0), (134, 3479, 4.5), (56, 1263, 4.5), (138, 1673, 4.5), (79, 372, 5.0), (60, 42, 1.0), (174, 4873, 4.0), (67, 1193, 4.5), (176, 164179, 4.5), (4, 8781, 4.0), (119, 89896, 5.0), (130, 318, 0.5), (88, 8984, 3.5), (73, 48516, 4.5), (134, 780, 4.0), (176, 99114, 4.0), (48, 8914, 5.0), (81, 79695, 0.5), (43, 4727, 4.0), (138, 1748, 4.5), (4, 1407, 2.0), (176, 32031, 3.0), (43, 1711, 4.0), (119, 7460, 5.0), (166, 116797, 3.5), (90, 539, 3.5), (51, 2118, 3.0), (134, 2119, 3.0), (4, 1892, 4.5), (68, 593, 4.0), (138, 608, 4.0), (112, 3897, 4.0), (4, 4321, 3.0), (4, 1090, 4.0), (120, 1233, 4.0), (81, 6593, 0.5), (173, 86142, 4.0), (111, 2355, 4.0), (43, 1196, 5.0), (81, 5046, 4.0), (74, 1375, 3.0), (173, 106489, 4.0), (195, 783, 4.0), (19, 347, 3.0), (31, 1240, 4.0), (71, 49272, 4.0), (174, 239, 2.5), (47, 1649, 3.0), (75, 8961, 3.5), (138, 1845, 4.5), (51, 1124, 5.0), (111, 1870, 3.0), (196, 938, 4.0), (196, 5014, 3.0), (160, 5445, 4.0), (160, 1090, 4.5), (196, 919, 4.0), (173, 31221, 0.5), (176, 99537, 4.0), (154, 198, 3.0), (176, 62999, 3.0), (5, 4226, 5.0), (102, 1373, 1.0), (81, 69757, 3.0), (55, 1410, 2.5), (43, 963, 4.5), (114, 457, 4.0), (56, 648, 1.0), (5, 2485, 3.0), (180, 1089, 5.0), (81, 50, 4.5), (29, 356, 3.0), (187, 475, 4.0), (55, 4102, 3.5), (134, 152081, 4.5), (45, 6659, 4.0), (56, 3008, 3.0), (176, 73881, 4.0), (95, 1641, 4.0), (151, 296, 3.5), (176, 116797, 4.0), (176, 91630, 3.5), (165, 288, 3.0), (174, 15, 3.0), (185, 1092, 3.0), (42, 5377, 3.0), (4, 6059, 4.5), (173, 106100, 3.5), (165, 253, 4.0), (42, 27879, 5.0), (134, 71379, 2.5), (173, 109578, 2.5), (84, 2858, 1.0), (173, 4212, 4.0), (35, 8983, 4.5), (173, 2858, 4.0), (81, 43928, 0.5), (173, 160954, 2.5), (147, 34338, 3.5), (119, 49530, 5.0), (17, 780, 5.0), (11, 2502, 4.0), (26, 1375, 5.0), (173, 1608, 2.5), (176, 83480, 4.0), (79, 595, 5.0), (99, 33660, 4.0), (134, 1127, 3.5), (79, 3745, 5.0), (151, 6878, 3.5), (71, 588, 4.0), (51, 2424, 4.0), (79, 4361, 5.0), (137, 56782, 5.0), (95, 2239, 4.0), (43, 3633, 4.0), (163, 1410, 4.0), (25, 62, 5.0), (168, 612, 3.0), (56, 337, 4.0), (80, 3450, 3.5), (134, 3572, 2.0), (56, 96832, 4.0), (171, 1204, 1.0), (134, 172, 4.0), (56, 4255, 3.5), (100, 1676, 3.5), (4, 4874, 4.5), (71, 58559, 4.0), (156, 225, 3.0), (55, 1029, 4.0), (14, 2720, 3.5), (160, 4855, 4.5), (88, 8947, 4.0), (147, 3252, 1.5), (81, 106766, 4.5), (114, 1644, 4.0), (81, 5026, 2.5), (134, 3444, 4.0), (81, 112290, 3.0), (187, 903, 2.0), (103, 2009, 5.0), (73, 44555, 3.5), (134, 7454, 4.0), (95, 1307, 4.0), (56, 2351, 3.5), (75, 44555, 3.5), (99, 109487, 4.0), (48, 92259, 4.0), (79, 4446, 3.0), (134, 2953, 4.0), (119, 106918, 5.0), (81, 1320, 3.5), (152, 410, 3.0), (134, 457, 4.5), (145, 110, 5.0), (187, 2819, 3.0), (187, 2324, 3.0), (95, 2395, 4.0), (88, 7445, 3.5), (51, 1459, 4.0), (119, 147613, 5.0), (81, 31410, 4.0), (183, 454, 4.0), (134, 60040, 4.5), (79, 4280, 5.0), (39, 5612, 3.0), (86, 2605, 3.0), (32, 50872, 4.0), (160, 6077, 4.5), (67, 364, 5.0), (31, 529, 4.0), (26, 2478, 5.0), (173, 7541, 1.0), (134, 1091, 5.0), (71, 48877, 0.5), (100, 1, 4.0), (134, 8633, 3.5), (70, 1961, 1.0), (183, 1259, 4.0), (4, 4992, 2.5), (56, 88, 2.5), (95, 912, 5.0), (174, 380, 4.0), (103, 880, 2.0), (177, 2412, 5.0), (180, 2012, 3.0), (51, 1272, 5.0), (173, 103228, 4.5), (151, 775, 4.5), (163, 1914, 4.0), (134, 597, 3.0), (81, 43832, 5.0), (67, 1884, 4.0), (15, 1206, 5.0), (81, 58376, 0.5), (160, 2798, 3.0), (134, 4855, 4.5), (173, 91529, 5.0), (135, 3435, 4.0), (56, 49530, 3.0), (173, 71379, 3.5), (90, 3256, 4.0), (75, 135536, 2.5), (160, 69, 5.0), (47, 1104, 4.0), (44, 5015, 4.0), (92, 1230, 3.5), (4, 5, 2.0), (190, 719, 4.0), (26, 7254, 4.5), (168, 140, 3.0), (136, 68358, 5.0), (100, 44191, 4.0), (130, 84152, 4.0), (179, 10, 4.0), (158, 1198, 5.0), (176, 6537, 3.5), (76, 3578, 4.5), (43, 5378, 3.5), (160, 866, 4.0), (100, 34048, 3.5), (53, 524, 3.5), (79, 3516, 4.0), (88, 8860, 3.5), (174, 6539, 4.5), (168, 288, 4.0), (88, 5014, 4.0), (134, 1345, 4.0), (138, 2717, 3.0), (53, 3793, 4.0), (176, 117851, 3.0), (56, 610, 3.0), (38, 1259, 5.0), (87, 2100, 3.0), (159, 736, 4.0), (15, 480, 4.0), (39, 165, 4.0), (4, 26870, 1.5), (173, 91658, 4.0), (176, 97785, 2.5), (79, 1345, 4.0), (39, 10, 3.5), (4, 2617, 4.0), (134, 2081, 5.0), (79, 1777, 4.0), (203, 4713, 5.0), (48, 33794, 3.5), (53, 2471, 3.0), (58, 344, 3.0), (173, 2795, 3.5), (101, 544, 3.0), (43, 6503, 2.0), (3, 960, 3.0), (14, 6377, 4.5), (81, 4865, 2.5), (71, 6934, 2.5), (138, 5266, 4.5), (55, 2640, 5.0), (79, 2686, 5.0), (147, 830, 3.5), (56, 1093, 3.5), (56, 2505, 4.5), (114, 586, 4.0), (200, 2571, 2.5), (173, 67734, 3.0), (176, 45081, 4.5), (51, 405, 3.0), (47, 1252, 3.0), (173, 67087, 2.5), (4, 1882, 3.0), (51, 635, 5.0), (176, 135518, 4.0), (138, 3275, 3.5), (80, 1591, 2.0), (147, 367, 2.0), (95, 2858, 5.0), (176, 103249, 4.0), (134, 81564, 4.5), (56, 2959, 3.5), (138, 1198, 5.0), (84, 475, 4.0), (81, 8781, 0.5), (56, 1220, 1.0), (129, 3082, 2.0), (196, 1282, 4.0), (57, 110, 5.0), (176, 31696, 4.0), (134, 4887, 5.0), (163, 2953, 2.0), (99, 70159, 3.5), (56, 5881, 2.5), (51, 1197, 3.0), (147, 1923, 2.5), (178, 1297, 5.0), (135, 1127, 2.0), (70, 48780, 3.0), (119, 87304, 5.0), (147, 1617, 4.0), (73, 112290, 4.0), (71, 2076, 4.5), (173, 86898, 3.5), (73, 33493, 3.5), (73, 54648, 2.0), (19, 748, 3.0), (183, 4102, 5.0), (100, 1244, 4.0), (184, 2273, 2.5), (134, 158872, 0.5), (73, 16, 4.0), (185, 1265, 4.0), (160, 1956, 4.5), (183, 1722, 3.0), (50, 1968, 4.0), (185, 1186, 3.0), (164, 1485, 3.0), (117, 784, 1.0), (42, 1722, 3.0), (81, 480, 3.0), (164, 145, 3.0), (173, 73017, 3.0), (56, 54426, 3.5), (56, 1211, 3.0), (4, 3082, 4.0), (6, 204, 1.0), (75, 116797, 2.5), (160, 1393, 4.5), (22, 3396, 4.0), (134, 3156, 2.5), (4, 3981, 2.5), (56, 43928, 0.5), (90, 2268, 4.5), (95, 8128, 4.5), (100, 1276, 4.0), (151, 593, 2.5), (173, 4223, 4.5), (160, 2952, 4.5), (8, 1210, 4.0), (176, 68073, 2.0), (151, 70978, 5.0), (183, 1, 5.0), (134, 8961, 5.0), (136, 356, 5.0), (73, 52, 3.5), (100, 2427, 4.5), (176, 46976, 3.5), (100, 4643, 3.0), (4, 4958, 4.5), (19, 589, 5.0), (114, 165, 4.0), (90, 349, 4.0), (119, 7076, 5.0), (39, 3623, 3.5), (53, 52245, 3.5), (165, 299, 4.0), (160, 2355, 5.0), (100, 529, 5.0), (147, 2115, 1.5), (86, 3107, 4.5), (62, 475, 4.0), (105, 6523, 2.5), (42, 39446, 0.5), (100, 6874, 4.0), (59, 489, 5.0), (48, 48516, 4.5), (116, 3468, 4.0), (56, 720, 1.0), (180, 50, 5.0), (138, 3266, 5.0), (51, 2565, 4.0), (124, 17, 4.0), (176, 4226, 4.0), (147, 908, 3.0), (4, 1961, 3.0), (176, 63113, 2.5), (179, 508, 4.0), (134, 32587, 4.5), (185, 289, 3.0), (16, 296, 5.0), (72, 3088, 4.0), (159, 653, 3.0), (173, 103335, 3.5), (81, 49278, 1.5), (23, 2915, 3.0), (176, 136018, 3.5), (157, 27801, 4.0), (134, 3760, 5.0), (147, 5952, 4.5), (160, 3928, 4.0), (25, 733, 5.0), (79, 594, 4.0), (71, 1295, 3.0), (73, 113225, 3.5), (176, 117430, 4.5), (176, 7163, 3.0), (180, 3967, 4.0), (10, 1247, 4.0), (38, 2699, 5.0), (67, 2340, 3.0), (134, 112138, 3.0), (117, 1059, 3.0), (47, 769, 3.0), (173, 1499, 2.0), (88, 72641, 4.0), (185, 1259, 5.0), (99, 48043, 4.0), (173, 119672, 3.0), (134, 79592, 4.0), (19, 161, 4.0), (4, 6550, 3.5), (161, 4054, 4.5), (152, 474, 4.0), (139, 3246, 3.0), (147, 6377, 4.5), (79, 4681, 4.0), (134, 5816, 4.5), (88, 1240, 3.5), (176, 122882, 4.0), (134, 1461, 3.5), (56, 1356, 3.0), (84, 2324, 2.0), (48, 164179, 5.0), (79, 2355, 4.0), (4, 6365, 2.0), (73, 293, 4.5), (81, 37741, 3.5), (4, 2302, 4.0), (71, 2021, 3.5), (42, 3159, 4.0), (5, 56367, 5.0), (51, 2530, 2.0), (72, 98203, 0.5), (73, 50740, 4.5), (56, 2094, 1.0), (43, 1197, 5.0), (12, 45, 3.0), (103, 919, 5.0), (25, 32, 3.0), (196, 4016, 3.0), (51, 1213, 5.0), (81, 1339, 4.0), (88, 6378, 4.5), (189, 370, 2.5), (187, 1704, 4.0), (4, 255, 0.5), (137, 2324, 4.5), (83, 585, 4.0), (81, 3975, 3.0), (119, 8527, 5.0), (10, 924, 5.0), (79, 1260, 5.0), (59, 344, 3.0), (134, 86332, 4.5), (4, 1732, 0.5), (64, 317, 3.0), (55, 2453, 0.5), (162, 2003, 3.0), (134, 5812, 0.5), (58, 377, 3.0), (73, 56587, 2.0), (105, 47, 5.0), (95, 6953, 4.0), (48, 4027, 2.5), (82, 148280, 4.0), (147, 1517, 2.5), (132, 4978, 3.5), (47, 535, 5.0), (119, 4235, 5.0), (176, 51255, 3.5), (183, 357, 3.5), (70, 1810, 3.5), (187, 1131, 4.0), (173, 50798, 0.5), (14, 58559, 5.0), (71, 2019, 4.0), (56, 175, 4.0), (73, 7071, 3.5), (53, 48774, 4.0), (73, 1258, 4.5), (183, 1198, 5.0), (79, 4639, 4.0), (70, 608, 3.0), (56, 3052, 1.0), (103, 173, 1.0), (88, 163, 2.0), (107, 69844, 5.0), (83, 703, 4.0), (163, 1020, 4.0), (174, 588, 4.0), (164, 39, 5.0), (88, 71033, 4.5), (51, 1676, 1.0), (173, 828, 3.0), (73, 3521, 4.0), (173, 162148, 2.0), (79, 1210, 4.0), (134, 103655, 3.0), (10, 1207, 4.0), (137, 2959, 4.0), (81, 40723, 0.5), (45, 170, 3.5), (81, 6863, 0.5), (55, 2683, 5.0), (137, 4226, 4.0), (138, 3708, 3.0), (196, 3253, 2.0), (88, 6888, 2.5), (174, 1721, 3.0), (154, 2529, 5.0), (122, 780, 4.0), (147, 1500, 4.0), (134, 4986, 2.5), (134, 52722, 4.0), (173, 112183, 3.5), (53, 33679, 3.5), (28, 4993, 4.5), (100, 1777, 4.0), (173, 2422, 2.0), (160, 4037, 4.5), (134, 51412, 4.0), (173, 3267, 3.5), (160, 2734, 3.0), (73, 78039, 4.0), (147, 39, 3.5), (141, 420, 2.0), (73, 1963, 3.5), (134, 83613, 4.0), (143, 39, 3.0), (173, 93570, 3.5), (172, 105844, 5.0), (111, 2908, 5.0), (88, 42723, 4.0), (138, 2386, 1.0), (15, 69844, 5.0), (173, 7802, 3.5), (47, 1394, 3.0), (186, 2393, 4.0), (72, 114662, 4.0), (173, 45081, 3.0), (147, 588, 3.5), (14, 81845, 4.0), (56, 58347, 2.0), (178, 1994, 3.0), (137, 1923, 3.5), (81, 27482, 1.5), (114, 1895, 3.0), (73, 90357, 4.5), (73, 94959, 4.5), (134, 103042, 3.5), (173, 587, 3.0), (147, 1755, 3.0), (47, 2150, 2.0), (134, 103883, 3.5), (34, 88810, 5.0), (81, 26614, 3.5), (155, 2860, 3.0), (36, 4027, 4.5), (173, 10, 3.0), (174, 2141, 3.0), (173, 4887, 2.0), (59, 540, 3.0), (81, 3868, 5.0), (7, 3986, 3.0), (42, 35836, 4.0), (81, 597, 2.5), (134, 4713, 3.0), (51, 1253, 4.0), (134, 2232, 4.0), (95, 1249, 4.5), (44, 8533, 5.0), (19, 489, 3.0), (81, 8528, 2.5), (90, 590, 4.0), (57, 1721, 4.0), (173, 94777, 3.0), (42, 70286, 4.5), (138, 1111, 4.5), (81, 8949, 3.5), (10, 1193, 5.0), (187, 508, 4.0), (26, 3450, 4.5), (154, 442, 3.0), (134, 97950, 3.0), (132, 1784, 4.0), (110, 236, 2.5), (160, 5299, 3.5), (196, 4458, 4.0), (83, 351, 4.0), (56, 260, 3.5), (60, 653, 5.0), (19, 519, 3.0), (147, 1225, 3.5), (79, 2174, 4.0), (180, 1080, 5.0), (61, 2502, 2.0), (81, 56782, 4.0), (55, 4526, 0.5), (185, 454, 4.0), (114, 208, 4.0), (59, 592, 2.0), (91, 5577, 5.0), (100, 2908, 5.0), (80, 3809, 4.0), (56, 45517, 1.0), (163, 1835, 4.0), (81, 63992, 0.5), (4, 2126, 3.5), (15, 365, 3.5), (134, 170, 3.5), (56, 44195, 2.5), (56, 1968, 2.0), (88, 27873, 3.5), (51, 141, 4.0), (114, 3809, 3.0), (137, 539, 3.0), (147, 1947, 2.0), (73, 78499, 4.0), (134, 161634, 4.0), (81, 5690, 4.5), (173, 3752, 2.0), (196, 1022, 2.0), (19, 1170, 3.0), (4, 37733, 4.0), (173, 442, 2.5), (145, 590, 4.0), (155, 1230, 5.0), (100, 2746, 4.0), (15, 7438, 3.5), (4, 2916, 4.0), (164, 240, 5.0), (103, 1603, 3.0), (5, 32587, 4.5), (173, 1729, 3.5), (34, 597, 2.0), (88, 1466, 4.0), (138, 1276, 4.0), (176, 157340, 3.0), (70, 2991, 1.5), (173, 63436, 2.0), (4, 317, 2.0), (15, 2858, 5.0), (19, 480, 4.0), (73, 1259, 4.5), (137, 648, 1.0), (134, 4558, 3.0), (31, 912, 3.0), (168, 25, 4.0), (56, 276, 2.0), (83, 160, 5.0), (51, 160, 3.0), (56, 8784, 3.0), (138, 2731, 4.5), (55, 5039, 1.0), (90, 1027, 3.0), (173, 158238, 3.0), (187, 1234, 4.0), (35, 2058, 3.5), (47, 2599, 5.0), (60, 548, 3.0), (76, 3967, 3.5), (38, 1625, 5.0), (71, 6016, 4.0), (176, 53000, 3.0), (173, 6377, 4.0), (42, 1235, 4.5), (144, 661, 4.0), (137, 89753, 2.5), (5, 728, 3.0), (26, 3994, 4.0), (108, 1252, 5.0), (43, 5618, 5.0), (56, 153, 2.5), (76, 3752, 3.5), (81, 5995, 4.0), (134, 6658, 4.0), (73, 56367, 4.0), (71, 52806, 2.0), (79, 3831, 4.0), (29, 40629, 5.0), (172, 3949, 4.5), (4, 647, 3.5), (196, 1270, 4.0), (81, 73017, 3.0), (45, 3863, 0.5), (154, 1019, 3.0), (73, 2076, 4.5), (14, 90746, 3.5), (79, 1080, 4.0), (4, 527, 4.5), (154, 2009, 4.0), (147, 911, 2.0), (163, 2694, 4.0), (75, 122896, 1.5), (173, 5092, 2.5), (100, 344, 3.0), (135, 1882, 2.0), (51, 2455, 4.0), (15, 91529, 4.0), (160, 6587, 0.5), (4, 8807, 4.0), (119, 2959, 5.0), (100, 3175, 4.0), (71, 344, 3.0), (103, 2393, 5.0), (38, 10, 4.0), (88, 44199, 4.5), (36, 4973, 4.5), (4, 110, 4.5), (83, 253, 4.0), (22, 2565, 2.5), (81, 2997, 4.5), (42, 5956, 3.5), (71, 53000, 3.0), (99, 2762, 5.0), (51, 318, 5.0), (168, 852, 2.0), (173, 2005, 5.0), (60, 71, 3.0), (71, 52885, 3.5), (48, 1206, 4.0), (55, 2078, 3.5), (55, 594, 2.5), (173, 106920, 4.5), (147, 3210, 3.0), (160, 1097, 4.0), (56, 56174, 3.5), (176, 69275, 3.5), (58, 589, 3.0), (51, 1726, 4.0), (67, 1, 4.0), (39, 2985, 3.5), (174, 2087, 4.0), (14, 84152, 4.0), (15, 78039, 5.0), (3, 3171, 4.0), (56, 8984, 3.0), (4, 1391, 2.0), (4, 2918, 4.0), (176, 156607, 4.0), (160, 1876, 4.0), (202, 296, 3.0), (81, 31804, 3.5), (187, 1269, 3.0), (147, 2628, 1.0), (51, 1552, 5.0), (176, 130060, 3.0), (79, 1089, 5.0), (73, 1701, 4.0), (46, 589, 4.0), (43, 3157, 3.0), (56, 2291, 4.0), (90, 4034, 2.0), (51, 1183, 5.0), (34, 4993, 3.0), (134, 106072, 4.5), (4, 3555, 4.0), (173, 140267, 4.0), (176, 89039, 4.0), (81, 4015, 2.5), (141, 444, 4.0), (147, 1784, 3.5), (81, 47810, 0.5), (84, 1207, 5.0), (134, 6283, 4.5), (36, 88118, 4.0), (72, 260, 5.0), (55, 4995, 5.0), (39, 163, 3.5), (4, 8622, 4.0), (187, 909, 4.0), (114, 1100, 4.0), (51, 1997, 3.0), (45, 5313, 1.5), (88, 7317, 3.5), (10, 2973, 5.0), (75, 3793, 1.5), (42, 2115, 4.0), (148, 1210, 4.0), (56, 1078, 2.0), (137, 2371, 4.0), (176, 110968, 3.5), (73, 6873, 3.0), (79, 860, 5.0), (4, 1015, 0.5), (67, 288, 4.0), (19, 50, 3.0), (19, 594, 5.0), (10, 50, 5.0), (100, 1653, 4.0), (106, 1704, 5.0), (185, 593, 5.0), (68, 50, 4.0), (154, 2393, 3.0), (51, 1350, 3.0), (73, 562, 1.0), (43, 4246, 4.0), (56, 33154, 4.0), (71, 66317, 3.5), (73, 541, 5.0), (151, 1252, 4.5), (37, 4082, 3.5), (99, 113780, 3.5), (173, 4133, 2.0), (114, 3249, 4.0), (99, 71135, 1.0), (176, 89190, 3.5), (160, 3994, 4.0), (166, 109487, 3.0), (44, 4214, 0.5), (173, 3793, 3.0), (99, 94959, 3.5), (196, 10, 4.0), (114, 224, 3.0), (48, 99917, 4.5), (134, 3254, 4.0), (138, 5349, 4.0), (164, 1073, 3.0), (111, 1704, 4.0), (173, 1653, 3.5), (152, 165, 3.0), (173, 231, 2.5), (189, 1377, 4.5), (163, 140, 4.0), (72, 104, 3.5), (173, 4844, 3.0), (147, 541, 2.0), (135, 5013, 4.0), (22, 56367, 3.5), (56, 2005, 1.0), (81, 56805, 2.0), (55, 5444, 4.5), (173, 2003, 4.0), (173, 122884, 2.5), (173, 52952, 3.5), (15, 86345, 4.0), (90, 1653, 4.0), (160, 508, 4.0), (174, 3269, 3.0), (132, 1610, 4.5), (81, 3911, 3.0), (81, 73321, 0.5), (176, 94558, 2.5), (51, 1298, 3.0), (138, 1921, 5.0), (121, 151, 5.0), (173, 7458, 2.5), (176, 110169, 3.5), (183, 25, 2.0), (114, 2806, 3.0), (100, 38038, 4.0), (88, 59995, 4.5), (147, 1265, 3.5), (128, 1036, 4.0), (56, 86320, 3.5), (75, 40815, 2.0), (79, 1917, 3.0), (178, 1258, 4.0), (79, 2621, 5.0), (56, 1391, 1.5), (200, 92259, 5.0), (128, 260, 5.0), (45, 1882, 1.0), (162, 1375, 4.0), (134, 47997, 4.0), (18, 329, 4.0), (45, 296, 3.5), (79, 32, 5.0), (101, 593, 1.0), (81, 4571, 3.0), (173, 91542, 3.0), (81, 1073, 2.5), (10, 1249, 4.0), (55, 2524, 1.5), (55, 5040, 2.5), (160, 673, 3.5), (138, 5325, 4.0), (47, 2081, 3.0), (134, 46965, 2.5), (187, 2010, 4.0), (170, 1230, 2.0), (55, 153, 3.5), (73, 110, 4.5), (164, 538, 3.0), (141, 426, 4.0), (47, 1704, 3.0), (173, 157498, 3.0), (134, 111781, 4.0), (42, 2716, 4.0), (187, 2702, 3.0), (71, 57640, 2.5), (176, 106489, 3.5), (81, 4963, 3.5), (43, 3508, 4.0), (4, 1091, 1.0), (56, 51255, 3.0), (173, 5878, 3.5), (134, 88163, 4.0), (79, 2599, 4.0), (160, 6977, 3.5), (42, 2858, 5.0), (45, 7153, 3.5), (48, 55247, 4.0), (116, 116797, 5.0), (70, 2797, 5.0), (15, 31410, 4.0), (103, 1373, 5.0), (148, 799, 3.0), (176, 71254, 3.0), (180, 780, 4.0), (159, 6, 2.0), (56, 1690, 3.0), (56, 2353, 2.5), (77, 68205, 3.0), (18, 435, 3.0), (173, 92259, 4.5), (56, 307, 4.0), (127, 95, 2.0), (4, 3753, 4.0), (173, 4886, 4.5), (187, 3173, 3.0), (119, 4326, 5.0), (164, 350, 4.0), (27, 318, 4.5), (4, 1445, 1.5), (134, 3708, 4.0), (72, 106072, 4.0), (81, 51077, 0.5), (176, 183011, 4.5), (100, 653, 3.0), (14, 296, 4.0), (158, 588, 5.0), (163, 413, 4.0), (171, 2087, 0.5), (157, 2012, 4.0), (176, 65642, 3.5), (134, 61401, 3.0), (196, 1073, 2.0), (100, 3481, 4.0), (103, 527, 4.0), (132, 260, 4.5), (84, 1635, 3.0), (81, 59315, 4.5), (81, 5266, 3.0), (56, 1367, 0.5), (43, 3062, 4.5), (88, 39292, 4.5), (5, 48774, 4.5), (14, 6016, 4.5), (173, 3021, 3.0), (173, 5956, 3.5), (171, 904, 3.0), (43, 4308, 3.5), (173, 103341, 3.0), (4, 3033, 5.0), (107, 88744, 5.0), (4, 1207, 2.5), (137, 1212, 4.5), (151, 928, 4.0), (134, 2243, 4.0), (81, 2353, 2.5), (147, 2174, 3.0), (42, 7153, 3.5), (114, 353, 5.0), (99, 33794, 3.0), (121, 255, 3.0), (154, 3969, 3.0), (157, 3948, 3.5), (138, 2088, 4.0), (81, 44191, 5.0), (134, 3018, 4.0), (99, 3752, 5.0), (38, 4091, 4.0), (13, 362, 4.0), (151, 26574, 4.0), (46, 912, 4.5), (34, 69844, 2.0), (81, 5530, 0.5), (37, 2353, 3.5), (73, 3671, 4.0), (56, 2335, 3.5), (56, 2795, 1.5), (147, 371, 2.0), (160, 2424, 3.0), (203, 6367, 4.5), (99, 122904, 1.5), (176, 97742, 3.5), (134, 106489, 4.5), (55, 2399, 3.5), (173, 5146, 4.5), (168, 36, 3.0), (39, 393, 2.0), (134, 6239, 4.5), (34, 32587, 4.0), (26, 4571, 2.5), (173, 55820, 4.5), (26, 1376, 5.0), (84, 428, 4.0), (51, 1304, 4.0), (56, 4541, 3.5), (18, 172, 3.0), (181, 292, 5.0), (196, 1269, 4.0), (154, 1544, 3.0), (163, 329, 5.0), (81, 36708, 4.5), (173, 57669, 3.5), (191, 1639, 4.5), (81, 8622, 4.0), (75, 113741, 1.0), (162, 1479, 1.0), (119, 52838, 5.0), (79, 2723, 4.0), (47, 1663, 3.0), (137, 60069, 4.5), (163, 39, 3.0), (166, 260, 5.0), (100, 5881, 4.0), (79, 3918, 4.0), (2, 3363, 4.0), (99, 57504, 4.0), (185, 608, 5.0), (43, 3681, 3.5), (19, 1196, 4.0), (183, 1193, 5.0), (71, 7089, 5.0), (119, 97024, 5.0), (127, 318, 3.0), (201, 8644, 4.0), (38, 4124, 3.0), (43, 1011, 2.0), (134, 1980, 1.5), (16, 39, 5.0), (36, 115149, 4.0), (160, 4027, 5.0), (51, 2302, 4.0), (154, 2868, 1.0), (58, 235, 3.0), (81, 4226, 3.5), (15, 4973, 5.0), (46, 6539, 3.5), (53, 8644, 3.5), (160, 906, 4.5), (187, 1207, 5.0), (73, 54001, 3.5), (81, 49822, 4.5), (119, 3504, 5.0), (43, 1371, 4.0), (197, 49530, 4.5), (134, 100498, 4.0), (81, 27611, 5.0), (180, 1079, 5.0), (76, 3147, 3.5), (71, 73017, 3.5), (4, 2794, 3.5), (173, 93457, 4.0), (173, 6537, 2.5), (55, 1920, 2.5), (90, 1586, 4.5), (11, 1193, 4.5), (164, 1476, 5.0), (15, 3993, 4.0), (172, 1350, 3.0), (138, 4855, 4.0), (30, 2407, 2.0), (147, 468, 2.0), (119, 96728, 5.0), (84, 3988, 2.0), (173, 98961, 4.0), (134, 1748, 4.5), (56, 2699, 1.5), (187, 3163, 3.0), (81, 88129, 2.5), (4, 2021, 3.0), (48, 6953, 2.0), (174, 4014, 3.5), (81, 1208, 4.5), (134, 85020, 4.0), (154, 3793, 4.0), (174, 5872, 3.0), (183, 802, 2.0), (176, 77795, 4.0), (43, 3836, 4.5), (59, 450, 5.0), (38, 1909, 4.0), (4, 2947, 4.0), (56, 79702, 4.0), (103, 1270, 5.0), (170, 920, 4.0), (134, 1979, 1.0), (196, 2354, 1.0), (24, 1876, 3.0), (172, 50, 2.5), (56, 4022, 4.0), (56, 3910, 4.5), (134, 3052, 3.0), (32, 593, 4.0), (43, 3418, 3.5), (55, 1214, 5.0), (103, 1692, 3.0), (53, 7438, 3.5), (81, 1676, 4.0), (147, 3160, 3.5), (72, 442, 4.0), (114, 296, 4.0), (39, 2640, 4.0), (183, 1247, 5.0), (19, 1201, 5.0), (4, 1923, 3.5), (99, 106100, 2.5), (90, 2324, 3.5), (174, 5690, 4.0), (148, 3, 3.0), (103, 1720, 3.0), (176, 79357, 4.5), (173, 5219, 2.5), (77, 940, 3.5), (113, 1641, 5.0), (90, 1101, 3.5), (51, 926, 3.0), (160, 4370, 4.0), (99, 90430, 3.0), (101, 464, 5.0), (51, 2112, 4.0), (26, 2297, 4.5), (173, 6888, 0.5), (35, 7153, 5.0), (176, 103228, 3.0), (143, 514, 3.0), (36, 7438, 4.0), (81, 33893, 4.0), (83, 343, 5.0), (147, 3623, 1.5), (173, 144482, 2.5), (158, 318, 5.0), (150, 1136, 4.5), (143, 316, 4.0), (73, 5445, 2.5), (47, 2580, 2.0), (173, 65802, 0.5), (56, 6645, 3.5), (134, 3979, 2.5), (160, 3527, 5.0), (79, 904, 5.0), (4, 5064, 5.0), (15, 858, 4.5), (147, 913, 2.0), (173, 5679, 3.5), (105, 3948, 4.5), (88, 1645, 4.0), (36, 58559, 4.0), (200, 122904, 4.0), (176, 89804, 3.5), (38, 1876, 3.0), (134, 8907, 4.0), (79, 708, 4.0), (39, 1707, 3.0), (173, 5989, 3.5), (150, 296, 3.5), (100, 8366, 4.0), (56, 3489, 3.5), (134, 546, 3.5), (143, 235, 3.0), (187, 919, 3.0), (173, 158, 2.5), (176, 173925, 4.0), (38, 2915, 4.0), (42, 5418, 3.0), (73, 108932, 3.0), (173, 4002, 3.0), (176, 5418, 3.5), (4, 33646, 4.0), (191, 2502, 4.0), (5, 1193, 4.0), (119, 156, 5.0), (119, 65126, 5.0), (55, 3751, 3.0), (53, 53129, 4.0), (4, 6322, 4.5), (73, 134853, 4.5), (72, 73017, 5.0), (173, 53519, 3.5), (12, 48, 2.5), (173, 2126, 3.0), (100, 4734, 4.5), (134, 185, 3.0), (180, 344, 4.0), (56, 2130, 3.5), (81, 114662, 0.5), (134, 2643, 3.0), (173, 68486, 3.5), (58, 590, 4.0), (154, 2902, 4.0), (56, 2273, 1.0), (106, 155743, 3.0), (88, 2692, 4.0), (173, 63992, 1.5), (176, 76030, 3.5), (70, 2959, 4.0), (42, 2081, 4.0), (38, 900, 4.0), (47, 1259, 3.0), (81, 31878, 4.0), (117, 1183, 5.0), (47, 1945, 3.0), (19, 170, 3.0), (14, 63082, 4.5), (34, 116797, 2.5), (134, 4587, 2.5), (79, 6365, 4.0), (73, 42632, 4.5), (173, 1682, 3.5), (160, 4067, 4.0), (21, 5945, 2.0), (53, 44195, 3.5), (56, 2467, 3.0), (134, 5219, 4.0), (55, 2858, 5.0), (173, 60397, 2.0), (176, 45668, 5.0), (173, 8914, 3.5), (134, 48394, 4.5), (95, 3897, 4.0), (38, 1028, 4.0), (128, 6303, 4.0), (176, 113741, 4.0), (134, 1234, 5.0), (160, 3182, 4.5), (180, 4963, 4.0), (100, 7040, 4.0), (4, 6857, 3.5), (67, 2384, 5.0), (81, 5147, 4.0), (114, 539, 4.0), (56, 1198, 3.5), (125, 1197, 2.0), (134, 1882, 3.5), (147, 4351, 1.0), (173, 161582, 3.5), (119, 139644, 5.0), (134, 3499, 4.0), (4, 5882, 3.5), (134, 69644, 4.0), (71, 64497, 3.0), (183, 592, 4.0), (14, 103042, 3.0), (100, 4262, 4.0), (173, 111443, 3.0), (176, 161127, 3.5), (60, 163, 5.0), (75, 109374, 4.0), (158, 2023, 5.0), (81, 235, 4.5), (176, 51412, 4.0), (134, 953, 4.0), (81, 103042, 2.5), (103, 541, 5.0), (156, 434, 3.0), (173, 8019, 2.5), (173, 54286, 3.5), (138, 5106, 1.5), (51, 1219, 5.0), (48, 1584, 4.5), (4, 924, 4.0), (51, 1370, 3.0), (4, 3763, 4.0), (96, 1210, 3.0), (173, 106487, 2.5), (164, 88, 3.0), (151, 91199, 5.0), (160, 1344, 4.5), (34, 3578, 5.0), (176, 100108, 3.0), (173, 150, 4.0), (134, 149830, 3.5), (26, 2193, 4.5), (196, 3997, 2.0), (76, 2000, 4.0), (117, 832, 3.0), (38, 3967, 5.0), (15, 48516, 4.0), (56, 3863, 4.0), (79, 2038, 4.0), (134, 78105, 3.0), (100, 1909, 3.5), (111, 62, 4.0), (56, 7004, 3.0), (45, 2, 0.5), (180, 379, 3.0), (26, 589, 4.5), (119, 74545, 5.0), (36, 8949, 4.0), (56, 6934, 2.0), (173, 2420, 4.0), (48, 1199, 4.5), (56, 2167, 1.5), (134, 32, 4.0), (176, 74545, 4.0), (141, 29, 4.0), (183, 1200, 4.0), (180, 3754, 2.0), (155, 2858, 5.0), (134, 98809, 4.5), (134, 5444, 4.0), (36, 2118, 4.0), (88, 27695, 3.5), (180, 5349, 4.0), (160, 596, 4.5), (84, 3194, 4.0), (56, 56339, 3.0), (159, 849, 4.0), (81, 4993, 4.0), (173, 112852, 4.0), (147, 8360, 3.0), (42, 111, 5.0), (56, 2123, 4.0), (4, 6535, 0.5), (134, 122892, 5.0), (173, 6534, 2.0), (100, 485, 3.0), (173, 42632, 4.0), (47, 1956, 3.0), (137, 3247, 0.5), (183, 364, 4.0), (72, 125916, 0.5), (173, 165603, 3.5), (134, 7394, 4.0), (187, 1307, 3.0), (90, 595, 3.0), (36, 7361, 4.0), (55, 4366, 2.0), (187, 2696, 4.0), (35, 2405, 2.5), (79, 500, 4.0), (19, 225, 3.0), (81, 86332, 2.5), (81, 8970, 3.5), (151, 44694, 4.0), (55, 4975, 1.5), (67, 4963, 5.0), (160, 505, 4.5), (88, 2672, 4.0), (176, 81782, 3.5), (151, 111529, 4.0), (134, 109846, 3.5), (81, 102445, 5.0), (81, 122886, 3.5), (134, 4446, 4.0), (47, 1208, 3.0), (160, 5959, 4.0), (119, 60766, 5.0), (48, 106100, 4.5), (42, 1282, 4.5), (137, 1938, 3.5), (81, 90717, 0.5), (79, 2028, 4.0), (55, 588, 4.5), (10, 2186, 5.0), (32, 260, 5.0), (173, 44972, 1.0), (81, 53996, 4.0), (173, 68205, 2.5), (134, 153, 3.5), (134, 2011, 5.0), (134, 135456, 4.5), (185, 208, 3.0), (180, 708, 4.0), (101, 10, 3.0), (14, 103384, 3.0), (151, 49951, 5.0), (91, 830, 4.0), (39, 5218, 4.0), (164, 532, 5.0), (56, 34, 4.0), (116, 5995, 4.0), (183, 1127, 4.0), (47, 670, 3.0), (79, 4799, 3.0), (19, 160, 3.0), (53, 5574, 4.0), (42, 1090, 4.5), (84, 973, 3.0), (196, 1286, 3.0), (165, 123, 3.0), (148, 778, 4.0), (154, 2329, 3.0), (173, 63062, 3.0), (173, 27839, 2.0), (56, 3252, 3.5), (73, 6016, 4.5), (104, 3608, 3.0), (84, 4292, 3.0), (173, 117895, 2.5), (81, 3996, 3.5), (138, 5956, 4.5), (4, 145, 4.0), (147, 593, 3.0), (48, 112623, 2.5), (46, 1380, 3.0), (18, 497, 4.0), (176, 86320, 3.0), (4, 1552, 3.5), (176, 85056, 3.5), (26, 6333, 4.5), (56, 40583, 3.5), (31, 1304, 3.0), (100, 586, 3.0), (100, 45442, 4.0), (50, 912, 4.0), (163, 508, 4.0), (173, 5971, 5.0), (193, 296, 4.0), (160, 2111, 3.5), (143, 161, 3.0), (195, 455, 3.0), (164, 500, 3.0), (154, 2273, 3.0), (56, 5574, 1.0), (14, 55721, 4.0), (36, 48780, 3.5), (173, 27592, 4.0), (137, 1097, 4.0), (172, 98154, 4.5), (163, 89, 4.0), (19, 1359, 4.0), (42, 1682, 4.0), (15, 8645, 3.0), (48, 111759, 3.5), (71, 33493, 3.0), (6, 227, 2.0), (183, 778, 0.5), (4, 1645, 4.5), (117, 152, 5.0), (90, 288, 2.5), (51, 2016, 3.0), (48, 48774, 5.0), (138, 4378, 4.5), (154, 46, 3.0), (37, 1732, 3.0), (81, 115210, 0.5), (34, 1198, 2.5), (173, 6196, 2.0), (99, 1345, 5.0), (100, 6440, 4.5), (22, 107, 5.0), (95, 7153, 5.0), (36, 2160, 5.0), (134, 70533, 4.5), (163, 2268, 4.0), (196, 4246, 2.0), (172, 5989, 4.0), (81, 913, 5.0), (173, 103483, 2.0), (174, 648, 3.5), (11, 3623, 3.5), (196, 2340, 2.0), (76, 356, 5.0), (114, 2006, 3.0), (176, 171727, 3.5), (95, 6762, 4.0), (147, 1136, 4.0), (81, 1204, 5.0), (48, 527, 4.0), (4, 4019, 3.5), (8, 1393, 4.0), (183, 2916, 4.0), (39, 316, 3.0), (154, 3016, 3.0), (70, 1517, 0.5), (134, 611, 2.5), (187, 2203, 4.0), (128, 36519, 4.0), (172, 48780, 2.0), (130, 2324, 0.5), (61, 2968, 2.5), (138, 4973, 5.0), (154, 4121, 4.0), (81, 27773, 4.0), (72, 1356, 5.0), (21, 249, 3.0), (56, 47629, 2.5), (134, 103253, 3.5), (4, 3087, 3.5), (73, 1213, 4.5), (102, 2872, 1.0), (174, 1064, 2.5), (100, 5502, 3.0), (36, 1089, 5.0), (81, 52579, 3.0), (132, 1527, 3.5), (180, 3608, 2.0), (172, 4995, 4.0), (56, 837, 2.0), (117, 818, 3.0), (160, 608, 5.0), (56, 30810, 4.0), (114, 463, 4.0), (147, 1203, 4.0), (173, 56788, 3.0), (90, 1225, 3.0), (120, 1199, 4.0), (165, 509, 5.0), (42, 6539, 4.0), (134, 6323, 4.0), (56, 64620, 4.0), (100, 3253, 4.0), (173, 122882, 5.0), (200, 117881, 3.5), (160, 3098, 4.0), (19, 361, 3.0), (119, 6787, 5.0), (51, 1371, 3.0), (173, 122924, 3.0), (42, 2617, 1.5), (100, 3578, 4.0), (84, 3543, 4.0), (81, 4014, 4.0), (14, 95311, 4.5), (81, 8491, 3.5), (196, 1224, 4.0), (173, 1573, 3.5), (176, 119139, 4.0), (134, 77561, 4.5), (196, 4299, 1.0), (173, 4018, 2.0), (42, 317, 1.5), (134, 91529, 4.5), (141, 610, 4.0), (180, 3000, 4.0), (136, 111759, 5.0), (150, 1221, 3.5), (176, 78574, 2.0), (176, 105504, 3.5), (95, 316, 3.5), (176, 68358, 4.0), (165, 339, 5.0), (4, 1884, 2.5), (134, 2393, 3.0), (119, 103980, 5.0), (4, 3578, 5.0), (183, 594, 3.5), (3, 1985, 2.0), (114, 377, 4.0), (100, 8636, 4.0), (120, 2012, 3.0), (134, 84187, 4.5), (14, 90647, 3.5), (180, 2002, 4.0), (73, 949, 4.0), (147, 1298, 3.5), (117, 810, 2.0), (100, 1343, 4.0), (197, 527, 5.0), (88, 6870, 4.0), (176, 91414, 4.0), (6, 208, 3.0), (180, 2822, 4.0), (173, 3033, 3.5), (31, 2078, 4.0), (173, 57532, 0.5), (5, 5995, 5.0), (39, 377, 3.5), (4, 2004, 2.5), (51, 913, 5.0), (147, 2300, 4.5), (81, 2455, 4.5), (114, 291, 3.0), (14, 2028, 4.5), (173, 93766, 1.0), (138, 4546, 4.5), (134, 43560, 4.0), (75, 37545, 2.0), (4, 3879, 3.5), (134, 5804, 4.0), (163, 510, 3.0), (134, 5247, 3.5), (56, 1663, 2.0), (173, 95167, 4.0), (88, 2542, 4.5), (60, 708, 5.0), (183, 1220, 3.5), (83, 316, 5.0), (137, 1721, 2.0), (174, 150, 4.5), (173, 132167, 4.0), (104, 2642, 4.0), (173, 6958, 0.5), (134, 18, 4.0), (50, 2779, 5.0), (100, 4886, 4.0), (56, 1347, 1.5), (134, 7569, 5.0), (56, 4446, 3.5), (134, 5459, 4.0), (147, 253, 3.0), (31, 3471, 4.0), (46, 2987, 4.0), (100, 2916, 4.0), (48, 2692, 4.0), (134, 4985, 2.0), (81, 5319, 4.5), (55, 1358, 3.0), (71, 380, 1.5), (75, 136598, 0.5), (42, 260, 5.0), (84, 800, 5.0), (189, 1266, 4.0), (90, 4901, 4.0), (182, 59333, 3.0), (4, 3635, 4.5), (141, 1196, 3.0), (43, 2918, 5.0), (100, 1597, 3.0), (140, 762, 2.0), (51, 2571, 4.0), (134, 2475, 4.0), (180, 4489, 4.0), (6, 380, 3.0), (160, 409, 3.0), (81, 106002, 2.5), (88, 53207, 4.0), (160, 3076, 4.0), (147, 733, 3.0), (147, 44788, 4.0), (81, 329, 3.0), (176, 122886, 3.0), (10, 1, 5.0), (4, 6586, 4.0), (39, 1608, 3.0), (30, 1333, 4.5), (180, 5134, 4.0), (128, 2078, 5.0), (19, 374, 3.0), (72, 56174, 4.5), (173, 54272, 3.5), (96, 79132, 5.0), (68, 457, 3.0), (81, 58156, 1.5), (4, 27905, 4.5), (181, 353, 5.0), (176, 115149, 3.5), (165, 28, 4.0), (10, 3246, 3.0), (134, 1206, 4.0), (88, 7460, 4.5), (14, 2324, 4.5), (51, 2375, 2.0), (4, 2549, 3.0), (160, 6122, 5.0), (56, 81591, 4.0), (180, 2829, 4.0), (81, 6934, 3.5), (160, 1197, 4.5), (154, 1373, 3.0), (155, 3125, 5.0), (119, 2731, 5.0), (138, 4128, 4.0), (81, 51540, 4.0), (176, 166544, 3.5), (185, 253, 3.0), (168, 7, 3.0), (84, 2020, 3.0), (181, 32, 4.0), (187, 2527, 3.0), (132, 508, 4.5), (160, 3256, 4.0), (163, 2328, 2.0), (71, 527, 4.0), (19, 704, 3.0), (81, 68358, 3.5), (173, 6816, 3.5), (72, 1214, 5.0), (154, 2858, 5.0), (81, 61240, 4.0), (15, 296, 5.0), (73, 57147, 3.5), (97, 3261, 4.0), (81, 6383, 0.5), (14, 122904, 4.0), (55, 318, 5.0), (56, 17, 4.0), (53, 1291, 2.0), (73, 926, 3.5), (81, 68959, 4.5), (72, 47610, 4.5), (151, 72386, 4.5), (72, 1198, 5.0), (134, 2549, 4.0), (128, 8865, 1.0), (160, 1380, 4.0), (81, 39292, 5.0), (110, 3977, 0.5), (81, 48412, 0.5), (100, 329, 4.0), (173, 94677, 2.0), (26, 2672, 4.5), (180, 3972, 4.0), (122, 315, 3.0), (83, 711, 4.0), (71, 1274, 3.5), (81, 4019, 4.5), (134, 60937, 3.5), (4, 1641, 3.5), (183, 2115, 4.5), (87, 2804, 2.0), (135, 5470, 4.0), (45, 6979, 3.0), (176, 166918, 3.5), (49, 1270, 2.0), (119, 608, 5.0), (23, 2641, 3.0), (13, 2140, 4.0), (182, 1982, 3.0), (180, 2269, 3.0), (173, 140174, 4.0), (137, 6539, 3.5), (19, 303, 4.0), (73, 127152, 4.0), (173, 82667, 4.5), (136, 5989, 4.5), (100, 2355, 4.0), (134, 44191, 3.5), (196, 903, 4.0), (184, 1287, 1.5), (73, 2395, 4.0), (72, 317, 4.5), (14, 33794, 4.0), (51, 2396, 5.0), (14, 72641, 3.5), (57, 1735, 4.0), (134, 5146, 4.0), (43, 6003, 4.5), (100, 45668, 3.5), (111, 364, 5.0), (56, 6979, 3.5), (53, 34534, 3.5), (114, 23, 4.0), (196, 5378, 3.0), (56, 1203, 4.0), (81, 6484, 2.0), (36, 4878, 4.0), (88, 27821, 4.0), (3, 2028, 5.0), (55, 1967, 4.0), (73, 4873, 3.0), (71, 55908, 3.5), (185, 370, 3.0), (184, 3006, 1.0), (187, 2529, 4.0), (134, 2613, 4.0), (4, 2291, 3.5), (100, 6768, 4.5), (81, 6541, 1.0), (183, 150, 4.0), (117, 782, 3.0), (43, 541, 5.0), (176, 16, 3.5), (45, 356, 5.0), (160, 16, 4.5), (183, 1213, 5.0), (119, 6706, 5.0), (138, 246, 4.5), (81, 1258, 3.0), (67, 1416, 3.0), (53, 2959, 4.0), (191, 1408, 4.5), (75, 184797, 3.5), (82, 3552, 3.0), (56, 3424, 0.5), (79, 2361, 3.0), (88, 49772, 3.5), (138, 2385, 2.5), (145, 364, 4.0), (179, 527, 5.0), (119, 67997, 5.0), (43, 3362, 4.0), (34, 2617, 4.5), (4, 7147, 5.0), (56, 29, 4.0), (55, 5693, 2.0), (73, 48394, 4.5), (196, 1405, 1.0), (19, 707, 4.0), (67, 122920, 3.0), (105, 4963, 5.0), (36, 4246, 1.0), (81, 91535, 0.5), (134, 2868, 3.0), (81, 6003, 4.0), (173, 57640, 3.5), (165, 495, 4.0), (147, 2935, 5.0), (163, 318, 5.0), (163, 648, 4.0), (81, 7173, 0.5), (15, 1704, 4.5), (71, 60161, 2.5), (48, 44555, 3.5), (4, 8665, 5.0), (56, 500, 2.0), (187, 1956, 4.0), (23, 2243, 4.0), (183, 223, 3.5), (134, 1974, 3.0), (79, 3255, 5.0), (173, 67255, 3.5), (71, 1232, 5.0), (71, 1080, 4.0), (176, 91542, 4.0), (90, 344, 2.0), (130, 3147, 2.0), (119, 64620, 5.0), (100, 1234, 4.0), (119, 71108, 5.0), (134, 92420, 4.5), (134, 5481, 3.0), (88, 2313, 4.5), (90, 1197, 4.0), (71, 4006, 2.5), (147, 30810, 0.5), (81, 8961, 3.5), (56, 1350, 2.5), (53, 3717, 4.0), (81, 55995, 0.5), (57, 3556, 4.0), (134, 108945, 4.0), (121, 296, 3.0), (100, 3751, 4.0), (134, 2145, 4.0), (4, 879, 2.5), (173, 1333, 3.5), (4, 7649, 4.5), (101, 380, 3.0), (26, 1297, 4.5), (55, 2761, 4.0), (158, 12, 4.0), (88, 7254, 3.5), (73, 4914, 4.5), (173, 62155, 2.5), (88, 2712, 5.0), (136, 69122, 3.0), (134, 93363, 2.5), (53, 42738, 4.0), (173, 87483, 2.0), (6, 434, 2.0), (132, 2115, 4.0), (114, 832, 5.0), (88, 1961, 4.0), (150, 3147, 1.0), (173, 164179, 4.5), (82, 1375, 2.5), (173, 107769, 2.0), (141, 273, 3.0), (75, 102880, 1.0), (55, 3809, 3.5), (134, 99912, 3.5), (45, 4734, 3.5), (173, 165101, 2.0), (173, 7143, 3.5), (183, 3408, 3.0), (138, 3671, 4.0), (160, 2407, 4.0), (154, 924, 5.0), (48, 2232, 3.5), (4, 5283, 3.5), (160, 161, 4.5), (53, 26614, 4.0), (73, 1291, 4.5), (99, 111360, 3.0), (134, 2409, 4.0), (51, 1240, 5.0), (43, 50, 4.0), (120, 1204, 3.5), (105, 6764, 4.5), (45, 1210, 4.5), (185, 170, 3.0), (176, 7254, 4.5), (79, 296, 5.0), (138, 2844, 4.0), (173, 4369, 3.0), (55, 5146, 0.5), (94, 5564, 3.0), (81, 5445, 4.5), (158, 3871, 5.0), (19, 502, 3.0), (72, 112852, 5.0), (165, 345, 5.0), (36, 98491, 4.5), (42, 53894, 3.5), (34, 1961, 3.5), (85, 2502, 4.5), (10, 348, 4.0), (168, 1183, 3.0), (147, 2010, 1.0), (147, 1961, 3.0), (18, 357, 4.0), (74, 2805, 3.0), (42, 82459, 4.0), (176, 37729, 4.0), (60, 519, 1.0), (36, 1240, 3.0), (114, 2571, 4.0), (165, 41, 4.0), (75, 122924, 1.5), (134, 2527, 4.0), (173, 5574, 3.0), (56, 2193, 3.5), (35, 880, 3.0), (134, 799, 4.5), (26, 1373, 5.0), (196, 4321, 3.0), (53, 5152, 4.0), (73, 1270, 4.0), (154, 3693, 1.0), (130, 150, 0.5), (134, 2687, 3.0), (37, 3176, 4.0), (81, 6711, 4.0), (172, 44191, 5.0), (75, 92259, 3.5), (88, 6863, 3.5), (134, 379, 4.0), (170, 2763, 4.0), (194, 39, 3.5), (55, 1263, 3.0), (119, 5876, 5.0), (23, 2746, 4.0), (119, 46976, 5.0), (81, 1485, 3.5), (164, 18, 5.0), (121, 185, 3.0), (35, 356, 4.5), (154, 2903, 2.0), (136, 112852, 4.5), (176, 176933, 3.5), (100, 49272, 4.0), (176, 7022, 4.0), (173, 4979, 3.0), (75, 48780, 5.0), (134, 1258, 5.0), (90, 1291, 4.0), (160, 6301, 4.0), (160, 1270, 4.0), (159, 141, 4.0), (59, 2, 5.0), (85, 3052, 0.5), (81, 37386, 4.0), (132, 4225, 3.5), (173, 114713, 1.5), (79, 2250, 4.0), (81, 6155, 1.5), (120, 2321, 3.5), (160, 5388, 4.0), (173, 32914, 2.0), (55, 4721, 0.5), (44, 18, 4.0), (160, 247, 4.5), (43, 377, 4.0), (180, 2605, 4.0), (111, 1680, 1.0), (81, 3000, 4.5), (189, 1923, 4.5), (90, 3147, 4.0), (81, 81782, 0.5), (196, 165, 1.0), (72, 832, 4.5), (134, 51632, 4.0), (71, 2291, 3.5), (36, 81845, 4.5), (160, 141, 4.0), (12, 2502, 3.5), (67, 2424, 3.0), (56, 502, 0.5), (160, 6732, 4.5), (72, 34405, 5.0), (164, 457, 3.0), (176, 114494, 3.5), (196, 2096, 3.0), (170, 1270, 3.0), (103, 1391, 2.0), (51, 1198, 4.0), (101, 32, 3.0), (134, 65577, 4.0), (163, 3105, 4.0), (176, 103253, 3.5), (136, 102903, 4.5), (183, 2712, 2.0), (4, 7841, 4.5), (79, 2144, 4.0), (56, 2081, 2.5), (134, 2100, 3.5), (42, 3755, 3.0), (160, 1660, 4.5), (114, 2724, 2.0), (134, 2428, 3.5), (173, 54190, 3.5), (4, 2028, 5.0), (134, 78467, 3.5), (158, 1974, 2.0), (56, 1721, 2.5), (164, 327, 4.0), (51, 2334, 3.0), (4, 1610, 5.0), (4, 1059, 4.5), (42, 543, 3.5), (4, 377, 3.5), (100, 2944, 3.5), (45, 2762, 3.5), (72, 2762, 4.0), (119, 6440, 5.0), (147, 1722, 3.5), (85, 5952, 1.5), (62, 2025, 5.0), (196, 1947, 2.0), (147, 780, 1.5), (83, 688, 4.0), (81, 8485, 5.0), (83, 708, 3.0), (84, 3198, 3.0), (132, 1136, 4.0), (132, 1196, 4.5), (171, 1254, 2.0), (134, 96737, 4.0), (4, 2355, 4.0), (132, 778, 4.5), (134, 364, 4.5), (34, 81845, 2.0), (105, 2011, 3.0), (187, 3125, 3.0), (99, 48385, 4.0), (119, 2395, 5.0), (68, 165, 3.0), (67, 4262, 3.0), (81, 40278, 4.0), (100, 3703, 2.5), (71, 296, 4.5), (134, 6800, 3.5), (39, 3949, 3.0), (114, 3436, 2.0), (154, 2119, 1.0), (68, 3086, 3.0), (42, 63113, 3.0), (81, 65126, 2.0), (138, 81, 4.0), (81, 1200, 4.5), (55, 3535, 3.0), (173, 798, 2.5), (173, 479, 3.0), (173, 2167, 3.0), (14, 59315, 4.0), (39, 2616, 4.0), (81, 6773, 3.0), (42, 2694, 1.5), (45, 5015, 3.5), (53, 6548, 3.5), (99, 90345, 1.0), (81, 27441, 4.0), (173, 62999, 3.0), (55, 608, 4.0), (187, 1029, 4.0), (51, 2028, 3.0), (172, 6539, 3.5), (14, 48780, 4.0), (179, 474, 4.0), (38, 953, 5.0), (183, 11, 3.0), (187, 910, 4.0), (81, 45728, 4.5), (99, 40815, 4.5), (39, 2174, 3.5), (134, 86298, 4.0), (71, 1196, 4.0), (66, 4448, 2.0), (106, 92259, 5.0), (56, 2502, 3.0), (164, 380, 1.0), (154, 3918, 1.0), (181, 296, 4.0), (147, 1, 3.0), (79, 3608, 4.0), (4, 3316, 3.0), (99, 5349, 4.0), (75, 63113, 2.0), (8, 1409, 3.0), (47, 912, 3.0), (176, 79588, 4.0), (203, 1259, 4.5), (27, 134853, 5.0), (34, 109487, 5.0), (51, 292, 3.0), (164, 255, 4.0), (67, 2700, 1.0), (90, 150, 4.0), (68, 1370, 3.0), (83, 313, 3.0), (42, 49272, 4.0), (196, 357, 3.0), (63, 608, 4.0), (4, 1127, 4.5), (173, 117466, 3.5), (4, 2722, 3.0), (56, 4963, 3.0), (34, 2329, 2.5), (43, 2871, 5.0), (73, 3996, 3.5), (173, 48304, 4.0), (81, 3717, 3.0), (114, 2561, 4.0), (43, 1270, 4.5), (134, 4531, 4.0), (95, 2396, 4.0), (83, 333, 4.0), (114, 2266, 2.0), (95, 5060, 4.5), (111, 593, 5.0), (4, 1917, 4.0), (73, 88129, 5.0), (134, 122900, 5.0), (163, 1580, 4.0), (100, 104, 3.5), (45, 5151, 3.5), (173, 61132, 3.0), (51, 1266, 5.0), (73, 140737, 4.0), (36, 36, 4.0), (60, 356, 5.0), (185, 666, 5.0), (187, 1944, 5.0), (160, 2761, 5.0), (15, 96079, 4.0), (56, 4886, 1.0), (84, 1132, 4.0), (56, 150, 3.5), (56, 5103, 3.0), (88, 55286, 3.0), (180, 1476, 3.0), (173, 59900, 1.5), (180, 3996, 4.0), (51, 1269, 3.0), (19, 507, 3.0), (173, 134853, 4.0), (135, 4306, 3.0), (55, 589, 5.0), (73, 2174, 4.5), (176, 101864, 4.0), (79, 3175, 4.0), (81, 2985, 3.5), (176, 103972, 3.5), (42, 3897, 3.5), (185, 485, 3.0), (81, 2011, 4.5), (160, 1673, 4.0), (185, 1088, 3.0), (122, 145, 3.0), (51, 367, 4.0), (58, 110, 5.0), (145, 587, 4.0), (130, 106782, 3.0), (164, 289, 3.0), (179, 356, 5.0), (42, 1307, 4.0), (42, 7247, 4.0), (14, 78499, 5.0), (81, 70286, 4.5), (42, 46578, 4.0), (136, 76093, 5.0), (173, 7459, 3.0), (81, 1223, 4.0), (176, 140110, 3.0), (95, 1206, 5.0), (47, 3198, 4.0), (125, 260, 4.0), (114, 3916, 5.0), (100, 316, 4.0), (134, 79132, 4.0), (81, 47997, 3.0), (138, 6857, 4.0), (174, 1517, 3.5), (43, 587, 4.0), (173, 40819, 3.5), (196, 904, 4.0), (174, 2340, 2.0), (19, 1029, 3.0), (6, 161, 4.0), (176, 74789, 3.5), (134, 1405, 1.5), (176, 80489, 3.5), (79, 2924, 4.0), (104, 546, 2.5), (95, 1358, 4.5), (130, 63082, 3.0), (138, 1753, 4.0), (36, 593, 4.5), (90, 26614, 4.5), (56, 3186, 4.5), (73, 6159, 5.0), (4, 3253, 2.5), (81, 608, 4.5), (138, 4100, 3.0), (56, 48, 1.5), (190, 711, 1.0), (168, 100, 3.0), (95, 4993, 5.0), (173, 55282, 1.5), (176, 121143, 4.0), (173, 99910, 3.0), (134, 71135, 4.0), (59, 317, 5.0), (134, 3693, 4.0), (114, 1, 5.0), (31, 318, 5.0), (174, 3793, 4.0), (141, 50, 5.0), (114, 1732, 2.0), (81, 48385, 3.5), (43, 208, 3.0), (5, 30749, 4.0), (138, 2439, 4.0), (98, 637, 1.0), (31, 3360, 5.0), (4, 20, 2.5), (90, 54286, 4.5), (160, 2453, 4.5), (55, 3697, 2.0), (4, 3552, 4.0), (72, 109487, 5.0), (15, 1203, 5.0), (81, 592, 3.0), (5, 5954, 4.0), (100, 6708, 4.0), (10, 745, 4.0), (173, 2716, 4.5), (14, 79132, 5.0), (185, 353, 3.0), (108, 1221, 5.0), (154, 1980, 2.0), (138, 1282, 4.0), (51, 1945, 3.0), (160, 34, 4.5), (81, 5323, 0.5), (134, 82854, 3.0), (103, 1196, 5.0), (56, 84187, 4.5), (134, 3476, 3.5), (130, 92259, 5.0), (83, 552, 5.0), (176, 2012, 4.5), (176, 82244, 3.5), (5, 55247, 5.0), (83, 93, 5.0), (4, 1617, 5.0), (121, 161, 4.0), (196, 1035, 4.0), (185, 1247, 4.0), (173, 344, 2.5), (163, 2700, 1.0), (51, 1687, 3.0), (43, 4483, 1.5), (173, 7373, 3.0), (81, 2706, 2.5), (119, 1232, 5.0), (4, 5956, 3.5), (151, 4993, 0.5), (6, 173, 3.0), (176, 59501, 3.0), (138, 4878, 4.5), (141, 741, 4.0), (42, 1136, 4.5), (4, 2081, 2.0), (114, 1515, 4.0), (119, 2732, 5.0), (134, 95, 3.5), (15, 7371, 4.5), (56, 3157, 2.0), (19, 459, 4.0), (119, 66665, 5.0), (16, 317, 4.0), (51, 553, 4.0), (174, 5527, 2.5), (181, 589, 5.0), (42, 296, 5.0), (134, 5971, 4.5), (171, 1333, 1.0), (128, 2529, 1.5), (164, 648, 3.0), (81, 48780, 3.5), (42, 5299, 3.5), (172, 8665, 4.5), (147, 293, 4.0), (81, 1201, 5.0), (42, 3793, 2.5), (81, 349, 5.0), (137, 457, 4.0), (42, 1258, 4.5), (71, 27660, 3.0), (94, 88932, 3.0), (176, 60126, 1.5), (176, 55232, 3.5), (79, 597, 4.0), (62, 2324, 5.0), (73, 1732, 5.0), (14, 86880, 3.5), (191, 172, 1.5), (176, 58803, 3.5), (56, 2810, 4.0), (132, 47, 5.0), (10, 534, 3.0), (117, 842, 2.0), (138, 5165, 4.0), (73, 1198, 4.5), (176, 64983, 3.0), (81, 55721, 3.5), (26, 1967, 4.0), (176, 88744, 3.0), (56, 35836, 2.5), (77, 2581, 3.0), (197, 1704, 5.0), (160, 1243, 5.0), (79, 1391, 3.0), (132, 2336, 4.0), (140, 3555, 4.0), (181, 160, 3.0), (180, 719, 3.0), (108, 2294, 4.0), (88, 49278, 4.0), (155, 3793, 2.0), (160, 2683, 3.0), (152, 377, 4.0), (176, 62081, 4.0), (173, 1518, 2.5), (132, 7147, 4.0), (156, 457, 5.0), (73, 2997, 4.0), (51, 875, 4.0), (14, 117529, 3.5), (81, 315, 3.0), (134, 5141, 3.0), (34, 142488, 3.5), (163, 2036, 3.0), (103, 2199, 4.0), (65, 1198, 5.0), (95, 924, 4.0), (180, 2193, 4.0), (183, 3421, 3.0), (100, 785, 3.5), (72, 27611, 5.0), (19, 234, 3.0), (81, 52462, 4.5), (73, 1617, 3.5), (60, 257, 3.0), (81, 71464, 5.0), (176, 95223, 3.0), (73, 3812, 4.0), (46, 6333, 2.5), (4, 2797, 1.5), (163, 2432, 5.0), (14, 2959, 4.5), (177, 1200, 3.5), (6, 454, 4.0), (134, 2001, 4.5), (4, 2640, 3.5), (43, 2289, 4.0), (134, 2153, 3.5), (187, 1953, 4.0), (73, 93721, 4.5), (133, 3396, 2.5), (173, 84395, 2.0), (59, 802, 5.0), (134, 89745, 5.0), (55, 1562, 2.5), (113, 593, 4.0), (134, 109487, 4.0), (134, 45666, 3.0), (73, 3813, 4.5), (114, 60, 3.0), (173, 1690, 3.0), (95, 2324, 5.0), (4, 3298, 4.5), (73, 53996, 0.5), (58, 165, 3.0), (174, 5618, 5.0), (193, 2710, 4.0), (134, 4105, 4.0), (114, 3835, 3.0), (43, 2478, 3.0), (60, 328, 4.0), (37, 2502, 4.0), (81, 73023, 4.0), (88, 2278, 4.5), (4, 3114, 3.0), (114, 11, 3.0), (66, 4366, 3.0), (56, 5445, 4.0), (42, 8874, 4.0), (185, 541, 5.0), (46, 318, 4.0), (180, 1376, 5.0), (176, 1213, 2.5), (26, 2431, 4.5), (168, 74, 3.0), (134, 53121, 4.5), (79, 232, 5.0), (16, 252, 5.0), (59, 227, 4.0), (133, 2375, 3.5), (14, 68157, 5.0), (138, 5772, 3.5), (179, 141, 4.0), (147, 1907, 5.0), (145, 592, 3.0), (56, 1732, 4.5), (119, 1953, 5.0), (38, 3897, 4.0), (147, 745, 5.0), (4, 736, 3.5), (100, 31696, 3.5), (173, 1215, 3.0), (173, 31410, 4.5), (172, 96079, 4.5), (196, 2692, 4.0), (45, 3178, 4.0), (55, 3479, 2.5), (141, 307, 5.0), (173, 59727, 2.5), (43, 356, 4.5), (56, 410, 3.0), (71, 55069, 4.5), (88, 1258, 5.0), (56, 3224, 3.0), (176, 73268, 4.0), (173, 50872, 4.5), (4, 474, 3.5), (4, 6539, 5.0), (173, 2115, 4.5), (114, 1479, 4.0), (19, 1083, 4.0), (56, 8690, 3.0), (160, 7009, 5.0), (119, 45, 5.0), (168, 112, 3.0), (4, 1580, 4.0), (179, 253, 3.0), (173, 5107, 2.5), (43, 3654, 4.0), (75, 79132, 4.0), (172, 2990, 3.0), (47, 2300, 2.0), (134, 26887, 3.0), (121, 420, 4.0), (81, 6564, 0.5), (173, 73211, 2.5), (4, 3825, 2.5), (84, 3685, 3.0), (134, 115881, 4.0), (185, 996, 3.0), (4, 37380, 2.0), (100, 1464, 4.0), (138, 2713, 2.0), (183, 1917, 3.5), (58, 282, 3.0), (4, 253, 4.5), (81, 454, 3.5), (79, 2700, 5.0), (71, 7327, 4.5), (110, 2302, 1.5), (95, 235, 4.0), (147, 736, 1.5), (51, 1393, 3.0), (73, 1527, 4.0), (75, 1089, 4.5), (111, 3256, 2.0), (173, 4128, 4.5), (134, 55768, 3.0), (4, 4901, 5.0), (51, 589, 5.0), (147, 2028, 2.5), (19, 858, 3.0), (147, 951, 4.0), (172, 63082, 4.5), (90, 6539, 4.0), (88, 41997, 4.0), (19, 364, 4.0), (46, 2, 2.0), (173, 4103, 4.0), (160, 5418, 4.0), (173, 114180, 4.0), (92, 1485, 3.5), (101, 338, 2.0), (68, 4224, 4.0), (185, 459, 3.0), (164, 370, 3.0), (73, 5339, 4.0), (59, 231, 3.0), (15, 4896, 5.0), (163, 2082, 4.0), (84, 1542, 3.0), (173, 5459, 2.0), (73, 33679, 3.0), (56, 26702, 3.5), (172, 2950, 2.5), (81, 1590, 4.0), (73, 3147, 4.0), (81, 3897, 3.5), (151, 136908, 4.0), (92, 1380, 4.5), (176, 175197, 3.5), (111, 2997, 4.0), (128, 2193, 1.5), (54, 1210, 5.0), (134, 2089, 4.0), (172, 2720, 2.5), (131, 4886, 4.0), (173, 160565, 1.5), (4, 6595, 4.0), (81, 6197, 3.0), (100, 2231, 4.0), (53, 56156, 4.0), (42, 37733, 1.5), (160, 6380, 4.5), (173, 56782, 4.0), (183, 70, 3.0), (147, 1252, 4.5), (54, 708, 3.0), (100, 2076, 4.5), (135, 2571, 4.0), (45, 3301, 1.5), (87, 3481, 0.5), (88, 40583, 4.0), (164, 413, 4.0), (13, 838, 3.5), (89, 1405, 2.0), (55, 150, 4.0), (180, 4214, 4.0), (134, 1270, 5.0), (10, 1635, 4.0), (119, 81845, 5.0), (15, 733, 2.0), (4, 1242, 5.0), (95, 593, 5.0), (26, 3300, 4.0), (181, 590, 3.0), (55, 165, 4.5), (147, 107, 3.5), (151, 108981, 0.5), (84, 4586, 4.0), (83, 238, 5.0), (176, 7454, 2.5), (173, 30749, 4.5), (173, 6890, 3.5), (4, 23, 3.0), (134, 59615, 3.0), (55, 2093, 4.0), (100, 708, 4.0), (36, 56782, 5.0), (4, 316, 5.0), (30, 913, 5.0), (4, 457, 4.5), (138, 4350, 5.0), (31, 750, 4.0), (56, 71379, 2.0), (36, 68157, 3.5), (107, 81834, 5.0), (75, 162606, 2.5), (51, 2687, 4.0), (151, 3742, 4.0), (187, 2390, 2.0), (173, 1625, 4.0), (72, 1200, 4.0), (173, 4643, 2.5), (122, 165, 4.0), (85, 1674, 3.0), (196, 914, 4.0), (18, 515, 5.0), (88, 8638, 3.0), (56, 266, 3.0), (57, 356, 5.0), (48, 2324, 3.5), (81, 1968, 4.0), (36, 88129, 4.0), (196, 2822, 2.0), (100, 231, 3.5), (154, 2571, 5.0), (160, 2389, 3.0), (114, 1393, 4.0), (119, 82459, 5.0), (71, 5349, 3.0), (158, 3408, 5.0), (4, 8371, 5.0), (4, 4886, 4.5), (103, 2012, 5.0), (18, 230, 4.0), (173, 1974, 3.0), (196, 2273, 4.0), (138, 2985, 4.5), (197, 2324, 5.0), (81, 47200, 1.0), (81, 7373, 3.0), (203, 2145, 1.5), (160, 2253, 3.0), (181, 329, 4.0), (67, 2763, 3.5), (38, 318, 5.0), (73, 6365, 1.0), (73, 61236, 4.0), (47, 45, 4.0), (70, 3114, 4.5), (158, 1967, 5.0), (176, 53996, 3.0), (180, 168, 4.0), (160, 5103, 4.0), (4, 2816, 2.5), (134, 529, 3.5), (76, 5449, 3.0), (100, 2918, 4.0), (72, 102445, 5.0), (134, 3576, 4.0), (179, 595, 4.0), (184, 1375, 5.0), (100, 2001, 2.5), (163, 180, 4.0), (81, 49396, 4.0), (81, 66320, 3.0), (39, 1407, 2.0), (108, 1161, 4.0), (48, 3147, 4.5), (138, 2459, 4.0), (67, 79132, 4.0), (119, 6620, 5.0), (35, 1148, 4.0), (114, 1687, 5.0), (4, 4643, 3.0), (13, 3210, 3.5), (51, 1704, 5.0), (71, 2010, 4.5), (183, 1517, 4.0), (84, 1041, 4.0), (45, 4023, 3.0), (183, 3552, 5.0), (180, 1101, 5.0), (73, 40826, 1.0), (83, 201, 4.0), (55, 2099, 1.5), (51, 2373, 3.0), (22, 3271, 4.0), (42, 2770, 3.5), (202, 457, 5.0), (56, 1333, 2.5), (79, 1721, 3.0), (100, 1263, 4.5), (147, 38038, 3.0), (36, 1261, 4.0), (185, 10, 4.0), (130, 1203, 1.0), (81, 1610, 4.5), (158, 648, 4.0), (171, 1234, 5.0), (81, 2987, 3.0), (45, 3717, 3.0), (140, 355, 2.0), (54, 881, 4.0), (81, 1921, 3.5), (55, 3738, 2.0), (132, 3578, 3.5), (4, 8641, 1.0), (72, 553, 5.0), (160, 5796, 3.5), (173, 84944, 3.5), (141, 521, 5.0), (81, 60756, 3.0), (117, 778, 4.0), (88, 3578, 4.0), (100, 266, 4.0), (138, 215, 4.5), (99, 54001, 3.5), (183, 6662, 3.5), (4, 608, 5.0), (16, 265, 5.0), (53, 6059, 4.0), (127, 349, 4.0), (134, 1371, 1.5), (15, 91535, 4.5), (56, 2132, 4.0), (51, 1573, 4.0), (151, 2858, 3.5), (117, 833, 2.0), (174, 2028, 4.0), (55, 2409, 4.5), (51, 678, 4.0), (133, 3798, 3.5), (103, 1354, 4.0), (79, 4963, 5.0), (134, 3763, 4.0), (14, 31410, 4.0), (106, 142488, 4.0), (173, 42011, 3.0), (100, 37729, 3.5), (201, 318, 4.0), (83, 329, 5.0), (134, 293, 4.0), (156, 173, 4.0), (191, 4616, 4.5), (151, 899, 3.0), (55, 4566, 0.5), (134, 1591, 4.0), (154, 4526, 2.0), (81, 3160, 5.0), (173, 196, 1.5), (73, 2712, 4.0), (99, 1232, 5.0), (4, 367, 2.5), (175, 112556, 5.0), (55, 3250, 1.5), (79, 2161, 4.0), (5, 27831, 4.0), (173, 43679, 1.5), (176, 74458, 4.0), (115, 81, 3.5), (189, 2011, 3.5), (100, 4447, 4.0), (185, 110, 4.0), (163, 333, 3.0), (132, 527, 5.0), (160, 2434, 4.0), (4, 405, 3.0), (81, 8800, 5.0), (134, 49278, 4.5), (196, 541, 4.0), (69, 2028, 3.5), (134, 1297, 5.0), (22, 3034, 3.0), (147, 608, 5.0), (100, 1721, 4.0), (185, 674, 2.0), (79, 953, 4.0), (15, 5816, 4.5), (134, 3709, 3.5), (53, 1089, 4.0), (79, 3479, 4.0), (56, 2617, 2.0), (5, 1186, 2.0), (19, 276, 3.0), (160, 1259, 5.0), (127, 153, 1.0), (114, 1265, 3.0), (151, 617, 4.0), (54, 780, 4.0), (173, 1339, 3.5), (45, 6764, 3.0), (4, 2502, 5.0), (176, 104925, 3.0), (66, 4643, 4.0), (79, 1278, 5.0), (55, 4886, 5.0), (15, 36529, 3.0), (134, 2720, 2.0), (83, 616, 4.0), (75, 2571, 4.5), (187, 2302, 4.0), (183, 5952, 4.0), (155, 2829, 3.0), (36, 608, 4.5), (5, 40278, 4.0), (185, 260, 4.0), (173, 6058, 1.5), (111, 207, 2.0), (160, 4116, 4.5), (31, 1208, 3.0), (165, 165, 3.0), (128, 2628, 1.0), (48, 112552, 5.0), (173, 61262, 1.5), (79, 2054, 4.0), (4, 1377, 2.0), (35, 3033, 4.5), (48, 2329, 4.5), (180, 3052, 5.0), (81, 6297, 2.0), (136, 122904, 3.5), (53, 3147, 4.0), (137, 1321, 3.5), (56, 63062, 2.0), (172, 2020, 4.0), (37, 3174, 2.0), (19, 500, 3.0), (81, 112556, 3.0), (134, 1210, 4.0), (46, 1197, 5.0), (180, 2987, 4.0), (70, 1213, 4.5), (15, 86190, 4.5), (134, 69278, 1.5), (104, 2719, 4.0), (173, 97913, 3.5), (173, 87520, 1.5), (160, 2064, 5.0), (34, 1653, 5.0), (107, 356, 4.5), (75, 6539, 3.5), (84, 621, 3.0), (10, 2010, 5.0), (147, 26838, 2.0), (134, 54259, 4.5), (134, 6659, 4.5), (103, 1762, 4.0), (19, 1240, 5.0), (56, 919, 3.5), (19, 16, 5.0), (122, 47, 5.0), (150, 593, 2.5), (95, 2012, 3.5), (176, 135567, 3.0), (19, 886, 3.0), (100, 8641, 4.0), (81, 56757, 2.5), (56, 750, 4.0), (173, 47356, 3.5), (192, 1380, 4.5), (185, 1250, 4.0), (134, 592, 4.5), (114, 1552, 4.0), (84, 1302, 3.0), (151, 3578, 3.0), (134, 1500, 4.0), (119, 90439, 5.0), (4, 3793, 4.5), (173, 5420, 2.0), (180, 1215, 5.0), (185, 491, 3.0), (183, 2, 3.0), (156, 349, 4.0), (34, 45720, 4.0), (73, 100714, 4.0), (56, 110, 1.5), (47, 2797, 3.0), (73, 4658, 2.5), (165, 80, 4.0), (84, 72, 2.0), (202, 593, 5.0), (81, 84954, 0.5), (95, 357, 5.0), (51, 586, 3.0), (14, 593, 4.5), (185, 500, 3.0), (173, 5872, 2.5), (143, 165, 3.0), (185, 1, 4.0), (72, 136020, 5.0), (147, 2918, 3.0), (56, 77561, 3.0), (35, 2150, 4.0), (51, 17, 5.0), (119, 1273, 5.0), (56, 1590, 4.0), (132, 1203, 5.0), (72, 1721, 2.0), (100, 51080, 4.0), (134, 5574, 4.0), (71, 62376, 2.0), (134, 3770, 4.0), (196, 368, 2.0), (136, 134853, 4.0), (93, 2640, 4.0), (172, 106782, 3.5), (147, 594, 3.0), (56, 3439, 1.5), (166, 4914, 5.0), (15, 673, 4.0), (120, 1544, 4.5), (14, 5618, 4.0), (119, 103059, 5.0), (100, 4306, 4.0), (160, 95, 3.5), (134, 7012, 4.5), (67, 1923, 5.0), (147, 4446, 1.5), (173, 53464, 1.0), (99, 152077, 2.5), (51, 1964, 4.0), (104, 2662, 3.5), (138, 288, 3.0), (178, 2000, 5.0), (55, 1270, 5.0), (100, 3535, 3.5), (143, 10, 3.0), (173, 95307, 3.0), (56, 8914, 4.5), (59, 339, 4.0), (55, 2085, 3.5), (90, 3448, 4.0), (19, 490, 3.0), (173, 3967, 3.5), (56, 50594, 3.5), (84, 2609, 4.0), (16, 150, 5.0), (138, 293, 4.5), (173, 106696, 3.0), (26, 2716, 5.0), (166, 2731, 4.5), (162, 6711, 4.0), (147, 1479, 1.0), (119, 40583, 5.0), (141, 47, 5.0), (138, 318, 4.5), (56, 2826, 2.5), (71, 8620, 4.5), (64, 300, 4.0), (147, 3148, 2.5), (101, 296, 4.0), (4, 1682, 4.5), (56, 2657, 0.5), (158, 5649, 4.0), (81, 40851, 3.0), (28, 44191, 3.5), (43, 1956, 4.0), (173, 135133, 3.0), (99, 1835, 4.0), (71, 1292, 4.0), (99, 4823, 4.0), (117, 780, 3.0), (40, 260, 5.0), (38, 1, 5.0), (69, 356, 5.0), (56, 1702, 1.5), (79, 2105, 4.0), (114, 1894, 4.0), (176, 97913, 4.0), (160, 3016, 3.0), (173, 4878, 4.0), (176, 96079, 3.5), (84, 3969, 4.0), (180, 1584, 5.0), (91, 3264, 4.0), (119, 88235, 5.0), (173, 130490, 2.5), (158, 5952, 5.0), (121, 380, 4.0), (107, 30707, 3.5), (73, 1292, 4.0), (71, 69526, 1.5), (173, 5464, 3.0), (71, 4874, 3.5), (100, 3101, 4.0), (100, 3527, 4.0), (42, 3489, 3.0), (134, 64249, 2.5), (79, 4062, 4.0), (14, 7361, 4.5), (134, 2683, 4.0), (90, 1090, 4.0), (56, 81845, 3.5), (6, 457, 4.0), (79, 4039, 4.0), (151, 69134, 0.5), (39, 6377, 4.5), (18, 153, 4.0), (160, 593, 4.0), (131, 45, 4.0), (79, 4174, 3.0), (187, 34, 4.0), (100, 2710, 4.0), (172, 97923, 2.0), (4, 788, 1.0), (81, 6157, 2.0), (56, 2054, 1.5), (67, 2724, 2.0), (116, 8873, 4.0), (134, 68319, 4.0), (160, 1136, 4.5), (163, 585, 2.0), (187, 1172, 3.0), (42, 53996, 2.0), (46, 260, 3.5), (176, 293, 4.5), (134, 114662, 4.5), (72, 1682, 4.0), (187, 260, 2.0), (173, 56607, 2.5), (136, 260, 4.0), (47, 1884, 1.0), (42, 4027, 4.5), (173, 84152, 3.5), (134, 4909, 3.0), (176, 89745, 3.5), (176, 163000, 4.0), (56, 58559, 3.0), (173, 99114, 4.5), (183, 266, 0.5), (29, 6942, 5.0), (4, 8464, 3.5), (1, 3424, 4.5), (128, 3176, 1.0), (87, 783, 2.0), (60, 597, 4.0), (125, 3052, 2.0), (14, 95654, 3.5), (134, 2406, 4.5), (25, 260, 5.0), (173, 1704, 4.0), (100, 1408, 4.0), (187, 898, 4.0), (81, 8910, 2.5), (173, 1862, 1.0), (173, 27816, 3.0), (163, 2046, 5.0), (76, 2028, 5.0), (176, 75985, 4.0), (73, 8981, 3.5), (160, 1302, 4.5), (180, 2374, 4.0), (51, 1961, 5.0), (30, 903, 5.0), (53, 1136, 2.0), (4, 6708, 4.5), (81, 3623, 2.0), (172, 4226, 4.5), (30, 1376, 3.0), (4, 592, 4.0), (100, 7438, 4.0), (39, 4973, 3.5), (131, 2353, 3.5), (174, 733, 3.0), (134, 5205, 2.0), (99, 99470, 0.5), (42, 4214, 4.5), (134, 31553, 2.5), (56, 546, 3.0), (99, 215, 4.0), (164, 47, 5.0), (51, 2136, 3.0), (57, 3148, 4.0), (4, 514, 4.5), (173, 1920, 2.5), (39, 653, 4.5), (55, 4002, 3.5), (176, 71033, 4.0), (173, 15, 2.5), (138, 527, 4.0), (173, 117444, 4.5), (160, 3219, 5.0), (4, 2174, 3.0), (70, 2997, 2.5), (100, 4571, 4.0), (196, 928, 3.0), (51, 2471, 3.0), (134, 6857, 5.0), (88, 56339, 4.0), (67, 2628, 3.0), (81, 745, 3.5), (53, 56174, 4.0), (176, 89030, 3.5), (173, 89030, 2.0), (114, 1488, 4.0), (134, 40851, 4.0), (100, 2291, 4.0), (147, 2605, 1.0), (196, 5816, 3.0), (134, 4963, 4.5), (138, 4105, 4.0), (55, 1907, 3.5), (116, 2959, 4.0), (138, 3022, 4.5), (180, 4233, 3.0), (158, 5013, 2.0), (160, 266, 5.0), (51, 1784, 5.0), (52, 1544, 3.0), (56, 431, 3.5), (71, 750, 4.0), (51, 2402, 2.0), (107, 5952, 2.0), (138, 2599, 4.0), (75, 69757, 4.0), (151, 1197, 1.0), (176, 85397, 4.0), (1, 2840, 3.0), (162, 318, 4.5), (51, 2263, 3.0), (138, 2549, 0.5), (134, 90647, 4.0), (130, 96610, 4.0), (163, 708, 4.0), (114, 852, 4.0), (51, 1234, 5.0), (132, 1584, 4.5), (53, 10, 4.0), (173, 1345, 3.0), (160, 1219, 4.5), (157, 1148, 2.0), (164, 231, 3.0), (160, 1204, 5.0), (72, 51255, 3.5), (176, 95167, 3.5), (126, 256, 1.5), (83, 256, 5.0), (81, 135567, 2.5), (173, 3006, 4.0), (70, 2762, 3.5), (81, 6063, 4.0), (26, 2420, 4.0), (79, 1921, 1.0), (16, 272, 5.0), (88, 1921, 4.5), (151, 2423, 0.5), (199, 481, 3.0), (111, 3263, 2.0), (185, 903, 3.0), (138, 1199, 4.0), (56, 5617, 4.0), (42, 8376, 4.0), (55, 5341, 2.5), (154, 1580, 3.0), (81, 31184, 3.5), (51, 1721, 5.0), (88, 648, 3.5), (71, 307, 5.0), (173, 208, 3.0), (183, 1610, 4.0), (48, 318, 5.0), (42, 1250, 5.0), (88, 1247, 4.0), (189, 2324, 4.0), (79, 2581, 4.0), (88, 32029, 4.0), (160, 3499, 4.5), (138, 1411, 4.0), (156, 160, 1.0), (53, 8798, 3.5), (172, 80906, 5.0), (43, 3421, 5.0), (177, 46972, 2.0), (4, 11, 3.5), (81, 45672, 0.5), (35, 948, 2.5), (14, 8874, 3.5), (71, 6283, 3.5), (55, 3978, 2.5), (173, 83374, 2.5), (36, 8874, 5.0), (100, 5266, 3.5), (168, 82, 3.0), (173, 2706, 2.5), (73, 4878, 3.5), (39, 370, 4.5), (132, 300, 5.0), (19, 289, 3.0), (14, 6863, 3.5), (173, 3087, 3.5), (134, 110102, 4.5), (90, 2617, 2.0), (73, 45447, 2.5), (111, 2028, 4.0), (180, 4886, 4.0), (43, 1923, 4.0), (151, 7067, 5.0), (173, 2421, 3.0), (201, 7143, 4.0), (173, 59315, 4.0), (148, 58, 4.0), (134, 4896, 4.5), (6, 592, 3.0), (51, 1210, 5.0), (173, 69844, 3.5), (48, 156387, 3.5), (135, 1197, 3.5), (56, 2683, 0.5), (88, 63082, 4.5), (151, 5878, 4.0), (48, 48780, 5.0), (23, 1965, 3.0), (26, 47610, 5.0), (70, 357, 4.0), (67, 480, 1.5), (100, 30793, 4.0), (174, 1409, 1.5), (26, 58347, 3.0), (158, 1125, 4.0), (173, 3444, 4.0), (81, 1212, 5.0), (81, 7153, 4.5), (95, 1233, 3.5), (137, 72226, 1.5), (19, 540, 3.0), (14, 1882, 3.0), (81, 38038, 3.5), (100, 1275, 3.5), (176, 98809, 4.0), (173, 4232, 2.5), (185, 1215, 4.0), (151, 4292, 0.5), (71, 3949, 4.0), (174, 741, 3.5), (138, 3388, 2.5), (111, 3825, 3.0), (4, 2683, 3.5), (79, 3712, 3.0), (168, 40, 3.0), (60, 415, 3.0), (71, 33794, 4.0), (45, 145, 3.5), (81, 3489, 2.5), (160, 3081, 4.5), (81, 52281, 2.5), (36, 508, 4.0), (134, 6040, 3.5), (81, 5065, 4.0), (154, 1210, 5.0), (147, 1711, 1.0), (56, 27266, 3.0), (172, 3578, 4.0), (183, 2997, 4.5), (134, 1037, 4.0), (42, 7484, 3.5), (71, 56251, 3.5), (173, 96845, 3.5), (174, 3481, 4.5), (84, 1197, 3.0), (42, 72011, 3.5), (187, 2791, 3.0), (43, 318, 5.0), (42, 318, 5.0), (56, 51662, 3.0), (59, 454, 4.0), (4, 818, 0.5), (102, 2145, 1.0), (134, 610, 4.0), (141, 377, 5.0), (43, 1278, 4.5), (56, 1027, 4.0), (73, 64614, 4.0), (73, 7367, 3.0), (25, 494, 3.0), (79, 223, 4.0), (10, 2396, 4.0), (173, 97304, 4.0), (42, 33794, 3.5), (20, 1831, 3.0), (160, 1889, 4.0), (183, 1639, 3.5), (4, 3703, 4.0), (60, 442, 4.0), (134, 2457, 4.0), (36, 3160, 3.5), (10, 2712, 2.0), (36, 94959, 3.5), (173, 2794, 3.5), (158, 2716, 4.0), (56, 1214, 3.5), (81, 34048, 4.0), (90, 316, 3.0), (14, 142488, 4.0), (185, 16, 3.0), (138, 70, 3.5), (81, 733, 2.0), (147, 1438, 1.0), (157, 2529, 3.0), (156, 593, 4.0), (168, 733, 3.0), (88, 5388, 3.5), (56, 2858, 4.0), (177, 2616, 5.0), (176, 27728, 2.5), (72, 784, 3.5), (173, 107069, 3.5), (178, 2064, 3.0), (73, 3863, 3.0), (164, 359, 2.0), (132, 1704, 4.5), (159, 879, 4.0), (111, 223, 5.0), (147, 2599, 1.5), (176, 72731, 4.0), (176, 111362, 3.0), (187, 858, 5.0), (134, 551, 3.0), (147, 3911, 2.5), (100, 2352, 4.0), (43, 3703, 4.5), (187, 1954, 3.0), (134, 1479, 3.0), (10, 2138, 4.0), (100, 1288, 4.0), (43, 3147, 4.5), (154, 1703, 3.0), (75, 176371, 3.0), (88, 552, 3.0), (171, 3654, 2.0), (134, 2465, 2.5), (183, 434, 3.5), (114, 2278, 4.0), (160, 1754, 4.0), (173, 356, 5.0), (186, 260, 4.0), (55, 5066, 2.5), (58, 261, 3.0), (95, 7458, 3.5), (88, 68159, 4.5), (170, 933, 4.0), (163, 1569, 3.0), (60, 317, 3.0), (176, 79946, 3.5), (163, 1441, 2.0), (37, 6539, 2.0), (203, 1206, 4.0), (72, 95441, 4.0), (10, 1079, 3.0), (113, 110, 2.0), (147, 2020, 4.0), (4, 51935, 4.0), (183, 3418, 3.5), (183, 293, 3.5), (173, 80489, 3.5), (160, 3100, 4.0), (180, 2424, 3.0), (55, 2087, 3.5), (141, 539, 1.0), (19, 1307, 4.0), (15, 96610, 3.5), (81, 2278, 4.0), (81, 1884, 4.5), (183, 442, 2.0), (48, 187595, 3.5), (134, 45722, 4.0), (117, 86, 3.0), (147, 783, 2.5), (4, 204, 3.5), (81, 1748, 5.0), (81, 2617, 3.5), (56, 78681, 4.0), (4, 175, 3.5), (31, 1186, 3.0)]\n"
          ],
          "name": "stdout"
        }
      ]
    },
    {
      "cell_type": "code",
      "metadata": {
        "id": "WQ3csFvN8h1v"
      },
      "source": [
        "\n",
        "def test_user_mov(user, movie):\n",
        "  print(algo.predict(uid = user, iid = movie))\n",
        "  print(\"User seen in training:\", trainset.knows_user(user))\n",
        "  print(\"Movie seen in training:\", trainset.knows_user(movie))"
      ],
      "execution_count": null,
      "outputs": []
    },
    {
      "cell_type": "code",
      "metadata": {
        "id": "ojwuvSyr1Mpe",
        "outputId": "f3cc44e8-280f-4d61-f68b-a49b5434c497",
        "colab": {
          "base_uri": "https://localhost:8080/"
        }
      },
      "source": [
        "test_user_mov(200, 79132)"
      ],
      "execution_count": null,
      "outputs": [
        {
          "output_type": "stream",
          "text": [
            "user: 200        item: 79132      r_ui = None   est = 4.23   {'actual_k': 7, 'was_impossible': False}\n",
            "User seen in training: True\n",
            "Movie seen in training: False\n"
          ],
          "name": "stdout"
        }
      ]
    },
    {
      "cell_type": "code",
      "metadata": {
        "id": "EBly7k9Z2HIh",
        "outputId": "a892dd45-85b9-4f20-f256-d631635df665",
        "colab": {
          "base_uri": "https://localhost:8080/"
        }
      },
      "source": [
        "algo.predict(uid = 73, iid = 48877)"
      ],
      "execution_count": null,
      "outputs": [
        {
          "output_type": "execute_result",
          "data": {
            "text/plain": [
              "Prediction(uid=73, iid=48877, r_ui=None, est=3.274914446592719, details={'actual_k': 3, 'was_impossible': False})"
            ]
          },
          "metadata": {
            "tags": []
          },
          "execution_count": 46
        }
      ]
    },
    {
      "cell_type": "code",
      "metadata": {
        "id": "jB7MKmYl2hpJ",
        "outputId": "a7a3ae2d-942b-49f5-f9ed-73f5c5e82042",
        "colab": {
          "base_uri": "https://localhost:8080/"
        }
      },
      "source": [
        "trainset.knows_user(73)"
      ],
      "execution_count": null,
      "outputs": [
        {
          "output_type": "execute_result",
          "data": {
            "text/plain": [
              "True"
            ]
          },
          "metadata": {
            "tags": []
          },
          "execution_count": 48
        }
      ]
    },
    {
      "cell_type": "code",
      "metadata": {
        "id": "OI6n61Ib2lci",
        "outputId": "2f1abb08-0583-4e47-e799-a6b4b4f7bbe3",
        "colab": {
          "base_uri": "https://localhost:8080/"
        }
      },
      "source": [
        "trainset.knows_item(48877)"
      ],
      "execution_count": null,
      "outputs": [
        {
          "output_type": "execute_result",
          "data": {
            "text/plain": [
              "False"
            ]
          },
          "metadata": {
            "tags": []
          },
          "execution_count": 49
        }
      ]
    },
    {
      "cell_type": "code",
      "metadata": {
        "id": "H7DFeqts2SlA",
        "outputId": "bea84f16-4c7b-404b-90a9-395444aa1d21",
        "colab": {
          "base_uri": "https://localhost:8080/"
        }
      },
      "source": [
        "algo.predict(uid = 38, iid = 3082)"
      ],
      "execution_count": null,
      "outputs": [
        {
          "output_type": "execute_result",
          "data": {
            "text/plain": [
              "Prediction(uid=38, iid=3082, r_ui=None, est=3.845218885423006, details={'actual_k': 6, 'was_impossible': False})"
            ]
          },
          "metadata": {
            "tags": []
          },
          "execution_count": 47
        }
      ]
    },
    {
      "cell_type": "code",
      "metadata": {
        "id": "LzvDIbVl2S1V"
      },
      "source": [
        ""
      ],
      "execution_count": null,
      "outputs": []
    },
    {
      "cell_type": "code",
      "metadata": {
        "id": "gglDJJy72S4C"
      },
      "source": [
        ""
      ],
      "execution_count": null,
      "outputs": []
    },
    {
      "cell_type": "code",
      "metadata": {
        "id": "GcFxoswf13bX",
        "outputId": "a2fdae8d-8e02-4002-ece8-59add96f5320",
        "colab": {
          "base_uri": "https://localhost:8080/",
          "height": 328
        }
      },
      "source": [
        "ratings_full.iloc[20001:20010]"
      ],
      "execution_count": null,
      "outputs": [
        {
          "output_type": "execute_result",
          "data": {
            "text/html": [
              "<div>\n",
              "<style scoped>\n",
              "    .dataframe tbody tr th:only-of-type {\n",
              "        vertical-align: middle;\n",
              "    }\n",
              "\n",
              "    .dataframe tbody tr th {\n",
              "        vertical-align: top;\n",
              "    }\n",
              "\n",
              "    .dataframe thead th {\n",
              "        text-align: right;\n",
              "    }\n",
              "</style>\n",
              "<table border=\"1\" class=\"dataframe\">\n",
              "  <thead>\n",
              "    <tr style=\"text-align: right;\">\n",
              "      <th></th>\n",
              "      <th>userId</th>\n",
              "      <th>movieId</th>\n",
              "      <th>rating</th>\n",
              "      <th>timestamp</th>\n",
              "    </tr>\n",
              "  </thead>\n",
              "  <tbody>\n",
              "    <tr>\n",
              "      <th>20001</th>\n",
              "      <td>203</td>\n",
              "      <td>7460</td>\n",
              "      <td>5.0</td>\n",
              "      <td>1330146582</td>\n",
              "    </tr>\n",
              "    <tr>\n",
              "      <th>20002</th>\n",
              "      <td>203</td>\n",
              "      <td>8011</td>\n",
              "      <td>5.0</td>\n",
              "      <td>1330146810</td>\n",
              "    </tr>\n",
              "    <tr>\n",
              "      <th>20003</th>\n",
              "      <td>203</td>\n",
              "      <td>8645</td>\n",
              "      <td>4.5</td>\n",
              "      <td>1330147976</td>\n",
              "    </tr>\n",
              "    <tr>\n",
              "      <th>20004</th>\n",
              "      <td>203</td>\n",
              "      <td>8910</td>\n",
              "      <td>4.5</td>\n",
              "      <td>1330149390</td>\n",
              "    </tr>\n",
              "    <tr>\n",
              "      <th>20005</th>\n",
              "      <td>203</td>\n",
              "      <td>8949</td>\n",
              "      <td>4.0</td>\n",
              "      <td>1330149392</td>\n",
              "    </tr>\n",
              "    <tr>\n",
              "      <th>20006</th>\n",
              "      <td>203</td>\n",
              "      <td>30810</td>\n",
              "      <td>5.0</td>\n",
              "      <td>1330147178</td>\n",
              "    </tr>\n",
              "    <tr>\n",
              "      <th>20007</th>\n",
              "      <td>203</td>\n",
              "      <td>41571</td>\n",
              "      <td>4.0</td>\n",
              "      <td>1330145544</td>\n",
              "    </tr>\n",
              "    <tr>\n",
              "      <th>20008</th>\n",
              "      <td>203</td>\n",
              "      <td>44195</td>\n",
              "      <td>4.5</td>\n",
              "      <td>1330146885</td>\n",
              "    </tr>\n",
              "    <tr>\n",
              "      <th>20009</th>\n",
              "      <td>203</td>\n",
              "      <td>48043</td>\n",
              "      <td>4.0</td>\n",
              "      <td>1330145449</td>\n",
              "    </tr>\n",
              "  </tbody>\n",
              "</table>\n",
              "</div>"
            ],
            "text/plain": [
              "       userId  movieId  rating   timestamp\n",
              "20001     203     7460     5.0  1330146582\n",
              "20002     203     8011     5.0  1330146810\n",
              "20003     203     8645     4.5  1330147976\n",
              "20004     203     8910     4.5  1330149390\n",
              "20005     203     8949     4.0  1330149392\n",
              "20006     203    30810     5.0  1330147178\n",
              "20007     203    41571     4.0  1330145544\n",
              "20008     203    44195     4.5  1330146885\n",
              "20009     203    48043     4.0  1330145449"
            ]
          },
          "metadata": {
            "tags": []
          },
          "execution_count": 16
        }
      ]
    },
    {
      "cell_type": "code",
      "metadata": {
        "id": "3OukH7-L4q-c",
        "outputId": "b02b44dd-eb42-4563-e2ef-6d7638433ed4",
        "colab": {
          "base_uri": "https://localhost:8080/"
        }
      },
      "source": [
        "trainsetfull.knows_user(1)"
      ],
      "execution_count": null,
      "outputs": [
        {
          "output_type": "execute_result",
          "data": {
            "text/plain": [
              "True"
            ]
          },
          "metadata": {
            "tags": []
          },
          "execution_count": 14
        }
      ]
    },
    {
      "cell_type": "code",
      "metadata": {
        "id": "PGWm0jDw11An",
        "outputId": "1d9bfceb-867a-4760-9282-40693d5dc446",
        "colab": {
          "base_uri": "https://localhost:8080/",
          "height": 181
        }
      },
      "source": [
        "# Step 3 - Model Fitting\n",
        "algo.fit(trainset)"
      ],
      "execution_count": null,
      "outputs": [
        {
          "output_type": "error",
          "ename": "TypeError",
          "evalue": "ignored",
          "traceback": [
            "\u001b[0;31m---------------------------------------------------------------------------\u001b[0m",
            "\u001b[0;31mTypeError\u001b[0m                                 Traceback (most recent call last)",
            "\u001b[0;32m<ipython-input-39-a1f3ec47fb22>\u001b[0m in \u001b[0;36m<module>\u001b[0;34m()\u001b[0m\n\u001b[1;32m      1\u001b[0m \u001b[0;31m# Step 3 - Model Fitting\u001b[0m\u001b[0;34m\u001b[0m\u001b[0;34m\u001b[0m\u001b[0;34m\u001b[0m\u001b[0m\n\u001b[0;32m----> 2\u001b[0;31m \u001b[0malgo\u001b[0m\u001b[0;34m.\u001b[0m\u001b[0mfit\u001b[0m\u001b[0;34m(\u001b[0m\u001b[0mtrainset\u001b[0m\u001b[0;34m)\u001b[0m\u001b[0;34m\u001b[0m\u001b[0;34m\u001b[0m\u001b[0m\n\u001b[0m",
            "\u001b[0;31mTypeError\u001b[0m: fit() missing 1 required positional argument: 'trainset'"
          ]
        }
      ]
    },
    {
      "cell_type": "code",
      "metadata": {
        "id": "dD654len2Rw-",
        "outputId": "18125721-4ebf-437a-b571-93d68610a2e3",
        "colab": {
          "base_uri": "https://localhost:8080/"
        }
      },
      "source": [
        "algo.predict(uid = 203, iid = 8645)"
      ],
      "execution_count": null,
      "outputs": [
        {
          "output_type": "execute_result",
          "data": {
            "text/plain": [
              "Prediction(uid=203, iid=8645, r_ui=None, est=3.25, details={'actual_k': 1, 'was_impossible': False})"
            ]
          },
          "metadata": {
            "tags": []
          },
          "execution_count": 19
        }
      ]
    },
    {
      "cell_type": "code",
      "metadata": {
        "id": "KnbNJ6ks2WVX",
        "outputId": "a7daa4db-19fb-49ec-ef93-91913622a924",
        "colab": {
          "base_uri": "https://localhost:8080/"
        }
      },
      "source": [
        ""
      ],
      "execution_count": null,
      "outputs": [
        {
          "output_type": "stream",
          "text": [
            "<surprise.dataset.DatasetAutoFolds object at 0x7fe0c5cf1a58>\n"
          ],
          "name": "stdout"
        }
      ]
    },
    {
      "cell_type": "code",
      "metadata": {
        "id": "tbHXAm9e2_Ho"
      },
      "source": [
        ""
      ],
      "execution_count": null,
      "outputs": []
    }
  ]
}